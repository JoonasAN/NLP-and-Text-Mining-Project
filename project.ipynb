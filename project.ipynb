{
 "cells": [
  {
   "cell_type": "code",
   "execution_count": 119,
   "metadata": {},
   "outputs": [],
   "source": [
    "#!pip install nltk\n",
    "import nltk\n",
    "#nltk.download(\"reuters\")\n",
    "\n",
    "import pandas as pd\n",
    "from nltk.corpus import reuters\n",
    "import numpy as np\n",
    "import matplotlib.pyplot as plt \n",
    "\n",
    "from string import punctuation\n",
    "\n",
    "from nltk.stem import WordNetLemmatizer\n",
    "from nltk.tokenize import sent_tokenize, word_tokenize\n",
    "from sklearn.feature_extraction.text import CountVectorizer,TfidfVectorizer\n",
    "from sklearn.naive_bayes import GaussianNB, MultinomialNB, ComplementNB, CategoricalNB\n",
    "from sklearn import metrics\n",
    "from sklearn.ensemble import RandomForestClassifier\n",
    "from sklearn.svm import LinearSVC, SVC\n",
    "from sklearn.preprocessing import StandardScaler\n",
    "from sklearn.decomposition import PCA"
   ]
  },
  {
   "cell_type": "markdown",
   "metadata": {},
   "source": [
    "## checking dataset"
   ]
  },
  {
   "cell_type": "code",
   "execution_count": 2,
   "metadata": {},
   "outputs": [
    {
     "data": {
      "text/plain": [
       "['barley', 'corn', 'grain', 'wheat']"
      ]
     },
     "execution_count": 2,
     "metadata": {},
     "output_type": "execute_result"
    }
   ],
   "source": [
    "reuters.categories(\"training/9865\")"
   ]
  },
  {
   "cell_type": "code",
   "execution_count": 3,
   "metadata": {},
   "outputs": [
    {
     "data": {
      "text/plain": [
       "'training/9958'"
      ]
     },
     "execution_count": 3,
     "metadata": {},
     "output_type": "execute_result"
    }
   ],
   "source": [
    "reuters.fileids(\"barley\")[50]"
   ]
  },
  {
   "cell_type": "code",
   "execution_count": 4,
   "metadata": {},
   "outputs": [
    {
     "data": {
      "text/plain": [
       "\"FRENCH FREE MARKET CEREAL EXPORT BIDS DETAILED\\n  French operators have requested licences\\n  to export 675,500 tonnes of maize, 245,000 tonnes of barley,\\n  22,000 tonnes of soft bread wheat and 20,000 tonnes of feed\\n  wheat at today's European Community tender, traders said.\\n      Rebates requested ranged from 127.75 to 132.50 European\\n  Currency Units a tonne for maize, 136.00 to 141.00 Ecus a tonne\\n  for barley and 134.25 to 141.81 Ecus for bread wheat, while\\n  rebates requested for feed wheat were 137.65 Ecus, they said.\\n  \\n\\n\""
      ]
     },
     "execution_count": 4,
     "metadata": {},
     "output_type": "execute_result"
    }
   ],
   "source": [
    "reuters.raw(\"training/9865\")"
   ]
  },
  {
   "cell_type": "markdown",
   "metadata": {},
   "source": [
    "# 1.\tUse appropriate NLTK coding to visualize the number of documents per category in the training set. Is the dataset class balanced? Motivate your answer."
   ]
  },
  {
   "cell_type": "markdown",
   "metadata": {},
   "source": [
    "Go through categories and get number of documents in each. Then put them in dataframe."
   ]
  },
  {
   "cell_type": "markdown",
   "metadata": {},
   "source": [
    "## Create and visualize number of documents per category"
   ]
  },
  {
   "cell_type": "code",
   "execution_count": 5,
   "metadata": {},
   "outputs": [
    {
     "data": {
      "text/html": [
       "<div>\n",
       "<style scoped>\n",
       "    .dataframe tbody tr th:only-of-type {\n",
       "        vertical-align: middle;\n",
       "    }\n",
       "\n",
       "    .dataframe tbody tr th {\n",
       "        vertical-align: top;\n",
       "    }\n",
       "\n",
       "    .dataframe thead th {\n",
       "        text-align: right;\n",
       "    }\n",
       "</style>\n",
       "<table border=\"1\" class=\"dataframe\">\n",
       "  <thead>\n",
       "    <tr style=\"text-align: right;\">\n",
       "      <th></th>\n",
       "      <th>category</th>\n",
       "      <th>Num_docs</th>\n",
       "    </tr>\n",
       "  </thead>\n",
       "  <tbody>\n",
       "    <tr>\n",
       "      <th>0</th>\n",
       "      <td>acq</td>\n",
       "      <td>2369</td>\n",
       "    </tr>\n",
       "    <tr>\n",
       "      <th>1</th>\n",
       "      <td>alum</td>\n",
       "      <td>58</td>\n",
       "    </tr>\n",
       "    <tr>\n",
       "      <th>2</th>\n",
       "      <td>barley</td>\n",
       "      <td>51</td>\n",
       "    </tr>\n",
       "    <tr>\n",
       "      <th>3</th>\n",
       "      <td>bop</td>\n",
       "      <td>105</td>\n",
       "    </tr>\n",
       "    <tr>\n",
       "      <th>4</th>\n",
       "      <td>carcass</td>\n",
       "      <td>68</td>\n",
       "    </tr>\n",
       "    <tr>\n",
       "      <th>...</th>\n",
       "      <td>...</td>\n",
       "      <td>...</td>\n",
       "    </tr>\n",
       "    <tr>\n",
       "      <th>85</th>\n",
       "      <td>veg-oil</td>\n",
       "      <td>124</td>\n",
       "    </tr>\n",
       "    <tr>\n",
       "      <th>86</th>\n",
       "      <td>wheat</td>\n",
       "      <td>283</td>\n",
       "    </tr>\n",
       "    <tr>\n",
       "      <th>87</th>\n",
       "      <td>wpi</td>\n",
       "      <td>29</td>\n",
       "    </tr>\n",
       "    <tr>\n",
       "      <th>88</th>\n",
       "      <td>yen</td>\n",
       "      <td>59</td>\n",
       "    </tr>\n",
       "    <tr>\n",
       "      <th>89</th>\n",
       "      <td>zinc</td>\n",
       "      <td>34</td>\n",
       "    </tr>\n",
       "  </tbody>\n",
       "</table>\n",
       "<p>90 rows × 2 columns</p>\n",
       "</div>"
      ],
      "text/plain": [
       "   category  Num_docs\n",
       "0       acq      2369\n",
       "1      alum        58\n",
       "2    barley        51\n",
       "3       bop       105\n",
       "4   carcass        68\n",
       "..      ...       ...\n",
       "85  veg-oil       124\n",
       "86    wheat       283\n",
       "87      wpi        29\n",
       "88      yen        59\n",
       "89     zinc        34\n",
       "\n",
       "[90 rows x 2 columns]"
      ]
     },
     "execution_count": 5,
     "metadata": {},
     "output_type": "execute_result"
    }
   ],
   "source": [
    "frame = {\"category\":[], \"Num_docs\":[]}          # initialize frame with empty lists\n",
    "for i in reuters.categories():                  # iterate through categories\n",
    "    documents_num = len(reuters.fileids(i))         # get number of documents/category\n",
    "\n",
    "    #print(f\"{i} has {documents} documents\")\n",
    "    frame[\"category\"].append(i)                 # Append category name and\n",
    "    frame[\"Num_docs\"].append(documents_num)         # number of documents on approppriate column\n",
    "\n",
    "data=pd.DataFrame(data=frame)                   # make dataframe fr\n",
    "#data[\"category_id\"] = data[\"category\"].factorize()[0] \n",
    "data # check data\n"
   ]
  },
  {
   "cell_type": "markdown",
   "metadata": {},
   "source": [
    "Plot bar graph with matplotlib and annotate categories that have more than 400 documents (name only these to keep plot readable)"
   ]
  },
  {
   "cell_type": "code",
   "execution_count": 6,
   "metadata": {},
   "outputs": [
    {
     "data": {
      "image/png": "[encoded data removed]",
      "text/plain": [
       "<Figure size 432x288 with 1 Axes>"
      ]
     },
     "metadata": {
      "needs_background": "light"
     },
     "output_type": "display_data"
    }
   ],
   "source": [
    "# make new dataframe from rows which num_docs >= 400 to annotate\n",
    "df = data.query('Num_docs >= 400')\n",
    "\n",
    "# bar plot with matplotlib in Python\n",
    "plt.bar(data.index, data.Num_docs, alpha=1)   \n",
    "\n",
    "# iterate through index\n",
    "for i in df.index:                                      \n",
    "    plt.annotate(data.iloc[i,0], (i,data.iloc[i,1]))    # add categories names to datapoints which are >= 400\n",
    "\n",
    "# set x-axis label and specific size\n",
    "plt.xlabel('category',size=16)                          \n",
    "# set y-axis label and specific size\n",
    "plt.ylabel('Num_docs',size=16)\n",
    "# set plot title with specific size\n",
    "plt.title('Number of documents / category',size=16)\n",
    "# save the plot as PNG file with dpi=150\n",
    "#plt.savefig('docs_per_category.png', dpi=150)\n",
    "plt.show()"
   ]
  },
  {
   "cell_type": "markdown",
   "metadata": {},
   "source": [
    "# 2. Construct the feature set using CountVectorizer of the training dataset so that the maximum size of the feature set is 100 and each word feature should be contained in at least 3 documents and in less than 70% of total documents to be considered. Use standard preprocessing and stopword list, with WordNet lemmatizer."
   ]
  },
  {
   "cell_type": "markdown",
   "metadata": {},
   "source": [
    "## Preprosessor (not used Now)"
   ]
  },
  {
   "cell_type": "code",
   "execution_count": 7,
   "metadata": {},
   "outputs": [],
   "source": [
    "# preprosessor (not used)\n",
    "\n",
    "def preProcess(doc):\n",
    "    WN_lemmatizer = WordNetLemmatizer()\n",
    "\n",
    "    sentences = sent_tokenize(doc)\n",
    "    Tokens = []\n",
    "    for sentence in sentences:\n",
    "        words = word_tokenize(sentence)\n",
    "        words = [WN_lemmatizer.lemmatize(word, pos=\"v\") for word in words]\n",
    "        Tokens.extend(words)\n",
    "        \n",
    "    return ' '.join(Tokens)"
   ]
  },
  {
   "cell_type": "markdown",
   "metadata": {},
   "source": [
    "## Make function to apply CountVectorizer and fit"
   ]
  },
  {
   "cell_type": "code",
   "execution_count": 8,
   "metadata": {},
   "outputs": [],
   "source": [
    "# Use class to define tokenizer that also applies WordNetLemmatizer to CountVectorizer\n",
    "class LemmaTokenizer(object):\n",
    "    def __init__(self):\n",
    "        self.wnl = WordNetLemmatizer()\n",
    "    def __call__(self, articles):\n",
    "        return [self.wnl.lemmatize(t) for t in word_tokenize(articles)]"
   ]
  },
  {
   "cell_type": "code",
   "execution_count": 227,
   "metadata": {},
   "outputs": [],
   "source": [
    "# define countVectrizer and fit\n",
    "\n",
    "def BOW_model(train_data, test_data, max_features):\n",
    "    \"\"\"Return feature vectors from CounVectorizer\"\"\"\n",
    "    BOW = CountVectorizer(tokenizer=LemmaTokenizer(), \n",
    "                          lowercase=True, \n",
    "                          max_features = max_features, \n",
    "                          stop_words = \"english\", \n",
    "                          min_df = 3, max_df = 0.7)\n",
    "    # fit train data\n",
    "    BOW.fit(train_data)\n",
    "    BOW_train = BOW.transform(train_data)\n",
    "    BOW_test = BOW.transform(test_data)\n",
    " \n",
    "    #print(BOW.get_feature_names())\n",
    "    return (BOW_train.toarray(), BOW_test.toarray())"
   ]
  },
  {
   "cell_type": "markdown",
   "metadata": {},
   "source": [
    "## Extract data from reuters Dataset and divide to pre determined Training and Test variables"
   ]
  },
  {
   "cell_type": "code",
   "execution_count": 10,
   "metadata": {},
   "outputs": [],
   "source": [
    "# select fileid\n",
    "doc_list = np.array(reuters.fileids())\n",
    "\n",
    "# create test and train IDs from documents\n",
    "test_doc = doc_list[['test' in x for x in doc_list]]\n",
    "\n",
    "train_doc = doc_list[['training' in x for x in doc_list]]"
   ]
  },
  {
   "cell_type": "markdown",
   "metadata": {},
   "source": [
    "## Get labels ( categories ) for each document and create Dataframes"
   ]
  },
  {
   "cell_type": "code",
   "execution_count": 11,
   "metadata": {},
   "outputs": [],
   "source": [
    "\n",
    "def create_df(data, **kwargs):\n",
    "    \"\"\"Create DataFrames to visualise data a bit and duplicate multi-categorial documents so that they have just one category but appear multiple times.\n",
    "    - data: list of documents (e.g. train and test data)\n",
    "    - rm_punct: remove punctuation. default: False \n",
    "    - words: Join reuters words to str instead of using raw text. Default: True\"\"\"\n",
    "    rm_punct = kwargs.get(\"rm_punct\", False)\n",
    "    words = kwargs.get(\"words\", True)\n",
    "\n",
    "    docs=[]\n",
    "    for ids in data:\n",
    "        cats = reuters.categories(ids)      # At each iteration we retrieve categories of an id\n",
    "        if words is True:\n",
    "            doc = \" \".join(reuters.words(ids))  # join words from each document\n",
    "        else:\n",
    "            doc = reuters.raw(ids)              # get raw text data of document\n",
    "        if rm_punct is True:\n",
    "            for punct in (punctuation + \"\\n\"):  # go through punctuations \n",
    "                doc = doc.replace(punct, \"\")    # remove punctuation\n",
    "        for cat in cats:\n",
    "            docs.append((doc, cat, ids)) # These documents are appended as a tuple (document, category, ids) in the list\n",
    "    \n",
    "    # docs=[(\" \".join(reuters.words(ids)), cat, ids) for ids in train_doc for cat in reuters.categories(ids)] # list comprehension for loop\n",
    "\n",
    "    df=pd.DataFrame(docs, columns=['document', 'category','ids']) # The data frame is created using the generated tuple.\n",
    "\n",
    "    #df # check dataframe\n",
    "    return df\n",
    "\n",
    "# train_df[\"ids\"].duplicated().value_counts() # checks how many duplicates because of categories\n"
   ]
  },
  {
   "cell_type": "code",
   "execution_count": 39,
   "metadata": {},
   "outputs": [
    {
     "data": {
      "text/html": [
       "<div>\n",
       "<style scoped>\n",
       "    .dataframe tbody tr th:only-of-type {\n",
       "        vertical-align: middle;\n",
       "    }\n",
       "\n",
       "    .dataframe tbody tr th {\n",
       "        vertical-align: top;\n",
       "    }\n",
       "\n",
       "    .dataframe thead th {\n",
       "        text-align: right;\n",
       "    }\n",
       "</style>\n",
       "<table border=\"1\" class=\"dataframe\">\n",
       "  <thead>\n",
       "    <tr style=\"text-align: right;\">\n",
       "      <th></th>\n",
       "      <th>document</th>\n",
       "      <th>category</th>\n",
       "      <th>ids</th>\n",
       "    </tr>\n",
       "  </thead>\n",
       "  <tbody>\n",
       "    <tr>\n",
       "      <th>0</th>\n",
       "      <td>BAHIA COCOA REVIEW  Showers continued througho...</td>\n",
       "      <td>cocoa</td>\n",
       "      <td>training/1</td>\n",
       "    </tr>\n",
       "    <tr>\n",
       "      <th>1</th>\n",
       "      <td>COMPUTER TERMINAL SYSTEMS ltCPML COMPLETES SAL...</td>\n",
       "      <td>acq</td>\n",
       "      <td>training/10</td>\n",
       "    </tr>\n",
       "    <tr>\n",
       "      <th>2</th>\n",
       "      <td>NZ TRADING BANK DEPOSIT GROWTH RISES SLIGHTLY ...</td>\n",
       "      <td>money-supply</td>\n",
       "      <td>training/100</td>\n",
       "    </tr>\n",
       "    <tr>\n",
       "      <th>3</th>\n",
       "      <td>NATIONAL AMUSEMENTS AGAIN UPS VIACOM ltVIA BID...</td>\n",
       "      <td>acq</td>\n",
       "      <td>training/1000</td>\n",
       "    </tr>\n",
       "    <tr>\n",
       "      <th>4</th>\n",
       "      <td>ROGERS ltROG SEES 1ST QTR NET UP SIGNIFICANTLY...</td>\n",
       "      <td>earn</td>\n",
       "      <td>training/10000</td>\n",
       "    </tr>\n",
       "    <tr>\n",
       "      <th>...</th>\n",
       "      <td>...</td>\n",
       "      <td>...</td>\n",
       "      <td>...</td>\n",
       "    </tr>\n",
       "    <tr>\n",
       "      <th>9579</th>\n",
       "      <td>UK MONEY MARKET SHORTAGE FORECAST REVISED DOWN...</td>\n",
       "      <td>money-fx</td>\n",
       "      <td>training/999</td>\n",
       "    </tr>\n",
       "    <tr>\n",
       "      <th>9580</th>\n",
       "      <td>KNIGHTRIDDER INC ltKRN SETS QUARTERLY  Qtly di...</td>\n",
       "      <td>earn</td>\n",
       "      <td>training/9992</td>\n",
       "    </tr>\n",
       "    <tr>\n",
       "      <th>9581</th>\n",
       "      <td>TECHNITROL INC ltTNL SETS QUARTERLY  Qtly div ...</td>\n",
       "      <td>earn</td>\n",
       "      <td>training/9993</td>\n",
       "    </tr>\n",
       "    <tr>\n",
       "      <th>9582</th>\n",
       "      <td>NATIONWIDE CELLULAR SERVICE INC ltNCEL 4TH QTR...</td>\n",
       "      <td>earn</td>\n",
       "      <td>training/9994</td>\n",
       "    </tr>\n",
       "    <tr>\n",
       "      <th>9583</th>\n",
       "      <td>ltAHA AUTOMOTIVE TECHNOLOGIES CORP YEAR NET  S...</td>\n",
       "      <td>earn</td>\n",
       "      <td>training/9995</td>\n",
       "    </tr>\n",
       "  </tbody>\n",
       "</table>\n",
       "<p>9584 rows × 3 columns</p>\n",
       "</div>"
      ],
      "text/plain": [
       "                                               document      category  \\\n",
       "0     BAHIA COCOA REVIEW  Showers continued througho...         cocoa   \n",
       "1     COMPUTER TERMINAL SYSTEMS ltCPML COMPLETES SAL...           acq   \n",
       "2     NZ TRADING BANK DEPOSIT GROWTH RISES SLIGHTLY ...  money-supply   \n",
       "3     NATIONAL AMUSEMENTS AGAIN UPS VIACOM ltVIA BID...           acq   \n",
       "4     ROGERS ltROG SEES 1ST QTR NET UP SIGNIFICANTLY...          earn   \n",
       "...                                                 ...           ...   \n",
       "9579  UK MONEY MARKET SHORTAGE FORECAST REVISED DOWN...      money-fx   \n",
       "9580  KNIGHTRIDDER INC ltKRN SETS QUARTERLY  Qtly di...          earn   \n",
       "9581  TECHNITROL INC ltTNL SETS QUARTERLY  Qtly div ...          earn   \n",
       "9582  NATIONWIDE CELLULAR SERVICE INC ltNCEL 4TH QTR...          earn   \n",
       "9583  ltAHA AUTOMOTIVE TECHNOLOGIES CORP YEAR NET  S...          earn   \n",
       "\n",
       "                 ids  \n",
       "0         training/1  \n",
       "1        training/10  \n",
       "2       training/100  \n",
       "3      training/1000  \n",
       "4     training/10000  \n",
       "...              ...  \n",
       "9579    training/999  \n",
       "9580   training/9992  \n",
       "9581   training/9993  \n",
       "9582   training/9994  \n",
       "9583   training/9995  \n",
       "\n",
       "[9584 rows x 3 columns]"
      ]
     },
     "execution_count": 39,
     "metadata": {},
     "output_type": "execute_result"
    }
   ],
   "source": [
    "train_df2 = create_df(train_doc, rm_punct=True, words=False)\n",
    "train_df2"
   ]
  },
  {
   "cell_type": "code",
   "execution_count": 40,
   "metadata": {},
   "outputs": [
    {
     "data": {
      "text/html": [
       "<div>\n",
       "<style scoped>\n",
       "    .dataframe tbody tr th:only-of-type {\n",
       "        vertical-align: middle;\n",
       "    }\n",
       "\n",
       "    .dataframe tbody tr th {\n",
       "        vertical-align: top;\n",
       "    }\n",
       "\n",
       "    .dataframe thead th {\n",
       "        text-align: right;\n",
       "    }\n",
       "</style>\n",
       "<table border=\"1\" class=\"dataframe\">\n",
       "  <thead>\n",
       "    <tr style=\"text-align: right;\">\n",
       "      <th></th>\n",
       "      <th>document</th>\n",
       "      <th>category</th>\n",
       "      <th>ids</th>\n",
       "    </tr>\n",
       "  </thead>\n",
       "  <tbody>\n",
       "    <tr>\n",
       "      <th>0</th>\n",
       "      <td>BAHIA COCOA REVIEW Showers continued throughou...</td>\n",
       "      <td>cocoa</td>\n",
       "      <td>training/1</td>\n",
       "    </tr>\n",
       "    <tr>\n",
       "      <th>1</th>\n",
       "      <td>COMPUTER TERMINAL SYSTEMS &amp; lt ; CPML &gt; COMPLE...</td>\n",
       "      <td>acq</td>\n",
       "      <td>training/10</td>\n",
       "    </tr>\n",
       "    <tr>\n",
       "      <th>2</th>\n",
       "      <td>N . Z . TRADING BANK DEPOSIT GROWTH RISES SLIG...</td>\n",
       "      <td>money-supply</td>\n",
       "      <td>training/100</td>\n",
       "    </tr>\n",
       "    <tr>\n",
       "      <th>3</th>\n",
       "      <td>NATIONAL AMUSEMENTS AGAIN UPS VIACOM &amp; lt ; VI...</td>\n",
       "      <td>acq</td>\n",
       "      <td>training/1000</td>\n",
       "    </tr>\n",
       "    <tr>\n",
       "      <th>4</th>\n",
       "      <td>ROGERS &amp; lt ; ROG &gt; SEES 1ST QTR NET UP SIGNIF...</td>\n",
       "      <td>earn</td>\n",
       "      <td>training/10000</td>\n",
       "    </tr>\n",
       "    <tr>\n",
       "      <th>...</th>\n",
       "      <td>...</td>\n",
       "      <td>...</td>\n",
       "      <td>...</td>\n",
       "    </tr>\n",
       "    <tr>\n",
       "      <th>9579</th>\n",
       "      <td>U . K . MONEY MARKET SHORTAGE FORECAST REVISED...</td>\n",
       "      <td>money-fx</td>\n",
       "      <td>training/999</td>\n",
       "    </tr>\n",
       "    <tr>\n",
       "      <th>9580</th>\n",
       "      <td>KNIGHT - RIDDER INC &amp; lt ; KRN &gt; SETS QUARTERL...</td>\n",
       "      <td>earn</td>\n",
       "      <td>training/9992</td>\n",
       "    </tr>\n",
       "    <tr>\n",
       "      <th>9581</th>\n",
       "      <td>TECHNITROL INC &amp; lt ; TNL &gt; SETS QUARTERLY Qtl...</td>\n",
       "      <td>earn</td>\n",
       "      <td>training/9993</td>\n",
       "    </tr>\n",
       "    <tr>\n",
       "      <th>9582</th>\n",
       "      <td>NATIONWIDE CELLULAR SERVICE INC &amp; lt ; NCEL &gt; ...</td>\n",
       "      <td>earn</td>\n",
       "      <td>training/9994</td>\n",
       "    </tr>\n",
       "    <tr>\n",
       "      <th>9583</th>\n",
       "      <td>&amp; lt ; A . H . A . AUTOMOTIVE TECHNOLOGIES COR...</td>\n",
       "      <td>earn</td>\n",
       "      <td>training/9995</td>\n",
       "    </tr>\n",
       "  </tbody>\n",
       "</table>\n",
       "<p>9584 rows × 3 columns</p>\n",
       "</div>"
      ],
      "text/plain": [
       "                                               document      category  \\\n",
       "0     BAHIA COCOA REVIEW Showers continued throughou...         cocoa   \n",
       "1     COMPUTER TERMINAL SYSTEMS & lt ; CPML > COMPLE...           acq   \n",
       "2     N . Z . TRADING BANK DEPOSIT GROWTH RISES SLIG...  money-supply   \n",
       "3     NATIONAL AMUSEMENTS AGAIN UPS VIACOM & lt ; VI...           acq   \n",
       "4     ROGERS & lt ; ROG > SEES 1ST QTR NET UP SIGNIF...          earn   \n",
       "...                                                 ...           ...   \n",
       "9579  U . K . MONEY MARKET SHORTAGE FORECAST REVISED...      money-fx   \n",
       "9580  KNIGHT - RIDDER INC & lt ; KRN > SETS QUARTERL...          earn   \n",
       "9581  TECHNITROL INC & lt ; TNL > SETS QUARTERLY Qtl...          earn   \n",
       "9582  NATIONWIDE CELLULAR SERVICE INC & lt ; NCEL > ...          earn   \n",
       "9583  & lt ; A . H . A . AUTOMOTIVE TECHNOLOGIES COR...          earn   \n",
       "\n",
       "                 ids  \n",
       "0         training/1  \n",
       "1        training/10  \n",
       "2       training/100  \n",
       "3      training/1000  \n",
       "4     training/10000  \n",
       "...              ...  \n",
       "9579    training/999  \n",
       "9580   training/9992  \n",
       "9581   training/9993  \n",
       "9582   training/9994  \n",
       "9583   training/9995  \n",
       "\n",
       "[9584 rows x 3 columns]"
      ]
     },
     "execution_count": 40,
     "metadata": {},
     "output_type": "execute_result"
    }
   ],
   "source": [
    "train_df = create_df(train_doc)\n",
    "train_df"
   ]
  },
  {
   "cell_type": "code",
   "execution_count": 41,
   "metadata": {},
   "outputs": [
    {
     "data": {
      "text/html": [
       "<div>\n",
       "<style scoped>\n",
       "    .dataframe tbody tr th:only-of-type {\n",
       "        vertical-align: middle;\n",
       "    }\n",
       "\n",
       "    .dataframe tbody tr th {\n",
       "        vertical-align: top;\n",
       "    }\n",
       "\n",
       "    .dataframe thead th {\n",
       "        text-align: right;\n",
       "    }\n",
       "</style>\n",
       "<table border=\"1\" class=\"dataframe\">\n",
       "  <thead>\n",
       "    <tr style=\"text-align: right;\">\n",
       "      <th></th>\n",
       "      <th>document</th>\n",
       "      <th>category</th>\n",
       "      <th>ids</th>\n",
       "    </tr>\n",
       "  </thead>\n",
       "  <tbody>\n",
       "    <tr>\n",
       "      <th>0</th>\n",
       "      <td>ASIAN EXPORTERS FEAR DAMAGE FROM USJAPAN RIFT ...</td>\n",
       "      <td>trade</td>\n",
       "      <td>test/14826</td>\n",
       "    </tr>\n",
       "    <tr>\n",
       "      <th>1</th>\n",
       "      <td>CHINA DAILY SAYS VERMIN EAT 712 PCT GRAIN STOC...</td>\n",
       "      <td>grain</td>\n",
       "      <td>test/14828</td>\n",
       "    </tr>\n",
       "    <tr>\n",
       "      <th>2</th>\n",
       "      <td>JAPAN TO REVISE LONGTERM ENERGY DEMAND DOWNWAR...</td>\n",
       "      <td>crude</td>\n",
       "      <td>test/14829</td>\n",
       "    </tr>\n",
       "    <tr>\n",
       "      <th>3</th>\n",
       "      <td>JAPAN TO REVISE LONGTERM ENERGY DEMAND DOWNWAR...</td>\n",
       "      <td>nat-gas</td>\n",
       "      <td>test/14829</td>\n",
       "    </tr>\n",
       "    <tr>\n",
       "      <th>4</th>\n",
       "      <td>THAI TRADE DEFICIT WIDENS IN FIRST QUARTER  Th...</td>\n",
       "      <td>corn</td>\n",
       "      <td>test/14832</td>\n",
       "    </tr>\n",
       "    <tr>\n",
       "      <th>...</th>\n",
       "      <td>...</td>\n",
       "      <td>...</td>\n",
       "      <td>...</td>\n",
       "    </tr>\n",
       "    <tr>\n",
       "      <th>3739</th>\n",
       "      <td>TOKYO DEALERS SEE DOLLAR POISED TO BREACH 140 ...</td>\n",
       "      <td>money-fx</td>\n",
       "      <td>test/21573</td>\n",
       "    </tr>\n",
       "    <tr>\n",
       "      <th>3740</th>\n",
       "      <td>TOKYO DEALERS SEE DOLLAR POISED TO BREACH 140 ...</td>\n",
       "      <td>yen</td>\n",
       "      <td>test/21573</td>\n",
       "    </tr>\n",
       "    <tr>\n",
       "      <th>3741</th>\n",
       "      <td>JAPANINDIA CONFERENCE CUTS GULF WAR RISK CHARG...</td>\n",
       "      <td>ship</td>\n",
       "      <td>test/21574</td>\n",
       "    </tr>\n",
       "    <tr>\n",
       "      <th>3742</th>\n",
       "      <td>SOVIET INDUSTRIAL GROWTHTRADE SLOWER IN 1987  ...</td>\n",
       "      <td>ipi</td>\n",
       "      <td>test/21575</td>\n",
       "    </tr>\n",
       "    <tr>\n",
       "      <th>3743</th>\n",
       "      <td>SIX KILLED IN SOUTH AFRICAN GOLD MINE ACCIDENT...</td>\n",
       "      <td>gold</td>\n",
       "      <td>test/21576</td>\n",
       "    </tr>\n",
       "  </tbody>\n",
       "</table>\n",
       "<p>3744 rows × 3 columns</p>\n",
       "</div>"
      ],
      "text/plain": [
       "                                               document  category         ids\n",
       "0     ASIAN EXPORTERS FEAR DAMAGE FROM USJAPAN RIFT ...     trade  test/14826\n",
       "1     CHINA DAILY SAYS VERMIN EAT 712 PCT GRAIN STOC...     grain  test/14828\n",
       "2     JAPAN TO REVISE LONGTERM ENERGY DEMAND DOWNWAR...     crude  test/14829\n",
       "3     JAPAN TO REVISE LONGTERM ENERGY DEMAND DOWNWAR...   nat-gas  test/14829\n",
       "4     THAI TRADE DEFICIT WIDENS IN FIRST QUARTER  Th...      corn  test/14832\n",
       "...                                                 ...       ...         ...\n",
       "3739  TOKYO DEALERS SEE DOLLAR POISED TO BREACH 140 ...  money-fx  test/21573\n",
       "3740  TOKYO DEALERS SEE DOLLAR POISED TO BREACH 140 ...       yen  test/21573\n",
       "3741  JAPANINDIA CONFERENCE CUTS GULF WAR RISK CHARG...      ship  test/21574\n",
       "3742  SOVIET INDUSTRIAL GROWTHTRADE SLOWER IN 1987  ...       ipi  test/21575\n",
       "3743  SIX KILLED IN SOUTH AFRICAN GOLD MINE ACCIDENT...      gold  test/21576\n",
       "\n",
       "[3744 rows x 3 columns]"
      ]
     },
     "execution_count": 41,
     "metadata": {},
     "output_type": "execute_result"
    }
   ],
   "source": [
    "test_df2 = create_df(test_doc, rm_punct=True, words=False)\n",
    "test_df2"
   ]
  },
  {
   "cell_type": "code",
   "execution_count": 42,
   "metadata": {},
   "outputs": [
    {
     "data": {
      "text/html": [
       "<div>\n",
       "<style scoped>\n",
       "    .dataframe tbody tr th:only-of-type {\n",
       "        vertical-align: middle;\n",
       "    }\n",
       "\n",
       "    .dataframe tbody tr th {\n",
       "        vertical-align: top;\n",
       "    }\n",
       "\n",
       "    .dataframe thead th {\n",
       "        text-align: right;\n",
       "    }\n",
       "</style>\n",
       "<table border=\"1\" class=\"dataframe\">\n",
       "  <thead>\n",
       "    <tr style=\"text-align: right;\">\n",
       "      <th></th>\n",
       "      <th>document</th>\n",
       "      <th>category</th>\n",
       "      <th>ids</th>\n",
       "    </tr>\n",
       "  </thead>\n",
       "  <tbody>\n",
       "    <tr>\n",
       "      <th>0</th>\n",
       "      <td>ASIAN EXPORTERS FEAR DAMAGE FROM U . S .- JAPA...</td>\n",
       "      <td>trade</td>\n",
       "      <td>test/14826</td>\n",
       "    </tr>\n",
       "    <tr>\n",
       "      <th>1</th>\n",
       "      <td>CHINA DAILY SAYS VERMIN EAT 7 - 12 PCT GRAIN S...</td>\n",
       "      <td>grain</td>\n",
       "      <td>test/14828</td>\n",
       "    </tr>\n",
       "    <tr>\n",
       "      <th>2</th>\n",
       "      <td>JAPAN TO REVISE LONG - TERM ENERGY DEMAND DOWN...</td>\n",
       "      <td>crude</td>\n",
       "      <td>test/14829</td>\n",
       "    </tr>\n",
       "    <tr>\n",
       "      <th>3</th>\n",
       "      <td>JAPAN TO REVISE LONG - TERM ENERGY DEMAND DOWN...</td>\n",
       "      <td>nat-gas</td>\n",
       "      <td>test/14829</td>\n",
       "    </tr>\n",
       "    <tr>\n",
       "      <th>4</th>\n",
       "      <td>THAI TRADE DEFICIT WIDENS IN FIRST QUARTER Tha...</td>\n",
       "      <td>corn</td>\n",
       "      <td>test/14832</td>\n",
       "    </tr>\n",
       "    <tr>\n",
       "      <th>...</th>\n",
       "      <td>...</td>\n",
       "      <td>...</td>\n",
       "      <td>...</td>\n",
       "    </tr>\n",
       "    <tr>\n",
       "      <th>3739</th>\n",
       "      <td>TOKYO DEALERS SEE DOLLAR POISED TO BREACH 140 ...</td>\n",
       "      <td>money-fx</td>\n",
       "      <td>test/21573</td>\n",
       "    </tr>\n",
       "    <tr>\n",
       "      <th>3740</th>\n",
       "      <td>TOKYO DEALERS SEE DOLLAR POISED TO BREACH 140 ...</td>\n",
       "      <td>yen</td>\n",
       "      <td>test/21573</td>\n",
       "    </tr>\n",
       "    <tr>\n",
       "      <th>3741</th>\n",
       "      <td>JAPAN / INDIA CONFERENCE CUTS GULF WAR RISK CH...</td>\n",
       "      <td>ship</td>\n",
       "      <td>test/21574</td>\n",
       "    </tr>\n",
       "    <tr>\n",
       "      <th>3742</th>\n",
       "      <td>SOVIET INDUSTRIAL GROWTH / TRADE SLOWER IN 198...</td>\n",
       "      <td>ipi</td>\n",
       "      <td>test/21575</td>\n",
       "    </tr>\n",
       "    <tr>\n",
       "      <th>3743</th>\n",
       "      <td>SIX KILLED IN SOUTH AFRICAN GOLD MINE ACCIDENT...</td>\n",
       "      <td>gold</td>\n",
       "      <td>test/21576</td>\n",
       "    </tr>\n",
       "  </tbody>\n",
       "</table>\n",
       "<p>3744 rows × 3 columns</p>\n",
       "</div>"
      ],
      "text/plain": [
       "                                               document  category         ids\n",
       "0     ASIAN EXPORTERS FEAR DAMAGE FROM U . S .- JAPA...     trade  test/14826\n",
       "1     CHINA DAILY SAYS VERMIN EAT 7 - 12 PCT GRAIN S...     grain  test/14828\n",
       "2     JAPAN TO REVISE LONG - TERM ENERGY DEMAND DOWN...     crude  test/14829\n",
       "3     JAPAN TO REVISE LONG - TERM ENERGY DEMAND DOWN...   nat-gas  test/14829\n",
       "4     THAI TRADE DEFICIT WIDENS IN FIRST QUARTER Tha...      corn  test/14832\n",
       "...                                                 ...       ...         ...\n",
       "3739  TOKYO DEALERS SEE DOLLAR POISED TO BREACH 140 ...  money-fx  test/21573\n",
       "3740  TOKYO DEALERS SEE DOLLAR POISED TO BREACH 140 ...       yen  test/21573\n",
       "3741  JAPAN / INDIA CONFERENCE CUTS GULF WAR RISK CH...      ship  test/21574\n",
       "3742  SOVIET INDUSTRIAL GROWTH / TRADE SLOWER IN 198...       ipi  test/21575\n",
       "3743  SIX KILLED IN SOUTH AFRICAN GOLD MINE ACCIDENT...      gold  test/21576\n",
       "\n",
       "[3744 rows x 3 columns]"
      ]
     },
     "execution_count": 42,
     "metadata": {},
     "output_type": "execute_result"
    }
   ],
   "source": [
    "test_df = create_df(test_doc)\n",
    "test_df"
   ]
  },
  {
   "cell_type": "code",
   "execution_count": 16,
   "metadata": {},
   "outputs": [],
   "source": [
    "# Save data as csv\n",
    "\n",
    "with open('./train_data.csv', 'a' ,encoding='utf-8') as csvFile:\n",
    "        train_df.to_csv(csvFile, mode='a', index=False, encoding=\"utf-8\", sep=',')\n",
    "\n",
    "with open('./test_data.csv', 'a' ,encoding='utf-8') as csvFile:\n",
    "        test_df.to_csv(csvFile, mode='a', index=False, encoding=\"utf-8\", sep=',')"
   ]
  },
  {
   "cell_type": "markdown",
   "metadata": {},
   "source": [
    "## Get Feature vectors from documents"
   ]
  },
  {
   "cell_type": "code",
   "execution_count": 228,
   "metadata": {
    "scrolled": true
   },
   "outputs": [
    {
     "name": "stderr",
     "output_type": "stream",
     "text": [
      "C:\\Users\\Joonas\\AppData\\Local\\Programs\\Python\\Python39\\lib\\site-packages\\sklearn\\feature_extraction\\text.py:489: UserWarning: The parameter 'token_pattern' will not be used since 'tokenizer' is not None'\n",
      "  warnings.warn(\"The parameter 'token_pattern' will not be used\"\n",
      "C:\\Users\\Joonas\\AppData\\Local\\Programs\\Python\\Python39\\lib\\site-packages\\sklearn\\feature_extraction\\text.py:388: UserWarning: Your stop_words may be inconsistent with your preprocessing. Tokenizing the stop words generated tokens ['ha', 'le', 'u', 'wa'] not in stop_words.\n",
      "  warnings.warn('Your stop_words may be inconsistent with '\n"
     ]
    }
   ],
   "source": [
    "features_train, features_test = BOW_model(train_df[\"document\"], test_df[\"document\"], 100)"
   ]
  },
  {
   "cell_type": "code",
   "execution_count": 229,
   "metadata": {},
   "outputs": [
    {
     "name": "stdout",
     "output_type": "stream",
     "text": [
      "[[0 0 0 ... 3 0 2]\n",
      " [3 2 0 ... 0 0 1]\n",
      " [0 1 0 ... 0 0 4]\n",
      " ...\n",
      " [1 0 0 ... 0 0 0]\n",
      " [1 0 0 ... 0 0 1]\n",
      " [1 0 0 ... 0 0 1]]\n"
     ]
    }
   ],
   "source": [
    "print(features_train)"
   ]
  },
  {
   "cell_type": "markdown",
   "metadata": {},
   "source": [
    "# 3. Use NaivesBayes classifier to generate the model and test it on the testing dataset. Output the accuracy and F1 measure of this classifier. Compare the result with Random Forest and linear SVM classifiers.\n"
   ]
  },
  {
   "cell_type": "markdown",
   "metadata": {},
   "source": [
    "## NaiveBayes Classifier"
   ]
  },
  {
   "cell_type": "code",
   "execution_count": 202,
   "metadata": {},
   "outputs": [],
   "source": [
    "# Create a Gaussian NaiveBayes Classifier\n",
    "gnb = GaussianNB()\n",
    "\n",
    "# Create a Multinomial NaiveBayes Classifier\n",
    "mnb = MultinomialNB()\n",
    "\n",
    "# Create a Complement NaiveBayes Classifier\n",
    "cnb = ComplementNB()\n"
   ]
  },
  {
   "cell_type": "code",
   "execution_count": 203,
   "metadata": {},
   "outputs": [],
   "source": [
    "# Fit/train the NaiveBayes model\n",
    "classifier = gnb.fit(features_train, train_df[\"category\"])\n",
    "#classifier = nltk.NaiveBayesClassifier.train(train_df[\"category\"], features_train)\n",
    "#?nltk.NaiveBayesClassifier"
   ]
  },
  {
   "cell_type": "code",
   "execution_count": 204,
   "metadata": {},
   "outputs": [],
   "source": [
    "# Make predictions\n",
    "expected = test_df[\"category\"]\n",
    "predicted = classifier.predict(features_test)"
   ]
  },
  {
   "cell_type": "code",
   "execution_count": 205,
   "metadata": {},
   "outputs": [
    {
     "name": "stdout",
     "output_type": "stream",
     "text": [
      "accuracy =  0.3020833333333333\n",
      "f1 score =  0.328185983931604\n"
     ]
    }
   ],
   "source": [
    "# Output the accuracy and F1 measure of this classifier\n",
    "print(\"accuracy = \", metrics.accuracy_score(expected, predicted))\n",
    "accuracy_nb = metrics.accuracy_score(expected, predicted)\n",
    "print(\"f1 score = \", metrics.f1_score(expected, predicted, average = \"weighted\"))\n",
    "f1_nb = metrics.f1_score(expected, predicted, average = \"weighted\")"
   ]
  },
  {
   "cell_type": "code",
   "execution_count": 206,
   "metadata": {},
   "outputs": [
    {
     "name": "stdout",
     "output_type": "stream",
     "text": [
      "                 precision    recall  f1-score   support\n",
      "\n",
      "            acq       0.95      0.07      0.13       719\n",
      "           alum       0.00      0.00      0.00        23\n",
      "         barley       0.05      0.14      0.07        14\n",
      "            bop       0.31      0.13      0.19        30\n",
      "        carcass       0.11      0.11      0.11        18\n",
      "     castor-oil       0.00      0.00      0.00         1\n",
      "          cocoa       0.12      0.11      0.12        18\n",
      "        coconut       0.00      0.00      0.00         2\n",
      "    coconut-oil       0.00      0.00      0.00         3\n",
      "         coffee       0.00      0.00      0.00        28\n",
      "         copper       0.01      0.06      0.02        18\n",
      "     copra-cake       0.00      0.00      0.00         1\n",
      "           corn       0.00      0.00      0.00        56\n",
      "         cotton       0.00      0.00      0.00        20\n",
      "     cotton-oil       0.00      0.00      0.00         2\n",
      "            cpi       0.00      0.00      0.00        28\n",
      "            cpu       0.00      0.00      0.00         1\n",
      "          crude       0.21      0.04      0.07       189\n",
      "            dfl       0.00      0.00      0.00         1\n",
      "            dlr       0.10      0.02      0.04        44\n",
      "            dmk       0.00      0.00      0.00         4\n",
      "           earn       0.99      0.88      0.93      1087\n",
      "           fuel       0.02      0.20      0.03        10\n",
      "            gas       0.20      0.06      0.09        17\n",
      "            gnp       0.24      0.17      0.20        35\n",
      "           gold       0.00      0.00      0.00        30\n",
      "          grain       0.50      0.01      0.01       149\n",
      "      groundnut       0.00      0.00      0.00         4\n",
      "  groundnut-oil       0.00      0.00      0.00         1\n",
      "           heat       0.03      0.40      0.06         5\n",
      "            hog       0.18      0.50      0.26         6\n",
      "        housing       0.05      0.25      0.08         4\n",
      "         income       0.00      0.00      0.00         7\n",
      "    instal-debt       0.00      0.00      0.00         1\n",
      "       interest       0.29      0.04      0.07       131\n",
      "            ipi       0.02      0.08      0.03        12\n",
      "     iron-steel       0.00      0.00      0.00        14\n",
      "            jet       0.00      0.00      0.00         1\n",
      "           jobs       0.08      0.10      0.09        21\n",
      "       l-cattle       0.00      0.00      0.00         2\n",
      "           lead       0.00      0.00      0.00        14\n",
      "            lei       0.05      0.67      0.09         3\n",
      "        lin-oil       0.00      0.00      0.00         1\n",
      "      livestock       0.00      0.00      0.00        24\n",
      "         lumber       0.00      0.00      0.00         6\n",
      "      meal-feed       0.00      0.00      0.00        19\n",
      "       money-fx       0.33      0.04      0.08       179\n",
      "   money-supply       0.19      0.26      0.22        34\n",
      "        naphtha       0.00      0.00      0.00         4\n",
      "        nat-gas       0.13      0.17      0.14        30\n",
      "         nickel       0.00      0.00      0.00         1\n",
      "            nkr       0.00      0.00      0.00         2\n",
      "          nzdlr       0.00      0.00      0.00         2\n",
      "            oat       0.04      0.17      0.06         6\n",
      "        oilseed       0.00      0.00      0.00        47\n",
      "         orange       0.00      0.00      0.00        11\n",
      "      palladium       0.00      0.00      0.00         1\n",
      "       palm-oil       0.00      0.00      0.00        10\n",
      "     palmkernel       0.00      0.00      0.00         1\n",
      "       pet-chem       0.00      0.00      0.00        12\n",
      "       platinum       0.00      0.00      0.00         7\n",
      "         potato       0.00      0.00      0.00         3\n",
      "        propane       0.00      0.00      0.00         3\n",
      "           rand       0.00      0.00      0.00         1\n",
      "       rape-oil       0.00      0.00      0.00         3\n",
      "       rapeseed       0.04      0.22      0.07         9\n",
      "       reserves       0.29      0.28      0.29        18\n",
      "         retail       0.03      0.50      0.05         2\n",
      "           rice       0.00      0.00      0.00        24\n",
      "         rubber       0.00      0.00      0.00        12\n",
      "            rye       0.00      0.00      0.00         1\n",
      "           ship       0.00      0.00      0.00        89\n",
      "         silver       0.00      0.00      0.00         8\n",
      "        sorghum       0.01      0.10      0.02        10\n",
      "       soy-meal       0.03      0.08      0.04        13\n",
      "        soy-oil       0.01      0.09      0.02        11\n",
      "        soybean       0.07      0.15      0.10        33\n",
      "strategic-metal       0.02      0.09      0.03        11\n",
      "          sugar       0.00      0.00      0.00        36\n",
      "       sun-meal       0.00      0.00      0.00         1\n",
      "        sun-oil       0.02      0.50      0.03         2\n",
      "        sunseed       0.04      0.20      0.06         5\n",
      "            tea       0.00      0.00      0.00         4\n",
      "            tin       0.04      0.08      0.05        12\n",
      "          trade       0.47      0.07      0.12       117\n",
      "        veg-oil       0.33      0.19      0.24        37\n",
      "          wheat       0.17      0.03      0.05        71\n",
      "            wpi       0.07      0.50      0.12        10\n",
      "            yen       0.06      0.57      0.10        14\n",
      "           zinc       0.02      0.08      0.03        13\n",
      "\n",
      "       accuracy                           0.30      3744\n",
      "      macro avg       0.08      0.09      0.05      3744\n",
      "   weighted avg       0.56      0.30      0.33      3744\n",
      "\n",
      "[[52  3  0 ...  0  2 47]\n",
      " [ 0  0  0 ...  0  0  0]\n",
      " [ 0  0  2 ...  0  0  0]\n",
      " ...\n",
      " [ 0  0  0 ...  5  0  0]\n",
      " [ 0  0  0 ...  0  8  0]\n",
      " [ 0  0  0 ...  0  0  1]]\n"
     ]
    },
    {
     "name": "stderr",
     "output_type": "stream",
     "text": [
      "C:\\Users\\Joonas\\AppData\\Local\\Programs\\Python\\Python39\\lib\\site-packages\\sklearn\\metrics\\_classification.py:1248: UndefinedMetricWarning: Precision and F-score are ill-defined and being set to 0.0 in labels with no predicted samples. Use `zero_division` parameter to control this behavior.\n",
      "  _warn_prf(average, modifier, msg_start, len(result))\n",
      "C:\\Users\\Joonas\\AppData\\Local\\Programs\\Python\\Python39\\lib\\site-packages\\sklearn\\metrics\\_classification.py:1248: UndefinedMetricWarning: Precision and F-score are ill-defined and being set to 0.0 in labels with no predicted samples. Use `zero_division` parameter to control this behavior.\n",
      "  _warn_prf(average, modifier, msg_start, len(result))\n",
      "C:\\Users\\Joonas\\AppData\\Local\\Programs\\Python\\Python39\\lib\\site-packages\\sklearn\\metrics\\_classification.py:1248: UndefinedMetricWarning: Precision and F-score are ill-defined and being set to 0.0 in labels with no predicted samples. Use `zero_division` parameter to control this behavior.\n",
      "  _warn_prf(average, modifier, msg_start, len(result))\n"
     ]
    }
   ],
   "source": [
    "# summarize the fit of the model\n",
    "print(metrics.classification_report(expected, predicted))\n",
    "print(metrics.confusion_matrix(expected, predicted))"
   ]
  },
  {
   "cell_type": "markdown",
   "metadata": {},
   "source": [
    "## RandomForestClassifier"
   ]
  },
  {
   "cell_type": "code",
   "execution_count": 207,
   "metadata": {},
   "outputs": [],
   "source": [
    "# Create RandomForestClassifier\n",
    "rfc = RandomForestClassifier() # n_estimators=100, random_state=0\n",
    "\n",
    "# Train RFC model\n",
    "RFC_classifier = rfc.fit(features_train, train_df[\"category\"])"
   ]
  },
  {
   "cell_type": "code",
   "execution_count": 208,
   "metadata": {},
   "outputs": [],
   "source": [
    "predicted = RFC_classifier.predict(features_test)\n",
    "expected = test_df[\"category\"]\n",
    "#print(metrics.classification_report(expected, predicted))\n",
    "#print(metrics.confusion_matrix(expected, predicted))"
   ]
  },
  {
   "cell_type": "code",
   "execution_count": 209,
   "metadata": {
    "scrolled": true
   },
   "outputs": [
    {
     "name": "stdout",
     "output_type": "stream",
     "text": [
      "accuracy =  0.6573183760683761\n",
      "f1 score =  0.61118793522863\n"
     ]
    }
   ],
   "source": [
    "# Output the accuracy and F1 measure of this classifier\n",
    "print(\"accuracy = \", metrics.accuracy_score(expected, predicted))\n",
    "accuracy_rf = metrics.accuracy_score(expected, predicted)\n",
    "print(\"f1 score = \", metrics.f1_score(expected, predicted, average = \"weighted\"))\n",
    "f1_rf = metrics.f1_score(expected, predicted, average = \"weighted\")\n"
   ]
  },
  {
   "cell_type": "markdown",
   "metadata": {},
   "source": [
    "##  Linear SVM classifier"
   ]
  },
  {
   "cell_type": "code",
   "execution_count": 210,
   "metadata": {},
   "outputs": [
    {
     "name": "stderr",
     "output_type": "stream",
     "text": [
      "C:\\Users\\Joonas\\AppData\\Local\\Programs\\Python\\Python39\\lib\\site-packages\\sklearn\\svm\\_base.py:985: ConvergenceWarning: Liblinear failed to converge, increase the number of iterations.\n",
      "  warnings.warn(\"Liblinear failed to converge, increase \"\n"
     ]
    }
   ],
   "source": [
    "# Create SVM Classifier\n",
    "#svm = SVC(kernel=\"linear\")\n",
    "svm = LinearSVC()\n",
    "\n",
    "# Train SVM model\n",
    "SVM_classifier = svm.fit(features_train, train_df[\"category\"])"
   ]
  },
  {
   "cell_type": "code",
   "execution_count": 211,
   "metadata": {},
   "outputs": [
    {
     "name": "stdout",
     "output_type": "stream",
     "text": [
      "accuracy =  0.6271367521367521\n",
      "f1 score =  0.5953823037342557\n"
     ]
    }
   ],
   "source": [
    "predicted = SVM_classifier.predict(features_test)\n",
    "expected = test_df[\"category\"]\n",
    "\n",
    "# Output the accuracy and F1 measure of this classifier\n",
    "print(\"accuracy = \", metrics.accuracy_score(expected, predicted))\n",
    "accuracy_svm = metrics.accuracy_score(expected, predicted)\n",
    "print(\"f1 score = \", metrics.f1_score(expected, predicted, average = \"weighted\"))\n",
    "f1_svm = metrics.f1_score(expected, predicted, average = \"weighted\")"
   ]
  },
  {
   "cell_type": "code",
   "execution_count": 212,
   "metadata": {},
   "outputs": [
    {
     "name": "stdout",
     "output_type": "stream",
     "text": [
      "                 precision    recall  f1-score   support\n",
      "\n",
      "            acq       0.76      0.95      0.85       719\n",
      "           alum       0.17      0.04      0.07        23\n",
      "         barley       0.17      0.07      0.10        14\n",
      "            bop       0.44      0.27      0.33        30\n",
      "        carcass       0.14      0.06      0.08        18\n",
      "     castor-oil       0.00      0.00      0.00         1\n",
      "          cocoa       0.11      0.33      0.17        18\n",
      "        coconut       0.00      0.00      0.00         2\n",
      "    coconut-oil       0.00      0.00      0.00         3\n",
      "         coffee       0.28      0.18      0.22        28\n",
      "         copper       0.27      0.17      0.21        18\n",
      "     copra-cake       0.00      0.00      0.00         1\n",
      "           corn       0.34      0.20      0.25        56\n",
      "         cotton       0.00      0.00      0.00        20\n",
      "     cotton-oil       0.00      0.00      0.00         2\n",
      "            cpi       0.21      0.11      0.14        28\n",
      "            cpu       0.00      0.00      0.00         1\n",
      "          crude       0.60      0.65      0.63       189\n",
      "            dfl       0.00      0.00      0.00         1\n",
      "            dlr       0.31      0.20      0.25        44\n",
      "            dmk       0.00      0.00      0.00         4\n",
      "           earn       0.92      0.98      0.95      1087\n",
      "           fuel       0.75      0.30      0.43        10\n",
      "            gas       0.00      0.00      0.00        17\n",
      "            gnp       0.38      0.54      0.45        35\n",
      "           gold       0.23      0.17      0.19        30\n",
      "          grain       0.31      0.26      0.29       149\n",
      "      groundnut       0.00      0.00      0.00         4\n",
      "  groundnut-oil       0.00      0.00      0.00         1\n",
      "           heat       0.20      0.40      0.27         5\n",
      "            hog       0.40      0.33      0.36         6\n",
      "        housing       0.06      0.25      0.10         4\n",
      "         income       0.50      0.14      0.22         7\n",
      "    instal-debt       0.00      0.00      0.00         1\n",
      "       interest       0.54      0.61      0.57       131\n",
      "            ipi       0.27      0.50      0.35        12\n",
      "     iron-steel       0.00      0.00      0.00        14\n",
      "            jet       0.00      0.00      0.00         1\n",
      "           jobs       0.25      0.19      0.22        21\n",
      "       l-cattle       0.00      0.00      0.00         2\n",
      "           lead       0.33      0.07      0.12        14\n",
      "            lei       0.30      1.00      0.46         3\n",
      "        lin-oil       0.00      0.00      0.00         1\n",
      "      livestock       0.00      0.00      0.00        24\n",
      "         lumber       0.00      0.00      0.00         6\n",
      "      meal-feed       0.00      0.00      0.00        19\n",
      "       money-fx       0.52      0.41      0.46       179\n",
      "   money-supply       0.47      0.50      0.49        34\n",
      "        naphtha       0.00      0.00      0.00         4\n",
      "        nat-gas       0.00      0.00      0.00        30\n",
      "         nickel       0.00      0.00      0.00         1\n",
      "            nkr       0.00      0.00      0.00         2\n",
      "          nzdlr       0.00      0.00      0.00         2\n",
      "            oat       0.00      0.00      0.00         6\n",
      "        oilseed       0.09      0.02      0.03        47\n",
      "         orange       0.16      0.27      0.20        11\n",
      "      palladium       0.00      0.00      0.00         1\n",
      "       palm-oil       0.17      0.10      0.12        10\n",
      "     palmkernel       0.00      0.00      0.00         1\n",
      "       pet-chem       0.20      0.08      0.12        12\n",
      "       platinum       0.00      0.00      0.00         7\n",
      "         potato       0.00      0.00      0.00         3\n",
      "        propane       0.00      0.00      0.00         3\n",
      "           rand       0.00      0.00      0.00         1\n",
      "       rape-oil       0.00      0.00      0.00         3\n",
      "       rapeseed       0.44      0.44      0.44         9\n",
      "       reserves       0.47      0.50      0.49        18\n",
      "         retail       0.33      0.50      0.40         2\n",
      "           rice       0.00      0.00      0.00        24\n",
      "         rubber       0.00      0.00      0.00        12\n",
      "            rye       0.00      0.00      0.00         1\n",
      "           ship       0.25      0.21      0.23        89\n",
      "         silver       0.00      0.00      0.00         8\n",
      "        sorghum       0.10      0.20      0.13        10\n",
      "       soy-meal       0.00      0.00      0.00        13\n",
      "        soy-oil       0.05      0.18      0.08        11\n",
      "        soybean       0.00      0.00      0.00        33\n",
      "strategic-metal       0.00      0.00      0.00        11\n",
      "          sugar       0.11      0.17      0.13        36\n",
      "       sun-meal       0.00      0.00      0.00         1\n",
      "        sun-oil       0.00      0.00      0.00         2\n",
      "        sunseed       0.00      0.00      0.00         5\n",
      "            tea       0.17      0.25      0.20         4\n",
      "            tin       0.00      0.00      0.00        12\n",
      "          trade       0.46      0.71      0.56       117\n",
      "        veg-oil       0.27      0.24      0.26        37\n",
      "          wheat       0.41      0.45      0.43        71\n",
      "            wpi       0.11      0.30      0.16        10\n",
      "            yen       0.25      0.07      0.11        14\n",
      "           zinc       0.11      0.08      0.09        13\n",
      "\n",
      "       accuracy                           0.63      3744\n",
      "      macro avg       0.16      0.16      0.15      3744\n",
      "   weighted avg       0.58      0.63      0.60      3744\n",
      "\n",
      "[[680   0   0 ...   0   0   0]\n",
      " [  4   1   0 ...   0   0   0]\n",
      " [  0   0   1 ...   0   0   0]\n",
      " ...\n",
      " [  0   0   0 ...   3   0   0]\n",
      " [  0   0   0 ...   0   1   0]\n",
      " [  2   0   0 ...   0   0   1]]\n"
     ]
    },
    {
     "name": "stderr",
     "output_type": "stream",
     "text": [
      "C:\\Users\\Joonas\\AppData\\Local\\Programs\\Python\\Python39\\lib\\site-packages\\sklearn\\metrics\\_classification.py:1248: UndefinedMetricWarning: Precision and F-score are ill-defined and being set to 0.0 in labels with no predicted samples. Use `zero_division` parameter to control this behavior.\n",
      "  _warn_prf(average, modifier, msg_start, len(result))\n",
      "C:\\Users\\Joonas\\AppData\\Local\\Programs\\Python\\Python39\\lib\\site-packages\\sklearn\\metrics\\_classification.py:1248: UndefinedMetricWarning: Precision and F-score are ill-defined and being set to 0.0 in labels with no predicted samples. Use `zero_division` parameter to control this behavior.\n",
      "  _warn_prf(average, modifier, msg_start, len(result))\n",
      "C:\\Users\\Joonas\\AppData\\Local\\Programs\\Python\\Python39\\lib\\site-packages\\sklearn\\metrics\\_classification.py:1248: UndefinedMetricWarning: Precision and F-score are ill-defined and being set to 0.0 in labels with no predicted samples. Use `zero_division` parameter to control this behavior.\n",
      "  _warn_prf(average, modifier, msg_start, len(result))\n"
     ]
    }
   ],
   "source": [
    "# summarize the fit of the model\n",
    "print(metrics.classification_report(expected, predicted))\n",
    "print(metrics.confusion_matrix(expected, predicted))"
   ]
  },
  {
   "cell_type": "markdown",
   "metadata": {},
   "source": [
    "## List results"
   ]
  },
  {
   "cell_type": "code",
   "execution_count": 213,
   "metadata": {},
   "outputs": [
    {
     "data": {
      "text/html": [
       "<div>\n",
       "<style scoped>\n",
       "    .dataframe tbody tr th:only-of-type {\n",
       "        vertical-align: middle;\n",
       "    }\n",
       "\n",
       "    .dataframe tbody tr th {\n",
       "        vertical-align: top;\n",
       "    }\n",
       "\n",
       "    .dataframe thead th {\n",
       "        text-align: right;\n",
       "    }\n",
       "</style>\n",
       "<table border=\"1\" class=\"dataframe\">\n",
       "  <thead>\n",
       "    <tr style=\"text-align: right;\">\n",
       "      <th></th>\n",
       "      <th>acc</th>\n",
       "      <th>f1</th>\n",
       "    </tr>\n",
       "  </thead>\n",
       "  <tbody>\n",
       "    <tr>\n",
       "      <th>nb</th>\n",
       "      <td>0.302083</td>\n",
       "      <td>0.328186</td>\n",
       "    </tr>\n",
       "    <tr>\n",
       "      <th>rf</th>\n",
       "      <td>0.657318</td>\n",
       "      <td>0.611188</td>\n",
       "    </tr>\n",
       "    <tr>\n",
       "      <th>svm</th>\n",
       "      <td>0.627137</td>\n",
       "      <td>0.595382</td>\n",
       "    </tr>\n",
       "  </tbody>\n",
       "</table>\n",
       "</div>"
      ],
      "text/plain": [
       "          acc        f1\n",
       "nb   0.302083  0.328186\n",
       "rf   0.657318  0.611188\n",
       "svm  0.627137  0.595382"
      ]
     },
     "execution_count": 213,
     "metadata": {},
     "output_type": "execute_result"
    }
   ],
   "source": [
    "results_100 = [(accuracy_nb, f1_nb), (accuracy_rf, f1_rf), (accuracy_svm, f1_svm)]\n",
    "results_100_df = pd.DataFrame(results_100, columns=['acc', 'f1'], index=[\"nb\",\"rf\", \"svm\"])\n",
    "results_100_df"
   ]
  },
  {
   "cell_type": "markdown",
   "metadata": {},
   "source": [
    "# 4. Show the results of this classifier when the total number of features varies as 1000, 1500, 2000, 2500, 3000, 3500, 4500, 5000."
   ]
  },
  {
   "cell_type": "markdown",
   "metadata": {},
   "source": [
    "## Create function to apply classifier"
   ]
  },
  {
   "cell_type": "code",
   "execution_count": 215,
   "metadata": {},
   "outputs": [],
   "source": [
    "# funtion to apply NaiveBayes classifier, print and return accuracy and f1-value\n",
    "\n",
    "def nb_classifier(features_train,features_test):\n",
    "    \"\"\" funtion to apply NaiveBayes classifier, print and return accuracy and f1-value \"\"\"\n",
    "\n",
    "    # Fit/train the gaussian NaiveBayes model\n",
    "    classifier = gnb.fit(features_train, train_df[\"category\"])\n",
    "\n",
    "    # Make predictions\n",
    "    expected = test_df[\"category\"]\n",
    "    predicted = classifier.predict(features_test)\n",
    "\n",
    "    # summarize the fit of the model\n",
    "    #print(metrics.classification_report(expected, predicted))\n",
    "    #print(metrics.confusion_matrix(expected, predicted))\n",
    "\n",
    "    ##Output the accuracy and F1 measure of this classifier\n",
    "    accuracy_nb = metrics.accuracy_score(expected, predicted)\n",
    "    print(\"accuracy: \", accuracy_nb)\n",
    "    f1_nb = metrics.f1_score(expected, predicted, average = \"weighted\")\n",
    "    print(\"f1 score: \", f1_nb)\n",
    "    return (accuracy_nb, f1_nb)\n",
    "\n"
   ]
  },
  {
   "cell_type": "code",
   "execution_count": 216,
   "metadata": {},
   "outputs": [],
   "source": [
    "def rf_classifier(features_train,features_test):\n",
    "\n",
    "    # Create RandomForestClassifier\n",
    "    rfc = RandomForestClassifier()\n",
    "\n",
    "    # Train RFC model\n",
    "    classifier = rfc.fit(features_train, train_df[\"category\"])\n",
    "\n",
    "    # make predictions\n",
    "    predicted = classifier.predict(features_test)\n",
    "    expected = test_df[\"category\"]\n",
    "\n",
    "    # summarize the fit of the model\n",
    "    #print(metrics.classification_report(expected, predicted))\n",
    "    #print(metrics.confusion_matrix(expected, predicted))\n",
    "\n",
    "    # Output the accuracy and F1 measure of this classifier\n",
    "    print(\"accuracy = \", metrics.accuracy_score(expected, predicted))\n",
    "    accuracy_rf = metrics.accuracy_score(expected, predicted)\n",
    "    print(\"f1 score = \", metrics.f1_score(expected, predicted, average = \"weighted\"))\n",
    "    f1_rf = metrics.f1_score(expected, predicted, average = \"weighted\")\n",
    "\n",
    "    return (accuracy_rf, f1_rf)"
   ]
  },
  {
   "cell_type": "code",
   "execution_count": 217,
   "metadata": {},
   "outputs": [],
   "source": [
    "def svm_classifier(features_train,features_test):\n",
    "\n",
    "    # Get feature vectors\n",
    "    #BOW_train = BOW_model(train_df[\"document\"], features)\n",
    "    #BOW_test = BOW_model(test_df[\"document\"], features)\n",
    "\n",
    "    # Create SVM Classifier\n",
    "    #svm = SVC(kernel=\"linear\")\n",
    "    svm = LinearSVC()\n",
    "\n",
    "    # Train SVM model\n",
    "    classifier = svm.fit(features_train, train_df[\"category\"])\n",
    "    predicted = classifier.predict(features_test)\n",
    "    expected = test_df[\"category\"]\n",
    "\n",
    "    # summarize the fit of the model\n",
    "    #print(metrics.classification_report(expected, predicted))\n",
    "    #print(metrics.confusion_matrix(expected, predicted))\n",
    "\n",
    "    # Output the accuracy and F1 measure of this classifier\n",
    "    print(\"accuracy = \", metrics.accuracy_score(expected, predicted))\n",
    "    accuracy_svm = metrics.accuracy_score(expected, predicted)\n",
    "    print(\"f1 score = \", metrics.f1_score(expected, predicted, average = \"weighted\"))\n",
    "    f1_svm = metrics.f1_score(expected, predicted, average = \"weighted\")\n",
    "\n",
    "    return (accuracy_svm, f1_svm)\n"
   ]
  },
  {
   "cell_type": "markdown",
   "metadata": {},
   "source": [
    "## Apply function"
   ]
  },
  {
   "cell_type": "markdown",
   "metadata": {},
   "source": [
    "### BOW models"
   ]
  },
  {
   "cell_type": "code",
   "execution_count": 230,
   "metadata": {},
   "outputs": [],
   "source": [
    "# use all numbers of vectors\n",
    "num_vec = [100,1000,1500,2000,2500,3000,3500,4500,5000]\n",
    "# list for feature vectors\n",
    "feature_vecs = []\n",
    "\n",
    "# iterate through numbers\n",
    "for num in num_vec:\n",
    "   # make feature vectors as tuples (train, test) and append to list\n",
    "   feature_vecs.append(BOW_model(train_df[\"document\"], test_df[\"document\"], num))\n",
    "\n",
    "   "
   ]
  },
  {
   "cell_type": "markdown",
   "metadata": {},
   "source": [
    "### NaiveBayes"
   ]
  },
  {
   "cell_type": "code",
   "execution_count": 231,
   "metadata": {},
   "outputs": [
    {
     "name": "stdout",
     "output_type": "stream",
     "text": [
      "accuracy:  0.3020833333333333\n",
      "f1 score:  0.328185983931604\n",
      "accuracy:  0.46474358974358976\n",
      "f1 score:  0.47853470142336146\n",
      "accuracy:  0.4893162393162393\n",
      "f1 score:  0.48816383074814185\n",
      "accuracy:  0.4986645299145299\n",
      "f1 score:  0.4889780283897969\n",
      "accuracy:  0.5066773504273504\n",
      "f1 score:  0.4913354975927903\n",
      "accuracy:  0.5061431623931624\n",
      "f1 score:  0.4847744672665356\n",
      "accuracy:  0.5016025641025641\n",
      "f1 score:  0.4758435581141394\n",
      "accuracy:  0.5189636752136753\n",
      "f1 score:  0.4901192029066765\n",
      "accuracy:  0.5192307692307693\n",
      "f1 score:  0.48981709356670483\n"
     ]
    }
   ],
   "source": [
    "# add results list\n",
    "results = []\n",
    "\n",
    "# iterate through feature vectors\n",
    "for vec in feature_vecs:\n",
    "    # apply classifier and append results to list: train = 0 , test = 1\n",
    "    results.append(nb_classifier(vec[0],vec[1]))\n",
    "    #print(vec[1])\n",
    "\n",
    "nb_results_df = pd.DataFrame(results, columns=['acc', 'f1'], index=[\"nb_100\", \"nb_1000\", \"nb_1500\", \"nb_2000\", \"nb_2500\", \"nb_3000\", \"nb_3500\", \"nb_4500\", \"nb_5000\"])\n"
   ]
  },
  {
   "cell_type": "code",
   "execution_count": 232,
   "metadata": {},
   "outputs": [
    {
     "data": {
      "text/html": [
       "<div>\n",
       "<style scoped>\n",
       "    .dataframe tbody tr th:only-of-type {\n",
       "        vertical-align: middle;\n",
       "    }\n",
       "\n",
       "    .dataframe tbody tr th {\n",
       "        vertical-align: top;\n",
       "    }\n",
       "\n",
       "    .dataframe thead th {\n",
       "        text-align: right;\n",
       "    }\n",
       "</style>\n",
       "<table border=\"1\" class=\"dataframe\">\n",
       "  <thead>\n",
       "    <tr style=\"text-align: right;\">\n",
       "      <th></th>\n",
       "      <th>acc</th>\n",
       "      <th>f1</th>\n",
       "    </tr>\n",
       "  </thead>\n",
       "  <tbody>\n",
       "    <tr>\n",
       "      <th>nb_100</th>\n",
       "      <td>0.302083</td>\n",
       "      <td>0.328186</td>\n",
       "    </tr>\n",
       "    <tr>\n",
       "      <th>nb_1000</th>\n",
       "      <td>0.464744</td>\n",
       "      <td>0.478535</td>\n",
       "    </tr>\n",
       "    <tr>\n",
       "      <th>nb_1500</th>\n",
       "      <td>0.489316</td>\n",
       "      <td>0.488164</td>\n",
       "    </tr>\n",
       "    <tr>\n",
       "      <th>nb_2000</th>\n",
       "      <td>0.498665</td>\n",
       "      <td>0.488978</td>\n",
       "    </tr>\n",
       "    <tr>\n",
       "      <th>nb_2500</th>\n",
       "      <td>0.506677</td>\n",
       "      <td>0.491335</td>\n",
       "    </tr>\n",
       "    <tr>\n",
       "      <th>nb_3000</th>\n",
       "      <td>0.506143</td>\n",
       "      <td>0.484774</td>\n",
       "    </tr>\n",
       "    <tr>\n",
       "      <th>nb_3500</th>\n",
       "      <td>0.501603</td>\n",
       "      <td>0.475844</td>\n",
       "    </tr>\n",
       "    <tr>\n",
       "      <th>nb_4500</th>\n",
       "      <td>0.518964</td>\n",
       "      <td>0.490119</td>\n",
       "    </tr>\n",
       "    <tr>\n",
       "      <th>nb_5000</th>\n",
       "      <td>0.519231</td>\n",
       "      <td>0.489817</td>\n",
       "    </tr>\n",
       "  </tbody>\n",
       "</table>\n",
       "</div>"
      ],
      "text/plain": [
       "              acc        f1\n",
       "nb_100   0.302083  0.328186\n",
       "nb_1000  0.464744  0.478535\n",
       "nb_1500  0.489316  0.488164\n",
       "nb_2000  0.498665  0.488978\n",
       "nb_2500  0.506677  0.491335\n",
       "nb_3000  0.506143  0.484774\n",
       "nb_3500  0.501603  0.475844\n",
       "nb_4500  0.518964  0.490119\n",
       "nb_5000  0.519231  0.489817"
      ]
     },
     "execution_count": 232,
     "metadata": {},
     "output_type": "execute_result"
    }
   ],
   "source": [
    "nb_results_df"
   ]
  },
  {
   "cell_type": "code",
   "execution_count": 235,
   "metadata": {},
   "outputs": [
    {
     "data": {
      "text/plain": [
       "<AxesSubplot:>"
      ]
     },
     "execution_count": 235,
     "metadata": {},
     "output_type": "execute_result"
    },
    {
     "data": {
      "image/png": "[encoded data removed]",
      "text/plain": [
       "<Figure size 432x288 with 1 Axes>"
      ]
     },
     "metadata": {
      "needs_background": "light"
     },
     "output_type": "display_data"
    }
   ],
   "source": [
    "nb_results_df.plot()"
   ]
  },
  {
   "cell_type": "markdown",
   "metadata": {},
   "source": [
    "### Random Forest"
   ]
  },
  {
   "cell_type": "code",
   "execution_count": 236,
   "metadata": {},
   "outputs": [
    {
     "name": "stdout",
     "output_type": "stream",
     "text": [
      "accuracy =  0.6575854700854701\n",
      "f1 score =  0.6124231214576051\n",
      "accuracy =  0.7059294871794872\n",
      "f1 score =  0.6634036882450864\n",
      "accuracy =  0.7051282051282052\n",
      "f1 score =  0.6634995014426958\n",
      "accuracy =  0.7019230769230769\n",
      "f1 score =  0.6580174702951579\n",
      "accuracy =  0.7032585470085471\n",
      "f1 score =  0.6590135443728801\n",
      "accuracy =  0.7021901709401709\n",
      "f1 score =  0.6593178162897887\n",
      "accuracy =  0.6992521367521367\n",
      "f1 score =  0.6537066547828023\n",
      "accuracy =  0.6984508547008547\n",
      "f1 score =  0.6524244861479714\n",
      "accuracy =  0.7003205128205128\n",
      "f1 score =  0.6585428117715783\n"
     ]
    }
   ],
   "source": [
    "results = []\n",
    "\n",
    "for vec in feature_vecs:\n",
    "    results.append(rf_classifier(vec[0],vec[1]))\n",
    "    #print(results)\n",
    "\n",
    "rf_results_df = pd.DataFrame(results, columns=['acc', 'f1'], index=[\"rf_100\", \"rf_1000\", \"rf_1500\", \"rf_2000\", \"rf_2500\", \"rf_3000\", \"rf_3500\", \"rf_4500\", \"rf_5000\"])\n"
   ]
  },
  {
   "cell_type": "code",
   "execution_count": 237,
   "metadata": {},
   "outputs": [
    {
     "data": {
      "text/plain": [
       "<AxesSubplot:>"
      ]
     },
     "execution_count": 237,
     "metadata": {},
     "output_type": "execute_result"
    },
    {
     "data": {
      "image/png": "[encoded data removed]",
      "text/plain": [
       "<Figure size 432x288 with 1 Axes>"
      ]
     },
     "metadata": {
      "needs_background": "light"
     },
     "output_type": "display_data"
    }
   ],
   "source": [
    "rf_results_df.plot()"
   ]
  },
  {
   "cell_type": "markdown",
   "metadata": {},
   "source": [
    "### SVM"
   ]
  },
  {
   "cell_type": "code",
   "execution_count": 238,
   "metadata": {},
   "outputs": [
    {
     "name": "stderr",
     "output_type": "stream",
     "text": [
      "C:\\Users\\Joonas\\AppData\\Local\\Programs\\Python\\Python39\\lib\\site-packages\\sklearn\\svm\\_base.py:985: ConvergenceWarning: Liblinear failed to converge, increase the number of iterations.\n",
      "  warnings.warn(\"Liblinear failed to converge, increase \"\n"
     ]
    },
    {
     "name": "stdout",
     "output_type": "stream",
     "text": [
      "accuracy =  0.624465811965812\n",
      "f1 score =  0.5918649769755463\n"
     ]
    },
    {
     "name": "stderr",
     "output_type": "stream",
     "text": [
      "C:\\Users\\Joonas\\AppData\\Local\\Programs\\Python\\Python39\\lib\\site-packages\\sklearn\\svm\\_base.py:985: ConvergenceWarning: Liblinear failed to converge, increase the number of iterations.\n",
      "  warnings.warn(\"Liblinear failed to converge, increase \"\n"
     ]
    },
    {
     "name": "stdout",
     "output_type": "stream",
     "text": [
      "accuracy =  0.6984508547008547\n",
      "f1 score =  0.6823865695440653\n"
     ]
    },
    {
     "name": "stderr",
     "output_type": "stream",
     "text": [
      "C:\\Users\\Joonas\\AppData\\Local\\Programs\\Python\\Python39\\lib\\site-packages\\sklearn\\svm\\_base.py:985: ConvergenceWarning: Liblinear failed to converge, increase the number of iterations.\n",
      "  warnings.warn(\"Liblinear failed to converge, increase \"\n"
     ]
    },
    {
     "name": "stdout",
     "output_type": "stream",
     "text": [
      "accuracy =  0.7056623931623932\n",
      "f1 score =  0.6917141171175453\n"
     ]
    },
    {
     "name": "stderr",
     "output_type": "stream",
     "text": [
      "C:\\Users\\Joonas\\AppData\\Local\\Programs\\Python\\Python39\\lib\\site-packages\\sklearn\\svm\\_base.py:985: ConvergenceWarning: Liblinear failed to converge, increase the number of iterations.\n",
      "  warnings.warn(\"Liblinear failed to converge, increase \"\n"
     ]
    },
    {
     "name": "stdout",
     "output_type": "stream",
     "text": [
      "accuracy =  0.7104700854700855\n",
      "f1 score =  0.6940218818111283\n"
     ]
    },
    {
     "name": "stderr",
     "output_type": "stream",
     "text": [
      "C:\\Users\\Joonas\\AppData\\Local\\Programs\\Python\\Python39\\lib\\site-packages\\sklearn\\svm\\_base.py:985: ConvergenceWarning: Liblinear failed to converge, increase the number of iterations.\n",
      "  warnings.warn(\"Liblinear failed to converge, increase \"\n"
     ]
    },
    {
     "name": "stdout",
     "output_type": "stream",
     "text": [
      "accuracy =  0.7150106837606838\n",
      "f1 score =  0.7010125876318193\n"
     ]
    },
    {
     "name": "stderr",
     "output_type": "stream",
     "text": [
      "C:\\Users\\Joonas\\AppData\\Local\\Programs\\Python\\Python39\\lib\\site-packages\\sklearn\\svm\\_base.py:985: ConvergenceWarning: Liblinear failed to converge, increase the number of iterations.\n",
      "  warnings.warn(\"Liblinear failed to converge, increase \"\n"
     ]
    },
    {
     "name": "stdout",
     "output_type": "stream",
     "text": [
      "accuracy =  0.7171474358974359\n",
      "f1 score =  0.7027274483688253\n"
     ]
    },
    {
     "name": "stderr",
     "output_type": "stream",
     "text": [
      "C:\\Users\\Joonas\\AppData\\Local\\Programs\\Python\\Python39\\lib\\site-packages\\sklearn\\svm\\_base.py:985: ConvergenceWarning: Liblinear failed to converge, increase the number of iterations.\n",
      "  warnings.warn(\"Liblinear failed to converge, increase \"\n"
     ]
    },
    {
     "name": "stdout",
     "output_type": "stream",
     "text": [
      "accuracy =  0.719017094017094\n",
      "f1 score =  0.7026847873790937\n"
     ]
    },
    {
     "name": "stderr",
     "output_type": "stream",
     "text": [
      "C:\\Users\\Joonas\\AppData\\Local\\Programs\\Python\\Python39\\lib\\site-packages\\sklearn\\svm\\_base.py:985: ConvergenceWarning: Liblinear failed to converge, increase the number of iterations.\n",
      "  warnings.warn(\"Liblinear failed to converge, increase \"\n"
     ]
    },
    {
     "name": "stdout",
     "output_type": "stream",
     "text": [
      "accuracy =  0.7206196581196581\n",
      "f1 score =  0.706516300002468\n",
      "accuracy =  0.7230235042735043\n",
      "f1 score =  0.7061759362642563\n"
     ]
    },
    {
     "name": "stderr",
     "output_type": "stream",
     "text": [
      "C:\\Users\\Joonas\\AppData\\Local\\Programs\\Python\\Python39\\lib\\site-packages\\sklearn\\svm\\_base.py:985: ConvergenceWarning: Liblinear failed to converge, increase the number of iterations.\n",
      "  warnings.warn(\"Liblinear failed to converge, increase \"\n"
     ]
    }
   ],
   "source": [
    "results = []\n",
    "\n",
    "for vec in feature_vecs:\n",
    "    results.append(svm_classifier(vec[0],vec[1]))\n",
    "    #print(results)\n",
    "\n",
    "svm_results_df = pd.DataFrame(results, columns=['acc', 'f1'], index=[\"svm_100\", \"svm_1000\", \"svm_1500\", \"svm_2000\", \"svm_2500\", \"svm_3000\", \"svm_3500\", \"svm_4500\", \"svm_5000\"])\n"
   ]
  },
  {
   "cell_type": "code",
   "execution_count": 239,
   "metadata": {},
   "outputs": [
    {
     "data": {
      "text/plain": [
       "<AxesSubplot:>"
      ]
     },
     "execution_count": 239,
     "metadata": {},
     "output_type": "execute_result"
    },
    {
     "data": {
      "image/png": "[encoded data removed]",
      "text/plain": [
       "<Figure size 432x288 with 1 Axes>"
      ]
     },
     "metadata": {
      "needs_background": "light"
     },
     "output_type": "display_data"
    }
   ],
   "source": [
    "svm_results_df.plot()"
   ]
  },
  {
   "cell_type": "markdown",
   "metadata": {},
   "source": [
    "## List Results"
   ]
  },
  {
   "cell_type": "code",
   "execution_count": 242,
   "metadata": {},
   "outputs": [
    {
     "data": {
      "text/html": [
       "<div>\n",
       "<style scoped>\n",
       "    .dataframe tbody tr th:only-of-type {\n",
       "        vertical-align: middle;\n",
       "    }\n",
       "\n",
       "    .dataframe tbody tr th {\n",
       "        vertical-align: top;\n",
       "    }\n",
       "\n",
       "    .dataframe thead th {\n",
       "        text-align: right;\n",
       "    }\n",
       "</style>\n",
       "<table border=\"1\" class=\"dataframe\">\n",
       "  <thead>\n",
       "    <tr style=\"text-align: right;\">\n",
       "      <th></th>\n",
       "      <th>acc</th>\n",
       "      <th>f1</th>\n",
       "    </tr>\n",
       "  </thead>\n",
       "  <tbody>\n",
       "    <tr>\n",
       "      <th>nb_100</th>\n",
       "      <td>0.302083</td>\n",
       "      <td>0.328186</td>\n",
       "    </tr>\n",
       "    <tr>\n",
       "      <th>nb_1000</th>\n",
       "      <td>0.464744</td>\n",
       "      <td>0.478535</td>\n",
       "    </tr>\n",
       "    <tr>\n",
       "      <th>nb_1500</th>\n",
       "      <td>0.489316</td>\n",
       "      <td>0.488164</td>\n",
       "    </tr>\n",
       "    <tr>\n",
       "      <th>nb_2000</th>\n",
       "      <td>0.498665</td>\n",
       "      <td>0.488978</td>\n",
       "    </tr>\n",
       "    <tr>\n",
       "      <th>nb_2500</th>\n",
       "      <td>0.506677</td>\n",
       "      <td>0.491335</td>\n",
       "    </tr>\n",
       "    <tr>\n",
       "      <th>nb_3000</th>\n",
       "      <td>0.506143</td>\n",
       "      <td>0.484774</td>\n",
       "    </tr>\n",
       "    <tr>\n",
       "      <th>nb_3500</th>\n",
       "      <td>0.501603</td>\n",
       "      <td>0.475844</td>\n",
       "    </tr>\n",
       "    <tr>\n",
       "      <th>nb_4500</th>\n",
       "      <td>0.518964</td>\n",
       "      <td>0.490119</td>\n",
       "    </tr>\n",
       "    <tr>\n",
       "      <th>nb_5000</th>\n",
       "      <td>0.519231</td>\n",
       "      <td>0.489817</td>\n",
       "    </tr>\n",
       "    <tr>\n",
       "      <th>rf_100</th>\n",
       "      <td>0.657585</td>\n",
       "      <td>0.612423</td>\n",
       "    </tr>\n",
       "    <tr>\n",
       "      <th>rf_1000</th>\n",
       "      <td>0.705929</td>\n",
       "      <td>0.663404</td>\n",
       "    </tr>\n",
       "    <tr>\n",
       "      <th>rf_1500</th>\n",
       "      <td>0.705128</td>\n",
       "      <td>0.663500</td>\n",
       "    </tr>\n",
       "    <tr>\n",
       "      <th>rf_2000</th>\n",
       "      <td>0.701923</td>\n",
       "      <td>0.658017</td>\n",
       "    </tr>\n",
       "    <tr>\n",
       "      <th>rf_2500</th>\n",
       "      <td>0.703259</td>\n",
       "      <td>0.659014</td>\n",
       "    </tr>\n",
       "    <tr>\n",
       "      <th>rf_3000</th>\n",
       "      <td>0.702190</td>\n",
       "      <td>0.659318</td>\n",
       "    </tr>\n",
       "    <tr>\n",
       "      <th>rf_3500</th>\n",
       "      <td>0.699252</td>\n",
       "      <td>0.653707</td>\n",
       "    </tr>\n",
       "    <tr>\n",
       "      <th>rf_4500</th>\n",
       "      <td>0.698451</td>\n",
       "      <td>0.652424</td>\n",
       "    </tr>\n",
       "    <tr>\n",
       "      <th>rf_5000</th>\n",
       "      <td>0.700321</td>\n",
       "      <td>0.658543</td>\n",
       "    </tr>\n",
       "    <tr>\n",
       "      <th>svm_100</th>\n",
       "      <td>0.624466</td>\n",
       "      <td>0.591865</td>\n",
       "    </tr>\n",
       "    <tr>\n",
       "      <th>svm_1000</th>\n",
       "      <td>0.698451</td>\n",
       "      <td>0.682387</td>\n",
       "    </tr>\n",
       "    <tr>\n",
       "      <th>svm_1500</th>\n",
       "      <td>0.705662</td>\n",
       "      <td>0.691714</td>\n",
       "    </tr>\n",
       "    <tr>\n",
       "      <th>svm_2000</th>\n",
       "      <td>0.710470</td>\n",
       "      <td>0.694022</td>\n",
       "    </tr>\n",
       "    <tr>\n",
       "      <th>svm_2500</th>\n",
       "      <td>0.715011</td>\n",
       "      <td>0.701013</td>\n",
       "    </tr>\n",
       "    <tr>\n",
       "      <th>svm_3000</th>\n",
       "      <td>0.717147</td>\n",
       "      <td>0.702727</td>\n",
       "    </tr>\n",
       "    <tr>\n",
       "      <th>svm_3500</th>\n",
       "      <td>0.719017</td>\n",
       "      <td>0.702685</td>\n",
       "    </tr>\n",
       "    <tr>\n",
       "      <th>svm_4500</th>\n",
       "      <td>0.720620</td>\n",
       "      <td>0.706516</td>\n",
       "    </tr>\n",
       "    <tr>\n",
       "      <th>svm_5000</th>\n",
       "      <td>0.723024</td>\n",
       "      <td>0.706176</td>\n",
       "    </tr>\n",
       "  </tbody>\n",
       "</table>\n",
       "</div>"
      ],
      "text/plain": [
       "               acc        f1\n",
       "nb_100    0.302083  0.328186\n",
       "nb_1000   0.464744  0.478535\n",
       "nb_1500   0.489316  0.488164\n",
       "nb_2000   0.498665  0.488978\n",
       "nb_2500   0.506677  0.491335\n",
       "nb_3000   0.506143  0.484774\n",
       "nb_3500   0.501603  0.475844\n",
       "nb_4500   0.518964  0.490119\n",
       "nb_5000   0.519231  0.489817\n",
       "rf_100    0.657585  0.612423\n",
       "rf_1000   0.705929  0.663404\n",
       "rf_1500   0.705128  0.663500\n",
       "rf_2000   0.701923  0.658017\n",
       "rf_2500   0.703259  0.659014\n",
       "rf_3000   0.702190  0.659318\n",
       "rf_3500   0.699252  0.653707\n",
       "rf_4500   0.698451  0.652424\n",
       "rf_5000   0.700321  0.658543\n",
       "svm_100   0.624466  0.591865\n",
       "svm_1000  0.698451  0.682387\n",
       "svm_1500  0.705662  0.691714\n",
       "svm_2000  0.710470  0.694022\n",
       "svm_2500  0.715011  0.701013\n",
       "svm_3000  0.717147  0.702727\n",
       "svm_3500  0.719017  0.702685\n",
       "svm_4500  0.720620  0.706516\n",
       "svm_5000  0.723024  0.706176"
      ]
     },
     "execution_count": 242,
     "metadata": {},
     "output_type": "execute_result"
    }
   ],
   "source": [
    "results_df = pd.DataFrame()\n",
    "results_df = results_df.append(nb_results_df)\n",
    "results_df = results_df.append(rf_results_df)\n",
    "results_df = results_df.append(svm_results_df)\n",
    "results_df"
   ]
  },
  {
   "cell_type": "markdown",
   "metadata": {},
   "source": [
    "# 5. Repeat 3) when a PCA (of 95% information preservation) is used to reduce the dimension of the feature space. \n"
   ]
  },
  {
   "cell_type": "code",
   "execution_count": 244,
   "metadata": {},
   "outputs": [],
   "source": [
    "def PCA_model (features_train, features_test):\n",
    "    pca = PCA(n_components=0.95)\n",
    "    pca.fit(features_train)\n",
    "    pca_train = pca.transform(features_train)\n",
    "    pca_test = pca.transform(features_test)\n",
    "    return pca_train, pca_test"
   ]
  },
  {
   "cell_type": "code",
   "execution_count": 254,
   "metadata": {},
   "outputs": [
    {
     "name": "stdout",
     "output_type": "stream",
     "text": [
      "accuracy:  0.468482905982906\n",
      "f1 score:  0.4537237656536132\n"
     ]
    }
   ],
   "source": [
    "pca_train, pca_test = PCA_model(features_train, features_test)\n",
    "\n",
    "# make list of classifier tuples and create dataframe\n",
    "l = [nb_classifier(pca_train, pca_test)]\n",
    "\n",
    "pca_df = pd.DataFrame(l, columns=['acc', 'f1'], index=[\"nb_100\"])\n"
   ]
  },
  {
   "cell_type": "code",
   "execution_count": null,
   "metadata": {},
   "outputs": [],
   "source": []
  },
  {
   "cell_type": "code",
   "execution_count": null,
   "metadata": {},
   "outputs": [],
   "source": []
  },
  {
   "cell_type": "code",
   "execution_count": null,
   "metadata": {},
   "outputs": [],
   "source": []
  },
  {
   "cell_type": "code",
   "execution_count": null,
   "metadata": {},
   "outputs": [],
   "source": []
  },
  {
   "cell_type": "code",
   "execution_count": null,
   "metadata": {},
   "outputs": [],
   "source": []
  },
  {
   "cell_type": "markdown",
   "metadata": {},
   "source": [
    "# 6. Instead of CountVectorizer, use TfidfVectorizer to create the feature set as in 2) and test the classification accuracy and F1 measure of Naives’ Bayes classifier.\n"
   ]
  },
  {
   "cell_type": "code",
   "execution_count": null,
   "metadata": {},
   "outputs": [],
   "source": []
  },
  {
   "cell_type": "markdown",
   "metadata": {},
   "source": [
    "# 7. Use Word2vec to create a feature vector to each document by averaging over all word2vec representations of individual words constituting the document. Use this feature set to train the Naives’ Bayes classifier and output the accuracy, F1 measure and confusion matrix on testing data. \n"
   ]
  },
  {
   "cell_type": "code",
   "execution_count": null,
   "metadata": {},
   "outputs": [],
   "source": []
  },
  {
   "cell_type": "markdown",
   "metadata": {},
   "source": [
    "# 8. Now we would like to tackle the discrepancy of the number of instances in training data among the various categories. For this purpose, create a new partition, where you remove the categories that contains very large number of instances and very low number of instances as compared to the rest of the categories. Repeat 3) and provide the results on the table. "
   ]
  },
  {
   "cell_type": "code",
   "execution_count": null,
   "metadata": {},
   "outputs": [],
   "source": []
  },
  {
   "cell_type": "markdown",
   "metadata": {},
   "source": [
    "# 9. Similarly, use word2vec model to calculate the new performance on the testing data for the new set of categories in 8)."
   ]
  },
  {
   "cell_type": "code",
   "execution_count": null,
   "metadata": {},
   "outputs": [],
   "source": []
  },
  {
   "cell_type": "markdown",
   "metadata": {},
   "source": [
    "# 10. Now we would like to handle the data discrepancy in the class, we would like to perform data augmentation on the small size classes. For this purpose, for the classes, which contain small number of instances, write a script that allows you to duplicate the number of small samples at an order close to the average of other classes. Then repeat the process 3) and test whether an enhancement of the results on the testing data can be noticed.\n",
    " "
   ]
  },
  {
   "cell_type": "code",
   "execution_count": null,
   "metadata": {},
   "outputs": [],
   "source": []
  },
  {
   "cell_type": "markdown",
   "metadata": {},
   "source": [
    "# 11. Now we would like to test the influence of the multi-category documents on the classification. For this purpose, write a script, which scrutinizes the training set, so that every document, which is found to belong to more than one category in the training set is removed. Repeat 3) and word2vec model to evaluate the performance of the model on the test data, and discuss the contribution of this removal action. "
   ]
  },
  {
   "cell_type": "code",
   "execution_count": null,
   "metadata": {},
   "outputs": [],
   "source": []
  },
  {
   "cell_type": "markdown",
   "metadata": {},
   "source": [
    "# 12. Use appropriate literature in order to comment on your findings. "
   ]
  },
  {
   "cell_type": "markdown",
   "metadata": {},
   "source": []
  }
 ],
 "metadata": {
  "interpreter": {
   "hash": "aa0c649c3563e892d1a689eab39f2dea45a71cdb0f22288b6575c89c9de86787"
  },
  "kernelspec": {
   "display_name": "Python 3.9.4 64-bit",
   "name": "python3"
  },
  "language_info": {
   "codemirror_mode": {
    "name": "ipython",
    "version": 3
   },
   "file_extension": ".py",
   "mimetype": "text/x-python",
   "name": "python",
   "nbconvert_exporter": "python",
   "pygments_lexer": "ipython3",
   "version": "3.9.4"
  }
 },
 "nbformat": 4,
 "nbformat_minor": 2
}
