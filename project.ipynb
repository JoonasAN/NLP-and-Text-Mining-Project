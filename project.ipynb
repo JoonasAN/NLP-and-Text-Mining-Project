{
 "cells": [
  {
   "cell_type": "code",
   "execution_count": 192,
   "metadata": {},
   "outputs": [],
   "source": [
    "#!pip install nltk\n",
    "#!pip install gensim\n",
    "#!pip install Cython\n",
    "\n",
    "import nltk\n",
    "from tqdm.notebook import tqdm\n",
    "#nltk.download(\"reuters\")\n",
    "\n",
    "import pandas as pd\n",
    "from nltk.corpus import reuters, stopwords\n",
    "import numpy as np\n",
    "import matplotlib.pyplot as plt \n",
    "\n",
    "\n",
    "from string import punctuation\n",
    "\n",
    "from nltk.stem import WordNetLemmatizer\n",
    "from nltk.tokenize import sent_tokenize, word_tokenize\n",
    "from sklearn.feature_extraction.text import CountVectorizer,TfidfVectorizer\n",
    "from sklearn.naive_bayes import GaussianNB, MultinomialNB, ComplementNB, CategoricalNB\n",
    "from sklearn import metrics\n",
    "from sklearn.ensemble import RandomForestClassifier\n",
    "from sklearn.svm import LinearSVC, SVC\n",
    "from sklearn.preprocessing import StandardScaler\n",
    "from sklearn.decomposition import PCA\n",
    "from sklearn.feature_extraction.text import TfidfVectorizer\n",
    "\n",
    "from gensim.models import Word2Vec, KeyedVectors"
   ]
  },
  {
   "cell_type": "markdown",
   "metadata": {},
   "source": [
    "## checking dataset"
   ]
  },
  {
   "cell_type": "code",
   "execution_count": 87,
   "metadata": {},
   "outputs": [
    {
     "data": {
      "text/plain": [
       "['barley', 'corn', 'grain', 'wheat']"
      ]
     },
     "execution_count": 87,
     "metadata": {},
     "output_type": "execute_result"
    }
   ],
   "source": [
    "reuters.categories(\"training/9865\")"
   ]
  },
  {
   "cell_type": "code",
   "execution_count": 88,
   "metadata": {},
   "outputs": [
    {
     "data": {
      "text/plain": [
       "'training/9958'"
      ]
     },
     "execution_count": 88,
     "metadata": {},
     "output_type": "execute_result"
    }
   ],
   "source": [
    "reuters.fileids(\"barley\")[50]"
   ]
  },
  {
   "cell_type": "code",
   "execution_count": 89,
   "metadata": {},
   "outputs": [
    {
     "data": {
      "text/plain": [
       "['FRENCH', 'FREE', 'MARKET', 'CEREAL', 'EXPORT', ...]"
      ]
     },
     "execution_count": 89,
     "metadata": {},
     "output_type": "execute_result"
    }
   ],
   "source": [
    "reuters.words(\"training/9865\")"
   ]
  },
  {
   "cell_type": "markdown",
   "metadata": {},
   "source": [
    "# 1.\tUse appropriate NLTK coding to visualize the number of documents per category in the training set. Is the dataset class balanced? Motivate your answer."
   ]
  },
  {
   "cell_type": "markdown",
   "metadata": {},
   "source": [
    "Go through categories and get number of documents in each. Then put them in dataframe."
   ]
  },
  {
   "cell_type": "markdown",
   "metadata": {},
   "source": [
    "## Create and visualize number of documents per category"
   ]
  },
  {
   "cell_type": "code",
   "execution_count": 90,
   "metadata": {},
   "outputs": [
    {
     "data": {
      "text/html": [
       "<div>\n",
       "<style scoped>\n",
       "    .dataframe tbody tr th:only-of-type {\n",
       "        vertical-align: middle;\n",
       "    }\n",
       "\n",
       "    .dataframe tbody tr th {\n",
       "        vertical-align: top;\n",
       "    }\n",
       "\n",
       "    .dataframe thead th {\n",
       "        text-align: right;\n",
       "    }\n",
       "</style>\n",
       "<table border=\"1\" class=\"dataframe\">\n",
       "  <thead>\n",
       "    <tr style=\"text-align: right;\">\n",
       "      <th></th>\n",
       "      <th>category</th>\n",
       "      <th>Num_docs</th>\n",
       "    </tr>\n",
       "  </thead>\n",
       "  <tbody>\n",
       "    <tr>\n",
       "      <th>0</th>\n",
       "      <td>acq</td>\n",
       "      <td>2369</td>\n",
       "    </tr>\n",
       "    <tr>\n",
       "      <th>1</th>\n",
       "      <td>alum</td>\n",
       "      <td>58</td>\n",
       "    </tr>\n",
       "    <tr>\n",
       "      <th>2</th>\n",
       "      <td>barley</td>\n",
       "      <td>51</td>\n",
       "    </tr>\n",
       "    <tr>\n",
       "      <th>3</th>\n",
       "      <td>bop</td>\n",
       "      <td>105</td>\n",
       "    </tr>\n",
       "    <tr>\n",
       "      <th>4</th>\n",
       "      <td>carcass</td>\n",
       "      <td>68</td>\n",
       "    </tr>\n",
       "    <tr>\n",
       "      <th>...</th>\n",
       "      <td>...</td>\n",
       "      <td>...</td>\n",
       "    </tr>\n",
       "    <tr>\n",
       "      <th>85</th>\n",
       "      <td>veg-oil</td>\n",
       "      <td>124</td>\n",
       "    </tr>\n",
       "    <tr>\n",
       "      <th>86</th>\n",
       "      <td>wheat</td>\n",
       "      <td>283</td>\n",
       "    </tr>\n",
       "    <tr>\n",
       "      <th>87</th>\n",
       "      <td>wpi</td>\n",
       "      <td>29</td>\n",
       "    </tr>\n",
       "    <tr>\n",
       "      <th>88</th>\n",
       "      <td>yen</td>\n",
       "      <td>59</td>\n",
       "    </tr>\n",
       "    <tr>\n",
       "      <th>89</th>\n",
       "      <td>zinc</td>\n",
       "      <td>34</td>\n",
       "    </tr>\n",
       "  </tbody>\n",
       "</table>\n",
       "<p>90 rows × 2 columns</p>\n",
       "</div>"
      ],
      "text/plain": [
       "   category  Num_docs\n",
       "0       acq      2369\n",
       "1      alum        58\n",
       "2    barley        51\n",
       "3       bop       105\n",
       "4   carcass        68\n",
       "..      ...       ...\n",
       "85  veg-oil       124\n",
       "86    wheat       283\n",
       "87      wpi        29\n",
       "88      yen        59\n",
       "89     zinc        34\n",
       "\n",
       "[90 rows x 2 columns]"
      ]
     },
     "execution_count": 90,
     "metadata": {},
     "output_type": "execute_result"
    }
   ],
   "source": [
    "frame = {\"category\":[], \"Num_docs\":[]}          # initialize frame with empty lists\n",
    "for i in reuters.categories():                  # iterate through categories\n",
    "    documents_num = len(reuters.fileids(i))         # get number of documents/category\n",
    "\n",
    "    #print(f\"{i} has {documents} documents\")\n",
    "    frame[\"category\"].append(i)                 # Append category name and\n",
    "    frame[\"Num_docs\"].append(documents_num)         # number of documents on approppriate column\n",
    "\n",
    "data=pd.DataFrame(data=frame)                   # make dataframe fr\n",
    "#data[\"category_id\"] = data[\"category\"].factorize()[0] \n",
    "data # check data\n"
   ]
  },
  {
   "cell_type": "markdown",
   "metadata": {},
   "source": [
    "Plot bar graph with matplotlib and annotate categories that have more than 400 documents (name only these to keep plot readable)"
   ]
  },
  {
   "cell_type": "code",
   "execution_count": 91,
   "metadata": {},
   "outputs": [
    {
     "data": {
      "image/png": "[encoded data removed]",
      "text/plain": [
       "<Figure size 432x288 with 1 Axes>"
      ]
     },
     "metadata": {
      "needs_background": "light"
     },
     "output_type": "display_data"
    }
   ],
   "source": [
    "# make new dataframe from rows which num_docs >= 400 to annotate\n",
    "df = data.query('Num_docs >= 400')\n",
    "\n",
    "# bar plot with matplotlib in Python\n",
    "plt.bar(data.index, data.Num_docs, alpha=1)   \n",
    "\n",
    "# iterate through index\n",
    "for i in df.index:                                      \n",
    "    plt.annotate(data.iloc[i,0], (i,data.iloc[i,1]))    # add categories names to datapoints which are >= 400\n",
    "\n",
    "# set x-axis label and specific size\n",
    "plt.xlabel('category',size=16)                          \n",
    "# set y-axis label and specific size\n",
    "plt.ylabel('Num_docs',size=16)\n",
    "# set plot title with specific size\n",
    "plt.title('Number of documents / category',size=16)\n",
    "# save the plot as PNG file with dpi=150\n",
    "#plt.savefig('docs_per_category.png', dpi=150)\n",
    "plt.show()"
   ]
  },
  {
   "cell_type": "markdown",
   "metadata": {},
   "source": [
    "# 2. Construct the feature set using CountVectorizer of the training dataset so that the maximum size of the feature set is 100 and each word feature should be contained in at least 3 documents and in less than 70% of total documents to be considered. Use standard preprocessing and stopword list, with WordNet lemmatizer."
   ]
  },
  {
   "cell_type": "markdown",
   "metadata": {},
   "source": [
    "## Preprosessor (not used Now)"
   ]
  },
  {
   "cell_type": "code",
   "execution_count": 92,
   "metadata": {},
   "outputs": [],
   "source": [
    "# preprosessor (not used)\n",
    "# remove: punctuation \n",
    "# numbers\n",
    "# stop_words\n",
    "# lowercase\n",
    "# lemmatize\n",
    "\n",
    "def preProcess_words(doc):\n",
    "    wnl = WordNetLemmatizer()\n",
    "    # Lemmatize all words from document and make list of them\n",
    "    words_lemma = [wnl.lemmatize(word.lower(), pos=\"v\") for word in doc]\n",
    "    # iterate through punctuations\n",
    "    for punct in punctuation:\n",
    "        # iterate through tokens in document (copy because removing items from original list)\n",
    "        for token in words_lemma[:]:    \n",
    "            try:\n",
    "                # remove digits/numbers from list\n",
    "                if token.isdigit():\n",
    "                    words_lemma.remove(token)\n",
    "                # remove stopwords from list\n",
    "                if token in stopwords.words(\"english\"):\n",
    "                    words_lemma.remove(token)\n",
    "                # remove punctuation from list\n",
    "                words_lemma.remove(punct)\n",
    "            except ValueError:\n",
    "                continue\n",
    "  \n",
    "    return words_lemma"
   ]
  },
  {
   "cell_type": "code",
   "execution_count": 93,
   "metadata": {},
   "outputs": [],
   "source": [
    "def preProcess_raw(doc):\n",
    "    wnl = WordNetLemmatizer()\n",
    "\n",
    "    doc = doc.lower() # make lower case\n",
    "    stop_words = stopwords.words(\"english\")\n",
    "\n",
    "    # iterate through punctuations\n",
    "    for punct in (punctuation + \"\\n\"):\n",
    "        doc = doc.replace(punct, \"\")    # remove punctuation\n",
    "    \n",
    "    #for stop in stopwords.words(\"english\"):\n",
    "    #    doc = doc.replace(stop, \"\")       # remove stopwords\n",
    "\n",
    "    \"\"\"doc = ' '.join([word for word in doc.split() if word not in stop_words])\n",
    "    \n",
    " \n",
    "    doc = ''.join(char for char in doc if not char.isdigit())\"\"\"\n",
    "\n",
    "    doc = word_tokenize(doc)    # tokenize\n",
    "\n",
    "\n",
    "    for token in doc[:]:\n",
    "        if token.isdigit():     # remove digits\n",
    "            doc.remove(token)\n",
    "        if token in stop_words:\n",
    "            doc.remove(token)\n",
    "    \n",
    "    words_lemma = [wnl.lemmatize(word, pos=\"v\") for word in doc]\n",
    "  \n",
    "    return words_lemma"
   ]
  },
  {
   "cell_type": "code",
   "execution_count": 94,
   "metadata": {},
   "outputs": [
    {
     "data": {
      "text/plain": [
       "['want', 'see']"
      ]
     },
     "execution_count": 94,
     "metadata": {},
     "output_type": "execute_result"
    }
   ],
   "source": [
    "preProcess_raw(\"I wanted to see, her in the 10293 , *\")"
   ]
  },
  {
   "cell_type": "code",
   "execution_count": 95,
   "metadata": {},
   "outputs": [
    {
     "data": {
      "text/plain": [
       "['want', 'see']"
      ]
     },
     "execution_count": 95,
     "metadata": {},
     "output_type": "execute_result"
    }
   ],
   "source": [
    "preProcess_raw(\"I wanted to see, her in the 10293 , *\")"
   ]
  },
  {
   "cell_type": "markdown",
   "metadata": {},
   "source": [
    "## Make function to apply CountVectorizer and fit"
   ]
  },
  {
   "cell_type": "code",
   "execution_count": 96,
   "metadata": {},
   "outputs": [],
   "source": [
    "# Use class to define tokenizer that also applies WordNetLemmatizer to CountVectorizer\n",
    "class LemmaTokenizer(object):\n",
    "    def __init__(self):\n",
    "        self.wnl = WordNetLemmatizer()\n",
    "    def __call__(self, articles):\n",
    "        return [self.wnl.lemmatize(t) for t in word_tokenize(articles)]"
   ]
  },
  {
   "cell_type": "code",
   "execution_count": 97,
   "metadata": {},
   "outputs": [],
   "source": [
    "# define countVectrizer and fit\n",
    "\n",
    "def BOW_model(train_data, test_data, max_features):\n",
    "    \"\"\"Return feature vectors from CounVectorizer\"\"\"\n",
    "    BOW = CountVectorizer(#tokenizer=LemmaTokenizer(), \n",
    "                          #lowercase=True, \n",
    "                          max_features = max_features, \n",
    "                          stop_words = \"english\", \n",
    "                          min_df = 3, max_df = 0.7)\n",
    "    # fit train data\n",
    "    BOW.fit(train_data)\n",
    "    BOW_train = BOW.transform(train_data)\n",
    "    BOW_test = BOW.transform(test_data)\n",
    " \n",
    "    #print(BOW.get_feature_names())\n",
    "    return (BOW_train.toarray(), BOW_test.toarray())"
   ]
  },
  {
   "cell_type": "markdown",
   "metadata": {},
   "source": [
    "## Extract data from reuters Dataset and divide to pre determined Training and Test variables"
   ]
  },
  {
   "cell_type": "code",
   "execution_count": 98,
   "metadata": {},
   "outputs": [],
   "source": [
    "# select fileid\n",
    "doc_list = np.array(reuters.fileids())\n",
    "\n",
    "# create test and train IDs from documents\n",
    "test_doc = doc_list[['test' in x for x in doc_list]]\n",
    "\n",
    "train_doc = doc_list[['training' in x for x in doc_list]]"
   ]
  },
  {
   "cell_type": "markdown",
   "metadata": {},
   "source": [
    "## Get labels ( categories ) for each document and create Dataframes"
   ]
  },
  {
   "cell_type": "code",
   "execution_count": 99,
   "metadata": {},
   "outputs": [],
   "source": [
    "\n",
    "def create_df(data):\n",
    "    \"\"\"Create DataFrames to visualise data a bit and duplicate multi-categorial documents so that they have just one category but appear multiple times.\n",
    "    - data: list of documents (e.g. train and test data)\"\"\"\n",
    "\n",
    "\n",
    "    docs=[]\n",
    "\n",
    "    for ids in tqdm(data, desc=\"processing documents\"):\n",
    "        cats = reuters.categories(ids)      # At each iteration we retrieve categories of an id\n",
    "        #doc = reuters.words(ids)\n",
    "        #doc = preProcess_words(doc)\n",
    "        doc = reuters.raw(ids)\n",
    "        doc = preProcess_raw(doc)\n",
    "        doc_join = \" \".join(doc)\n",
    "        for cat in cats:\n",
    "            docs.append([doc_join, doc, cat, ids]) # These documents are appended as a tuple (document, category, ids) in the list, iterate as many times as there is unique categories\n",
    "    \n",
    "    # docs=[(\" \".join(reuters.words(ids)), cat, ids) for ids in train_doc for cat in reuters.categories(ids)] # list comprehension for loop\n",
    "\n",
    "    df=pd.DataFrame(docs, columns=[\"document\",'words_list', 'category','ids']) # The data frame is created using the generated tuple.\n",
    "\n",
    "    #df # check dataframe\n",
    "    return df\n",
    "\n",
    "# train_df[\"ids\"].duplicated().value_counts() # checks how many duplicates because of categories\n"
   ]
  },
  {
   "cell_type": "code",
   "execution_count": 101,
   "metadata": {},
   "outputs": [
    {
     "data": {
      "application/vnd.jupyter.widget-view+json": {
       "model_id": "ca3a02a6a6d54c1490001cea14bd44a2",
       "version_major": 2,
       "version_minor": 0
      },
      "text/plain": [
       "processing documents:   0%|          | 0/7769 [00:00<?, ?it/s]"
      ]
     },
     "metadata": {},
     "output_type": "display_data"
    },
    {
     "data": {
      "text/html": [
       "<div>\n",
       "<style scoped>\n",
       "    .dataframe tbody tr th:only-of-type {\n",
       "        vertical-align: middle;\n",
       "    }\n",
       "\n",
       "    .dataframe tbody tr th {\n",
       "        vertical-align: top;\n",
       "    }\n",
       "\n",
       "    .dataframe thead th {\n",
       "        text-align: right;\n",
       "    }\n",
       "</style>\n",
       "<table border=\"1\" class=\"dataframe\">\n",
       "  <thead>\n",
       "    <tr style=\"text-align: right;\">\n",
       "      <th></th>\n",
       "      <th>document</th>\n",
       "      <th>words_list</th>\n",
       "      <th>category</th>\n",
       "      <th>ids</th>\n",
       "    </tr>\n",
       "  </thead>\n",
       "  <tbody>\n",
       "    <tr>\n",
       "      <th>0</th>\n",
       "      <td>bahia cocoa review shower continue throughout ...</td>\n",
       "      <td>[bahia, cocoa, review, shower, continue, throu...</td>\n",
       "      <td>cocoa</td>\n",
       "      <td>training/1</td>\n",
       "    </tr>\n",
       "    <tr>\n",
       "      <th>1</th>\n",
       "      <td>computer terminal systems ltcpml complete sale...</td>\n",
       "      <td>[computer, terminal, systems, ltcpml, complete...</td>\n",
       "      <td>acq</td>\n",
       "      <td>training/10</td>\n",
       "    </tr>\n",
       "    <tr>\n",
       "      <th>2</th>\n",
       "      <td>nz trade bank deposit growth rise slightly new...</td>\n",
       "      <td>[nz, trade, bank, deposit, growth, rise, sligh...</td>\n",
       "      <td>money-supply</td>\n",
       "      <td>training/100</td>\n",
       "    </tr>\n",
       "    <tr>\n",
       "      <th>3</th>\n",
       "      <td>national amusements up viacom ltvia bid viacom...</td>\n",
       "      <td>[national, amusements, up, viacom, ltvia, bid,...</td>\n",
       "      <td>acq</td>\n",
       "      <td>training/1000</td>\n",
       "    </tr>\n",
       "    <tr>\n",
       "      <th>4</th>\n",
       "      <td>rogers ltrog see 1st qtr net significantly rog...</td>\n",
       "      <td>[rogers, ltrog, see, 1st, qtr, net, significan...</td>\n",
       "      <td>earn</td>\n",
       "      <td>training/10000</td>\n",
       "    </tr>\n",
       "    <tr>\n",
       "      <th>...</th>\n",
       "      <td>...</td>\n",
       "      <td>...</td>\n",
       "      <td>...</td>\n",
       "      <td>...</td>\n",
       "    </tr>\n",
       "    <tr>\n",
       "      <th>9579</th>\n",
       "      <td>uk money market shortage forecast revise bank ...</td>\n",
       "      <td>[uk, money, market, shortage, forecast, revise...</td>\n",
       "      <td>money-fx</td>\n",
       "      <td>training/999</td>\n",
       "    </tr>\n",
       "    <tr>\n",
       "      <th>9580</th>\n",
       "      <td>knightridder inc ltkrn set quarterly qtly div ...</td>\n",
       "      <td>[knightridder, inc, ltkrn, set, quarterly, qtl...</td>\n",
       "      <td>earn</td>\n",
       "      <td>training/9992</td>\n",
       "    </tr>\n",
       "    <tr>\n",
       "      <th>9581</th>\n",
       "      <td>technitrol inc lttnl set quarterly qtly div ct...</td>\n",
       "      <td>[technitrol, inc, lttnl, set, quarterly, qtly,...</td>\n",
       "      <td>earn</td>\n",
       "      <td>training/9993</td>\n",
       "    </tr>\n",
       "    <tr>\n",
       "      <th>9582</th>\n",
       "      <td>nationwide cellular service inc ltncel 4th qtr...</td>\n",
       "      <td>[nationwide, cellular, service, inc, ltncel, 4...</td>\n",
       "      <td>earn</td>\n",
       "      <td>training/9994</td>\n",
       "    </tr>\n",
       "    <tr>\n",
       "      <th>9583</th>\n",
       "      <td>ltaha automotive technologies corp year net sh...</td>\n",
       "      <td>[ltaha, automotive, technologies, corp, year, ...</td>\n",
       "      <td>earn</td>\n",
       "      <td>training/9995</td>\n",
       "    </tr>\n",
       "  </tbody>\n",
       "</table>\n",
       "<p>9584 rows × 4 columns</p>\n",
       "</div>"
      ],
      "text/plain": [
       "                                               document  \\\n",
       "0     bahia cocoa review shower continue throughout ...   \n",
       "1     computer terminal systems ltcpml complete sale...   \n",
       "2     nz trade bank deposit growth rise slightly new...   \n",
       "3     national amusements up viacom ltvia bid viacom...   \n",
       "4     rogers ltrog see 1st qtr net significantly rog...   \n",
       "...                                                 ...   \n",
       "9579  uk money market shortage forecast revise bank ...   \n",
       "9580  knightridder inc ltkrn set quarterly qtly div ...   \n",
       "9581  technitrol inc lttnl set quarterly qtly div ct...   \n",
       "9582  nationwide cellular service inc ltncel 4th qtr...   \n",
       "9583  ltaha automotive technologies corp year net sh...   \n",
       "\n",
       "                                             words_list      category  \\\n",
       "0     [bahia, cocoa, review, shower, continue, throu...         cocoa   \n",
       "1     [computer, terminal, systems, ltcpml, complete...           acq   \n",
       "2     [nz, trade, bank, deposit, growth, rise, sligh...  money-supply   \n",
       "3     [national, amusements, up, viacom, ltvia, bid,...           acq   \n",
       "4     [rogers, ltrog, see, 1st, qtr, net, significan...          earn   \n",
       "...                                                 ...           ...   \n",
       "9579  [uk, money, market, shortage, forecast, revise...      money-fx   \n",
       "9580  [knightridder, inc, ltkrn, set, quarterly, qtl...          earn   \n",
       "9581  [technitrol, inc, lttnl, set, quarterly, qtly,...          earn   \n",
       "9582  [nationwide, cellular, service, inc, ltncel, 4...          earn   \n",
       "9583  [ltaha, automotive, technologies, corp, year, ...          earn   \n",
       "\n",
       "                 ids  \n",
       "0         training/1  \n",
       "1        training/10  \n",
       "2       training/100  \n",
       "3      training/1000  \n",
       "4     training/10000  \n",
       "...              ...  \n",
       "9579    training/999  \n",
       "9580   training/9992  \n",
       "9581   training/9993  \n",
       "9582   training/9994  \n",
       "9583   training/9995  \n",
       "\n",
       "[9584 rows x 4 columns]"
      ]
     },
     "execution_count": 101,
     "metadata": {},
     "output_type": "execute_result"
    }
   ],
   "source": [
    "train_df = create_df(train_doc)\n",
    "train_df"
   ]
  },
  {
   "cell_type": "code",
   "execution_count": 102,
   "metadata": {},
   "outputs": [
    {
     "data": {
      "application/vnd.jupyter.widget-view+json": {
       "model_id": "39a4c8be85dd4e20b3a18bbeb38d825f",
       "version_major": 2,
       "version_minor": 0
      },
      "text/plain": [
       "processing documents:   0%|          | 0/3019 [00:00<?, ?it/s]"
      ]
     },
     "metadata": {},
     "output_type": "display_data"
    },
    {
     "data": {
      "text/html": [
       "<div>\n",
       "<style scoped>\n",
       "    .dataframe tbody tr th:only-of-type {\n",
       "        vertical-align: middle;\n",
       "    }\n",
       "\n",
       "    .dataframe tbody tr th {\n",
       "        vertical-align: top;\n",
       "    }\n",
       "\n",
       "    .dataframe thead th {\n",
       "        text-align: right;\n",
       "    }\n",
       "</style>\n",
       "<table border=\"1\" class=\"dataframe\">\n",
       "  <thead>\n",
       "    <tr style=\"text-align: right;\">\n",
       "      <th></th>\n",
       "      <th>document</th>\n",
       "      <th>words_list</th>\n",
       "      <th>category</th>\n",
       "      <th>ids</th>\n",
       "    </tr>\n",
       "  </thead>\n",
       "  <tbody>\n",
       "    <tr>\n",
       "      <th>0</th>\n",
       "      <td>asian exporters fear damage usjapan rift mount...</td>\n",
       "      <td>[asian, exporters, fear, damage, usjapan, rift...</td>\n",
       "      <td>trade</td>\n",
       "      <td>test/14826</td>\n",
       "    </tr>\n",
       "    <tr>\n",
       "      <th>1</th>\n",
       "      <td>china daily say vermin eat pct grain stock sur...</td>\n",
       "      <td>[china, daily, say, vermin, eat, pct, grain, s...</td>\n",
       "      <td>grain</td>\n",
       "      <td>test/14828</td>\n",
       "    </tr>\n",
       "    <tr>\n",
       "      <th>2</th>\n",
       "      <td>japan revise longterm energy demand downwards ...</td>\n",
       "      <td>[japan, revise, longterm, energy, demand, down...</td>\n",
       "      <td>crude</td>\n",
       "      <td>test/14829</td>\n",
       "    </tr>\n",
       "    <tr>\n",
       "      <th>3</th>\n",
       "      <td>japan revise longterm energy demand downwards ...</td>\n",
       "      <td>[japan, revise, longterm, energy, demand, down...</td>\n",
       "      <td>nat-gas</td>\n",
       "      <td>test/14829</td>\n",
       "    </tr>\n",
       "    <tr>\n",
       "      <th>4</th>\n",
       "      <td>thai trade deficit widen first quarter thailan...</td>\n",
       "      <td>[thai, trade, deficit, widen, first, quarter, ...</td>\n",
       "      <td>corn</td>\n",
       "      <td>test/14832</td>\n",
       "    </tr>\n",
       "    <tr>\n",
       "      <th>...</th>\n",
       "      <td>...</td>\n",
       "      <td>...</td>\n",
       "      <td>...</td>\n",
       "      <td>...</td>\n",
       "    </tr>\n",
       "    <tr>\n",
       "      <th>3739</th>\n",
       "      <td>tokyo dealers see dollar poise breach yen toky...</td>\n",
       "      <td>[tokyo, dealers, see, dollar, poise, breach, y...</td>\n",
       "      <td>money-fx</td>\n",
       "      <td>test/21573</td>\n",
       "    </tr>\n",
       "    <tr>\n",
       "      <th>3740</th>\n",
       "      <td>tokyo dealers see dollar poise breach yen toky...</td>\n",
       "      <td>[tokyo, dealers, see, dollar, poise, breach, y...</td>\n",
       "      <td>yen</td>\n",
       "      <td>test/21573</td>\n",
       "    </tr>\n",
       "    <tr>\n",
       "      <th>3741</th>\n",
       "      <td>japanindia conference cut gulf war risk charge...</td>\n",
       "      <td>[japanindia, conference, cut, gulf, war, risk,...</td>\n",
       "      <td>ship</td>\n",
       "      <td>test/21574</td>\n",
       "    </tr>\n",
       "    <tr>\n",
       "      <th>3742</th>\n",
       "      <td>soviet industrial growthtrade slower soviet un...</td>\n",
       "      <td>[soviet, industrial, growthtrade, slower, sovi...</td>\n",
       "      <td>ipi</td>\n",
       "      <td>test/21575</td>\n",
       "    </tr>\n",
       "    <tr>\n",
       "      <th>3743</th>\n",
       "      <td>six kill south african gold mine accident six ...</td>\n",
       "      <td>[six, kill, south, african, gold, mine, accide...</td>\n",
       "      <td>gold</td>\n",
       "      <td>test/21576</td>\n",
       "    </tr>\n",
       "  </tbody>\n",
       "</table>\n",
       "<p>3744 rows × 4 columns</p>\n",
       "</div>"
      ],
      "text/plain": [
       "                                               document  \\\n",
       "0     asian exporters fear damage usjapan rift mount...   \n",
       "1     china daily say vermin eat pct grain stock sur...   \n",
       "2     japan revise longterm energy demand downwards ...   \n",
       "3     japan revise longterm energy demand downwards ...   \n",
       "4     thai trade deficit widen first quarter thailan...   \n",
       "...                                                 ...   \n",
       "3739  tokyo dealers see dollar poise breach yen toky...   \n",
       "3740  tokyo dealers see dollar poise breach yen toky...   \n",
       "3741  japanindia conference cut gulf war risk charge...   \n",
       "3742  soviet industrial growthtrade slower soviet un...   \n",
       "3743  six kill south african gold mine accident six ...   \n",
       "\n",
       "                                             words_list  category         ids  \n",
       "0     [asian, exporters, fear, damage, usjapan, rift...     trade  test/14826  \n",
       "1     [china, daily, say, vermin, eat, pct, grain, s...     grain  test/14828  \n",
       "2     [japan, revise, longterm, energy, demand, down...     crude  test/14829  \n",
       "3     [japan, revise, longterm, energy, demand, down...   nat-gas  test/14829  \n",
       "4     [thai, trade, deficit, widen, first, quarter, ...      corn  test/14832  \n",
       "...                                                 ...       ...         ...  \n",
       "3739  [tokyo, dealers, see, dollar, poise, breach, y...  money-fx  test/21573  \n",
       "3740  [tokyo, dealers, see, dollar, poise, breach, y...       yen  test/21573  \n",
       "3741  [japanindia, conference, cut, gulf, war, risk,...      ship  test/21574  \n",
       "3742  [soviet, industrial, growthtrade, slower, sovi...       ipi  test/21575  \n",
       "3743  [six, kill, south, african, gold, mine, accide...      gold  test/21576  \n",
       "\n",
       "[3744 rows x 4 columns]"
      ]
     },
     "execution_count": 102,
     "metadata": {},
     "output_type": "execute_result"
    }
   ],
   "source": [
    "test_df = create_df(test_doc)\n",
    "test_df"
   ]
  },
  {
   "cell_type": "code",
   "execution_count": 103,
   "metadata": {},
   "outputs": [],
   "source": [
    "# Save data as csv\n",
    "\n",
    "with open('./train_data.csv', 'a' ,encoding='utf-8') as csvFile:\n",
    "        train_df.to_csv(csvFile, mode='a', index=False, encoding=\"utf-8\", sep=',')\n",
    "\n",
    "with open('./test_data.csv', 'a' ,encoding='utf-8') as csvFile:\n",
    "        test_df.to_csv(csvFile, mode='a', index=False, encoding=\"utf-8\", sep=',')"
   ]
  },
  {
   "cell_type": "markdown",
   "metadata": {},
   "source": [
    "## Get Feature vectors from documents"
   ]
  },
  {
   "cell_type": "code",
   "execution_count": 104,
   "metadata": {
    "scrolled": true
   },
   "outputs": [],
   "source": [
    "features_train, features_test = BOW_model(train_df[\"document\"], test_df[\"document\"], 100)"
   ]
  },
  {
   "cell_type": "code",
   "execution_count": 105,
   "metadata": {},
   "outputs": [
    {
     "name": "stdout",
     "output_type": "stream",
     "text": [
      "[[0 0 0 ... 2 0 0]\n",
      " [0 0 0 ... 0 1 0]\n",
      " [0 0 0 ... 2 0 0]\n",
      " ...\n",
      " [0 0 2 ... 0 0 0]\n",
      " [0 0 0 ... 1 0 0]\n",
      " [0 0 0 ... 1 0 0]]\n"
     ]
    }
   ],
   "source": [
    "print(features_train)"
   ]
  },
  {
   "cell_type": "markdown",
   "metadata": {},
   "source": [
    "# 3. Use NaivesBayes classifier to generate the model and test it on the testing dataset. Output the accuracy and F1 measure of this classifier. Compare the result with Random Forest and linear SVM classifiers.\n"
   ]
  },
  {
   "cell_type": "markdown",
   "metadata": {},
   "source": [
    "## NaiveBayes Classifier"
   ]
  },
  {
   "cell_type": "code",
   "execution_count": 106,
   "metadata": {},
   "outputs": [],
   "source": [
    "# Create a Gaussian NaiveBayes Classifier\n",
    "gnb = GaussianNB()\n",
    "\n",
    "# Create a Multinomial NaiveBayes Classifier\n",
    "mnb = MultinomialNB()\n",
    "\n",
    "# Create a Complement NaiveBayes Classifier\n",
    "cnb = ComplementNB()\n"
   ]
  },
  {
   "cell_type": "code",
   "execution_count": 107,
   "metadata": {},
   "outputs": [],
   "source": [
    "# Fit/train the NaiveBayes model\n",
    "classifier = gnb.fit(features_train, train_df[\"category\"])\n",
    "#classifier = nltk.NaiveBayesClassifier.train(train_df[\"category\"], features_train)\n",
    "#?nltk.NaiveBayesClassifier"
   ]
  },
  {
   "cell_type": "code",
   "execution_count": 108,
   "metadata": {},
   "outputs": [],
   "source": [
    "# Make predictions\n",
    "expected = test_df[\"category\"]\n",
    "predicted = classifier.predict(features_test)"
   ]
  },
  {
   "cell_type": "code",
   "execution_count": 109,
   "metadata": {},
   "outputs": [
    {
     "name": "stdout",
     "output_type": "stream",
     "text": [
      "accuracy =  0.30448717948717946\n",
      "f1 score =  0.33880901542438574\n"
     ]
    }
   ],
   "source": [
    "# Output the accuracy and F1 measure of this classifier\n",
    "print(\"accuracy = \", metrics.accuracy_score(expected, predicted))\n",
    "accuracy_nb = metrics.accuracy_score(expected, predicted)\n",
    "print(\"f1 score = \", metrics.f1_score(expected, predicted, average = \"weighted\"))\n",
    "f1_nb = metrics.f1_score(expected, predicted, average = \"weighted\")"
   ]
  },
  {
   "cell_type": "code",
   "execution_count": 110,
   "metadata": {},
   "outputs": [
    {
     "name": "stdout",
     "output_type": "stream",
     "text": [
      "                 precision    recall  f1-score   support\n",
      "\n",
      "            acq       0.91      0.10      0.17       719\n",
      "           alum       0.08      0.04      0.06        23\n",
      "         barley       0.02      0.07      0.03        14\n",
      "            bop       0.60      0.10      0.17        30\n",
      "        carcass       0.07      0.11      0.09        18\n",
      "     castor-oil       0.00      0.00      0.00         1\n",
      "          cocoa       0.45      0.28      0.34        18\n",
      "        coconut       0.00      0.00      0.00         2\n",
      "    coconut-oil       0.00      0.00      0.00         3\n",
      "         coffee       0.14      0.04      0.06        28\n",
      "         copper       0.00      0.00      0.00        18\n",
      "     copra-cake       0.00      0.00      0.00         1\n",
      "           corn       0.25      0.02      0.03        56\n",
      "         cotton       0.00      0.00      0.00        20\n",
      "     cotton-oil       0.00      0.00      0.00         2\n",
      "            cpi       0.33      0.04      0.06        28\n",
      "            cpu       0.02      1.00      0.04         1\n",
      "          crude       0.22      0.05      0.09       189\n",
      "            dfl       0.00      0.00      0.00         1\n",
      "            dlr       0.20      0.07      0.10        44\n",
      "            dmk       0.00      0.00      0.00         4\n",
      "           earn       1.00      0.87      0.93      1087\n",
      "           fuel       0.02      0.20      0.04        10\n",
      "            gas       0.02      0.06      0.03        17\n",
      "            gnp       0.19      0.26      0.22        35\n",
      "           gold       0.00      0.00      0.00        30\n",
      "          grain       0.33      0.01      0.01       149\n",
      "      groundnut       0.00      0.00      0.00         4\n",
      "  groundnut-oil       0.00      0.00      0.00         1\n",
      "           heat       0.02      0.20      0.04         5\n",
      "            hog       0.00      0.00      0.00         6\n",
      "        housing       0.00      0.00      0.00         4\n",
      "         income       0.05      0.29      0.09         7\n",
      "    instal-debt       0.00      0.00      0.00         1\n",
      "       interest       0.33      0.08      0.13       131\n",
      "            ipi       0.00      0.00      0.00        12\n",
      "     iron-steel       0.00      0.00      0.00        14\n",
      "            jet       0.00      0.00      0.00         1\n",
      "           jobs       0.09      0.19      0.12        21\n",
      "       l-cattle       0.00      0.00      0.00         2\n",
      "           lead       0.00      0.00      0.00        14\n",
      "            lei       0.05      0.33      0.08         3\n",
      "        lin-oil       0.00      0.00      0.00         1\n",
      "      livestock       0.00      0.00      0.00        24\n",
      "         lumber       0.00      0.00      0.00         6\n",
      "      meal-feed       0.00      0.00      0.00        19\n",
      "       money-fx       0.38      0.05      0.09       179\n",
      "   money-supply       0.25      0.26      0.26        34\n",
      "        naphtha       0.02      0.25      0.03         4\n",
      "        nat-gas       0.03      0.03      0.03        30\n",
      "         nickel       0.00      0.00      0.00         1\n",
      "            nkr       0.00      0.00      0.00         2\n",
      "          nzdlr       0.00      0.00      0.00         2\n",
      "            oat       0.07      0.33      0.12         6\n",
      "        oilseed       0.00      0.00      0.00        47\n",
      "         orange       0.04      0.09      0.06        11\n",
      "      palladium       0.00      0.00      0.00         1\n",
      "       palm-oil       0.00      0.00      0.00        10\n",
      "     palmkernel       0.00      0.00      0.00         1\n",
      "       pet-chem       0.03      0.17      0.05        12\n",
      "       platinum       0.00      0.00      0.00         7\n",
      "         potato       0.00      0.00      0.00         3\n",
      "        propane       0.00      0.00      0.00         3\n",
      "           rand       0.00      0.00      0.00         1\n",
      "       rape-oil       0.00      0.00      0.00         3\n",
      "       rapeseed       0.00      0.00      0.00         9\n",
      "       reserves       0.15      0.22      0.18        18\n",
      "         retail       0.00      0.00      0.00         2\n",
      "           rice       0.00      0.00      0.00        24\n",
      "         rubber       0.02      0.08      0.04        12\n",
      "            rye       0.00      0.00      0.00         1\n",
      "           ship       0.00      0.00      0.00        89\n",
      "         silver       0.00      0.00      0.00         8\n",
      "        sorghum       0.02      0.10      0.03        10\n",
      "       soy-meal       0.00      0.00      0.00        13\n",
      "        soy-oil       0.01      0.09      0.02        11\n",
      "        soybean       0.05      0.06      0.06        33\n",
      "strategic-metal       0.00      0.00      0.00        11\n",
      "          sugar       0.33      0.03      0.05        36\n",
      "       sun-meal       0.00      0.00      0.00         1\n",
      "        sun-oil       0.02      0.50      0.04         2\n",
      "        sunseed       0.03      0.20      0.05         5\n",
      "            tea       0.02      0.25      0.04         4\n",
      "            tin       0.00      0.00      0.00        12\n",
      "          trade       0.29      0.05      0.09       117\n",
      "        veg-oil       0.24      0.16      0.19        37\n",
      "          wheat       0.20      0.04      0.07        71\n",
      "            wpi       0.02      0.10      0.04        10\n",
      "            yen       0.08      0.71      0.14        14\n",
      "           zinc       0.02      0.08      0.03        13\n",
      "\n",
      "       accuracy                           0.30      3744\n",
      "      macro avg       0.09      0.09      0.05      3744\n",
      "   weighted avg       0.56      0.30      0.34      3744\n",
      "\n",
      "[[69  7  2 ...  0  2 42]\n",
      " [ 0  1  0 ...  0  0  1]\n",
      " [ 0  0  1 ...  0  0  0]\n",
      " ...\n",
      " [ 0  0  0 ...  1  0  0]\n",
      " [ 0  0  0 ...  0 10  0]\n",
      " [ 0  0  0 ...  0  0  1]]\n"
     ]
    },
    {
     "name": "stderr",
     "output_type": "stream",
     "text": [
      "C:\\Users\\Joonas\\AppData\\Local\\Programs\\Python\\Python39\\lib\\site-packages\\sklearn\\metrics\\_classification.py:1248: UndefinedMetricWarning: Precision and F-score are ill-defined and being set to 0.0 in labels with no predicted samples. Use `zero_division` parameter to control this behavior.\n",
      "  _warn_prf(average, modifier, msg_start, len(result))\n",
      "C:\\Users\\Joonas\\AppData\\Local\\Programs\\Python\\Python39\\lib\\site-packages\\sklearn\\metrics\\_classification.py:1248: UndefinedMetricWarning: Precision and F-score are ill-defined and being set to 0.0 in labels with no predicted samples. Use `zero_division` parameter to control this behavior.\n",
      "  _warn_prf(average, modifier, msg_start, len(result))\n",
      "C:\\Users\\Joonas\\AppData\\Local\\Programs\\Python\\Python39\\lib\\site-packages\\sklearn\\metrics\\_classification.py:1248: UndefinedMetricWarning: Precision and F-score are ill-defined and being set to 0.0 in labels with no predicted samples. Use `zero_division` parameter to control this behavior.\n",
      "  _warn_prf(average, modifier, msg_start, len(result))\n"
     ]
    }
   ],
   "source": [
    "# summarize the fit of the model\n",
    "print(metrics.classification_report(expected, predicted))\n",
    "print(metrics.confusion_matrix(expected, predicted))"
   ]
  },
  {
   "cell_type": "markdown",
   "metadata": {},
   "source": [
    "## RandomForestClassifier"
   ]
  },
  {
   "cell_type": "code",
   "execution_count": 111,
   "metadata": {},
   "outputs": [],
   "source": [
    "# Create RandomForestClassifier\n",
    "rfc = RandomForestClassifier() # n_estimators=100, random_state=0\n",
    "\n",
    "# Train RFC model\n",
    "RFC_classifier = rfc.fit(features_train, train_df[\"category\"])"
   ]
  },
  {
   "cell_type": "code",
   "execution_count": 112,
   "metadata": {},
   "outputs": [],
   "source": [
    "predicted = RFC_classifier.predict(features_test)\n",
    "expected = test_df[\"category\"]\n",
    "#print(metrics.classification_report(expected, predicted))\n",
    "#print(metrics.confusion_matrix(expected, predicted))"
   ]
  },
  {
   "cell_type": "code",
   "execution_count": 113,
   "metadata": {
    "scrolled": true
   },
   "outputs": [
    {
     "name": "stdout",
     "output_type": "stream",
     "text": [
      "accuracy =  0.6525106837606838\n",
      "f1 score =  0.6026134823666901\n"
     ]
    }
   ],
   "source": [
    "# Output the accuracy and F1 measure of this classifier\n",
    "print(\"accuracy = \", metrics.accuracy_score(expected, predicted))\n",
    "accuracy_rf = metrics.accuracy_score(expected, predicted)\n",
    "print(\"f1 score = \", metrics.f1_score(expected, predicted, average = \"weighted\"))\n",
    "f1_rf = metrics.f1_score(expected, predicted, average = \"weighted\")\n"
   ]
  },
  {
   "cell_type": "markdown",
   "metadata": {},
   "source": [
    "##  Linear SVM classifier"
   ]
  },
  {
   "cell_type": "code",
   "execution_count": 114,
   "metadata": {},
   "outputs": [
    {
     "name": "stderr",
     "output_type": "stream",
     "text": [
      "C:\\Users\\Joonas\\AppData\\Local\\Programs\\Python\\Python39\\lib\\site-packages\\sklearn\\svm\\_base.py:985: ConvergenceWarning: Liblinear failed to converge, increase the number of iterations.\n",
      "  warnings.warn(\"Liblinear failed to converge, increase \"\n"
     ]
    }
   ],
   "source": [
    "# Create SVM Classifier\n",
    "#svm = SVC(kernel=\"linear\")\n",
    "svm = LinearSVC()\n",
    "\n",
    "# Train SVM model\n",
    "SVM_classifier = svm.fit(features_train, train_df[\"category\"])"
   ]
  },
  {
   "cell_type": "code",
   "execution_count": 115,
   "metadata": {},
   "outputs": [
    {
     "name": "stdout",
     "output_type": "stream",
     "text": [
      "accuracy =  0.6276709401709402\n",
      "f1 score =  0.5851809821071091\n"
     ]
    }
   ],
   "source": [
    "predicted = SVM_classifier.predict(features_test)\n",
    "expected = test_df[\"category\"]\n",
    "\n",
    "# Output the accuracy and F1 measure of this classifier\n",
    "print(\"accuracy = \", metrics.accuracy_score(expected, predicted))\n",
    "accuracy_svm = metrics.accuracy_score(expected, predicted)\n",
    "print(\"f1 score = \", metrics.f1_score(expected, predicted, average = \"weighted\"))\n",
    "f1_svm = metrics.f1_score(expected, predicted, average = \"weighted\")"
   ]
  },
  {
   "cell_type": "code",
   "execution_count": 116,
   "metadata": {},
   "outputs": [
    {
     "name": "stdout",
     "output_type": "stream",
     "text": [
      "                 precision    recall  f1-score   support\n",
      "\n",
      "            acq       0.70      0.94      0.80       719\n",
      "           alum       0.09      0.04      0.06        23\n",
      "         barley       0.23      0.21      0.22        14\n",
      "            bop       0.62      0.27      0.37        30\n",
      "        carcass       0.00      0.00      0.00        18\n",
      "     castor-oil       0.00      0.00      0.00         1\n",
      "          cocoa       0.33      0.39      0.36        18\n",
      "        coconut       0.00      0.00      0.00         2\n",
      "    coconut-oil       0.00      0.00      0.00         3\n",
      "         coffee       0.28      0.25      0.26        28\n",
      "         copper       0.14      0.06      0.08        18\n",
      "     copra-cake       0.00      0.00      0.00         1\n",
      "           corn       0.31      0.25      0.28        56\n",
      "         cotton       0.06      0.05      0.06        20\n",
      "     cotton-oil       0.00      0.00      0.00         2\n",
      "            cpi       0.25      0.18      0.21        28\n",
      "            cpu       0.00      0.00      0.00         1\n",
      "          crude       0.58      0.72      0.65       189\n",
      "            dfl       0.00      0.00      0.00         1\n",
      "            dlr       0.29      0.11      0.16        44\n",
      "            dmk       0.00      0.00      0.00         4\n",
      "           earn       0.91      0.98      0.94      1087\n",
      "           fuel       0.33      0.10      0.15        10\n",
      "            gas       0.20      0.06      0.09        17\n",
      "            gnp       0.44      0.46      0.45        35\n",
      "           gold       0.06      0.03      0.04        30\n",
      "          grain       0.31      0.29      0.30       149\n",
      "      groundnut       0.00      0.00      0.00         4\n",
      "  groundnut-oil       0.00      0.00      0.00         1\n",
      "           heat       0.12      0.20      0.15         5\n",
      "            hog       0.33      0.33      0.33         6\n",
      "        housing       0.17      0.25      0.20         4\n",
      "         income       1.00      0.14      0.25         7\n",
      "    instal-debt       0.00      0.00      0.00         1\n",
      "       interest       0.48      0.60      0.53       131\n",
      "            ipi       0.50      0.58      0.54        12\n",
      "     iron-steel       0.00      0.00      0.00        14\n",
      "            jet       0.00      0.00      0.00         1\n",
      "           jobs       0.50      0.24      0.32        21\n",
      "       l-cattle       0.00      0.00      0.00         2\n",
      "           lead       0.00      0.00      0.00        14\n",
      "            lei       0.67      0.67      0.67         3\n",
      "        lin-oil       0.00      0.00      0.00         1\n",
      "      livestock       0.00      0.00      0.00        24\n",
      "         lumber       0.00      0.00      0.00         6\n",
      "      meal-feed       0.08      0.05      0.06        19\n",
      "       money-fx       0.45      0.41      0.43       179\n",
      "   money-supply       0.56      0.65      0.60        34\n",
      "        naphtha       0.00      0.00      0.00         4\n",
      "        nat-gas       0.00      0.00      0.00        30\n",
      "         nickel       0.00      0.00      0.00         1\n",
      "            nkr       0.00      0.00      0.00         2\n",
      "          nzdlr       0.00      0.00      0.00         2\n",
      "            oat       0.00      0.00      0.00         6\n",
      "        oilseed       0.00      0.00      0.00        47\n",
      "         orange       0.25      0.18      0.21        11\n",
      "      palladium       0.00      0.00      0.00         1\n",
      "       palm-oil       0.00      0.00      0.00        10\n",
      "     palmkernel       0.00      0.00      0.00         1\n",
      "       pet-chem       0.00      0.00      0.00        12\n",
      "       platinum       0.00      0.00      0.00         7\n",
      "         potato       0.33      0.33      0.33         3\n",
      "        propane       0.00      0.00      0.00         3\n",
      "           rand       0.00      0.00      0.00         1\n",
      "       rape-oil       0.00      0.00      0.00         3\n",
      "       rapeseed       0.31      0.44      0.36         9\n",
      "       reserves       0.50      0.72      0.59        18\n",
      "         retail       0.25      0.50      0.33         2\n",
      "           rice       0.00      0.00      0.00        24\n",
      "         rubber       0.25      0.08      0.12        12\n",
      "            rye       0.00      0.00      0.00         1\n",
      "           ship       0.23      0.09      0.13        89\n",
      "         silver       0.00      0.00      0.00         8\n",
      "        sorghum       0.15      0.20      0.17        10\n",
      "       soy-meal       0.00      0.00      0.00        13\n",
      "        soy-oil       0.00      0.00      0.00        11\n",
      "        soybean       0.00      0.00      0.00        33\n",
      "strategic-metal       0.00      0.00      0.00        11\n",
      "          sugar       0.10      0.14      0.11        36\n",
      "       sun-meal       0.08      1.00      0.15         1\n",
      "        sun-oil       0.00      0.00      0.00         2\n",
      "        sunseed       0.00      0.00      0.00         5\n",
      "            tea       0.00      0.00      0.00         4\n",
      "            tin       0.14      0.08      0.11        12\n",
      "          trade       0.51      0.70      0.59       117\n",
      "        veg-oil       0.37      0.19      0.25        37\n",
      "          wheat       0.33      0.42      0.37        71\n",
      "            wpi       0.21      0.60      0.32        10\n",
      "            yen       0.50      0.36      0.42        14\n",
      "           zinc       0.00      0.00      0.00        13\n",
      "\n",
      "       accuracy                           0.63      3744\n",
      "      macro avg       0.17      0.17      0.16      3744\n",
      "   weighted avg       0.56      0.63      0.59      3744\n",
      "\n",
      "[[674   0   0 ...   0   0   0]\n",
      " [  5   1   0 ...   0   0   1]\n",
      " [  2   0   3 ...   0   0   0]\n",
      " ...\n",
      " [  0   0   0 ...   6   0   0]\n",
      " [  0   0   0 ...   0   5   0]\n",
      " [  6   0   0 ...   0   0   0]]\n"
     ]
    },
    {
     "name": "stderr",
     "output_type": "stream",
     "text": [
      "C:\\Users\\Joonas\\AppData\\Local\\Programs\\Python\\Python39\\lib\\site-packages\\sklearn\\metrics\\_classification.py:1248: UndefinedMetricWarning: Precision and F-score are ill-defined and being set to 0.0 in labels with no predicted samples. Use `zero_division` parameter to control this behavior.\n",
      "  _warn_prf(average, modifier, msg_start, len(result))\n",
      "C:\\Users\\Joonas\\AppData\\Local\\Programs\\Python\\Python39\\lib\\site-packages\\sklearn\\metrics\\_classification.py:1248: UndefinedMetricWarning: Precision and F-score are ill-defined and being set to 0.0 in labels with no predicted samples. Use `zero_division` parameter to control this behavior.\n",
      "  _warn_prf(average, modifier, msg_start, len(result))\n",
      "C:\\Users\\Joonas\\AppData\\Local\\Programs\\Python\\Python39\\lib\\site-packages\\sklearn\\metrics\\_classification.py:1248: UndefinedMetricWarning: Precision and F-score are ill-defined and being set to 0.0 in labels with no predicted samples. Use `zero_division` parameter to control this behavior.\n",
      "  _warn_prf(average, modifier, msg_start, len(result))\n"
     ]
    }
   ],
   "source": [
    "# summarize the fit of the model\n",
    "print(metrics.classification_report(expected, predicted))\n",
    "print(metrics.confusion_matrix(expected, predicted))"
   ]
  },
  {
   "cell_type": "markdown",
   "metadata": {},
   "source": [
    "## List results"
   ]
  },
  {
   "cell_type": "code",
   "execution_count": 117,
   "metadata": {},
   "outputs": [
    {
     "data": {
      "text/html": [
       "<div>\n",
       "<style scoped>\n",
       "    .dataframe tbody tr th:only-of-type {\n",
       "        vertical-align: middle;\n",
       "    }\n",
       "\n",
       "    .dataframe tbody tr th {\n",
       "        vertical-align: top;\n",
       "    }\n",
       "\n",
       "    .dataframe thead th {\n",
       "        text-align: right;\n",
       "    }\n",
       "</style>\n",
       "<table border=\"1\" class=\"dataframe\">\n",
       "  <thead>\n",
       "    <tr style=\"text-align: right;\">\n",
       "      <th></th>\n",
       "      <th>acc</th>\n",
       "      <th>f1</th>\n",
       "    </tr>\n",
       "  </thead>\n",
       "  <tbody>\n",
       "    <tr>\n",
       "      <th>nb</th>\n",
       "      <td>0.304487</td>\n",
       "      <td>0.338809</td>\n",
       "    </tr>\n",
       "    <tr>\n",
       "      <th>rf</th>\n",
       "      <td>0.652511</td>\n",
       "      <td>0.602613</td>\n",
       "    </tr>\n",
       "    <tr>\n",
       "      <th>svm</th>\n",
       "      <td>0.627671</td>\n",
       "      <td>0.585181</td>\n",
       "    </tr>\n",
       "  </tbody>\n",
       "</table>\n",
       "</div>"
      ],
      "text/plain": [
       "          acc        f1\n",
       "nb   0.304487  0.338809\n",
       "rf   0.652511  0.602613\n",
       "svm  0.627671  0.585181"
      ]
     },
     "execution_count": 117,
     "metadata": {},
     "output_type": "execute_result"
    }
   ],
   "source": [
    "results_100 = [(accuracy_nb, f1_nb), (accuracy_rf, f1_rf), (accuracy_svm, f1_svm)]\n",
    "results_100_df = pd.DataFrame(results_100, columns=['acc', 'f1'], index=[\"nb\",\"rf\", \"svm\"])\n",
    "results_100_df"
   ]
  },
  {
   "cell_type": "markdown",
   "metadata": {},
   "source": [
    "# 4. Show the results of this classifier when the total number of features varies as 1000, 1500, 2000, 2500, 3000, 3500, 4500, 5000."
   ]
  },
  {
   "cell_type": "markdown",
   "metadata": {},
   "source": [
    "## Create function to apply classifier"
   ]
  },
  {
   "cell_type": "code",
   "execution_count": 238,
   "metadata": {},
   "outputs": [],
   "source": [
    "# funtion to apply NaiveBayes classifier, print and return accuracy and f1-value\n",
    "\n",
    "def nb_classifier(features_train,features_test):\n",
    "    \"\"\" funtion to apply NaiveBayes classifier, print and return accuracy and f1-value \"\"\"\n",
    "\n",
    "    # Fit/train the gaussian NaiveBayes model\n",
    "    classifier = gnb.fit(features_train, train_df[\"category\"])\n",
    "\n",
    "    # Make predictions\n",
    "    expected = test_df[\"category\"]\n",
    "    predicted = classifier.predict(features_test)\n",
    "\n",
    "    # summarize the fit of the model\n",
    "    #print(metrics.classification_report(expected, predicted))\n",
    "    cm = metrics.confusion_matrix(expected, predicted)\n",
    "    print(cm)\n",
    "    print(cm.shape)\n",
    "\n",
    "    ##Output the accuracy and F1 measure of this classifier\n",
    "    accuracy_nb = metrics.accuracy_score(expected, predicted)\n",
    "    print(\"accuracy: \", accuracy_nb)\n",
    "    f1_nb = metrics.f1_score(expected, predicted, average = \"weighted\")\n",
    "    print(\"f1 score: \", f1_nb)\n",
    "    return (accuracy_nb, f1_nb)\n",
    "\n"
   ]
  },
  {
   "cell_type": "code",
   "execution_count": 119,
   "metadata": {},
   "outputs": [],
   "source": [
    "def rf_classifier(features_train,features_test):\n",
    "\n",
    "    # Create RandomForestClassifier\n",
    "    rfc = RandomForestClassifier()\n",
    "\n",
    "    # Train RFC model\n",
    "    classifier = rfc.fit(features_train, train_df[\"category\"])\n",
    "\n",
    "    # make predictions\n",
    "    predicted = classifier.predict(features_test)\n",
    "    expected = test_df[\"category\"]\n",
    "\n",
    "    # summarize the fit of the model\n",
    "    #print(metrics.classification_report(expected, predicted))\n",
    "    #print(metrics.confusion_matrix(expected, predicted))\n",
    "\n",
    "    # Output the accuracy and F1 measure of this classifier\n",
    "    print(\"accuracy = \", metrics.accuracy_score(expected, predicted))\n",
    "    accuracy_rf = metrics.accuracy_score(expected, predicted)\n",
    "    print(\"f1 score = \", metrics.f1_score(expected, predicted, average = \"weighted\"))\n",
    "    f1_rf = metrics.f1_score(expected, predicted, average = \"weighted\")\n",
    "\n",
    "    return (accuracy_rf, f1_rf)"
   ]
  },
  {
   "cell_type": "code",
   "execution_count": 120,
   "metadata": {},
   "outputs": [],
   "source": [
    "def svm_classifier(features_train,features_test):\n",
    "\n",
    "    # Get feature vectors\n",
    "    #BOW_train = BOW_model(train_df[\"document\"], features)\n",
    "    #BOW_test = BOW_model(test_df[\"document\"], features)\n",
    "\n",
    "    # Create SVM Classifier\n",
    "    #svm = SVC(kernel=\"linear\")\n",
    "    svm = LinearSVC()\n",
    "\n",
    "    # Train SVM model\n",
    "    classifier = svm.fit(features_train, train_df[\"category\"])\n",
    "    predicted = classifier.predict(features_test)\n",
    "    expected = test_df[\"category\"]\n",
    "\n",
    "    # summarize the fit of the model\n",
    "    #print(metrics.classification_report(expected, predicted))\n",
    "    #print(metrics.confusion_matrix(expected, predicted))\n",
    "\n",
    "    # Output the accuracy and F1 measure of this classifier\n",
    "    print(\"accuracy = \", metrics.accuracy_score(expected, predicted))\n",
    "    accuracy_svm = metrics.accuracy_score(expected, predicted)\n",
    "    print(\"f1 score = \", metrics.f1_score(expected, predicted, average = \"weighted\"))\n",
    "    f1_svm = metrics.f1_score(expected, predicted, average = \"weighted\")\n",
    "\n",
    "    return (accuracy_svm, f1_svm)\n"
   ]
  },
  {
   "cell_type": "markdown",
   "metadata": {},
   "source": [
    "## Apply function"
   ]
  },
  {
   "cell_type": "markdown",
   "metadata": {},
   "source": [
    "### BOW models"
   ]
  },
  {
   "cell_type": "code",
   "execution_count": 121,
   "metadata": {},
   "outputs": [],
   "source": [
    "# use all numbers of vectors\n",
    "num_vec = [100,1000,1500,2000,2500,3000,3500,4500,5000]\n",
    "# list for feature vectors\n",
    "feature_vecs = []\n",
    "\n",
    "# iterate through numbers\n",
    "for num in num_vec:\n",
    "   # make feature vectors as tuples (train, test) and append to list\n",
    "   feature_vecs.append(BOW_model(train_df[\"document\"], test_df[\"document\"], num))\n",
    "\n",
    "   "
   ]
  },
  {
   "cell_type": "markdown",
   "metadata": {},
   "source": [
    "### NaiveBayes"
   ]
  },
  {
   "cell_type": "code",
   "execution_count": 122,
   "metadata": {},
   "outputs": [
    {
     "name": "stdout",
     "output_type": "stream",
     "text": [
      "accuracy:  0.30448717948717946\n",
      "f1 score:  0.33880901542438574\n",
      "accuracy:  0.46287393162393164\n",
      "f1 score:  0.4780324797902941\n",
      "accuracy:  0.47275641025641024\n",
      "f1 score:  0.47364938943962137\n",
      "accuracy:  0.48691239316239315\n",
      "f1 score:  0.4791069624977836\n",
      "accuracy:  0.4935897435897436\n",
      "f1 score:  0.48073539414783034\n",
      "accuracy:  0.4965277777777778\n",
      "f1 score:  0.47957790932911787\n",
      "accuracy:  0.5032051282051282\n",
      "f1 score:  0.4819365143559217\n",
      "accuracy:  0.5173611111111112\n",
      "f1 score:  0.49538867829719857\n",
      "accuracy:  0.5205662393162394\n",
      "f1 score:  0.496727538502165\n"
     ]
    }
   ],
   "source": [
    "# add results list\n",
    "results = []\n",
    "\n",
    "# iterate through feature vectors\n",
    "for vec in feature_vecs:\n",
    "    # apply classifier and append results to list: train = 0 , test = 1\n",
    "    results.append(nb_classifier(vec[0],vec[1]))\n",
    "    #print(vec[1])\n",
    "\n",
    "nb_results_df = pd.DataFrame(results, columns=['acc', 'f1'], index=[\"nb_100\", \"nb_1000\", \"nb_1500\", \"nb_2000\", \"nb_2500\", \"nb_3000\", \"nb_3500\", \"nb_4500\", \"nb_5000\"])\n"
   ]
  },
  {
   "cell_type": "code",
   "execution_count": 123,
   "metadata": {},
   "outputs": [
    {
     "data": {
      "text/html": [
       "<div>\n",
       "<style scoped>\n",
       "    .dataframe tbody tr th:only-of-type {\n",
       "        vertical-align: middle;\n",
       "    }\n",
       "\n",
       "    .dataframe tbody tr th {\n",
       "        vertical-align: top;\n",
       "    }\n",
       "\n",
       "    .dataframe thead th {\n",
       "        text-align: right;\n",
       "    }\n",
       "</style>\n",
       "<table border=\"1\" class=\"dataframe\">\n",
       "  <thead>\n",
       "    <tr style=\"text-align: right;\">\n",
       "      <th></th>\n",
       "      <th>acc</th>\n",
       "      <th>f1</th>\n",
       "    </tr>\n",
       "  </thead>\n",
       "  <tbody>\n",
       "    <tr>\n",
       "      <th>nb_100</th>\n",
       "      <td>0.304487</td>\n",
       "      <td>0.338809</td>\n",
       "    </tr>\n",
       "    <tr>\n",
       "      <th>nb_1000</th>\n",
       "      <td>0.462874</td>\n",
       "      <td>0.478032</td>\n",
       "    </tr>\n",
       "    <tr>\n",
       "      <th>nb_1500</th>\n",
       "      <td>0.472756</td>\n",
       "      <td>0.473649</td>\n",
       "    </tr>\n",
       "    <tr>\n",
       "      <th>nb_2000</th>\n",
       "      <td>0.486912</td>\n",
       "      <td>0.479107</td>\n",
       "    </tr>\n",
       "    <tr>\n",
       "      <th>nb_2500</th>\n",
       "      <td>0.493590</td>\n",
       "      <td>0.480735</td>\n",
       "    </tr>\n",
       "    <tr>\n",
       "      <th>nb_3000</th>\n",
       "      <td>0.496528</td>\n",
       "      <td>0.479578</td>\n",
       "    </tr>\n",
       "    <tr>\n",
       "      <th>nb_3500</th>\n",
       "      <td>0.503205</td>\n",
       "      <td>0.481937</td>\n",
       "    </tr>\n",
       "    <tr>\n",
       "      <th>nb_4500</th>\n",
       "      <td>0.517361</td>\n",
       "      <td>0.495389</td>\n",
       "    </tr>\n",
       "    <tr>\n",
       "      <th>nb_5000</th>\n",
       "      <td>0.520566</td>\n",
       "      <td>0.496728</td>\n",
       "    </tr>\n",
       "  </tbody>\n",
       "</table>\n",
       "</div>"
      ],
      "text/plain": [
       "              acc        f1\n",
       "nb_100   0.304487  0.338809\n",
       "nb_1000  0.462874  0.478032\n",
       "nb_1500  0.472756  0.473649\n",
       "nb_2000  0.486912  0.479107\n",
       "nb_2500  0.493590  0.480735\n",
       "nb_3000  0.496528  0.479578\n",
       "nb_3500  0.503205  0.481937\n",
       "nb_4500  0.517361  0.495389\n",
       "nb_5000  0.520566  0.496728"
      ]
     },
     "execution_count": 123,
     "metadata": {},
     "output_type": "execute_result"
    }
   ],
   "source": [
    "nb_results_df"
   ]
  },
  {
   "cell_type": "code",
   "execution_count": 124,
   "metadata": {},
   "outputs": [
    {
     "data": {
      "text/plain": [
       "<AxesSubplot:>"
      ]
     },
     "execution_count": 124,
     "metadata": {},
     "output_type": "execute_result"
    },
    {
     "data": {
      "image/png": "[encoded data removed]",
      "text/plain": [
       "<Figure size 432x288 with 1 Axes>"
      ]
     },
     "metadata": {
      "needs_background": "light"
     },
     "output_type": "display_data"
    }
   ],
   "source": [
    "nb_results_df.plot()"
   ]
  },
  {
   "cell_type": "markdown",
   "metadata": {},
   "source": [
    "### Random Forest"
   ]
  },
  {
   "cell_type": "code",
   "execution_count": 125,
   "metadata": {},
   "outputs": [
    {
     "name": "stdout",
     "output_type": "stream",
     "text": [
      "accuracy =  0.6509081196581197\n",
      "f1 score =  0.599845359223782\n",
      "accuracy =  0.7096688034188035\n",
      "f1 score =  0.6683946093839868\n",
      "accuracy =  0.7080662393162394\n",
      "f1 score =  0.6634860337765824\n",
      "accuracy =  0.7045940170940171\n",
      "f1 score =  0.6592023251887649\n",
      "accuracy =  0.7048611111111112\n",
      "f1 score =  0.6590006734302514\n",
      "accuracy =  0.7053952991452992\n",
      "f1 score =  0.6592311704022638\n",
      "accuracy =  0.7021901709401709\n",
      "f1 score =  0.6556017571168783\n",
      "accuracy =  0.6992521367521367\n",
      "f1 score =  0.6537930622653051\n",
      "accuracy =  0.6965811965811965\n",
      "f1 score =  0.6494472566244935\n"
     ]
    }
   ],
   "source": [
    "results = []\n",
    "\n",
    "for vec in feature_vecs:\n",
    "    results.append(rf_classifier(vec[0],vec[1]))\n",
    "    #print(results)\n",
    "\n",
    "rf_results_df = pd.DataFrame(results, columns=['acc', 'f1'], index=[\"rf_100\", \"rf_1000\", \"rf_1500\", \"rf_2000\", \"rf_2500\", \"rf_3000\", \"rf_3500\", \"rf_4500\", \"rf_5000\"])\n"
   ]
  },
  {
   "cell_type": "code",
   "execution_count": 126,
   "metadata": {},
   "outputs": [
    {
     "data": {
      "text/plain": [
       "<AxesSubplot:>"
      ]
     },
     "execution_count": 126,
     "metadata": {},
     "output_type": "execute_result"
    },
    {
     "data": {
      "image/png": "[encoded data removed]",
      "text/plain": [
       "<Figure size 432x288 with 1 Axes>"
      ]
     },
     "metadata": {
      "needs_background": "light"
     },
     "output_type": "display_data"
    }
   ],
   "source": [
    "rf_results_df.plot()"
   ]
  },
  {
   "cell_type": "markdown",
   "metadata": {},
   "source": [
    "### SVM"
   ]
  },
  {
   "cell_type": "code",
   "execution_count": 127,
   "metadata": {},
   "outputs": [
    {
     "name": "stderr",
     "output_type": "stream",
     "text": [
      "C:\\Users\\Joonas\\AppData\\Local\\Programs\\Python\\Python39\\lib\\site-packages\\sklearn\\svm\\_base.py:985: ConvergenceWarning: Liblinear failed to converge, increase the number of iterations.\n",
      "  warnings.warn(\"Liblinear failed to converge, increase \"\n"
     ]
    },
    {
     "name": "stdout",
     "output_type": "stream",
     "text": [
      "accuracy =  0.6300747863247863\n",
      "f1 score =  0.5872292384023452\n"
     ]
    },
    {
     "name": "stderr",
     "output_type": "stream",
     "text": [
      "C:\\Users\\Joonas\\AppData\\Local\\Programs\\Python\\Python39\\lib\\site-packages\\sklearn\\svm\\_base.py:985: ConvergenceWarning: Liblinear failed to converge, increase the number of iterations.\n",
      "  warnings.warn(\"Liblinear failed to converge, increase \"\n"
     ]
    },
    {
     "name": "stdout",
     "output_type": "stream",
     "text": [
      "accuracy =  0.7032585470085471\n",
      "f1 score =  0.6895230648421413\n"
     ]
    },
    {
     "name": "stderr",
     "output_type": "stream",
     "text": [
      "C:\\Users\\Joonas\\AppData\\Local\\Programs\\Python\\Python39\\lib\\site-packages\\sklearn\\svm\\_base.py:985: ConvergenceWarning: Liblinear failed to converge, increase the number of iterations.\n",
      "  warnings.warn(\"Liblinear failed to converge, increase \"\n"
     ]
    },
    {
     "name": "stdout",
     "output_type": "stream",
     "text": [
      "accuracy =  0.7091346153846154\n",
      "f1 score =  0.695850079153626\n"
     ]
    },
    {
     "name": "stderr",
     "output_type": "stream",
     "text": [
      "C:\\Users\\Joonas\\AppData\\Local\\Programs\\Python\\Python39\\lib\\site-packages\\sklearn\\svm\\_base.py:985: ConvergenceWarning: Liblinear failed to converge, increase the number of iterations.\n",
      "  warnings.warn(\"Liblinear failed to converge, increase \"\n"
     ]
    },
    {
     "name": "stdout",
     "output_type": "stream",
     "text": [
      "accuracy =  0.7158119658119658\n",
      "f1 score =  0.7028822512440214\n"
     ]
    },
    {
     "name": "stderr",
     "output_type": "stream",
     "text": [
      "C:\\Users\\Joonas\\AppData\\Local\\Programs\\Python\\Python39\\lib\\site-packages\\sklearn\\svm\\_base.py:985: ConvergenceWarning: Liblinear failed to converge, increase the number of iterations.\n",
      "  warnings.warn(\"Liblinear failed to converge, increase \"\n"
     ]
    },
    {
     "name": "stdout",
     "output_type": "stream",
     "text": [
      "accuracy =  0.7208867521367521\n",
      "f1 score =  0.7082911987020438\n"
     ]
    },
    {
     "name": "stderr",
     "output_type": "stream",
     "text": [
      "C:\\Users\\Joonas\\AppData\\Local\\Programs\\Python\\Python39\\lib\\site-packages\\sklearn\\svm\\_base.py:985: ConvergenceWarning: Liblinear failed to converge, increase the number of iterations.\n",
      "  warnings.warn(\"Liblinear failed to converge, increase \"\n"
     ]
    },
    {
     "name": "stdout",
     "output_type": "stream",
     "text": [
      "accuracy =  0.7224893162393162\n",
      "f1 score =  0.7088316344188323\n"
     ]
    },
    {
     "name": "stderr",
     "output_type": "stream",
     "text": [
      "C:\\Users\\Joonas\\AppData\\Local\\Programs\\Python\\Python39\\lib\\site-packages\\sklearn\\svm\\_base.py:985: ConvergenceWarning: Liblinear failed to converge, increase the number of iterations.\n",
      "  warnings.warn(\"Liblinear failed to converge, increase \"\n"
     ]
    },
    {
     "name": "stdout",
     "output_type": "stream",
     "text": [
      "accuracy =  0.7224893162393162\n",
      "f1 score =  0.7087439388822939\n"
     ]
    },
    {
     "name": "stderr",
     "output_type": "stream",
     "text": [
      "C:\\Users\\Joonas\\AppData\\Local\\Programs\\Python\\Python39\\lib\\site-packages\\sklearn\\svm\\_base.py:985: ConvergenceWarning: Liblinear failed to converge, increase the number of iterations.\n",
      "  warnings.warn(\"Liblinear failed to converge, increase \"\n"
     ]
    },
    {
     "name": "stdout",
     "output_type": "stream",
     "text": [
      "accuracy =  0.7243589743589743\n",
      "f1 score =  0.7115986377364861\n",
      "accuracy =  0.7246260683760684\n",
      "f1 score =  0.7099553351937778\n"
     ]
    },
    {
     "name": "stderr",
     "output_type": "stream",
     "text": [
      "C:\\Users\\Joonas\\AppData\\Local\\Programs\\Python\\Python39\\lib\\site-packages\\sklearn\\svm\\_base.py:985: ConvergenceWarning: Liblinear failed to converge, increase the number of iterations.\n",
      "  warnings.warn(\"Liblinear failed to converge, increase \"\n"
     ]
    }
   ],
   "source": [
    "results = []\n",
    "\n",
    "for vec in feature_vecs:\n",
    "    results.append(svm_classifier(vec[0],vec[1]))\n",
    "    #print(results)\n",
    "\n",
    "svm_results_df = pd.DataFrame(results, columns=['acc', 'f1'], index=[\"svm_100\", \"svm_1000\", \"svm_1500\", \"svm_2000\", \"svm_2500\", \"svm_3000\", \"svm_3500\", \"svm_4500\", \"svm_5000\"])\n"
   ]
  },
  {
   "cell_type": "code",
   "execution_count": 128,
   "metadata": {},
   "outputs": [
    {
     "data": {
      "text/plain": [
       "<AxesSubplot:>"
      ]
     },
     "execution_count": 128,
     "metadata": {},
     "output_type": "execute_result"
    },
    {
     "data": {
      "image/png": "[encoded data removed]",
      "text/plain": [
       "<Figure size 432x288 with 1 Axes>"
      ]
     },
     "metadata": {
      "needs_background": "light"
     },
     "output_type": "display_data"
    }
   ],
   "source": [
    "svm_results_df.plot()"
   ]
  },
  {
   "cell_type": "markdown",
   "metadata": {},
   "source": [
    "## List Results"
   ]
  },
  {
   "cell_type": "code",
   "execution_count": 129,
   "metadata": {},
   "outputs": [
    {
     "data": {
      "text/html": [
       "<div>\n",
       "<style scoped>\n",
       "    .dataframe tbody tr th:only-of-type {\n",
       "        vertical-align: middle;\n",
       "    }\n",
       "\n",
       "    .dataframe tbody tr th {\n",
       "        vertical-align: top;\n",
       "    }\n",
       "\n",
       "    .dataframe thead th {\n",
       "        text-align: right;\n",
       "    }\n",
       "</style>\n",
       "<table border=\"1\" class=\"dataframe\">\n",
       "  <thead>\n",
       "    <tr style=\"text-align: right;\">\n",
       "      <th></th>\n",
       "      <th>acc</th>\n",
       "      <th>f1</th>\n",
       "    </tr>\n",
       "  </thead>\n",
       "  <tbody>\n",
       "    <tr>\n",
       "      <th>nb_100</th>\n",
       "      <td>0.304487</td>\n",
       "      <td>0.338809</td>\n",
       "    </tr>\n",
       "    <tr>\n",
       "      <th>nb_1000</th>\n",
       "      <td>0.462874</td>\n",
       "      <td>0.478032</td>\n",
       "    </tr>\n",
       "    <tr>\n",
       "      <th>nb_1500</th>\n",
       "      <td>0.472756</td>\n",
       "      <td>0.473649</td>\n",
       "    </tr>\n",
       "    <tr>\n",
       "      <th>nb_2000</th>\n",
       "      <td>0.486912</td>\n",
       "      <td>0.479107</td>\n",
       "    </tr>\n",
       "    <tr>\n",
       "      <th>nb_2500</th>\n",
       "      <td>0.493590</td>\n",
       "      <td>0.480735</td>\n",
       "    </tr>\n",
       "    <tr>\n",
       "      <th>nb_3000</th>\n",
       "      <td>0.496528</td>\n",
       "      <td>0.479578</td>\n",
       "    </tr>\n",
       "    <tr>\n",
       "      <th>nb_3500</th>\n",
       "      <td>0.503205</td>\n",
       "      <td>0.481937</td>\n",
       "    </tr>\n",
       "    <tr>\n",
       "      <th>nb_4500</th>\n",
       "      <td>0.517361</td>\n",
       "      <td>0.495389</td>\n",
       "    </tr>\n",
       "    <tr>\n",
       "      <th>nb_5000</th>\n",
       "      <td>0.520566</td>\n",
       "      <td>0.496728</td>\n",
       "    </tr>\n",
       "    <tr>\n",
       "      <th>rf_100</th>\n",
       "      <td>0.650908</td>\n",
       "      <td>0.599845</td>\n",
       "    </tr>\n",
       "    <tr>\n",
       "      <th>rf_1000</th>\n",
       "      <td>0.709669</td>\n",
       "      <td>0.668395</td>\n",
       "    </tr>\n",
       "    <tr>\n",
       "      <th>rf_1500</th>\n",
       "      <td>0.708066</td>\n",
       "      <td>0.663486</td>\n",
       "    </tr>\n",
       "    <tr>\n",
       "      <th>rf_2000</th>\n",
       "      <td>0.704594</td>\n",
       "      <td>0.659202</td>\n",
       "    </tr>\n",
       "    <tr>\n",
       "      <th>rf_2500</th>\n",
       "      <td>0.704861</td>\n",
       "      <td>0.659001</td>\n",
       "    </tr>\n",
       "    <tr>\n",
       "      <th>rf_3000</th>\n",
       "      <td>0.705395</td>\n",
       "      <td>0.659231</td>\n",
       "    </tr>\n",
       "    <tr>\n",
       "      <th>rf_3500</th>\n",
       "      <td>0.702190</td>\n",
       "      <td>0.655602</td>\n",
       "    </tr>\n",
       "    <tr>\n",
       "      <th>rf_4500</th>\n",
       "      <td>0.699252</td>\n",
       "      <td>0.653793</td>\n",
       "    </tr>\n",
       "    <tr>\n",
       "      <th>rf_5000</th>\n",
       "      <td>0.696581</td>\n",
       "      <td>0.649447</td>\n",
       "    </tr>\n",
       "    <tr>\n",
       "      <th>svm_100</th>\n",
       "      <td>0.630075</td>\n",
       "      <td>0.587229</td>\n",
       "    </tr>\n",
       "    <tr>\n",
       "      <th>svm_1000</th>\n",
       "      <td>0.703259</td>\n",
       "      <td>0.689523</td>\n",
       "    </tr>\n",
       "    <tr>\n",
       "      <th>svm_1500</th>\n",
       "      <td>0.709135</td>\n",
       "      <td>0.695850</td>\n",
       "    </tr>\n",
       "    <tr>\n",
       "      <th>svm_2000</th>\n",
       "      <td>0.715812</td>\n",
       "      <td>0.702882</td>\n",
       "    </tr>\n",
       "    <tr>\n",
       "      <th>svm_2500</th>\n",
       "      <td>0.720887</td>\n",
       "      <td>0.708291</td>\n",
       "    </tr>\n",
       "    <tr>\n",
       "      <th>svm_3000</th>\n",
       "      <td>0.722489</td>\n",
       "      <td>0.708832</td>\n",
       "    </tr>\n",
       "    <tr>\n",
       "      <th>svm_3500</th>\n",
       "      <td>0.722489</td>\n",
       "      <td>0.708744</td>\n",
       "    </tr>\n",
       "    <tr>\n",
       "      <th>svm_4500</th>\n",
       "      <td>0.724359</td>\n",
       "      <td>0.711599</td>\n",
       "    </tr>\n",
       "    <tr>\n",
       "      <th>svm_5000</th>\n",
       "      <td>0.724626</td>\n",
       "      <td>0.709955</td>\n",
       "    </tr>\n",
       "  </tbody>\n",
       "</table>\n",
       "</div>"
      ],
      "text/plain": [
       "               acc        f1\n",
       "nb_100    0.304487  0.338809\n",
       "nb_1000   0.462874  0.478032\n",
       "nb_1500   0.472756  0.473649\n",
       "nb_2000   0.486912  0.479107\n",
       "nb_2500   0.493590  0.480735\n",
       "nb_3000   0.496528  0.479578\n",
       "nb_3500   0.503205  0.481937\n",
       "nb_4500   0.517361  0.495389\n",
       "nb_5000   0.520566  0.496728\n",
       "rf_100    0.650908  0.599845\n",
       "rf_1000   0.709669  0.668395\n",
       "rf_1500   0.708066  0.663486\n",
       "rf_2000   0.704594  0.659202\n",
       "rf_2500   0.704861  0.659001\n",
       "rf_3000   0.705395  0.659231\n",
       "rf_3500   0.702190  0.655602\n",
       "rf_4500   0.699252  0.653793\n",
       "rf_5000   0.696581  0.649447\n",
       "svm_100   0.630075  0.587229\n",
       "svm_1000  0.703259  0.689523\n",
       "svm_1500  0.709135  0.695850\n",
       "svm_2000  0.715812  0.702882\n",
       "svm_2500  0.720887  0.708291\n",
       "svm_3000  0.722489  0.708832\n",
       "svm_3500  0.722489  0.708744\n",
       "svm_4500  0.724359  0.711599\n",
       "svm_5000  0.724626  0.709955"
      ]
     },
     "execution_count": 129,
     "metadata": {},
     "output_type": "execute_result"
    }
   ],
   "source": [
    "results_df = pd.DataFrame()\n",
    "results_df = results_df.append(nb_results_df)\n",
    "results_df = results_df.append(rf_results_df)\n",
    "results_df = results_df.append(svm_results_df)\n",
    "results_df"
   ]
  },
  {
   "cell_type": "markdown",
   "metadata": {},
   "source": [
    "# 5. Repeat 3) when a PCA (of 95% information preservation) is used to reduce the dimension of the feature space. \n"
   ]
  },
  {
   "cell_type": "markdown",
   "metadata": {},
   "source": [
    "## PCA function"
   ]
  },
  {
   "cell_type": "code",
   "execution_count": 130,
   "metadata": {},
   "outputs": [],
   "source": [
    "def PCA_apply (features_train, features_test):\n",
    "    # use principal component analysis with 95% info preservation\n",
    "    pca = PCA(n_components=0.95)\n",
    "    # fit training vectors\n",
    "    pca.fit(features_train)\n",
    "    # transform\n",
    "    pca_train = pca.transform(features_train)\n",
    "    pca_test = pca.transform(features_test)\n",
    "    return pca_train, pca_test"
   ]
  },
  {
   "cell_type": "code",
   "execution_count": 131,
   "metadata": {},
   "outputs": [],
   "source": [
    "# call pca funcion\n",
    "pca_train, pca_test = PCA_apply(features_train, features_test)"
   ]
  },
  {
   "cell_type": "markdown",
   "metadata": {},
   "source": [
    "## NaiveBayes with PCA"
   ]
  },
  {
   "cell_type": "code",
   "execution_count": 132,
   "metadata": {},
   "outputs": [
    {
     "name": "stdout",
     "output_type": "stream",
     "text": [
      "accuracy:  0.4321581196581197\n",
      "f1 score:  0.44096725345692794\n"
     ]
    }
   ],
   "source": [
    "# make list of classifier tuples and create dataframe\n",
    "score_nb_pca = [nb_classifier(pca_train, pca_test)]\n",
    "pca_df = pd.DataFrame(score_nb_pca, columns=['acc', 'f1'], index=[\"nb_100\"])"
   ]
  },
  {
   "cell_type": "markdown",
   "metadata": {},
   "source": [
    "## RandomForest With PCA"
   ]
  },
  {
   "cell_type": "code",
   "execution_count": 133,
   "metadata": {},
   "outputs": [
    {
     "name": "stdout",
     "output_type": "stream",
     "text": [
      "accuracy =  0.6319444444444444\n",
      "f1 score =  0.5694708013931709\n"
     ]
    }
   ],
   "source": [
    "# make list of classifier tuples and create dataframe\n",
    "score_rf_pca = [rf_classifier(pca_train, pca_test)]\n",
    "pca_rf = pd.DataFrame(score_rf_pca, columns=['acc', 'f1'], index=[\"rf_100\"])"
   ]
  },
  {
   "cell_type": "markdown",
   "metadata": {},
   "source": [
    "## Linear SVM with PCA"
   ]
  },
  {
   "cell_type": "code",
   "execution_count": 134,
   "metadata": {},
   "outputs": [
    {
     "name": "stdout",
     "output_type": "stream",
     "text": [
      "accuracy =  0.6324786324786325\n",
      "f1 score =  0.5824889340353324\n"
     ]
    },
    {
     "name": "stderr",
     "output_type": "stream",
     "text": [
      "C:\\Users\\Joonas\\AppData\\Local\\Programs\\Python\\Python39\\lib\\site-packages\\sklearn\\svm\\_base.py:985: ConvergenceWarning: Liblinear failed to converge, increase the number of iterations.\n",
      "  warnings.warn(\"Liblinear failed to converge, increase \"\n"
     ]
    }
   ],
   "source": [
    "# make list of classifier tuples and create dataframe\n",
    "score_svm_pca = [svm_classifier(pca_train, pca_test)]\n",
    "pca_svm = pd.DataFrame(score_svm_pca, columns=['acc', 'f1'], index=[\"svm_100\"])"
   ]
  },
  {
   "cell_type": "code",
   "execution_count": 135,
   "metadata": {},
   "outputs": [
    {
     "data": {
      "text/html": [
       "<div>\n",
       "<style scoped>\n",
       "    .dataframe tbody tr th:only-of-type {\n",
       "        vertical-align: middle;\n",
       "    }\n",
       "\n",
       "    .dataframe tbody tr th {\n",
       "        vertical-align: top;\n",
       "    }\n",
       "\n",
       "    .dataframe thead th {\n",
       "        text-align: right;\n",
       "    }\n",
       "</style>\n",
       "<table border=\"1\" class=\"dataframe\">\n",
       "  <thead>\n",
       "    <tr style=\"text-align: right;\">\n",
       "      <th></th>\n",
       "      <th>acc</th>\n",
       "      <th>f1</th>\n",
       "    </tr>\n",
       "  </thead>\n",
       "  <tbody>\n",
       "    <tr>\n",
       "      <th>nb_100</th>\n",
       "      <td>0.432158</td>\n",
       "      <td>0.440967</td>\n",
       "    </tr>\n",
       "    <tr>\n",
       "      <th>rf_100</th>\n",
       "      <td>0.631944</td>\n",
       "      <td>0.569471</td>\n",
       "    </tr>\n",
       "    <tr>\n",
       "      <th>svm_100</th>\n",
       "      <td>0.632479</td>\n",
       "      <td>0.582489</td>\n",
       "    </tr>\n",
       "  </tbody>\n",
       "</table>\n",
       "</div>"
      ],
      "text/plain": [
       "              acc        f1\n",
       "nb_100   0.432158  0.440967\n",
       "rf_100   0.631944  0.569471\n",
       "svm_100  0.632479  0.582489"
      ]
     },
     "execution_count": 135,
     "metadata": {},
     "output_type": "execute_result"
    }
   ],
   "source": [
    "pca_df = pca_df.append(pca_rf)\n",
    "pca_df = pca_df.append(pca_svm)\n",
    "pca_df"
   ]
  },
  {
   "cell_type": "markdown",
   "metadata": {},
   "source": [
    "# 6. Instead of CountVectorizer, use TfidfVectorizer to create the feature set as in 2) and test the classification accuracy and F1 measure of Naives’ Bayes classifier.\n"
   ]
  },
  {
   "cell_type": "code",
   "execution_count": 136,
   "metadata": {},
   "outputs": [],
   "source": [
    "def tfidf_model(train_data, test_data, max_features):\n",
    "    \"\"\"Return feature vectors from tfidfVectorizer\"\"\"\n",
    "    tfidf = TfidfVectorizer(tokenizer=LemmaTokenizer(), \n",
    "                          lowercase=True, \n",
    "                          max_features = max_features, \n",
    "                          stop_words = \"english\", \n",
    "                          min_df = 3, max_df = 0.7)\n",
    "    # fit train data\n",
    "    tfidf.fit(train_data)\n",
    "    tfidf_train = tfidf.transform(train_data)\n",
    "    tfidf_test = tfidf.transform(test_data)\n",
    " \n",
    "    #print(tfidf.get_feature_names())\n",
    "    return (tfidf_train.toarray(), tfidf_test.toarray())"
   ]
  },
  {
   "cell_type": "code",
   "execution_count": 137,
   "metadata": {},
   "outputs": [
    {
     "name": "stderr",
     "output_type": "stream",
     "text": [
      "C:\\Users\\Joonas\\AppData\\Local\\Programs\\Python\\Python39\\lib\\site-packages\\sklearn\\feature_extraction\\text.py:489: UserWarning: The parameter 'token_pattern' will not be used since 'tokenizer' is not None'\n",
      "  warnings.warn(\"The parameter 'token_pattern' will not be used\"\n",
      "C:\\Users\\Joonas\\AppData\\Local\\Programs\\Python\\Python39\\lib\\site-packages\\sklearn\\feature_extraction\\text.py:388: UserWarning: Your stop_words may be inconsistent with your preprocessing. Tokenizing the stop words generated tokens ['ha', 'le', 'u', 'wa'] not in stop_words.\n",
      "  warnings.warn('Your stop_words may be inconsistent with '\n"
     ]
    }
   ],
   "source": [
    "tfidf_feature_train, tfidf_feature_test = tfidf_model(train_df['document'], test_df['document'], 100)"
   ]
  },
  {
   "cell_type": "code",
   "execution_count": 138,
   "metadata": {},
   "outputs": [
    {
     "name": "stdout",
     "output_type": "stream",
     "text": [
      "accuracy:  0.3370726495726496\n",
      "f1 score:  0.3711534329052627\n"
     ]
    }
   ],
   "source": [
    "tfidf_accuracy, tfidf_f1 = nb_classifier(tfidf_feature_train, tfidf_feature_test)"
   ]
  },
  {
   "cell_type": "markdown",
   "metadata": {},
   "source": [
    "# 7. Use Word2vec to create a feature vector to each document by averaging over all word2vec representations of individual words constituting the document. Use this feature set to train the Naives’ Bayes classifier and output the accuracy, F1 measure and confusion matrix on testing data. \n"
   ]
  },
  {
   "cell_type": "markdown",
   "metadata": {},
   "source": [
    "USE WORDS INSTEAD OF LONG STRINGS!"
   ]
  },
  {
   "cell_type": "code",
   "execution_count": 170,
   "metadata": {},
   "outputs": [
    {
     "name": "stdout",
     "output_type": "stream",
     "text": [
      "number of cpu: 12\n"
     ]
    }
   ],
   "source": [
    "import multiprocessing\n",
    "import logging\n",
    "import sys\n",
    "\n",
    "workers = multiprocessing.cpu_count()\n",
    "print('number of cpu: {}'.format(workers))"
   ]
  },
  {
   "cell_type": "markdown",
   "metadata": {},
   "source": [
    "## Word2Vec - functions"
   ]
  },
  {
   "cell_type": "code",
   "execution_count": 253,
   "metadata": {},
   "outputs": [],
   "source": [
    "def Train_Embedding(train, val, test, method=''):\n",
    "    train_tokens, val_tokens, test_tokens = [], [], []\n",
    "    \n",
    "    for text in train:\n",
    "        train_tokens.append(text.split())\n",
    "    for text in val:\n",
    "        val_tokens.append(text.split())\n",
    "    for text in test:\n",
    "        test_tokens.append(text.split())\n",
    "\n",
    "    if method == 'word2vec':\n",
    "        model= Word2Vec(train_tokens+val_tokens+test_tokens, min_count=1, window=10,  workers=workers, vector_size=300, epochs=100)\n",
    "        #model.save('./reuters_W2Vec.bin')\n",
    "    return model\n",
    "\n"
   ]
  },
  {
   "cell_type": "code",
   "execution_count": 171,
   "metadata": {},
   "outputs": [],
   "source": [
    "\n",
    "class MeanEmbeddingVectorizer(object):\n",
    "\n",
    "\tdef __init__(self, word_model):\n",
    "\t\tself.word_model = word_model\n",
    "\t\tself.vector_size = word_model.wv.vector_size\n",
    "\n",
    "\tdef fit(self):  # comply with scikit-learn transformer requirement\n",
    "\t\treturn self\n",
    "\n",
    "\tdef transform(self, docs):  # comply with scikit-learn transformer requirement\n",
    "\t\tdoc_word_vector = self.word_average_list(docs)\n",
    "\t\treturn doc_word_vector\n",
    "\n",
    "\tdef word_average(self, sent):\n",
    "\t\t\"\"\"\n",
    "\t\tCompute average word vector for a single doc/sentence.\n",
    "\t\t:param sent: list of sentence tokens\n",
    "\t\t:return:\n",
    "\t\t\tmean: float of averaging word vectors\n",
    "\t\t\"\"\"\n",
    "\t\tmean = []\n",
    "\t\tfor word in sent:\n",
    "\t\t\tif word in self.word_model.wv.key_to_index:\n",
    "\t\t\t\tmean.append(self.word_model.wv.get_vector(word))\n",
    "\n",
    "\t\tif not mean:  # empty words\n",
    "\t\t\t# If a text is empty, return a vector of zeros.\n",
    "\t\t\tlogging.warning(\"cannot compute average owing to no vector for {}\".format(sent))\n",
    "\t\t\treturn np.zeros(self.vector_size)\n",
    "\t\telse:\n",
    "\t\t\tmean = np.array(mean).mean(axis=0)\n",
    "\t\t\treturn mean\n",
    "\n",
    "\n",
    "\tdef word_average_list(self, docs):\n",
    "\t\t\"\"\"\n",
    "\t\tCompute average word vector for multiple docs, where docs had been tokenized.\n",
    "\t\t:param docs: list of sentence in list of separated tokens\n",
    "\t\t:return:\n",
    "\t\t\tarray of average word vector in shape (len(docs),)\n",
    "\t\t\"\"\"\n",
    "\t\treturn np.vstack([self.word_average(sent) for sent in docs])"
   ]
  },
  {
   "cell_type": "markdown",
   "metadata": {},
   "source": [
    "### other functions"
   ]
  },
  {
   "cell_type": "code",
   "execution_count": 168,
   "metadata": {},
   "outputs": [],
   "source": [
    "def Text_embedding(model, Texts):\n",
    "    Texts_embed = []\n",
    "    for text in Texts:\n",
    "        text_embed = []\n",
    "        for word in text.split():         \n",
    "            if word in list(model.wv.key_to_index):    \n",
    "                text_embed = np.add(text_embed, model.wv[word])\n",
    "            else:\n",
    "                words_not_found.append(word)\n",
    "        text_embed = np.divide(text_embed, len(text.split()))\n",
    "\n",
    "        #    text_embed = np.add(text_embed, model.wv[word])\n",
    "        #text_embed = np.divide(text_embed, len(text.split()))   # averaging\n",
    "        Texts_embed.append(text_embed)\n",
    "\n",
    "\n",
    "    return Texts_embed\n"
   ]
  },
  {
   "cell_type": "markdown",
   "metadata": {},
   "source": [
    "## Word2Vec - Train"
   ]
  },
  {
   "cell_type": "code",
   "execution_count": 244,
   "metadata": {},
   "outputs": [
    {
     "data": {
      "text/html": [
       "<div>\n",
       "<style scoped>\n",
       "    .dataframe tbody tr th:only-of-type {\n",
       "        vertical-align: middle;\n",
       "    }\n",
       "\n",
       "    .dataframe tbody tr th {\n",
       "        vertical-align: top;\n",
       "    }\n",
       "\n",
       "    .dataframe thead th {\n",
       "        text-align: right;\n",
       "    }\n",
       "</style>\n",
       "<table border=\"1\" class=\"dataframe\">\n",
       "  <thead>\n",
       "    <tr style=\"text-align: right;\">\n",
       "      <th></th>\n",
       "      <th>document</th>\n",
       "      <th>words_list</th>\n",
       "      <th>category</th>\n",
       "      <th>ids</th>\n",
       "    </tr>\n",
       "  </thead>\n",
       "  <tbody>\n",
       "    <tr>\n",
       "      <th>0</th>\n",
       "      <td>bahia cocoa review shower continue throughout ...</td>\n",
       "      <td>[bahia, cocoa, review, shower, continue, throu...</td>\n",
       "      <td>cocoa</td>\n",
       "      <td>training/1</td>\n",
       "    </tr>\n",
       "    <tr>\n",
       "      <th>1</th>\n",
       "      <td>computer terminal systems ltcpml complete sale...</td>\n",
       "      <td>[computer, terminal, systems, ltcpml, complete...</td>\n",
       "      <td>acq</td>\n",
       "      <td>training/10</td>\n",
       "    </tr>\n",
       "    <tr>\n",
       "      <th>2</th>\n",
       "      <td>nz trade bank deposit growth rise slightly new...</td>\n",
       "      <td>[nz, trade, bank, deposit, growth, rise, sligh...</td>\n",
       "      <td>money-supply</td>\n",
       "      <td>training/100</td>\n",
       "    </tr>\n",
       "    <tr>\n",
       "      <th>3</th>\n",
       "      <td>national amusements up viacom ltvia bid viacom...</td>\n",
       "      <td>[national, amusements, up, viacom, ltvia, bid,...</td>\n",
       "      <td>acq</td>\n",
       "      <td>training/1000</td>\n",
       "    </tr>\n",
       "    <tr>\n",
       "      <th>4</th>\n",
       "      <td>rogers ltrog see 1st qtr net significantly rog...</td>\n",
       "      <td>[rogers, ltrog, see, 1st, qtr, net, significan...</td>\n",
       "      <td>earn</td>\n",
       "      <td>training/10000</td>\n",
       "    </tr>\n",
       "    <tr>\n",
       "      <th>...</th>\n",
       "      <td>...</td>\n",
       "      <td>...</td>\n",
       "      <td>...</td>\n",
       "      <td>...</td>\n",
       "    </tr>\n",
       "    <tr>\n",
       "      <th>3739</th>\n",
       "      <td>tokyo dealers see dollar poise breach yen toky...</td>\n",
       "      <td>[tokyo, dealers, see, dollar, poise, breach, y...</td>\n",
       "      <td>money-fx</td>\n",
       "      <td>test/21573</td>\n",
       "    </tr>\n",
       "    <tr>\n",
       "      <th>3740</th>\n",
       "      <td>tokyo dealers see dollar poise breach yen toky...</td>\n",
       "      <td>[tokyo, dealers, see, dollar, poise, breach, y...</td>\n",
       "      <td>yen</td>\n",
       "      <td>test/21573</td>\n",
       "    </tr>\n",
       "    <tr>\n",
       "      <th>3741</th>\n",
       "      <td>japanindia conference cut gulf war risk charge...</td>\n",
       "      <td>[japanindia, conference, cut, gulf, war, risk,...</td>\n",
       "      <td>ship</td>\n",
       "      <td>test/21574</td>\n",
       "    </tr>\n",
       "    <tr>\n",
       "      <th>3742</th>\n",
       "      <td>soviet industrial growthtrade slower soviet un...</td>\n",
       "      <td>[soviet, industrial, growthtrade, slower, sovi...</td>\n",
       "      <td>ipi</td>\n",
       "      <td>test/21575</td>\n",
       "    </tr>\n",
       "    <tr>\n",
       "      <th>3743</th>\n",
       "      <td>six kill south african gold mine accident six ...</td>\n",
       "      <td>[six, kill, south, african, gold, mine, accide...</td>\n",
       "      <td>gold</td>\n",
       "      <td>test/21576</td>\n",
       "    </tr>\n",
       "  </tbody>\n",
       "</table>\n",
       "<p>13328 rows × 4 columns</p>\n",
       "</div>"
      ],
      "text/plain": [
       "                                               document  \\\n",
       "0     bahia cocoa review shower continue throughout ...   \n",
       "1     computer terminal systems ltcpml complete sale...   \n",
       "2     nz trade bank deposit growth rise slightly new...   \n",
       "3     national amusements up viacom ltvia bid viacom...   \n",
       "4     rogers ltrog see 1st qtr net significantly rog...   \n",
       "...                                                 ...   \n",
       "3739  tokyo dealers see dollar poise breach yen toky...   \n",
       "3740  tokyo dealers see dollar poise breach yen toky...   \n",
       "3741  japanindia conference cut gulf war risk charge...   \n",
       "3742  soviet industrial growthtrade slower soviet un...   \n",
       "3743  six kill south african gold mine accident six ...   \n",
       "\n",
       "                                             words_list      category  \\\n",
       "0     [bahia, cocoa, review, shower, continue, throu...         cocoa   \n",
       "1     [computer, terminal, systems, ltcpml, complete...           acq   \n",
       "2     [nz, trade, bank, deposit, growth, rise, sligh...  money-supply   \n",
       "3     [national, amusements, up, viacom, ltvia, bid,...           acq   \n",
       "4     [rogers, ltrog, see, 1st, qtr, net, significan...          earn   \n",
       "...                                                 ...           ...   \n",
       "3739  [tokyo, dealers, see, dollar, poise, breach, y...      money-fx   \n",
       "3740  [tokyo, dealers, see, dollar, poise, breach, y...           yen   \n",
       "3741  [japanindia, conference, cut, gulf, war, risk,...          ship   \n",
       "3742  [soviet, industrial, growthtrade, slower, sovi...           ipi   \n",
       "3743  [six, kill, south, african, gold, mine, accide...          gold   \n",
       "\n",
       "                 ids  \n",
       "0         training/1  \n",
       "1        training/10  \n",
       "2       training/100  \n",
       "3      training/1000  \n",
       "4     training/10000  \n",
       "...              ...  \n",
       "3739      test/21573  \n",
       "3740      test/21573  \n",
       "3741      test/21574  \n",
       "3742      test/21575  \n",
       "3743      test/21576  \n",
       "\n",
       "[13328 rows x 4 columns]"
      ]
     },
     "execution_count": 244,
     "metadata": {},
     "output_type": "execute_result"
    }
   ],
   "source": [
    "# join dataframes into one\n",
    "w2v_train_df = pd.DataFrame()\n",
    "w2v_train_df = w2v_train_df.append(train_df)\n",
    "w2v_train_df = w2v_train_df.append(test_df)\n",
    "w2v_train_df"
   ]
  },
  {
   "cell_type": "code",
   "execution_count": 276,
   "metadata": {},
   "outputs": [],
   "source": [
    "# init and train word2vec model\n",
    "\n",
    "model_own= Word2Vec(train_df[\"words_list\"], min_count=1, window=10,  workers=workers, vector_size=100, epochs=100) ##, iter=1000)\n",
    "\n",
    "#model.save('./reuters_W2Vec.bin')\n"
   ]
  },
  {
   "cell_type": "code",
   "execution_count": 272,
   "metadata": {},
   "outputs": [],
   "source": [
    "model = Word2Vec(w2v_train_df[\"words_list\"], min_count=1, window=10,  workers=workers, vector_size=100, epochs=100)"
   ]
  },
  {
   "cell_type": "markdown",
   "metadata": {},
   "source": [
    "## Word2Vec - Mean vector"
   ]
  },
  {
   "cell_type": "code",
   "execution_count": 277,
   "metadata": {},
   "outputs": [],
   "source": [
    "mean_vec_tr = MeanEmbeddingVectorizer(model_own)\n",
    "doc_vec_train = mean_vec_tr.transform(train_df[\"document\"])\n",
    "doc_vec_test = mean_vec_tr.transform(test_df[\"document\"])\n"
   ]
  },
  {
   "cell_type": "code",
   "execution_count": 282,
   "metadata": {},
   "outputs": [
    {
     "data": {
      "text/plain": [
       "array([[ 1.6364386 ,  1.3156209 ,  0.95786554, ...,  0.79469854,\n",
       "        -0.47062945, -0.16666538],\n",
       "       [ 1.7912475 ,  1.1368067 ,  0.67087567, ...,  0.73494756,\n",
       "        -0.3436513 , -0.08719289],\n",
       "       [ 1.7805955 ,  1.6507062 ,  0.97108746, ...,  0.8298868 ,\n",
       "        -0.5265696 , -0.2861209 ],\n",
       "       ...,\n",
       "       [ 1.4189409 ,  0.7037606 ,  0.7451971 , ...,  0.66440964,\n",
       "        -0.23250376, -0.14018784],\n",
       "       [ 1.4214538 ,  0.60915434,  0.72883713, ...,  0.28066927,\n",
       "         0.09089696, -0.273278  ],\n",
       "       [ 1.5010662 ,  0.85886943,  0.50399363, ...,  0.41595036,\n",
       "         0.18407018, -0.19370802]], dtype=float32)"
      ]
     },
     "execution_count": 282,
     "metadata": {},
     "output_type": "execute_result"
    }
   ],
   "source": [
    "doc_vec_train"
   ]
  },
  {
   "cell_type": "markdown",
   "metadata": {},
   "source": [
    "## Word2Vec - Load pre-trained model"
   ]
  },
  {
   "cell_type": "code",
   "execution_count": 197,
   "metadata": {},
   "outputs": [
    {
     "name": "stdout",
     "output_type": "stream",
     "text": [
      "['fasttext-wiki-news-subwords-300', 'conceptnet-numberbatch-17-06-300', 'word2vec-ruscorpora-300', 'word2vec-google-news-300', 'glove-wiki-gigaword-50', 'glove-wiki-gigaword-100', 'glove-wiki-gigaword-200', 'glove-wiki-gigaword-300', 'glove-twitter-25', 'glove-twitter-50', 'glove-twitter-100', 'glove-twitter-200', '__testing_word2vec-matrix-synopsis']\n"
     ]
    }
   ],
   "source": [
    "import gensim.downloader as api\n",
    "print(list(api.info()['models'].keys()))"
   ]
  },
  {
   "cell_type": "code",
   "execution_count": 198,
   "metadata": {},
   "outputs": [
    {
     "name": "stdout",
     "output_type": "stream",
     "text": [
      "[==================================================] 100.0% 1662.8/1662.8MB downloaded\n"
     ]
    }
   ],
   "source": [
    "model = api.load(\"word2vec-google-news-300\")"
   ]
  },
  {
   "cell_type": "code",
   "execution_count": 208,
   "metadata": {},
   "outputs": [
    {
     "ename": "KeyboardInterrupt",
     "evalue": "",
     "output_type": "error",
     "traceback": [
      "\u001b[1;31m---------------------------------------------------------------------------\u001b[0m",
      "\u001b[1;31mKeyboardInterrupt\u001b[0m                         Traceback (most recent call last)",
      "\u001b[1;32m<ipython-input-208-d27e9f681836>\u001b[0m in \u001b[0;36m<module>\u001b[1;34m\u001b[0m\n\u001b[0;32m      6\u001b[0m     \u001b[1;32mfor\u001b[0m \u001b[0mword\u001b[0m \u001b[1;32min\u001b[0m \u001b[0mdoc\u001b[0m\u001b[1;33m.\u001b[0m\u001b[0msplit\u001b[0m\u001b[1;33m(\u001b[0m\u001b[1;33m)\u001b[0m\u001b[1;33m:\u001b[0m\u001b[1;33m\u001b[0m\u001b[1;33m\u001b[0m\u001b[0m\n\u001b[0;32m      7\u001b[0m         \u001b[1;32mif\u001b[0m \u001b[0mword\u001b[0m \u001b[1;32min\u001b[0m \u001b[0mlist\u001b[0m\u001b[1;33m(\u001b[0m\u001b[0mmodel\u001b[0m\u001b[1;33m.\u001b[0m\u001b[0mkey_to_index\u001b[0m\u001b[1;33m)\u001b[0m\u001b[1;33m:\u001b[0m\u001b[1;33m\u001b[0m\u001b[1;33m\u001b[0m\u001b[0m\n\u001b[1;32m----> 8\u001b[1;33m             \u001b[0mtext_embed\u001b[0m \u001b[1;33m=\u001b[0m \u001b[0mnp\u001b[0m\u001b[1;33m.\u001b[0m\u001b[0madd\u001b[0m\u001b[1;33m(\u001b[0m\u001b[0mtext_embed\u001b[0m\u001b[1;33m,\u001b[0m \u001b[0mmodel\u001b[0m\u001b[1;33m[\u001b[0m\u001b[0mword\u001b[0m\u001b[1;33m]\u001b[0m\u001b[1;33m)\u001b[0m\u001b[1;33m\u001b[0m\u001b[1;33m\u001b[0m\u001b[0m\n\u001b[0m\u001b[0;32m      9\u001b[0m         \u001b[1;32melse\u001b[0m\u001b[1;33m:\u001b[0m\u001b[1;33m\u001b[0m\u001b[1;33m\u001b[0m\u001b[0m\n\u001b[0;32m     10\u001b[0m             \u001b[0mwords_not_found\u001b[0m\u001b[1;33m.\u001b[0m\u001b[0mappend\u001b[0m\u001b[1;33m(\u001b[0m\u001b[0mword\u001b[0m\u001b[1;33m)\u001b[0m\u001b[1;33m\u001b[0m\u001b[1;33m\u001b[0m\u001b[0m\n",
      "\u001b[1;31mKeyboardInterrupt\u001b[0m: "
     ]
    }
   ],
   "source": [
    "docs = train_df[\"document\"]\n",
    "words_not_found = []\n",
    "text_embed = np.array(1)\n",
    "\n",
    "for doc in docs:\n",
    "    for word in doc.split():\n",
    "        if word in list(model.key_to_index):    \n",
    "            text_embed = np.add(text_embed, model[word])\n",
    "        else:\n",
    "            words_not_found.append(word)\n",
    "    text_embed = np.divide(text_embed, len(doc.split()))"
   ]
  },
  {
   "cell_type": "code",
   "execution_count": null,
   "metadata": {},
   "outputs": [],
   "source": [
    "# ready trained word2vec\n",
    "\n",
    "path = ''\n",
    "model = KeyedVectors.load_word2vec_format(path+'GoogleNews-vectors-negative300.bin', binary=True)\n",
    "\n",
    "print('preparing embedding matrix...')\n",
    "words_not_found = []\n",
    "text_embed = []\n",
    "for word in text.split():\n",
    "     if word in list(model.wv.key_to_index):    \n",
    "        text_embed = np.add(text_embed, model.wv[word])\n",
    "    else:\n",
    "        words_not_found.append(word)\n",
    "text_embed = np.divide(text_embed, len(text.split()))\n",
    "#print(\"sample words not found: \", words_not_found)"
   ]
  },
  {
   "cell_type": "markdown",
   "metadata": {},
   "source": [
    "## Word2Vec - NaiveBayes"
   ]
  },
  {
   "cell_type": "code",
   "execution_count": 278,
   "metadata": {},
   "outputs": [
    {
     "name": "stdout",
     "output_type": "stream",
     "text": [
      "[[27  3  9 ...  4  2 43]\n",
      " [ 2  0  0 ...  0  1  1]\n",
      " [ 0  0  3 ...  0  0  0]\n",
      " ...\n",
      " [ 0  0  0 ...  4  0  0]\n",
      " [ 0  0  0 ...  0  0  0]\n",
      " [ 0  0  0 ...  0  0  1]]\n",
      "(90, 90)\n",
      "accuracy:  0.2708333333333333\n",
      "f1 score:  0.29018497209131483\n"
     ]
    },
    {
     "data": {
      "text/plain": [
       "(0.2708333333333333, 0.29018497209131483)"
      ]
     },
     "execution_count": 278,
     "metadata": {},
     "output_type": "execute_result"
    }
   ],
   "source": [
    "nb_classifier(doc_vec_train,doc_vec_test)"
   ]
  },
  {
   "cell_type": "markdown",
   "metadata": {},
   "source": [
    "# 8. Now we would like to tackle the discrepancy of the number of instances in training data among the various categories. For this purpose, create a new partition, where you remove the categories that contains very large number of instances and very low number of instances as compared to the rest of the categories. Repeat 3) and provide the results on the table. "
   ]
  },
  {
   "cell_type": "code",
   "execution_count": null,
   "metadata": {},
   "outputs": [],
   "source": []
  },
  {
   "cell_type": "markdown",
   "metadata": {},
   "source": [
    "# 9. Similarly, use word2vec model to calculate the new performance on the testing data for the new set of categories in 8)."
   ]
  },
  {
   "cell_type": "code",
   "execution_count": null,
   "metadata": {},
   "outputs": [],
   "source": []
  },
  {
   "cell_type": "markdown",
   "metadata": {},
   "source": [
    "# 10. Now we would like to handle the data discrepancy in the class, we would like to perform data augmentation on the small size classes. For this purpose, for the classes, which contain small number of instances, write a script that allows you to duplicate the number of small samples at an order close to the average of other classes. Then repeat the process 3) and test whether an enhancement of the results on the testing data can be noticed.\n",
    " "
   ]
  },
  {
   "cell_type": "code",
   "execution_count": null,
   "metadata": {},
   "outputs": [],
   "source": []
  },
  {
   "cell_type": "markdown",
   "metadata": {},
   "source": [
    "# 11. Now we would like to test the influence of the multi-category documents on the classification. For this purpose, write a script, which scrutinizes the training set, so that every document, which is found to belong to more than one category in the training set is removed. Repeat 3) and word2vec model to evaluate the performance of the model on the test data, and discuss the contribution of this removal action. "
   ]
  },
  {
   "cell_type": "code",
   "execution_count": null,
   "metadata": {},
   "outputs": [],
   "source": []
  },
  {
   "cell_type": "markdown",
   "metadata": {},
   "source": [
    "# 12. Use appropriate literature in order to comment on your findings. "
   ]
  },
  {
   "cell_type": "markdown",
   "metadata": {},
   "source": []
  }
 ],
 "metadata": {
  "interpreter": {
   "hash": "aa0c649c3563e892d1a689eab39f2dea45a71cdb0f22288b6575c89c9de86787"
  },
  "kernelspec": {
   "display_name": "Python 3.9.4 64-bit",
   "name": "python3"
  },
  "language_info": {
   "codemirror_mode": {
    "name": "ipython",
    "version": 3
   },
   "file_extension": ".py",
   "mimetype": "text/x-python",
   "name": "python",
   "nbconvert_exporter": "python",
   "pygments_lexer": "ipython3",
   "version": "3.9.4"
  }
 },
 "nbformat": 4,
 "nbformat_minor": 2
}
