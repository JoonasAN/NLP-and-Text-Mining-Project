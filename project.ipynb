{
 "cells": [
  {
   "cell_type": "code",
   "execution_count": 1,
   "metadata": {},
   "outputs": [],
   "source": [
    "#!pip install nltk\n",
    "#!pip install gensim\n",
    "#!pip install Cython\n",
    "\n",
    "from tqdm.notebook import tqdm\n",
    "import itertools\n",
    "#nltk.download(\"reuters\")\n",
    "\n",
    "import pandas as pd\n",
    "import numpy as np\n",
    "import matplotlib.pyplot as plt \n",
    "\n",
    "\n",
    "from string import punctuation\n",
    "\n",
    "from nltk.corpus import reuters, stopwords\n",
    "from nltk.stem import WordNetLemmatizer\n",
    "from nltk.tokenize import sent_tokenize, word_tokenize\n",
    "\n",
    "from sklearn.feature_extraction.text import CountVectorizer,TfidfVectorizer\n",
    "from sklearn.naive_bayes import GaussianNB, MultinomialNB, ComplementNB, CategoricalNB\n",
    "from sklearn import metrics\n",
    "from sklearn.ensemble import RandomForestClassifier\n",
    "from sklearn.svm import LinearSVC, SVC\n",
    "from sklearn.preprocessing import StandardScaler\n",
    "from sklearn.decomposition import PCA\n",
    "from sklearn.feature_extraction.text import TfidfVectorizer\n",
    "from sklearn.model_selection import train_test_split\n",
    "\n",
    "from gensim.models import Word2Vec, KeyedVectors"
   ]
  },
  {
   "cell_type": "markdown",
   "metadata": {},
   "source": [
    "## checking dataset"
   ]
  },
  {
   "cell_type": "code",
   "execution_count": 2,
   "metadata": {},
   "outputs": [
    {
     "data": {
      "text/plain": [
       "['barley', 'corn', 'grain', 'wheat']"
      ]
     },
     "execution_count": 2,
     "metadata": {},
     "output_type": "execute_result"
    }
   ],
   "source": [
    "reuters.categories(\"training/9865\")"
   ]
  },
  {
   "cell_type": "code",
   "execution_count": 3,
   "metadata": {},
   "outputs": [
    {
     "data": {
      "text/plain": [
       "'training/9958'"
      ]
     },
     "execution_count": 3,
     "metadata": {},
     "output_type": "execute_result"
    }
   ],
   "source": [
    "reuters.fileids(\"barley\")[50]"
   ]
  },
  {
   "cell_type": "code",
   "execution_count": 4,
   "metadata": {},
   "outputs": [
    {
     "data": {
      "text/plain": [
       "['FRENCH', 'FREE', 'MARKET', 'CEREAL', 'EXPORT', ...]"
      ]
     },
     "execution_count": 4,
     "metadata": {},
     "output_type": "execute_result"
    }
   ],
   "source": [
    "reuters.words(\"training/9865\")"
   ]
  },
  {
   "cell_type": "markdown",
   "metadata": {},
   "source": [
    "# 1.\tUse appropriate NLTK coding to visualize the number of documents per category in the training set. Is the dataset class balanced? Motivate your answer."
   ]
  },
  {
   "cell_type": "markdown",
   "metadata": {},
   "source": [
    "## Create and visualize number of documents per category"
   ]
  },
  {
   "cell_type": "code",
   "execution_count": 5,
   "metadata": {},
   "outputs": [
    {
     "data": {
      "text/html": [
       "<div>\n",
       "<style scoped>\n",
       "    .dataframe tbody tr th:only-of-type {\n",
       "        vertical-align: middle;\n",
       "    }\n",
       "\n",
       "    .dataframe tbody tr th {\n",
       "        vertical-align: top;\n",
       "    }\n",
       "\n",
       "    .dataframe thead th {\n",
       "        text-align: right;\n",
       "    }\n",
       "</style>\n",
       "<table border=\"1\" class=\"dataframe\">\n",
       "  <thead>\n",
       "    <tr style=\"text-align: right;\">\n",
       "      <th></th>\n",
       "      <th>category</th>\n",
       "      <th>Num_docs</th>\n",
       "    </tr>\n",
       "  </thead>\n",
       "  <tbody>\n",
       "    <tr>\n",
       "      <th>0</th>\n",
       "      <td>acq</td>\n",
       "      <td>2369</td>\n",
       "    </tr>\n",
       "    <tr>\n",
       "      <th>1</th>\n",
       "      <td>alum</td>\n",
       "      <td>58</td>\n",
       "    </tr>\n",
       "    <tr>\n",
       "      <th>2</th>\n",
       "      <td>barley</td>\n",
       "      <td>51</td>\n",
       "    </tr>\n",
       "    <tr>\n",
       "      <th>3</th>\n",
       "      <td>bop</td>\n",
       "      <td>105</td>\n",
       "    </tr>\n",
       "    <tr>\n",
       "      <th>4</th>\n",
       "      <td>carcass</td>\n",
       "      <td>68</td>\n",
       "    </tr>\n",
       "    <tr>\n",
       "      <th>...</th>\n",
       "      <td>...</td>\n",
       "      <td>...</td>\n",
       "    </tr>\n",
       "    <tr>\n",
       "      <th>85</th>\n",
       "      <td>veg-oil</td>\n",
       "      <td>124</td>\n",
       "    </tr>\n",
       "    <tr>\n",
       "      <th>86</th>\n",
       "      <td>wheat</td>\n",
       "      <td>283</td>\n",
       "    </tr>\n",
       "    <tr>\n",
       "      <th>87</th>\n",
       "      <td>wpi</td>\n",
       "      <td>29</td>\n",
       "    </tr>\n",
       "    <tr>\n",
       "      <th>88</th>\n",
       "      <td>yen</td>\n",
       "      <td>59</td>\n",
       "    </tr>\n",
       "    <tr>\n",
       "      <th>89</th>\n",
       "      <td>zinc</td>\n",
       "      <td>34</td>\n",
       "    </tr>\n",
       "  </tbody>\n",
       "</table>\n",
       "<p>90 rows × 2 columns</p>\n",
       "</div>"
      ],
      "text/plain": [
       "   category  Num_docs\n",
       "0       acq      2369\n",
       "1      alum        58\n",
       "2    barley        51\n",
       "3       bop       105\n",
       "4   carcass        68\n",
       "..      ...       ...\n",
       "85  veg-oil       124\n",
       "86    wheat       283\n",
       "87      wpi        29\n",
       "88      yen        59\n",
       "89     zinc        34\n",
       "\n",
       "[90 rows x 2 columns]"
      ]
     },
     "execution_count": 5,
     "metadata": {},
     "output_type": "execute_result"
    }
   ],
   "source": [
    "frame = {\"category\":[], \"Num_docs\":[]}          # initialize frame with empty lists\n",
    "for i in reuters.categories():                  # iterate through categories\n",
    "    documents_num = len(reuters.fileids(i))         # get number of documents/category\n",
    "\n",
    "    #print(f\"{i} has {documents} documents\")\n",
    "    frame[\"category\"].append(i)                 # Append category name and\n",
    "    frame[\"Num_docs\"].append(documents_num)         # number of documents on approppriate column\n",
    "\n",
    "data=pd.DataFrame(data=frame)                   # make dataframe fr\n",
    "#data[\"category_id\"] = data[\"category\"].factorize()[0] \n",
    "data # check data\n"
   ]
  },
  {
   "cell_type": "markdown",
   "metadata": {},
   "source": [
    "Plot bar graph with matplotlib and annotate categories that have more than 400 documents (name only these to keep plot readable)"
   ]
  },
  {
   "cell_type": "code",
   "execution_count": 6,
   "metadata": {},
   "outputs": [
    {
     "data": {
      "image/png": "[encoded data removed]",
      "text/plain": [
       "<Figure size 432x288 with 1 Axes>"
      ]
     },
     "metadata": {
      "needs_background": "light"
     },
     "output_type": "display_data"
    }
   ],
   "source": [
    "# make new dataframe from rows which num_docs >= 400 to annotate\n",
    "df = data.query('Num_docs >= 400')\n",
    "\n",
    "# bar plot with matplotlib in Python\n",
    "plt.bar(data.index, data.Num_docs, alpha=1)   \n",
    "\n",
    "# iterate through index\n",
    "for i in df.index:                                      \n",
    "    plt.annotate(data.iloc[i,0], (i,data.iloc[i,1]))    # add categories names to datapoints which are >= 400\n",
    "\n",
    "# set x-axis label and specific size\n",
    "plt.xlabel('category',size=16)                          \n",
    "# set y-axis label and specific size\n",
    "plt.ylabel('Num_docs',size=16)\n",
    "# set plot title with specific size\n",
    "plt.title('Number of documents / category',size=16)\n",
    "# save the plot as PNG file with dpi=150\n",
    "#plt.savefig('docs_per_category.png', dpi=150)\n",
    "plt.show()"
   ]
  },
  {
   "cell_type": "markdown",
   "metadata": {},
   "source": [
    "# 2. Construct the feature set using CountVectorizer of the training dataset so that the maximum size of the feature set is 100 and each word feature should be contained in at least 3 documents and in less than 70% of total documents to be considered. Use standard preprocessing and stopword list, with WordNet lemmatizer."
   ]
  },
  {
   "cell_type": "markdown",
   "metadata": {},
   "source": [
    "## Preprosessor"
   ]
  },
  {
   "cell_type": "code",
   "execution_count": 7,
   "metadata": {},
   "outputs": [],
   "source": [
    "#(not used)\n",
    "\n",
    "def preProcess_words(doc):\n",
    "    wnl = WordNetLemmatizer()\n",
    "    # Lemmatize all words from document and make list of them\n",
    "    words_lemma = [wnl.lemmatize(word.lower(), pos=\"v\") for word in doc]\n",
    "    # iterate through punctuations\n",
    "    for punct in punctuation:\n",
    "        # iterate through tokens in document (copy because removing items from original list)\n",
    "        for token in words_lemma[:]:    \n",
    "            try:\n",
    "                # remove digits/numbers from list\n",
    "                if token.isdigit():\n",
    "                    words_lemma.remove(token)\n",
    "                # remove stopwords from list\n",
    "                if token in stopwords.words(\"english\"):\n",
    "                    words_lemma.remove(token)\n",
    "                # remove punctuation from list\n",
    "                words_lemma.remove(punct)\n",
    "            except ValueError:\n",
    "                continue\n",
    "  \n",
    "    return words_lemma"
   ]
  },
  {
   "cell_type": "code",
   "execution_count": 8,
   "metadata": {},
   "outputs": [],
   "source": [
    "def preProcess_raw(doc):\n",
    "    \"\"\"Removes stopwords, punctuation, and digits. Also Tokenizes and Lemmatizes the text\"\"\"\n",
    "    wnl = WordNetLemmatizer()\n",
    "\n",
    "    doc = doc.lower() # make lower case\n",
    "    stop_words = stopwords.words(\"english\")\n",
    "\n",
    "    # iterate through punctuations\n",
    "    for punct in (punctuation + \"\\n\"):\n",
    "        doc = doc.replace(punct, \"\")    # remove punctuation\n",
    "    \n",
    "    #for stop in stopwords.words(\"english\"):\n",
    "    #    doc = doc.replace(stop, \"\")       # remove stopwords\n",
    "\n",
    "    doc = word_tokenize(doc)    # tokenize\n",
    "\n",
    "\n",
    "    for token in doc[:]:\n",
    "        if token.isdigit():     # remove digits\n",
    "            doc.remove(token)\n",
    "        if token in stop_words:\n",
    "            doc.remove(token)\n",
    "    \n",
    "    words_lemma = [wnl.lemmatize(word, pos=\"v\") for word in doc]\n",
    "  \n",
    "    return words_lemma"
   ]
  },
  {
   "cell_type": "code",
   "execution_count": 9,
   "metadata": {},
   "outputs": [
    {
     "data": {
      "text/plain": [
       "['want', 'see']"
      ]
     },
     "execution_count": 9,
     "metadata": {},
     "output_type": "execute_result"
    }
   ],
   "source": [
    "preProcess_raw(\"I wanted to see, her in the 10293 , *\")"
   ]
  },
  {
   "cell_type": "code",
   "execution_count": 10,
   "metadata": {},
   "outputs": [
    {
     "data": {
      "text/plain": [
       "['want', 'see']"
      ]
     },
     "execution_count": 10,
     "metadata": {},
     "output_type": "execute_result"
    }
   ],
   "source": [
    "preProcess_raw(\"I wanted to see, her in the 10293 , *\")"
   ]
  },
  {
   "cell_type": "markdown",
   "metadata": {},
   "source": [
    "## Make function to apply CountVectorizer"
   ]
  },
  {
   "cell_type": "code",
   "execution_count": 11,
   "metadata": {},
   "outputs": [],
   "source": [
    "# Use class to define tokenizer that also applies WordNetLemmatizer to CountVectorizer\n",
    "class LemmaTokenizer(object):\n",
    "    def __init__(self):\n",
    "        self.wnl = WordNetLemmatizer()\n",
    "    def __call__(self, articles):\n",
    "        return [self.wnl.lemmatize(t) for t in word_tokenize(articles)]"
   ]
  },
  {
   "cell_type": "code",
   "execution_count": 12,
   "metadata": {},
   "outputs": [],
   "source": [
    "# define countVectrizer and fit\n",
    "\n",
    "def BOW_model(train_data, test_data, max_features):\n",
    "    \"\"\"Return feature vectors from CounVectorizer\"\"\"\n",
    "    BOW = CountVectorizer(#tokenizer=LemmaTokenizer(), \n",
    "                          #lowercase=True, \n",
    "                          max_features = max_features, \n",
    "                          stop_words = \"english\", \n",
    "                          min_df = 3, max_df = 0.7)\n",
    "    # fit train data\n",
    "    BOW.fit(train_data)\n",
    "    BOW_train = BOW.transform(train_data)\n",
    "    BOW_test = BOW.transform(test_data)\n",
    " \n",
    "    #print(BOW.get_feature_names())\n",
    "    return (BOW_train.toarray(), BOW_test.toarray())"
   ]
  },
  {
   "cell_type": "markdown",
   "metadata": {},
   "source": [
    "## Extract data from reuters Dataset and divide to pre determined Training and Test variables"
   ]
  },
  {
   "cell_type": "code",
   "execution_count": 13,
   "metadata": {},
   "outputs": [],
   "source": [
    "# select fileid\n",
    "doc_list = np.array(reuters.fileids())\n",
    "\n",
    "# create test and train IDs from documents\n",
    "test_doc = doc_list[['test' in x for x in doc_list]]\n",
    "\n",
    "train_doc = doc_list[['training' in x for x in doc_list]]"
   ]
  },
  {
   "cell_type": "markdown",
   "metadata": {},
   "source": [
    "## Get labels ( categories ) for each document and create Dataframes"
   ]
  },
  {
   "cell_type": "code",
   "execution_count": 14,
   "metadata": {},
   "outputs": [],
   "source": [
    "\n",
    "def create_df(data):\n",
    "    \"\"\"Create DataFrames to visualise data a bit and duplicate multi-categorial documents so that they have just one category but appear multiple times.\n",
    "    - data: list of documents (e.g. train and test data)\"\"\"\n",
    "\n",
    "\n",
    "    docs=[]\n",
    "\n",
    "    for ids in tqdm(data, desc=\"processing documents\"):\n",
    "        cats = reuters.categories(ids)      # At each iteration we retrieve categories of an id\n",
    "        #doc = reuters.words(ids)\n",
    "        #doc = preProcess_words(doc)\n",
    "        doc = reuters.raw(ids)\n",
    "        doc = preProcess_raw(doc)\n",
    "        doc_join = \" \".join(doc)\n",
    "        for cat in cats:\n",
    "            docs.append([doc_join, doc, cat, ids]) # These documents are appended as a tuple (document, category, ids) in the list, iterate as many times as there is unique categories\n",
    "    \n",
    "    # docs=[(\" \".join(reuters.words(ids)), cat, ids) for ids in train_doc for cat in reuters.categories(ids)] # list comprehension for loop\n",
    "\n",
    "    df=pd.DataFrame(docs, columns=[\"document\",'words_list', 'category','ids']) # The data frame is created using the generated tuple.\n",
    "\n",
    "    #df # check dataframe\n",
    "    return df\n",
    "\n",
    "# train_df[\"ids\"].duplicated().value_counts() # checks how many duplicates because of categories\n"
   ]
  },
  {
   "cell_type": "code",
   "execution_count": 15,
   "metadata": {},
   "outputs": [
    {
     "data": {
      "application/vnd.jupyter.widget-view+json": {
       "model_id": "40fda1e948484c5d89319e402d67abbd",
       "version_major": 2,
       "version_minor": 0
      },
      "text/plain": [
       "processing documents:   0%|          | 0/7769 [00:00<?, ?it/s]"
      ]
     },
     "metadata": {},
     "output_type": "display_data"
    },
    {
     "data": {
      "text/html": [
       "<div>\n",
       "<style scoped>\n",
       "    .dataframe tbody tr th:only-of-type {\n",
       "        vertical-align: middle;\n",
       "    }\n",
       "\n",
       "    .dataframe tbody tr th {\n",
       "        vertical-align: top;\n",
       "    }\n",
       "\n",
       "    .dataframe thead th {\n",
       "        text-align: right;\n",
       "    }\n",
       "</style>\n",
       "<table border=\"1\" class=\"dataframe\">\n",
       "  <thead>\n",
       "    <tr style=\"text-align: right;\">\n",
       "      <th></th>\n",
       "      <th>document</th>\n",
       "      <th>words_list</th>\n",
       "      <th>category</th>\n",
       "      <th>ids</th>\n",
       "    </tr>\n",
       "  </thead>\n",
       "  <tbody>\n",
       "    <tr>\n",
       "      <th>0</th>\n",
       "      <td>bahia cocoa review shower continue throughout ...</td>\n",
       "      <td>[bahia, cocoa, review, shower, continue, throu...</td>\n",
       "      <td>cocoa</td>\n",
       "      <td>training/1</td>\n",
       "    </tr>\n",
       "    <tr>\n",
       "      <th>1</th>\n",
       "      <td>computer terminal systems ltcpml complete sale...</td>\n",
       "      <td>[computer, terminal, systems, ltcpml, complete...</td>\n",
       "      <td>acq</td>\n",
       "      <td>training/10</td>\n",
       "    </tr>\n",
       "    <tr>\n",
       "      <th>2</th>\n",
       "      <td>nz trade bank deposit growth rise slightly new...</td>\n",
       "      <td>[nz, trade, bank, deposit, growth, rise, sligh...</td>\n",
       "      <td>money-supply</td>\n",
       "      <td>training/100</td>\n",
       "    </tr>\n",
       "    <tr>\n",
       "      <th>3</th>\n",
       "      <td>national amusements up viacom ltvia bid viacom...</td>\n",
       "      <td>[national, amusements, up, viacom, ltvia, bid,...</td>\n",
       "      <td>acq</td>\n",
       "      <td>training/1000</td>\n",
       "    </tr>\n",
       "    <tr>\n",
       "      <th>4</th>\n",
       "      <td>rogers ltrog see 1st qtr net significantly rog...</td>\n",
       "      <td>[rogers, ltrog, see, 1st, qtr, net, significan...</td>\n",
       "      <td>earn</td>\n",
       "      <td>training/10000</td>\n",
       "    </tr>\n",
       "    <tr>\n",
       "      <th>...</th>\n",
       "      <td>...</td>\n",
       "      <td>...</td>\n",
       "      <td>...</td>\n",
       "      <td>...</td>\n",
       "    </tr>\n",
       "    <tr>\n",
       "      <th>9579</th>\n",
       "      <td>uk money market shortage forecast revise bank ...</td>\n",
       "      <td>[uk, money, market, shortage, forecast, revise...</td>\n",
       "      <td>money-fx</td>\n",
       "      <td>training/999</td>\n",
       "    </tr>\n",
       "    <tr>\n",
       "      <th>9580</th>\n",
       "      <td>knightridder inc ltkrn set quarterly qtly div ...</td>\n",
       "      <td>[knightridder, inc, ltkrn, set, quarterly, qtl...</td>\n",
       "      <td>earn</td>\n",
       "      <td>training/9992</td>\n",
       "    </tr>\n",
       "    <tr>\n",
       "      <th>9581</th>\n",
       "      <td>technitrol inc lttnl set quarterly qtly div ct...</td>\n",
       "      <td>[technitrol, inc, lttnl, set, quarterly, qtly,...</td>\n",
       "      <td>earn</td>\n",
       "      <td>training/9993</td>\n",
       "    </tr>\n",
       "    <tr>\n",
       "      <th>9582</th>\n",
       "      <td>nationwide cellular service inc ltncel 4th qtr...</td>\n",
       "      <td>[nationwide, cellular, service, inc, ltncel, 4...</td>\n",
       "      <td>earn</td>\n",
       "      <td>training/9994</td>\n",
       "    </tr>\n",
       "    <tr>\n",
       "      <th>9583</th>\n",
       "      <td>ltaha automotive technologies corp year net sh...</td>\n",
       "      <td>[ltaha, automotive, technologies, corp, year, ...</td>\n",
       "      <td>earn</td>\n",
       "      <td>training/9995</td>\n",
       "    </tr>\n",
       "  </tbody>\n",
       "</table>\n",
       "<p>9584 rows × 4 columns</p>\n",
       "</div>"
      ],
      "text/plain": [
       "                                               document  \\\n",
       "0     bahia cocoa review shower continue throughout ...   \n",
       "1     computer terminal systems ltcpml complete sale...   \n",
       "2     nz trade bank deposit growth rise slightly new...   \n",
       "3     national amusements up viacom ltvia bid viacom...   \n",
       "4     rogers ltrog see 1st qtr net significantly rog...   \n",
       "...                                                 ...   \n",
       "9579  uk money market shortage forecast revise bank ...   \n",
       "9580  knightridder inc ltkrn set quarterly qtly div ...   \n",
       "9581  technitrol inc lttnl set quarterly qtly div ct...   \n",
       "9582  nationwide cellular service inc ltncel 4th qtr...   \n",
       "9583  ltaha automotive technologies corp year net sh...   \n",
       "\n",
       "                                             words_list      category  \\\n",
       "0     [bahia, cocoa, review, shower, continue, throu...         cocoa   \n",
       "1     [computer, terminal, systems, ltcpml, complete...           acq   \n",
       "2     [nz, trade, bank, deposit, growth, rise, sligh...  money-supply   \n",
       "3     [national, amusements, up, viacom, ltvia, bid,...           acq   \n",
       "4     [rogers, ltrog, see, 1st, qtr, net, significan...          earn   \n",
       "...                                                 ...           ...   \n",
       "9579  [uk, money, market, shortage, forecast, revise...      money-fx   \n",
       "9580  [knightridder, inc, ltkrn, set, quarterly, qtl...          earn   \n",
       "9581  [technitrol, inc, lttnl, set, quarterly, qtly,...          earn   \n",
       "9582  [nationwide, cellular, service, inc, ltncel, 4...          earn   \n",
       "9583  [ltaha, automotive, technologies, corp, year, ...          earn   \n",
       "\n",
       "                 ids  \n",
       "0         training/1  \n",
       "1        training/10  \n",
       "2       training/100  \n",
       "3      training/1000  \n",
       "4     training/10000  \n",
       "...              ...  \n",
       "9579    training/999  \n",
       "9580   training/9992  \n",
       "9581   training/9993  \n",
       "9582   training/9994  \n",
       "9583   training/9995  \n",
       "\n",
       "[9584 rows x 4 columns]"
      ]
     },
     "execution_count": 15,
     "metadata": {},
     "output_type": "execute_result"
    }
   ],
   "source": [
    "train_df = create_df(train_doc)\n",
    "train_df"
   ]
  },
  {
   "cell_type": "code",
   "execution_count": 16,
   "metadata": {},
   "outputs": [
    {
     "data": {
      "application/vnd.jupyter.widget-view+json": {
       "model_id": "61d4868eb56e4495be1aba3a61573e36",
       "version_major": 2,
       "version_minor": 0
      },
      "text/plain": [
       "processing documents:   0%|          | 0/3019 [00:00<?, ?it/s]"
      ]
     },
     "metadata": {},
     "output_type": "display_data"
    },
    {
     "data": {
      "text/html": [
       "<div>\n",
       "<style scoped>\n",
       "    .dataframe tbody tr th:only-of-type {\n",
       "        vertical-align: middle;\n",
       "    }\n",
       "\n",
       "    .dataframe tbody tr th {\n",
       "        vertical-align: top;\n",
       "    }\n",
       "\n",
       "    .dataframe thead th {\n",
       "        text-align: right;\n",
       "    }\n",
       "</style>\n",
       "<table border=\"1\" class=\"dataframe\">\n",
       "  <thead>\n",
       "    <tr style=\"text-align: right;\">\n",
       "      <th></th>\n",
       "      <th>document</th>\n",
       "      <th>words_list</th>\n",
       "      <th>category</th>\n",
       "      <th>ids</th>\n",
       "    </tr>\n",
       "  </thead>\n",
       "  <tbody>\n",
       "    <tr>\n",
       "      <th>0</th>\n",
       "      <td>asian exporters fear damage usjapan rift mount...</td>\n",
       "      <td>[asian, exporters, fear, damage, usjapan, rift...</td>\n",
       "      <td>trade</td>\n",
       "      <td>test/14826</td>\n",
       "    </tr>\n",
       "    <tr>\n",
       "      <th>1</th>\n",
       "      <td>china daily say vermin eat pct grain stock sur...</td>\n",
       "      <td>[china, daily, say, vermin, eat, pct, grain, s...</td>\n",
       "      <td>grain</td>\n",
       "      <td>test/14828</td>\n",
       "    </tr>\n",
       "    <tr>\n",
       "      <th>2</th>\n",
       "      <td>japan revise longterm energy demand downwards ...</td>\n",
       "      <td>[japan, revise, longterm, energy, demand, down...</td>\n",
       "      <td>crude</td>\n",
       "      <td>test/14829</td>\n",
       "    </tr>\n",
       "    <tr>\n",
       "      <th>3</th>\n",
       "      <td>japan revise longterm energy demand downwards ...</td>\n",
       "      <td>[japan, revise, longterm, energy, demand, down...</td>\n",
       "      <td>nat-gas</td>\n",
       "      <td>test/14829</td>\n",
       "    </tr>\n",
       "    <tr>\n",
       "      <th>4</th>\n",
       "      <td>thai trade deficit widen first quarter thailan...</td>\n",
       "      <td>[thai, trade, deficit, widen, first, quarter, ...</td>\n",
       "      <td>corn</td>\n",
       "      <td>test/14832</td>\n",
       "    </tr>\n",
       "    <tr>\n",
       "      <th>...</th>\n",
       "      <td>...</td>\n",
       "      <td>...</td>\n",
       "      <td>...</td>\n",
       "      <td>...</td>\n",
       "    </tr>\n",
       "    <tr>\n",
       "      <th>3739</th>\n",
       "      <td>tokyo dealers see dollar poise breach yen toky...</td>\n",
       "      <td>[tokyo, dealers, see, dollar, poise, breach, y...</td>\n",
       "      <td>money-fx</td>\n",
       "      <td>test/21573</td>\n",
       "    </tr>\n",
       "    <tr>\n",
       "      <th>3740</th>\n",
       "      <td>tokyo dealers see dollar poise breach yen toky...</td>\n",
       "      <td>[tokyo, dealers, see, dollar, poise, breach, y...</td>\n",
       "      <td>yen</td>\n",
       "      <td>test/21573</td>\n",
       "    </tr>\n",
       "    <tr>\n",
       "      <th>3741</th>\n",
       "      <td>japanindia conference cut gulf war risk charge...</td>\n",
       "      <td>[japanindia, conference, cut, gulf, war, risk,...</td>\n",
       "      <td>ship</td>\n",
       "      <td>test/21574</td>\n",
       "    </tr>\n",
       "    <tr>\n",
       "      <th>3742</th>\n",
       "      <td>soviet industrial growthtrade slower soviet un...</td>\n",
       "      <td>[soviet, industrial, growthtrade, slower, sovi...</td>\n",
       "      <td>ipi</td>\n",
       "      <td>test/21575</td>\n",
       "    </tr>\n",
       "    <tr>\n",
       "      <th>3743</th>\n",
       "      <td>six kill south african gold mine accident six ...</td>\n",
       "      <td>[six, kill, south, african, gold, mine, accide...</td>\n",
       "      <td>gold</td>\n",
       "      <td>test/21576</td>\n",
       "    </tr>\n",
       "  </tbody>\n",
       "</table>\n",
       "<p>3744 rows × 4 columns</p>\n",
       "</div>"
      ],
      "text/plain": [
       "                                               document  \\\n",
       "0     asian exporters fear damage usjapan rift mount...   \n",
       "1     china daily say vermin eat pct grain stock sur...   \n",
       "2     japan revise longterm energy demand downwards ...   \n",
       "3     japan revise longterm energy demand downwards ...   \n",
       "4     thai trade deficit widen first quarter thailan...   \n",
       "...                                                 ...   \n",
       "3739  tokyo dealers see dollar poise breach yen toky...   \n",
       "3740  tokyo dealers see dollar poise breach yen toky...   \n",
       "3741  japanindia conference cut gulf war risk charge...   \n",
       "3742  soviet industrial growthtrade slower soviet un...   \n",
       "3743  six kill south african gold mine accident six ...   \n",
       "\n",
       "                                             words_list  category         ids  \n",
       "0     [asian, exporters, fear, damage, usjapan, rift...     trade  test/14826  \n",
       "1     [china, daily, say, vermin, eat, pct, grain, s...     grain  test/14828  \n",
       "2     [japan, revise, longterm, energy, demand, down...     crude  test/14829  \n",
       "3     [japan, revise, longterm, energy, demand, down...   nat-gas  test/14829  \n",
       "4     [thai, trade, deficit, widen, first, quarter, ...      corn  test/14832  \n",
       "...                                                 ...       ...         ...  \n",
       "3739  [tokyo, dealers, see, dollar, poise, breach, y...  money-fx  test/21573  \n",
       "3740  [tokyo, dealers, see, dollar, poise, breach, y...       yen  test/21573  \n",
       "3741  [japanindia, conference, cut, gulf, war, risk,...      ship  test/21574  \n",
       "3742  [soviet, industrial, growthtrade, slower, sovi...       ipi  test/21575  \n",
       "3743  [six, kill, south, african, gold, mine, accide...      gold  test/21576  \n",
       "\n",
       "[3744 rows x 4 columns]"
      ]
     },
     "execution_count": 16,
     "metadata": {},
     "output_type": "execute_result"
    }
   ],
   "source": [
    "test_df = create_df(test_doc)\n",
    "test_df"
   ]
  },
  {
   "cell_type": "code",
   "execution_count": 17,
   "metadata": {},
   "outputs": [],
   "source": [
    "# Save data as csv\n",
    "\n",
    "with open('./train_data.csv', 'a' ,encoding='utf-8') as csvFile:\n",
    "        train_df.to_csv(csvFile, mode='a', index=False, encoding=\"utf-8\", sep=',')\n",
    "\n",
    "with open('./test_data.csv', 'a' ,encoding='utf-8') as csvFile:\n",
    "        test_df.to_csv(csvFile, mode='a', index=False, encoding=\"utf-8\", sep=',')"
   ]
  },
  {
   "cell_type": "markdown",
   "metadata": {},
   "source": [
    "## Get Feature vectors from documents"
   ]
  },
  {
   "cell_type": "code",
   "execution_count": 18,
   "metadata": {
    "scrolled": true
   },
   "outputs": [],
   "source": [
    "features_train, features_test = BOW_model(train_df[\"document\"], test_df[\"document\"], 100)"
   ]
  },
  {
   "cell_type": "code",
   "execution_count": 19,
   "metadata": {},
   "outputs": [
    {
     "name": "stdout",
     "output_type": "stream",
     "text": [
      "[[0 0 0 ... 2 0 0]\n",
      " [0 0 0 ... 0 1 0]\n",
      " [0 0 0 ... 2 0 0]\n",
      " ...\n",
      " [0 0 2 ... 0 0 0]\n",
      " [0 0 0 ... 1 0 0]\n",
      " [0 0 0 ... 1 0 0]]\n"
     ]
    }
   ],
   "source": [
    "print(features_train)"
   ]
  },
  {
   "cell_type": "markdown",
   "metadata": {},
   "source": [
    "# 3. Use NaivesBayes classifier to generate the model and test it on the testing dataset. Output the accuracy and F1 measure of this classifier. Compare the result with Random Forest and linear SVM classifiers.\n"
   ]
  },
  {
   "cell_type": "markdown",
   "metadata": {},
   "source": [
    "## NaiveBayes Classifier"
   ]
  },
  {
   "cell_type": "code",
   "execution_count": 20,
   "metadata": {},
   "outputs": [],
   "source": [
    "# Create a Gaussian NaiveBayes Classifier\n",
    "gnb = GaussianNB()\n",
    "\n",
    "# Create a Multinomial NaiveBayes Classifier\n",
    "mnb = MultinomialNB()\n",
    "\n",
    "# Create a Complement NaiveBayes Classifier\n",
    "cnb = ComplementNB()\n"
   ]
  },
  {
   "cell_type": "code",
   "execution_count": 21,
   "metadata": {},
   "outputs": [],
   "source": [
    "# Fit/train the NaiveBayes model\n",
    "classifier = gnb.fit(features_train, train_df[\"category\"])\n",
    "#classifier = nltk.NaiveBayesClassifier.train(train_df[\"category\"], features_train)\n",
    "#?nltk.NaiveBayesClassifier"
   ]
  },
  {
   "cell_type": "code",
   "execution_count": 22,
   "metadata": {},
   "outputs": [],
   "source": [
    "# Make predictions\n",
    "expected = test_df[\"category\"]\n",
    "predicted = classifier.predict(features_test)"
   ]
  },
  {
   "cell_type": "code",
   "execution_count": 23,
   "metadata": {},
   "outputs": [
    {
     "name": "stdout",
     "output_type": "stream",
     "text": [
      "accuracy =  0.30448717948717946\n",
      "f1 score =  0.33880901542438574\n"
     ]
    }
   ],
   "source": [
    "# Output the accuracy and F1 measure of this classifier\n",
    "print(\"accuracy = \", metrics.accuracy_score(expected, predicted))\n",
    "accuracy_nb = metrics.accuracy_score(expected, predicted)\n",
    "print(\"f1 score = \", metrics.f1_score(expected, predicted, average = \"weighted\"))\n",
    "f1_nb = metrics.f1_score(expected, predicted, average = \"weighted\")"
   ]
  },
  {
   "cell_type": "code",
   "execution_count": 24,
   "metadata": {},
   "outputs": [
    {
     "name": "stdout",
     "output_type": "stream",
     "text": [
      "                 precision    recall  f1-score   support\n",
      "\n",
      "            acq       0.91      0.10      0.17       719\n",
      "           alum       0.08      0.04      0.06        23\n",
      "         barley       0.02      0.07      0.03        14\n",
      "            bop       0.60      0.10      0.17        30\n",
      "        carcass       0.07      0.11      0.09        18\n",
      "     castor-oil       0.00      0.00      0.00         1\n",
      "          cocoa       0.45      0.28      0.34        18\n",
      "        coconut       0.00      0.00      0.00         2\n",
      "    coconut-oil       0.00      0.00      0.00         3\n",
      "         coffee       0.14      0.04      0.06        28\n",
      "         copper       0.00      0.00      0.00        18\n",
      "     copra-cake       0.00      0.00      0.00         1\n",
      "           corn       0.25      0.02      0.03        56\n",
      "         cotton       0.00      0.00      0.00        20\n",
      "     cotton-oil       0.00      0.00      0.00         2\n",
      "            cpi       0.33      0.04      0.06        28\n",
      "            cpu       0.02      1.00      0.04         1\n",
      "          crude       0.22      0.05      0.09       189\n",
      "            dfl       0.00      0.00      0.00         1\n",
      "            dlr       0.20      0.07      0.10        44\n",
      "            dmk       0.00      0.00      0.00         4\n",
      "           earn       1.00      0.87      0.93      1087\n",
      "           fuel       0.02      0.20      0.04        10\n",
      "            gas       0.02      0.06      0.03        17\n",
      "            gnp       0.19      0.26      0.22        35\n",
      "           gold       0.00      0.00      0.00        30\n",
      "          grain       0.33      0.01      0.01       149\n",
      "      groundnut       0.00      0.00      0.00         4\n",
      "  groundnut-oil       0.00      0.00      0.00         1\n",
      "           heat       0.02      0.20      0.04         5\n",
      "            hog       0.00      0.00      0.00         6\n",
      "        housing       0.00      0.00      0.00         4\n",
      "         income       0.05      0.29      0.09         7\n",
      "    instal-debt       0.00      0.00      0.00         1\n",
      "       interest       0.33      0.08      0.13       131\n",
      "            ipi       0.00      0.00      0.00        12\n",
      "     iron-steel       0.00      0.00      0.00        14\n",
      "            jet       0.00      0.00      0.00         1\n",
      "           jobs       0.09      0.19      0.12        21\n",
      "       l-cattle       0.00      0.00      0.00         2\n",
      "           lead       0.00      0.00      0.00        14\n",
      "            lei       0.05      0.33      0.08         3\n",
      "        lin-oil       0.00      0.00      0.00         1\n",
      "      livestock       0.00      0.00      0.00        24\n",
      "         lumber       0.00      0.00      0.00         6\n",
      "      meal-feed       0.00      0.00      0.00        19\n",
      "       money-fx       0.38      0.05      0.09       179\n",
      "   money-supply       0.25      0.26      0.26        34\n",
      "        naphtha       0.02      0.25      0.03         4\n",
      "        nat-gas       0.03      0.03      0.03        30\n",
      "         nickel       0.00      0.00      0.00         1\n",
      "            nkr       0.00      0.00      0.00         2\n",
      "          nzdlr       0.00      0.00      0.00         2\n",
      "            oat       0.07      0.33      0.12         6\n",
      "        oilseed       0.00      0.00      0.00        47\n",
      "         orange       0.04      0.09      0.06        11\n",
      "      palladium       0.00      0.00      0.00         1\n",
      "       palm-oil       0.00      0.00      0.00        10\n",
      "     palmkernel       0.00      0.00      0.00         1\n",
      "       pet-chem       0.03      0.17      0.05        12\n",
      "       platinum       0.00      0.00      0.00         7\n",
      "         potato       0.00      0.00      0.00         3\n",
      "        propane       0.00      0.00      0.00         3\n",
      "           rand       0.00      0.00      0.00         1\n",
      "       rape-oil       0.00      0.00      0.00         3\n",
      "       rapeseed       0.00      0.00      0.00         9\n",
      "       reserves       0.15      0.22      0.18        18\n",
      "         retail       0.00      0.00      0.00         2\n",
      "           rice       0.00      0.00      0.00        24\n",
      "         rubber       0.02      0.08      0.04        12\n",
      "            rye       0.00      0.00      0.00         1\n",
      "           ship       0.00      0.00      0.00        89\n",
      "         silver       0.00      0.00      0.00         8\n",
      "        sorghum       0.02      0.10      0.03        10\n",
      "       soy-meal       0.00      0.00      0.00        13\n",
      "        soy-oil       0.01      0.09      0.02        11\n",
      "        soybean       0.05      0.06      0.06        33\n",
      "strategic-metal       0.00      0.00      0.00        11\n",
      "          sugar       0.33      0.03      0.05        36\n",
      "       sun-meal       0.00      0.00      0.00         1\n",
      "        sun-oil       0.02      0.50      0.04         2\n",
      "        sunseed       0.03      0.20      0.05         5\n",
      "            tea       0.02      0.25      0.04         4\n",
      "            tin       0.00      0.00      0.00        12\n",
      "          trade       0.29      0.05      0.09       117\n",
      "        veg-oil       0.24      0.16      0.19        37\n",
      "          wheat       0.20      0.04      0.07        71\n",
      "            wpi       0.02      0.10      0.04        10\n",
      "            yen       0.08      0.71      0.14        14\n",
      "           zinc       0.02      0.08      0.03        13\n",
      "\n",
      "       accuracy                           0.30      3744\n",
      "      macro avg       0.09      0.09      0.05      3744\n",
      "   weighted avg       0.56      0.30      0.34      3744\n",
      "\n",
      "[[69  7  2 ...  0  2 42]\n",
      " [ 0  1  0 ...  0  0  1]\n",
      " [ 0  0  1 ...  0  0  0]\n",
      " ...\n",
      " [ 0  0  0 ...  1  0  0]\n",
      " [ 0  0  0 ...  0 10  0]\n",
      " [ 0  0  0 ...  0  0  1]]\n"
     ]
    },
    {
     "name": "stderr",
     "output_type": "stream",
     "text": [
      "C:\\Users\\Joonas\\AppData\\Local\\Programs\\Python\\Python39\\lib\\site-packages\\sklearn\\metrics\\_classification.py:1248: UndefinedMetricWarning: Precision and F-score are ill-defined and being set to 0.0 in labels with no predicted samples. Use `zero_division` parameter to control this behavior.\n",
      "  _warn_prf(average, modifier, msg_start, len(result))\n",
      "C:\\Users\\Joonas\\AppData\\Local\\Programs\\Python\\Python39\\lib\\site-packages\\sklearn\\metrics\\_classification.py:1248: UndefinedMetricWarning: Precision and F-score are ill-defined and being set to 0.0 in labels with no predicted samples. Use `zero_division` parameter to control this behavior.\n",
      "  _warn_prf(average, modifier, msg_start, len(result))\n",
      "C:\\Users\\Joonas\\AppData\\Local\\Programs\\Python\\Python39\\lib\\site-packages\\sklearn\\metrics\\_classification.py:1248: UndefinedMetricWarning: Precision and F-score are ill-defined and being set to 0.0 in labels with no predicted samples. Use `zero_division` parameter to control this behavior.\n",
      "  _warn_prf(average, modifier, msg_start, len(result))\n"
     ]
    }
   ],
   "source": [
    "# summarize the fit of the model\n",
    "print(metrics.classification_report(expected, predicted))\n",
    "print(metrics.confusion_matrix(expected, predicted))"
   ]
  },
  {
   "cell_type": "markdown",
   "metadata": {},
   "source": [
    "## RandomForestClassifier"
   ]
  },
  {
   "cell_type": "code",
   "execution_count": 25,
   "metadata": {},
   "outputs": [],
   "source": [
    "# Create RandomForestClassifier\n",
    "rfc = RandomForestClassifier() # n_estimators=100, random_state=0\n",
    "\n",
    "# Train RFC model\n",
    "RFC_classifier = rfc.fit(features_train, train_df[\"category\"])"
   ]
  },
  {
   "cell_type": "code",
   "execution_count": 26,
   "metadata": {},
   "outputs": [],
   "source": [
    "predicted = RFC_classifier.predict(features_test)\n",
    "expected = test_df[\"category\"]\n",
    "#print(metrics.classification_report(expected, predicted))\n",
    "#print(metrics.confusion_matrix(expected, predicted))"
   ]
  },
  {
   "cell_type": "code",
   "execution_count": 27,
   "metadata": {
    "scrolled": true
   },
   "outputs": [
    {
     "name": "stdout",
     "output_type": "stream",
     "text": [
      "accuracy =  0.6538461538461539\n",
      "f1 score =  0.6064274413761644\n"
     ]
    }
   ],
   "source": [
    "# Output the accuracy and F1 measure of this classifier\n",
    "print(\"accuracy = \", metrics.accuracy_score(expected, predicted))\n",
    "accuracy_rf = metrics.accuracy_score(expected, predicted)\n",
    "print(\"f1 score = \", metrics.f1_score(expected, predicted, average = \"weighted\"))\n",
    "f1_rf = metrics.f1_score(expected, predicted, average = \"weighted\")\n"
   ]
  },
  {
   "cell_type": "markdown",
   "metadata": {},
   "source": [
    "##  Linear SVM classifier"
   ]
  },
  {
   "cell_type": "code",
   "execution_count": 28,
   "metadata": {},
   "outputs": [
    {
     "name": "stderr",
     "output_type": "stream",
     "text": [
      "C:\\Users\\Joonas\\AppData\\Local\\Programs\\Python\\Python39\\lib\\site-packages\\sklearn\\svm\\_base.py:985: ConvergenceWarning: Liblinear failed to converge, increase the number of iterations.\n",
      "  warnings.warn(\"Liblinear failed to converge, increase \"\n"
     ]
    }
   ],
   "source": [
    "# Create SVM Classifier\n",
    "#svm = SVC(kernel=\"linear\")\n",
    "svm = LinearSVC()\n",
    "\n",
    "# Train SVM model\n",
    "SVM_classifier = svm.fit(features_train, train_df[\"category\"])"
   ]
  },
  {
   "cell_type": "code",
   "execution_count": 29,
   "metadata": {},
   "outputs": [
    {
     "name": "stdout",
     "output_type": "stream",
     "text": [
      "accuracy =  0.6271367521367521\n",
      "f1 score =  0.5855526873673897\n"
     ]
    }
   ],
   "source": [
    "predicted = SVM_classifier.predict(features_test)\n",
    "expected = test_df[\"category\"]\n",
    "\n",
    "# Output the accuracy and F1 measure of this classifier\n",
    "print(\"accuracy = \", metrics.accuracy_score(expected, predicted))\n",
    "accuracy_svm = metrics.accuracy_score(expected, predicted)\n",
    "print(\"f1 score = \", metrics.f1_score(expected, predicted, average = \"weighted\"))\n",
    "f1_svm = metrics.f1_score(expected, predicted, average = \"weighted\")"
   ]
  },
  {
   "cell_type": "code",
   "execution_count": 30,
   "metadata": {},
   "outputs": [
    {
     "name": "stdout",
     "output_type": "stream",
     "text": [
      "                 precision    recall  f1-score   support\n",
      "\n",
      "            acq       0.70      0.94      0.80       719\n",
      "           alum       0.00      0.00      0.00        23\n",
      "         barley       0.20      0.21      0.21        14\n",
      "            bop       0.61      0.37      0.46        30\n",
      "        carcass       0.00      0.00      0.00        18\n",
      "     castor-oil       0.00      0.00      0.00         1\n",
      "          cocoa       0.33      0.39      0.36        18\n",
      "        coconut       0.00      0.00      0.00         2\n",
      "    coconut-oil       0.00      0.00      0.00         3\n",
      "         coffee       0.27      0.25      0.26        28\n",
      "         copper       0.14      0.06      0.08        18\n",
      "     copra-cake       0.00      0.00      0.00         1\n",
      "           corn       0.31      0.27      0.29        56\n",
      "         cotton       0.00      0.00      0.00        20\n",
      "     cotton-oil       0.00      0.00      0.00         2\n",
      "            cpi       0.25      0.18      0.21        28\n",
      "            cpu       0.00      0.00      0.00         1\n",
      "          crude       0.58      0.72      0.64       189\n",
      "            dfl       0.00      0.00      0.00         1\n",
      "            dlr       0.29      0.11      0.16        44\n",
      "            dmk       0.00      0.00      0.00         4\n",
      "           earn       0.92      0.98      0.95      1087\n",
      "           fuel       0.07      0.10      0.08        10\n",
      "            gas       0.09      0.06      0.07        17\n",
      "            gnp       0.44      0.51      0.47        35\n",
      "           gold       0.06      0.03      0.04        30\n",
      "          grain       0.33      0.36      0.34       149\n",
      "      groundnut       0.00      0.00      0.00         4\n",
      "  groundnut-oil       0.00      0.00      0.00         1\n",
      "           heat       0.12      0.20      0.15         5\n",
      "            hog       0.33      0.33      0.33         6\n",
      "        housing       0.17      0.25      0.20         4\n",
      "         income       1.00      0.14      0.25         7\n",
      "    instal-debt       0.00      0.00      0.00         1\n",
      "       interest       0.48      0.60      0.54       131\n",
      "            ipi       0.50      0.58      0.54        12\n",
      "     iron-steel       0.00      0.00      0.00        14\n",
      "            jet       0.00      0.00      0.00         1\n",
      "           jobs       0.50      0.24      0.32        21\n",
      "       l-cattle       0.00      0.00      0.00         2\n",
      "           lead       0.00      0.00      0.00        14\n",
      "            lei       0.67      0.67      0.67         3\n",
      "        lin-oil       0.00      0.00      0.00         1\n",
      "      livestock       0.00      0.00      0.00        24\n",
      "         lumber       0.00      0.00      0.00         6\n",
      "      meal-feed       0.00      0.00      0.00        19\n",
      "       money-fx       0.46      0.41      0.43       179\n",
      "   money-supply       0.65      0.65      0.65        34\n",
      "        naphtha       0.00      0.00      0.00         4\n",
      "        nat-gas       0.00      0.00      0.00        30\n",
      "         nickel       0.00      0.00      0.00         1\n",
      "            nkr       0.00      0.00      0.00         2\n",
      "          nzdlr       0.00      0.00      0.00         2\n",
      "            oat       0.00      0.00      0.00         6\n",
      "        oilseed       0.00      0.00      0.00        47\n",
      "         orange       0.25      0.18      0.21        11\n",
      "      palladium       0.00      0.00      0.00         1\n",
      "       palm-oil       0.00      0.00      0.00        10\n",
      "     palmkernel       0.00      0.00      0.00         1\n",
      "       pet-chem       0.00      0.00      0.00        12\n",
      "       platinum       0.00      0.00      0.00         7\n",
      "         potato       0.50      0.33      0.40         3\n",
      "        propane       0.00      0.00      0.00         3\n",
      "           rand       0.00      0.00      0.00         1\n",
      "       rape-oil       0.00      0.00      0.00         3\n",
      "       rapeseed       0.31      0.44      0.36         9\n",
      "       reserves       0.50      0.67      0.57        18\n",
      "         retail       0.25      0.50      0.33         2\n",
      "           rice       0.00      0.00      0.00        24\n",
      "         rubber       0.33      0.08      0.13        12\n",
      "            rye       0.00      0.00      0.00         1\n",
      "           ship       0.24      0.08      0.12        89\n",
      "         silver       0.00      0.00      0.00         8\n",
      "        sorghum       0.09      0.10      0.10        10\n",
      "       soy-meal       0.00      0.00      0.00        13\n",
      "        soy-oil       0.00      0.00      0.00        11\n",
      "        soybean       0.00      0.00      0.00        33\n",
      "strategic-metal       0.00      0.00      0.00        11\n",
      "          sugar       0.07      0.11      0.09        36\n",
      "       sun-meal       0.08      1.00      0.15         1\n",
      "        sun-oil       0.00      0.00      0.00         2\n",
      "        sunseed       0.00      0.00      0.00         5\n",
      "            tea       0.00      0.00      0.00         4\n",
      "            tin       0.14      0.08      0.11        12\n",
      "          trade       0.54      0.68      0.61       117\n",
      "        veg-oil       0.37      0.19      0.25        37\n",
      "          wheat       0.29      0.28      0.29        71\n",
      "            wpi       0.17      0.60      0.27        10\n",
      "            yen       0.50      0.36      0.42        14\n",
      "           zinc       0.00      0.00      0.00        13\n",
      "\n",
      "       accuracy                           0.63      3744\n",
      "      macro avg       0.17      0.17      0.15      3744\n",
      "   weighted avg       0.56      0.63      0.59      3744\n",
      "\n",
      "[[676   0   0 ...   0   0   0]\n",
      " [  5   0   0 ...   0   0   1]\n",
      " [  2   0   3 ...   1   0   0]\n",
      " ...\n",
      " [  0   0   0 ...   6   0   0]\n",
      " [  0   0   0 ...   0   5   0]\n",
      " [  6   0   0 ...   0   0   0]]\n"
     ]
    },
    {
     "name": "stderr",
     "output_type": "stream",
     "text": [
      "C:\\Users\\Joonas\\AppData\\Local\\Programs\\Python\\Python39\\lib\\site-packages\\sklearn\\metrics\\_classification.py:1248: UndefinedMetricWarning: Precision and F-score are ill-defined and being set to 0.0 in labels with no predicted samples. Use `zero_division` parameter to control this behavior.\n",
      "  _warn_prf(average, modifier, msg_start, len(result))\n",
      "C:\\Users\\Joonas\\AppData\\Local\\Programs\\Python\\Python39\\lib\\site-packages\\sklearn\\metrics\\_classification.py:1248: UndefinedMetricWarning: Precision and F-score are ill-defined and being set to 0.0 in labels with no predicted samples. Use `zero_division` parameter to control this behavior.\n",
      "  _warn_prf(average, modifier, msg_start, len(result))\n",
      "C:\\Users\\Joonas\\AppData\\Local\\Programs\\Python\\Python39\\lib\\site-packages\\sklearn\\metrics\\_classification.py:1248: UndefinedMetricWarning: Precision and F-score are ill-defined and being set to 0.0 in labels with no predicted samples. Use `zero_division` parameter to control this behavior.\n",
      "  _warn_prf(average, modifier, msg_start, len(result))\n"
     ]
    }
   ],
   "source": [
    "# summarize the fit of the model\n",
    "print(metrics.classification_report(expected, predicted))\n",
    "print(metrics.confusion_matrix(expected, predicted))"
   ]
  },
  {
   "cell_type": "markdown",
   "metadata": {},
   "source": [
    "## List results"
   ]
  },
  {
   "cell_type": "code",
   "execution_count": 31,
   "metadata": {},
   "outputs": [
    {
     "data": {
      "text/html": [
       "<div>\n",
       "<style scoped>\n",
       "    .dataframe tbody tr th:only-of-type {\n",
       "        vertical-align: middle;\n",
       "    }\n",
       "\n",
       "    .dataframe tbody tr th {\n",
       "        vertical-align: top;\n",
       "    }\n",
       "\n",
       "    .dataframe thead th {\n",
       "        text-align: right;\n",
       "    }\n",
       "</style>\n",
       "<table border=\"1\" class=\"dataframe\">\n",
       "  <thead>\n",
       "    <tr style=\"text-align: right;\">\n",
       "      <th></th>\n",
       "      <th>acc</th>\n",
       "      <th>f1</th>\n",
       "    </tr>\n",
       "  </thead>\n",
       "  <tbody>\n",
       "    <tr>\n",
       "      <th>nb</th>\n",
       "      <td>0.304487</td>\n",
       "      <td>0.338809</td>\n",
       "    </tr>\n",
       "    <tr>\n",
       "      <th>rf</th>\n",
       "      <td>0.653846</td>\n",
       "      <td>0.606427</td>\n",
       "    </tr>\n",
       "    <tr>\n",
       "      <th>svm</th>\n",
       "      <td>0.627137</td>\n",
       "      <td>0.585553</td>\n",
       "    </tr>\n",
       "  </tbody>\n",
       "</table>\n",
       "</div>"
      ],
      "text/plain": [
       "          acc        f1\n",
       "nb   0.304487  0.338809\n",
       "rf   0.653846  0.606427\n",
       "svm  0.627137  0.585553"
      ]
     },
     "execution_count": 31,
     "metadata": {},
     "output_type": "execute_result"
    }
   ],
   "source": [
    "results_100 = [(accuracy_nb, f1_nb), (accuracy_rf, f1_rf), (accuracy_svm, f1_svm)]\n",
    "results_100_df = pd.DataFrame(results_100, columns=['acc', 'f1'], index=[\"nb\",\"rf\", \"svm\"])\n",
    "results_100_df"
   ]
  },
  {
   "cell_type": "markdown",
   "metadata": {},
   "source": [
    "# 4. Show the results of this classifier when the total number of features varies as 1000, 1500, 2000, 2500, 3000, 3500, 4500, 5000."
   ]
  },
  {
   "cell_type": "markdown",
   "metadata": {},
   "source": [
    "## Create function to apply classifier"
   ]
  },
  {
   "cell_type": "code",
   "execution_count": 32,
   "metadata": {},
   "outputs": [],
   "source": [
    "# funtion to apply NaiveBayes classifier, print and return accuracy and f1-value\n",
    "\n",
    "def nb_classifier(features_train,features_test, **kwargs):\n",
    "    \"\"\" funtion to apply NaiveBayes classifier, print and return accuracy and f1-value \n",
    "    :param conf: get confusion matrix\n",
    "    :param label_t: alternate training labels, default train_df[\"category\"]\n",
    "    :param label: alternate testing labels, default test_df[\"category\"]\n",
    "    \"\"\"\n",
    "\n",
    "    conf = kwargs.get(\"conf\", False)\n",
    "    label_t = kwargs.get(\"label_t\", train_df[\"category\"])\n",
    "    label = kwargs.get(\"label\", test_df[\"category\"])\n",
    "\n",
    "    # Fit/train the gaussian NaiveBayes model\n",
    "    classifier = gnb.fit(features_train, label_t)\n",
    "\n",
    "    # Make predictions\n",
    "    expected = label\n",
    "    predicted = classifier.predict(features_test)\n",
    "\n",
    "    # summarize the fit of the model\n",
    "    #print(metrics.classification_report(expected, predicted))\n",
    "    cm = metrics.confusion_matrix(expected, predicted)\n",
    "    #print(\"Confusion matrix: \\n\", cm)\n",
    "    #print(\"confusion matrix shape: \", cm.shape)\n",
    "\n",
    "    ##Output the accuracy and F1 measure of this classifier\n",
    "    accuracy_nb = metrics.accuracy_score(expected, predicted)\n",
    "    print(\"accuracy: \", accuracy_nb)\n",
    "    f1_nb = metrics.f1_score(expected, predicted, average = \"weighted\")\n",
    "    print(\"f1 score: \", f1_nb)\n",
    "\n",
    "    if conf is True:\n",
    "        return (accuracy_nb, f1_nb, cm)\n",
    "    else:\n",
    "        return (accuracy_nb, f1_nb)\n",
    "\n"
   ]
  },
  {
   "cell_type": "code",
   "execution_count": 33,
   "metadata": {},
   "outputs": [],
   "source": [
    "def rf_classifier(features_train,features_test, **kwargs):\n",
    "    \"\"\" funtion to apply RandomForest classifier, print and return accuracy and f1-value \n",
    "    :param conf: get confusion matrix\n",
    "    :param label_t: alternate training labels, default train_df[\"category\"]\n",
    "    :param label: alternate testing labels, default test_df[\"category\"]\n",
    "    \"\"\"\n",
    "\n",
    "    conf = kwargs.get(\"conf\", False)\n",
    "    label_t = kwargs.get(\"label_t\", train_df[\"category\"])\n",
    "    label = kwargs.get(\"label\", test_df[\"category\"])\n",
    "\n",
    "    # Create RandomForestClassifier\n",
    "    rfc = RandomForestClassifier()\n",
    "\n",
    "    # Train RFC model\n",
    "    classifier = rfc.fit(features_train, label_t)\n",
    "\n",
    "    # make predictions\n",
    "    predicted = classifier.predict(features_test)\n",
    "    expected = label\n",
    "\n",
    "    # summarize the fit of the model\n",
    "    #print(metrics.classification_report(expected, predicted))\n",
    "    #print(metrics.confusion_matrix(expected, predicted))\n",
    "\n",
    "    # Output the accuracy and F1 measure of this classifier\n",
    "    print(\"accuracy = \", metrics.accuracy_score(expected, predicted))\n",
    "    accuracy_rf = metrics.accuracy_score(expected, predicted)\n",
    "    print(\"f1 score = \", metrics.f1_score(expected, predicted, average = \"weighted\"))\n",
    "    f1_rf = metrics.f1_score(expected, predicted, average = \"weighted\")\n",
    "\n",
    "    return (accuracy_rf, f1_rf)"
   ]
  },
  {
   "cell_type": "code",
   "execution_count": 34,
   "metadata": {},
   "outputs": [],
   "source": [
    "def svm_classifier(features_train,features_test, **kwargs):\n",
    "    \"\"\" funtion to apply Linear SVM classifier, print and return accuracy and f1-value \n",
    "    :param conf: get confusion matrix\n",
    "    :param label_t: alternate training labels, default train_df[\"category\"]\n",
    "    :param label: alternate testing labels, default test_df[\"category\"]\n",
    "    \"\"\"\n",
    "\n",
    "    conf = kwargs.get(\"conf\", False)\n",
    "    label_t = kwargs.get(\"label_t\", train_df[\"category\"])\n",
    "    label = kwargs.get(\"label\", test_df[\"category\"])\n",
    "\n",
    "    # Get feature vectors\n",
    "    #BOW_train = BOW_model(train_df[\"document\"], features)\n",
    "    #BOW_test = BOW_model(test_df[\"document\"], features)\n",
    "\n",
    "    # Create SVM Classifier\n",
    "    #svm = SVC(kernel=\"linear\")\n",
    "    svm = LinearSVC()\n",
    "\n",
    "    # Train SVM model\n",
    "    classifier = svm.fit(features_train, label_t)\n",
    "    predicted = classifier.predict(features_test)\n",
    "    expected = label\n",
    "\n",
    "    # summarize the fit of the model\n",
    "    #print(metrics.classification_report(expected, predicted))\n",
    "    #print(metrics.confusion_matrix(expected, predicted))\n",
    "\n",
    "    # Output the accuracy and F1 measure of this classifier\n",
    "    print(\"accuracy = \", metrics.accuracy_score(expected, predicted))\n",
    "    accuracy_svm = metrics.accuracy_score(expected, predicted)\n",
    "    print(\"f1 score = \", metrics.f1_score(expected, predicted, average = \"weighted\"))\n",
    "    f1_svm = metrics.f1_score(expected, predicted, average = \"weighted\")\n",
    "\n",
    "    return (accuracy_svm, f1_svm)\n"
   ]
  },
  {
   "cell_type": "markdown",
   "metadata": {},
   "source": [
    "## Apply function"
   ]
  },
  {
   "cell_type": "markdown",
   "metadata": {},
   "source": [
    "### BOW models"
   ]
  },
  {
   "cell_type": "code",
   "execution_count": 35,
   "metadata": {},
   "outputs": [],
   "source": [
    "# use all numbers of vectors\n",
    "num_vec = [100,1000,1500,2000,2500,3000,3500,4500,5000]\n",
    "# list for feature vectors\n",
    "feature_vecs = []\n",
    "\n",
    "# iterate through numbers\n",
    "for num in num_vec:\n",
    "   # make feature vectors as tuples (train, test) and append to list\n",
    "   feature_vecs.append(BOW_model(train_df[\"document\"], test_df[\"document\"], num))\n",
    "\n",
    "   "
   ]
  },
  {
   "cell_type": "markdown",
   "metadata": {},
   "source": [
    "### NaiveBayes"
   ]
  },
  {
   "cell_type": "code",
   "execution_count": 36,
   "metadata": {},
   "outputs": [
    {
     "name": "stdout",
     "output_type": "stream",
     "text": [
      "accuracy:  0.30448717948717946\n",
      "f1 score:  0.33880901542438574\n",
      "accuracy:  0.46287393162393164\n",
      "f1 score:  0.4780324797902941\n",
      "accuracy:  0.47275641025641024\n",
      "f1 score:  0.47364938943962137\n",
      "accuracy:  0.48691239316239315\n",
      "f1 score:  0.4791069624977836\n",
      "accuracy:  0.4935897435897436\n",
      "f1 score:  0.48073539414783034\n",
      "accuracy:  0.4965277777777778\n",
      "f1 score:  0.47957790932911787\n",
      "accuracy:  0.5032051282051282\n",
      "f1 score:  0.4819365143559217\n",
      "accuracy:  0.5173611111111112\n",
      "f1 score:  0.49538867829719857\n",
      "accuracy:  0.5205662393162394\n",
      "f1 score:  0.496727538502165\n"
     ]
    }
   ],
   "source": [
    "# add results list\n",
    "results = []\n",
    "\n",
    "# iterate through feature vectors\n",
    "for vec in feature_vecs:\n",
    "    # apply classifier and append results to list: train = 0 , test = 1\n",
    "    results.append(nb_classifier(vec[0],vec[1]))\n",
    "    #print(vec[1])\n",
    "\n",
    "nb_results_df = pd.DataFrame(results, columns=['acc', 'f1'], index=[\"nb_100\", \"nb_1000\", \"nb_1500\", \"nb_2000\", \"nb_2500\", \"nb_3000\", \"nb_3500\", \"nb_4500\", \"nb_5000\"])\n"
   ]
  },
  {
   "cell_type": "code",
   "execution_count": 37,
   "metadata": {},
   "outputs": [
    {
     "data": {
      "text/html": [
       "<div>\n",
       "<style scoped>\n",
       "    .dataframe tbody tr th:only-of-type {\n",
       "        vertical-align: middle;\n",
       "    }\n",
       "\n",
       "    .dataframe tbody tr th {\n",
       "        vertical-align: top;\n",
       "    }\n",
       "\n",
       "    .dataframe thead th {\n",
       "        text-align: right;\n",
       "    }\n",
       "</style>\n",
       "<table border=\"1\" class=\"dataframe\">\n",
       "  <thead>\n",
       "    <tr style=\"text-align: right;\">\n",
       "      <th></th>\n",
       "      <th>acc</th>\n",
       "      <th>f1</th>\n",
       "    </tr>\n",
       "  </thead>\n",
       "  <tbody>\n",
       "    <tr>\n",
       "      <th>nb_100</th>\n",
       "      <td>0.304487</td>\n",
       "      <td>0.338809</td>\n",
       "    </tr>\n",
       "    <tr>\n",
       "      <th>nb_1000</th>\n",
       "      <td>0.462874</td>\n",
       "      <td>0.478032</td>\n",
       "    </tr>\n",
       "    <tr>\n",
       "      <th>nb_1500</th>\n",
       "      <td>0.472756</td>\n",
       "      <td>0.473649</td>\n",
       "    </tr>\n",
       "    <tr>\n",
       "      <th>nb_2000</th>\n",
       "      <td>0.486912</td>\n",
       "      <td>0.479107</td>\n",
       "    </tr>\n",
       "    <tr>\n",
       "      <th>nb_2500</th>\n",
       "      <td>0.493590</td>\n",
       "      <td>0.480735</td>\n",
       "    </tr>\n",
       "    <tr>\n",
       "      <th>nb_3000</th>\n",
       "      <td>0.496528</td>\n",
       "      <td>0.479578</td>\n",
       "    </tr>\n",
       "    <tr>\n",
       "      <th>nb_3500</th>\n",
       "      <td>0.503205</td>\n",
       "      <td>0.481937</td>\n",
       "    </tr>\n",
       "    <tr>\n",
       "      <th>nb_4500</th>\n",
       "      <td>0.517361</td>\n",
       "      <td>0.495389</td>\n",
       "    </tr>\n",
       "    <tr>\n",
       "      <th>nb_5000</th>\n",
       "      <td>0.520566</td>\n",
       "      <td>0.496728</td>\n",
       "    </tr>\n",
       "  </tbody>\n",
       "</table>\n",
       "</div>"
      ],
      "text/plain": [
       "              acc        f1\n",
       "nb_100   0.304487  0.338809\n",
       "nb_1000  0.462874  0.478032\n",
       "nb_1500  0.472756  0.473649\n",
       "nb_2000  0.486912  0.479107\n",
       "nb_2500  0.493590  0.480735\n",
       "nb_3000  0.496528  0.479578\n",
       "nb_3500  0.503205  0.481937\n",
       "nb_4500  0.517361  0.495389\n",
       "nb_5000  0.520566  0.496728"
      ]
     },
     "execution_count": 37,
     "metadata": {},
     "output_type": "execute_result"
    }
   ],
   "source": [
    "nb_results_df"
   ]
  },
  {
   "cell_type": "code",
   "execution_count": 38,
   "metadata": {},
   "outputs": [
    {
     "data": {
      "text/plain": [
       "<AxesSubplot:>"
      ]
     },
     "execution_count": 38,
     "metadata": {},
     "output_type": "execute_result"
    },
    {
     "data": {
      "image/png": "[encoded data removed]",
      "text/plain": [
       "<Figure size 432x288 with 1 Axes>"
      ]
     },
     "metadata": {
      "needs_background": "light"
     },
     "output_type": "display_data"
    }
   ],
   "source": [
    "nb_results_df.plot()"
   ]
  },
  {
   "cell_type": "markdown",
   "metadata": {},
   "source": [
    "### Random Forest"
   ]
  },
  {
   "cell_type": "code",
   "execution_count": 39,
   "metadata": {},
   "outputs": [
    {
     "name": "stdout",
     "output_type": "stream",
     "text": [
      "accuracy =  0.6517094017094017\n",
      "f1 score =  0.6039884330184424\n",
      "accuracy =  0.7056623931623932\n",
      "f1 score =  0.6633780976760459\n",
      "accuracy =  0.7056623931623932\n",
      "f1 score =  0.6602412126977762\n",
      "accuracy =  0.7056623931623932\n",
      "f1 score =  0.6596749138749491\n",
      "accuracy =  0.7043269230769231\n",
      "f1 score =  0.657775776817845\n",
      "accuracy =  0.7021901709401709\n",
      "f1 score =  0.6564995493943458\n",
      "accuracy =  0.7021901709401709\n",
      "f1 score =  0.6529404110303181\n",
      "accuracy =  0.7019230769230769\n",
      "f1 score =  0.6542959399694102\n",
      "accuracy =  0.6979166666666666\n",
      "f1 score =  0.6487791674203441\n"
     ]
    }
   ],
   "source": [
    "results = []\n",
    "\n",
    "for vec in feature_vecs:\n",
    "    results.append(rf_classifier(vec[0],vec[1]))\n",
    "    #print(results)\n",
    "\n",
    "rf_results_df = pd.DataFrame(results, columns=['acc', 'f1'], index=[\"rf_100\", \"rf_1000\", \"rf_1500\", \"rf_2000\", \"rf_2500\", \"rf_3000\", \"rf_3500\", \"rf_4500\", \"rf_5000\"])\n"
   ]
  },
  {
   "cell_type": "code",
   "execution_count": 40,
   "metadata": {},
   "outputs": [
    {
     "data": {
      "text/plain": [
       "<AxesSubplot:>"
      ]
     },
     "execution_count": 40,
     "metadata": {},
     "output_type": "execute_result"
    },
    {
     "data": {
      "image/png": "[encoded data removed]",
      "text/plain": [
       "<Figure size 432x288 with 1 Axes>"
      ]
     },
     "metadata": {
      "needs_background": "light"
     },
     "output_type": "display_data"
    }
   ],
   "source": [
    "rf_results_df.plot()"
   ]
  },
  {
   "cell_type": "markdown",
   "metadata": {},
   "source": [
    "### SVM"
   ]
  },
  {
   "cell_type": "code",
   "execution_count": 41,
   "metadata": {},
   "outputs": [
    {
     "name": "stderr",
     "output_type": "stream",
     "text": [
      "C:\\Users\\Joonas\\AppData\\Local\\Programs\\Python\\Python39\\lib\\site-packages\\sklearn\\svm\\_base.py:985: ConvergenceWarning: Liblinear failed to converge, increase the number of iterations.\n",
      "  warnings.warn(\"Liblinear failed to converge, increase \"\n"
     ]
    },
    {
     "name": "stdout",
     "output_type": "stream",
     "text": [
      "accuracy =  0.6298076923076923\n",
      "f1 score =  0.5875875056982315\n"
     ]
    },
    {
     "name": "stderr",
     "output_type": "stream",
     "text": [
      "C:\\Users\\Joonas\\AppData\\Local\\Programs\\Python\\Python39\\lib\\site-packages\\sklearn\\svm\\_base.py:985: ConvergenceWarning: Liblinear failed to converge, increase the number of iterations.\n",
      "  warnings.warn(\"Liblinear failed to converge, increase \"\n"
     ]
    },
    {
     "name": "stdout",
     "output_type": "stream",
     "text": [
      "accuracy =  0.7024572649572649\n",
      "f1 score =  0.6890075008789569\n"
     ]
    },
    {
     "name": "stderr",
     "output_type": "stream",
     "text": [
      "C:\\Users\\Joonas\\AppData\\Local\\Programs\\Python\\Python39\\lib\\site-packages\\sklearn\\svm\\_base.py:985: ConvergenceWarning: Liblinear failed to converge, increase the number of iterations.\n",
      "  warnings.warn(\"Liblinear failed to converge, increase \"\n"
     ]
    },
    {
     "name": "stdout",
     "output_type": "stream",
     "text": [
      "accuracy =  0.7099358974358975\n",
      "f1 score =  0.6970851847159629\n"
     ]
    },
    {
     "name": "stderr",
     "output_type": "stream",
     "text": [
      "C:\\Users\\Joonas\\AppData\\Local\\Programs\\Python\\Python39\\lib\\site-packages\\sklearn\\svm\\_base.py:985: ConvergenceWarning: Liblinear failed to converge, increase the number of iterations.\n",
      "  warnings.warn(\"Liblinear failed to converge, increase \"\n"
     ]
    },
    {
     "name": "stdout",
     "output_type": "stream",
     "text": [
      "accuracy =  0.7144764957264957\n",
      "f1 score =  0.7016404263824247\n"
     ]
    },
    {
     "name": "stderr",
     "output_type": "stream",
     "text": [
      "C:\\Users\\Joonas\\AppData\\Local\\Programs\\Python\\Python39\\lib\\site-packages\\sklearn\\svm\\_base.py:985: ConvergenceWarning: Liblinear failed to converge, increase the number of iterations.\n",
      "  warnings.warn(\"Liblinear failed to converge, increase \"\n"
     ]
    },
    {
     "name": "stdout",
     "output_type": "stream",
     "text": [
      "accuracy =  0.7211538461538461\n",
      "f1 score =  0.7082053815519301\n"
     ]
    },
    {
     "name": "stderr",
     "output_type": "stream",
     "text": [
      "C:\\Users\\Joonas\\AppData\\Local\\Programs\\Python\\Python39\\lib\\site-packages\\sklearn\\svm\\_base.py:985: ConvergenceWarning: Liblinear failed to converge, increase the number of iterations.\n",
      "  warnings.warn(\"Liblinear failed to converge, increase \"\n"
     ]
    },
    {
     "name": "stdout",
     "output_type": "stream",
     "text": [
      "accuracy =  0.7232905982905983\n",
      "f1 score =  0.7098015870732493\n"
     ]
    },
    {
     "name": "stderr",
     "output_type": "stream",
     "text": [
      "C:\\Users\\Joonas\\AppData\\Local\\Programs\\Python\\Python39\\lib\\site-packages\\sklearn\\svm\\_base.py:985: ConvergenceWarning: Liblinear failed to converge, increase the number of iterations.\n",
      "  warnings.warn(\"Liblinear failed to converge, increase \"\n"
     ]
    },
    {
     "name": "stdout",
     "output_type": "stream",
     "text": [
      "accuracy =  0.7224893162393162\n",
      "f1 score =  0.7085382788033314\n"
     ]
    },
    {
     "name": "stderr",
     "output_type": "stream",
     "text": [
      "C:\\Users\\Joonas\\AppData\\Local\\Programs\\Python\\Python39\\lib\\site-packages\\sklearn\\svm\\_base.py:985: ConvergenceWarning: Liblinear failed to converge, increase the number of iterations.\n",
      "  warnings.warn(\"Liblinear failed to converge, increase \"\n"
     ]
    },
    {
     "name": "stdout",
     "output_type": "stream",
     "text": [
      "accuracy =  0.7246260683760684\n",
      "f1 score =  0.7112805526285719\n",
      "accuracy =  0.7238247863247863\n",
      "f1 score =  0.7090514031338201\n"
     ]
    },
    {
     "name": "stderr",
     "output_type": "stream",
     "text": [
      "C:\\Users\\Joonas\\AppData\\Local\\Programs\\Python\\Python39\\lib\\site-packages\\sklearn\\svm\\_base.py:985: ConvergenceWarning: Liblinear failed to converge, increase the number of iterations.\n",
      "  warnings.warn(\"Liblinear failed to converge, increase \"\n"
     ]
    }
   ],
   "source": [
    "results = []\n",
    "\n",
    "for vec in feature_vecs:\n",
    "    results.append(svm_classifier(vec[0],vec[1]))\n",
    "    #print(results)\n",
    "\n",
    "svm_results_df = pd.DataFrame(results, columns=['acc', 'f1'], index=[\"svm_100\", \"svm_1000\", \"svm_1500\", \"svm_2000\", \"svm_2500\", \"svm_3000\", \"svm_3500\", \"svm_4500\", \"svm_5000\"])\n"
   ]
  },
  {
   "cell_type": "code",
   "execution_count": 42,
   "metadata": {},
   "outputs": [
    {
     "data": {
      "text/plain": [
       "<AxesSubplot:>"
      ]
     },
     "execution_count": 42,
     "metadata": {},
     "output_type": "execute_result"
    },
    {
     "data": {
      "image/png": "[encoded data removed]",
      "text/plain": [
       "<Figure size 432x288 with 1 Axes>"
      ]
     },
     "metadata": {
      "needs_background": "light"
     },
     "output_type": "display_data"
    }
   ],
   "source": [
    "svm_results_df.plot()"
   ]
  },
  {
   "cell_type": "markdown",
   "metadata": {},
   "source": [
    "## List Results"
   ]
  },
  {
   "cell_type": "code",
   "execution_count": 43,
   "metadata": {},
   "outputs": [
    {
     "data": {
      "text/html": [
       "<div>\n",
       "<style scoped>\n",
       "    .dataframe tbody tr th:only-of-type {\n",
       "        vertical-align: middle;\n",
       "    }\n",
       "\n",
       "    .dataframe tbody tr th {\n",
       "        vertical-align: top;\n",
       "    }\n",
       "\n",
       "    .dataframe thead th {\n",
       "        text-align: right;\n",
       "    }\n",
       "</style>\n",
       "<table border=\"1\" class=\"dataframe\">\n",
       "  <thead>\n",
       "    <tr style=\"text-align: right;\">\n",
       "      <th></th>\n",
       "      <th>acc</th>\n",
       "      <th>f1</th>\n",
       "    </tr>\n",
       "  </thead>\n",
       "  <tbody>\n",
       "    <tr>\n",
       "      <th>nb_100</th>\n",
       "      <td>0.304487</td>\n",
       "      <td>0.338809</td>\n",
       "    </tr>\n",
       "    <tr>\n",
       "      <th>nb_1000</th>\n",
       "      <td>0.462874</td>\n",
       "      <td>0.478032</td>\n",
       "    </tr>\n",
       "    <tr>\n",
       "      <th>nb_1500</th>\n",
       "      <td>0.472756</td>\n",
       "      <td>0.473649</td>\n",
       "    </tr>\n",
       "    <tr>\n",
       "      <th>nb_2000</th>\n",
       "      <td>0.486912</td>\n",
       "      <td>0.479107</td>\n",
       "    </tr>\n",
       "    <tr>\n",
       "      <th>nb_2500</th>\n",
       "      <td>0.493590</td>\n",
       "      <td>0.480735</td>\n",
       "    </tr>\n",
       "    <tr>\n",
       "      <th>nb_3000</th>\n",
       "      <td>0.496528</td>\n",
       "      <td>0.479578</td>\n",
       "    </tr>\n",
       "    <tr>\n",
       "      <th>nb_3500</th>\n",
       "      <td>0.503205</td>\n",
       "      <td>0.481937</td>\n",
       "    </tr>\n",
       "    <tr>\n",
       "      <th>nb_4500</th>\n",
       "      <td>0.517361</td>\n",
       "      <td>0.495389</td>\n",
       "    </tr>\n",
       "    <tr>\n",
       "      <th>nb_5000</th>\n",
       "      <td>0.520566</td>\n",
       "      <td>0.496728</td>\n",
       "    </tr>\n",
       "    <tr>\n",
       "      <th>rf_100</th>\n",
       "      <td>0.651709</td>\n",
       "      <td>0.603988</td>\n",
       "    </tr>\n",
       "    <tr>\n",
       "      <th>rf_1000</th>\n",
       "      <td>0.705662</td>\n",
       "      <td>0.663378</td>\n",
       "    </tr>\n",
       "    <tr>\n",
       "      <th>rf_1500</th>\n",
       "      <td>0.705662</td>\n",
       "      <td>0.660241</td>\n",
       "    </tr>\n",
       "    <tr>\n",
       "      <th>rf_2000</th>\n",
       "      <td>0.705662</td>\n",
       "      <td>0.659675</td>\n",
       "    </tr>\n",
       "    <tr>\n",
       "      <th>rf_2500</th>\n",
       "      <td>0.704327</td>\n",
       "      <td>0.657776</td>\n",
       "    </tr>\n",
       "    <tr>\n",
       "      <th>rf_3000</th>\n",
       "      <td>0.702190</td>\n",
       "      <td>0.656500</td>\n",
       "    </tr>\n",
       "    <tr>\n",
       "      <th>rf_3500</th>\n",
       "      <td>0.702190</td>\n",
       "      <td>0.652940</td>\n",
       "    </tr>\n",
       "    <tr>\n",
       "      <th>rf_4500</th>\n",
       "      <td>0.701923</td>\n",
       "      <td>0.654296</td>\n",
       "    </tr>\n",
       "    <tr>\n",
       "      <th>rf_5000</th>\n",
       "      <td>0.697917</td>\n",
       "      <td>0.648779</td>\n",
       "    </tr>\n",
       "    <tr>\n",
       "      <th>svm_100</th>\n",
       "      <td>0.629808</td>\n",
       "      <td>0.587588</td>\n",
       "    </tr>\n",
       "    <tr>\n",
       "      <th>svm_1000</th>\n",
       "      <td>0.702457</td>\n",
       "      <td>0.689008</td>\n",
       "    </tr>\n",
       "    <tr>\n",
       "      <th>svm_1500</th>\n",
       "      <td>0.709936</td>\n",
       "      <td>0.697085</td>\n",
       "    </tr>\n",
       "    <tr>\n",
       "      <th>svm_2000</th>\n",
       "      <td>0.714476</td>\n",
       "      <td>0.701640</td>\n",
       "    </tr>\n",
       "    <tr>\n",
       "      <th>svm_2500</th>\n",
       "      <td>0.721154</td>\n",
       "      <td>0.708205</td>\n",
       "    </tr>\n",
       "    <tr>\n",
       "      <th>svm_3000</th>\n",
       "      <td>0.723291</td>\n",
       "      <td>0.709802</td>\n",
       "    </tr>\n",
       "    <tr>\n",
       "      <th>svm_3500</th>\n",
       "      <td>0.722489</td>\n",
       "      <td>0.708538</td>\n",
       "    </tr>\n",
       "    <tr>\n",
       "      <th>svm_4500</th>\n",
       "      <td>0.724626</td>\n",
       "      <td>0.711281</td>\n",
       "    </tr>\n",
       "    <tr>\n",
       "      <th>svm_5000</th>\n",
       "      <td>0.723825</td>\n",
       "      <td>0.709051</td>\n",
       "    </tr>\n",
       "  </tbody>\n",
       "</table>\n",
       "</div>"
      ],
      "text/plain": [
       "               acc        f1\n",
       "nb_100    0.304487  0.338809\n",
       "nb_1000   0.462874  0.478032\n",
       "nb_1500   0.472756  0.473649\n",
       "nb_2000   0.486912  0.479107\n",
       "nb_2500   0.493590  0.480735\n",
       "nb_3000   0.496528  0.479578\n",
       "nb_3500   0.503205  0.481937\n",
       "nb_4500   0.517361  0.495389\n",
       "nb_5000   0.520566  0.496728\n",
       "rf_100    0.651709  0.603988\n",
       "rf_1000   0.705662  0.663378\n",
       "rf_1500   0.705662  0.660241\n",
       "rf_2000   0.705662  0.659675\n",
       "rf_2500   0.704327  0.657776\n",
       "rf_3000   0.702190  0.656500\n",
       "rf_3500   0.702190  0.652940\n",
       "rf_4500   0.701923  0.654296\n",
       "rf_5000   0.697917  0.648779\n",
       "svm_100   0.629808  0.587588\n",
       "svm_1000  0.702457  0.689008\n",
       "svm_1500  0.709936  0.697085\n",
       "svm_2000  0.714476  0.701640\n",
       "svm_2500  0.721154  0.708205\n",
       "svm_3000  0.723291  0.709802\n",
       "svm_3500  0.722489  0.708538\n",
       "svm_4500  0.724626  0.711281\n",
       "svm_5000  0.723825  0.709051"
      ]
     },
     "execution_count": 43,
     "metadata": {},
     "output_type": "execute_result"
    }
   ],
   "source": [
    "results_df = pd.DataFrame()\n",
    "results_df = results_df.append(nb_results_df)\n",
    "results_df = results_df.append(rf_results_df)\n",
    "results_df = results_df.append(svm_results_df)\n",
    "results_df"
   ]
  },
  {
   "cell_type": "markdown",
   "metadata": {},
   "source": [
    "# 5. Repeat 3) when a PCA (of 95% information preservation) is used to reduce the dimension of the feature space. \n"
   ]
  },
  {
   "cell_type": "markdown",
   "metadata": {},
   "source": [
    "## PCA function"
   ]
  },
  {
   "cell_type": "code",
   "execution_count": 44,
   "metadata": {},
   "outputs": [],
   "source": [
    "def PCA_apply (features_train, features_test):\n",
    "    # use principal component analysis with 95% info preservation\n",
    "    pca = PCA(n_components=0.95)\n",
    "    # fit training vectors\n",
    "    pca.fit(features_train)\n",
    "    # transform\n",
    "    pca_train = pca.transform(features_train)\n",
    "    pca_test = pca.transform(features_test)\n",
    "    return pca_train, pca_test"
   ]
  },
  {
   "cell_type": "code",
   "execution_count": 45,
   "metadata": {},
   "outputs": [],
   "source": [
    "# call pca funcion\n",
    "pca_train, pca_test = PCA_apply(features_train, features_test)"
   ]
  },
  {
   "cell_type": "markdown",
   "metadata": {},
   "source": [
    "## NaiveBayes with PCA"
   ]
  },
  {
   "cell_type": "code",
   "execution_count": 46,
   "metadata": {},
   "outputs": [
    {
     "name": "stdout",
     "output_type": "stream",
     "text": [
      "accuracy:  0.4321581196581197\n",
      "f1 score:  0.44096725345692794\n"
     ]
    }
   ],
   "source": [
    "# make list of classifier tuples and create dataframe\n",
    "score_nb_pca = [nb_classifier(pca_train, pca_test)]\n",
    "pca_df = pd.DataFrame(score_nb_pca, columns=['acc', 'f1'], index=[\"nb_100\"])"
   ]
  },
  {
   "cell_type": "markdown",
   "metadata": {},
   "source": [
    "## RandomForest With PCA"
   ]
  },
  {
   "cell_type": "code",
   "execution_count": 47,
   "metadata": {},
   "outputs": [
    {
     "name": "stdout",
     "output_type": "stream",
     "text": [
      "accuracy =  0.6287393162393162\n",
      "f1 score =  0.5663189590554162\n"
     ]
    }
   ],
   "source": [
    "# make list of classifier tuples and create dataframe\n",
    "score_rf_pca = [rf_classifier(pca_train, pca_test)]\n",
    "pca_rf = pd.DataFrame(score_rf_pca, columns=['acc', 'f1'], index=[\"rf_100\"])"
   ]
  },
  {
   "cell_type": "markdown",
   "metadata": {},
   "source": [
    "## Linear SVM with PCA"
   ]
  },
  {
   "cell_type": "code",
   "execution_count": 48,
   "metadata": {},
   "outputs": [
    {
     "name": "stdout",
     "output_type": "stream",
     "text": [
      "accuracy =  0.6311431623931624\n",
      "f1 score =  0.5826392945063416\n"
     ]
    },
    {
     "name": "stderr",
     "output_type": "stream",
     "text": [
      "C:\\Users\\Joonas\\AppData\\Local\\Programs\\Python\\Python39\\lib\\site-packages\\sklearn\\svm\\_base.py:985: ConvergenceWarning: Liblinear failed to converge, increase the number of iterations.\n",
      "  warnings.warn(\"Liblinear failed to converge, increase \"\n"
     ]
    }
   ],
   "source": [
    "# make list of classifier tuples and create dataframe\n",
    "score_svm_pca = [svm_classifier(pca_train, pca_test)]\n",
    "pca_svm = pd.DataFrame(score_svm_pca, columns=['acc', 'f1'], index=[\"svm_100\"])"
   ]
  },
  {
   "cell_type": "code",
   "execution_count": 49,
   "metadata": {},
   "outputs": [
    {
     "data": {
      "text/html": [
       "<div>\n",
       "<style scoped>\n",
       "    .dataframe tbody tr th:only-of-type {\n",
       "        vertical-align: middle;\n",
       "    }\n",
       "\n",
       "    .dataframe tbody tr th {\n",
       "        vertical-align: top;\n",
       "    }\n",
       "\n",
       "    .dataframe thead th {\n",
       "        text-align: right;\n",
       "    }\n",
       "</style>\n",
       "<table border=\"1\" class=\"dataframe\">\n",
       "  <thead>\n",
       "    <tr style=\"text-align: right;\">\n",
       "      <th></th>\n",
       "      <th>acc</th>\n",
       "      <th>f1</th>\n",
       "    </tr>\n",
       "  </thead>\n",
       "  <tbody>\n",
       "    <tr>\n",
       "      <th>nb_100</th>\n",
       "      <td>0.432158</td>\n",
       "      <td>0.440967</td>\n",
       "    </tr>\n",
       "    <tr>\n",
       "      <th>rf_100</th>\n",
       "      <td>0.628739</td>\n",
       "      <td>0.566319</td>\n",
       "    </tr>\n",
       "    <tr>\n",
       "      <th>svm_100</th>\n",
       "      <td>0.631143</td>\n",
       "      <td>0.582639</td>\n",
       "    </tr>\n",
       "  </tbody>\n",
       "</table>\n",
       "</div>"
      ],
      "text/plain": [
       "              acc        f1\n",
       "nb_100   0.432158  0.440967\n",
       "rf_100   0.628739  0.566319\n",
       "svm_100  0.631143  0.582639"
      ]
     },
     "execution_count": 49,
     "metadata": {},
     "output_type": "execute_result"
    }
   ],
   "source": [
    "pca_df = pca_df.append(pca_rf)\n",
    "pca_df = pca_df.append(pca_svm)\n",
    "pca_df"
   ]
  },
  {
   "cell_type": "markdown",
   "metadata": {},
   "source": [
    "# 6. Instead of CountVectorizer, use TfidfVectorizer to create the feature set as in 2) and test the classification accuracy and F1 measure of Naives’ Bayes classifier.\n"
   ]
  },
  {
   "cell_type": "code",
   "execution_count": 50,
   "metadata": {},
   "outputs": [],
   "source": [
    "def tfidf_model(train_data, test_data, max_features):\n",
    "    \"\"\"Return feature vectors from tfidfVectorizer\"\"\"\n",
    "    tfidf = TfidfVectorizer(tokenizer=LemmaTokenizer(), \n",
    "                          lowercase=True, \n",
    "                          max_features = max_features, \n",
    "                          stop_words = \"english\", \n",
    "                          min_df = 3, max_df = 0.7)\n",
    "    # fit train data\n",
    "    tfidf.fit(train_data)\n",
    "    tfidf_train = tfidf.transform(train_data)\n",
    "    tfidf_test = tfidf.transform(test_data)\n",
    " \n",
    "    #print(tfidf.get_feature_names())\n",
    "    return (tfidf_train.toarray(), tfidf_test.toarray())"
   ]
  },
  {
   "cell_type": "code",
   "execution_count": 51,
   "metadata": {},
   "outputs": [
    {
     "name": "stderr",
     "output_type": "stream",
     "text": [
      "C:\\Users\\Joonas\\AppData\\Local\\Programs\\Python\\Python39\\lib\\site-packages\\sklearn\\feature_extraction\\text.py:489: UserWarning: The parameter 'token_pattern' will not be used since 'tokenizer' is not None'\n",
      "  warnings.warn(\"The parameter 'token_pattern' will not be used\"\n",
      "C:\\Users\\Joonas\\AppData\\Local\\Programs\\Python\\Python39\\lib\\site-packages\\sklearn\\feature_extraction\\text.py:388: UserWarning: Your stop_words may be inconsistent with your preprocessing. Tokenizing the stop words generated tokens ['ha', 'le', 'u', 'wa'] not in stop_words.\n",
      "  warnings.warn('Your stop_words may be inconsistent with '\n"
     ]
    }
   ],
   "source": [
    "tfidf_feature_train, tfidf_feature_test = tfidf_model(train_df['document'], test_df['document'], 100)"
   ]
  },
  {
   "cell_type": "code",
   "execution_count": 52,
   "metadata": {},
   "outputs": [
    {
     "name": "stdout",
     "output_type": "stream",
     "text": [
      "accuracy:  0.3370726495726496\n",
      "f1 score:  0.3711534329052627\n"
     ]
    }
   ],
   "source": [
    "tfidf_accuracy, tfidf_f1 = nb_classifier(tfidf_feature_train, tfidf_feature_test)"
   ]
  },
  {
   "cell_type": "markdown",
   "metadata": {},
   "source": [
    "# 7. Use Word2vec to create a feature vector to each document by averaging over all word2vec representations of individual words constituting the document. Use this feature set to train the Naives’ Bayes classifier and output the accuracy, F1 measure and confusion matrix on testing data. \n"
   ]
  },
  {
   "cell_type": "markdown",
   "metadata": {},
   "source": [
    "USE WORDS INSTEAD OF LONG STRINGS!"
   ]
  },
  {
   "cell_type": "code",
   "execution_count": 116,
   "metadata": {},
   "outputs": [
    {
     "name": "stdout",
     "output_type": "stream",
     "text": [
      "number of cpu: 12\n"
     ]
    }
   ],
   "source": [
    "import multiprocessing\n",
    "import logging\n",
    "import sys\n",
    "\n",
    "# choose all cpu logical cores to compute word2vec\n",
    "workers = multiprocessing.cpu_count()\n",
    "print('number of cpu: {}'.format(workers))"
   ]
  },
  {
   "cell_type": "markdown",
   "metadata": {},
   "source": [
    "## Word2Vec - functions"
   ]
  },
  {
   "cell_type": "code",
   "execution_count": 54,
   "metadata": {},
   "outputs": [],
   "source": [
    "def Train_Embedding(train, val, test, method=''):\n",
    "    train_tokens, val_tokens, test_tokens = [], [], []\n",
    "    \n",
    "    for text in train:\n",
    "        train_tokens.append(text.split())\n",
    "    for text in val:\n",
    "        val_tokens.append(text.split())\n",
    "    for text in test:\n",
    "        test_tokens.append(text.split())\n",
    "\n",
    "    if method == 'word2vec':\n",
    "        model= Word2Vec(train_tokens+val_tokens+test_tokens, min_count=1, window=10,  workers=workers, vector_size=300, epochs=100)\n",
    "        #model.save('./reuters_W2Vec.bin')\n",
    "    return model\n",
    "\n"
   ]
  },
  {
   "cell_type": "code",
   "execution_count": 56,
   "metadata": {},
   "outputs": [],
   "source": [
    "def Text_embedding(model, Texts):\n",
    "    Texts_embed = []\n",
    "    words = list(model.wv.key_to_index)\n",
    "    for text in tqdm(Texts, desc=\"Embedding mean vectors for documents\"):\n",
    "        text_embed = [0]\n",
    "        for word in text.split():         \n",
    "            if word in words:    \n",
    "                text_embed = np.add(text_embed, model.wv[word])\n",
    "            else:\n",
    "                words_not_found.append(word)\n",
    "        text_embed = np.divide(text_embed, len(text.split()))\n",
    "\n",
    "        #    text_embed = np.add(text_embed, model.wv[word])\n",
    "        #text_embed = np.divide(text_embed, len(text.split()))   # averaging\n",
    "        Texts_embed.append(text_embed)\n",
    "    return Texts_embed\n"
   ]
  },
  {
   "cell_type": "markdown",
   "metadata": {},
   "source": [
    "## Word2Vec - Train"
   ]
  },
  {
   "cell_type": "code",
   "execution_count": 57,
   "metadata": {},
   "outputs": [
    {
     "data": {
      "text/html": [
       "<div>\n",
       "<style scoped>\n",
       "    .dataframe tbody tr th:only-of-type {\n",
       "        vertical-align: middle;\n",
       "    }\n",
       "\n",
       "    .dataframe tbody tr th {\n",
       "        vertical-align: top;\n",
       "    }\n",
       "\n",
       "    .dataframe thead th {\n",
       "        text-align: right;\n",
       "    }\n",
       "</style>\n",
       "<table border=\"1\" class=\"dataframe\">\n",
       "  <thead>\n",
       "    <tr style=\"text-align: right;\">\n",
       "      <th></th>\n",
       "      <th>document</th>\n",
       "      <th>words_list</th>\n",
       "      <th>category</th>\n",
       "      <th>ids</th>\n",
       "    </tr>\n",
       "  </thead>\n",
       "  <tbody>\n",
       "    <tr>\n",
       "      <th>0</th>\n",
       "      <td>bahia cocoa review shower continue throughout ...</td>\n",
       "      <td>[bahia, cocoa, review, shower, continue, throu...</td>\n",
       "      <td>cocoa</td>\n",
       "      <td>training/1</td>\n",
       "    </tr>\n",
       "    <tr>\n",
       "      <th>1</th>\n",
       "      <td>computer terminal systems ltcpml complete sale...</td>\n",
       "      <td>[computer, terminal, systems, ltcpml, complete...</td>\n",
       "      <td>acq</td>\n",
       "      <td>training/10</td>\n",
       "    </tr>\n",
       "    <tr>\n",
       "      <th>2</th>\n",
       "      <td>nz trade bank deposit growth rise slightly new...</td>\n",
       "      <td>[nz, trade, bank, deposit, growth, rise, sligh...</td>\n",
       "      <td>money-supply</td>\n",
       "      <td>training/100</td>\n",
       "    </tr>\n",
       "    <tr>\n",
       "      <th>3</th>\n",
       "      <td>national amusements up viacom ltvia bid viacom...</td>\n",
       "      <td>[national, amusements, up, viacom, ltvia, bid,...</td>\n",
       "      <td>acq</td>\n",
       "      <td>training/1000</td>\n",
       "    </tr>\n",
       "    <tr>\n",
       "      <th>4</th>\n",
       "      <td>rogers ltrog see 1st qtr net significantly rog...</td>\n",
       "      <td>[rogers, ltrog, see, 1st, qtr, net, significan...</td>\n",
       "      <td>earn</td>\n",
       "      <td>training/10000</td>\n",
       "    </tr>\n",
       "    <tr>\n",
       "      <th>...</th>\n",
       "      <td>...</td>\n",
       "      <td>...</td>\n",
       "      <td>...</td>\n",
       "      <td>...</td>\n",
       "    </tr>\n",
       "    <tr>\n",
       "      <th>3739</th>\n",
       "      <td>tokyo dealers see dollar poise breach yen toky...</td>\n",
       "      <td>[tokyo, dealers, see, dollar, poise, breach, y...</td>\n",
       "      <td>money-fx</td>\n",
       "      <td>test/21573</td>\n",
       "    </tr>\n",
       "    <tr>\n",
       "      <th>3740</th>\n",
       "      <td>tokyo dealers see dollar poise breach yen toky...</td>\n",
       "      <td>[tokyo, dealers, see, dollar, poise, breach, y...</td>\n",
       "      <td>yen</td>\n",
       "      <td>test/21573</td>\n",
       "    </tr>\n",
       "    <tr>\n",
       "      <th>3741</th>\n",
       "      <td>japanindia conference cut gulf war risk charge...</td>\n",
       "      <td>[japanindia, conference, cut, gulf, war, risk,...</td>\n",
       "      <td>ship</td>\n",
       "      <td>test/21574</td>\n",
       "    </tr>\n",
       "    <tr>\n",
       "      <th>3742</th>\n",
       "      <td>soviet industrial growthtrade slower soviet un...</td>\n",
       "      <td>[soviet, industrial, growthtrade, slower, sovi...</td>\n",
       "      <td>ipi</td>\n",
       "      <td>test/21575</td>\n",
       "    </tr>\n",
       "    <tr>\n",
       "      <th>3743</th>\n",
       "      <td>six kill south african gold mine accident six ...</td>\n",
       "      <td>[six, kill, south, african, gold, mine, accide...</td>\n",
       "      <td>gold</td>\n",
       "      <td>test/21576</td>\n",
       "    </tr>\n",
       "  </tbody>\n",
       "</table>\n",
       "<p>13328 rows × 4 columns</p>\n",
       "</div>"
      ],
      "text/plain": [
       "                                               document  \\\n",
       "0     bahia cocoa review shower continue throughout ...   \n",
       "1     computer terminal systems ltcpml complete sale...   \n",
       "2     nz trade bank deposit growth rise slightly new...   \n",
       "3     national amusements up viacom ltvia bid viacom...   \n",
       "4     rogers ltrog see 1st qtr net significantly rog...   \n",
       "...                                                 ...   \n",
       "3739  tokyo dealers see dollar poise breach yen toky...   \n",
       "3740  tokyo dealers see dollar poise breach yen toky...   \n",
       "3741  japanindia conference cut gulf war risk charge...   \n",
       "3742  soviet industrial growthtrade slower soviet un...   \n",
       "3743  six kill south african gold mine accident six ...   \n",
       "\n",
       "                                             words_list      category  \\\n",
       "0     [bahia, cocoa, review, shower, continue, throu...         cocoa   \n",
       "1     [computer, terminal, systems, ltcpml, complete...           acq   \n",
       "2     [nz, trade, bank, deposit, growth, rise, sligh...  money-supply   \n",
       "3     [national, amusements, up, viacom, ltvia, bid,...           acq   \n",
       "4     [rogers, ltrog, see, 1st, qtr, net, significan...          earn   \n",
       "...                                                 ...           ...   \n",
       "3739  [tokyo, dealers, see, dollar, poise, breach, y...      money-fx   \n",
       "3740  [tokyo, dealers, see, dollar, poise, breach, y...           yen   \n",
       "3741  [japanindia, conference, cut, gulf, war, risk,...          ship   \n",
       "3742  [soviet, industrial, growthtrade, slower, sovi...           ipi   \n",
       "3743  [six, kill, south, african, gold, mine, accide...          gold   \n",
       "\n",
       "                 ids  \n",
       "0         training/1  \n",
       "1        training/10  \n",
       "2       training/100  \n",
       "3      training/1000  \n",
       "4     training/10000  \n",
       "...              ...  \n",
       "3739      test/21573  \n",
       "3740      test/21573  \n",
       "3741      test/21574  \n",
       "3742      test/21575  \n",
       "3743      test/21576  \n",
       "\n",
       "[13328 rows x 4 columns]"
      ]
     },
     "execution_count": 57,
     "metadata": {},
     "output_type": "execute_result"
    }
   ],
   "source": [
    "# join dataframes into one\n",
    "w2v_train_df = pd.DataFrame()\n",
    "w2v_train_df = w2v_train_df.append(train_df)\n",
    "w2v_train_df = w2v_train_df.append(test_df)\n",
    "w2v_train_df"
   ]
  },
  {
   "cell_type": "code",
   "execution_count": 58,
   "metadata": {},
   "outputs": [],
   "source": [
    "# init and train word2vec model\n",
    "\n",
    "model_own= Word2Vec(train_df[\"words_list\"], min_count=1, window=10,  workers=workers, vector_size=100, epochs=100) ##, iter=1000)\n",
    "\n",
    "#model.save('./reuters_W2Vec.bin')\n"
   ]
  },
  {
   "cell_type": "code",
   "execution_count": 59,
   "metadata": {},
   "outputs": [],
   "source": [
    "model = Word2Vec(w2v_train_df[\"words_list\"], min_count=1, window=10,  workers=workers, vector_size=100, epochs=100)"
   ]
  },
  {
   "cell_type": "markdown",
   "metadata": {},
   "source": [
    "## Word2Vec - Mean vector"
   ]
  },
  {
   "cell_type": "code",
   "execution_count": 60,
   "metadata": {},
   "outputs": [
    {
     "data": {
      "application/vnd.jupyter.widget-view+json": {
       "model_id": "b83974e1652a49e8ae9d2c164e1e1d81",
       "version_major": 2,
       "version_minor": 0
      },
      "text/plain": [
       "Embedding mean vectors for documents:   0%|          | 0/9584 [00:00<?, ?it/s]"
      ]
     },
     "metadata": {},
     "output_type": "display_data"
    }
   ],
   "source": [
    "mean_vec_train = Text_embedding(model, train_df[\"document\"])"
   ]
  },
  {
   "cell_type": "code",
   "execution_count": 61,
   "metadata": {},
   "outputs": [
    {
     "data": {
      "application/vnd.jupyter.widget-view+json": {
       "model_id": "3e4e1c6264684847a784cb73b318c3ee",
       "version_major": 2,
       "version_minor": 0
      },
      "text/plain": [
       "Embedding mean vectors for documents:   0%|          | 0/3744 [00:00<?, ?it/s]"
      ]
     },
     "metadata": {},
     "output_type": "display_data"
    }
   ],
   "source": [
    "mean_vec_test = Text_embedding(model, test_df[\"document\"])"
   ]
  },
  {
   "cell_type": "code",
   "execution_count": 63,
   "metadata": {},
   "outputs": [],
   "source": [
    "#doc_vec_train"
   ]
  },
  {
   "cell_type": "markdown",
   "metadata": {},
   "source": [
    "## Word2Vec - Load pre-trained model"
   ]
  },
  {
   "cell_type": "code",
   "execution_count": 64,
   "metadata": {},
   "outputs": [
    {
     "name": "stdout",
     "output_type": "stream",
     "text": [
      "['fasttext-wiki-news-subwords-300', 'conceptnet-numberbatch-17-06-300', 'word2vec-ruscorpora-300', 'word2vec-google-news-300', 'glove-wiki-gigaword-50', 'glove-wiki-gigaword-100', 'glove-wiki-gigaword-200', 'glove-wiki-gigaword-300', 'glove-twitter-25', 'glove-twitter-50', 'glove-twitter-100', 'glove-twitter-200', '__testing_word2vec-matrix-synopsis']\n"
     ]
    }
   ],
   "source": [
    "import gensim.downloader as api\n",
    "print(list(api.info()['models'].keys()))"
   ]
  },
  {
   "cell_type": "code",
   "execution_count": 65,
   "metadata": {},
   "outputs": [],
   "source": [
    "model3 = api.load(\"word2vec-google-news-300\")"
   ]
  },
  {
   "cell_type": "markdown",
   "metadata": {},
   "source": [
    "## Word2Vec - NaiveBayes"
   ]
  },
  {
   "cell_type": "code",
   "execution_count": 66,
   "metadata": {},
   "outputs": [
    {
     "name": "stdout",
     "output_type": "stream",
     "text": [
      "accuracy:  0.6485042735042735\n",
      "f1 score:  0.6541289014926812\n",
      "[[684   1   0 ...   0   0   0]\n",
      " [  0   8   1 ...   0   0   0]\n",
      " [  0   0   5 ...   0   0   0]\n",
      " ...\n",
      " [  0   0   0 ...   7   0   0]\n",
      " [  0   0   0 ...   0   9   0]\n",
      " [  0   1   0 ...   0   0   1]]\n"
     ]
    }
   ],
   "source": [
    "acc,f1,conf_matrix = nb_classifier(mean_vec_train,mean_vec_test,conf=True)\n",
    "print(conf_matrix)"
   ]
  },
  {
   "cell_type": "markdown",
   "metadata": {},
   "source": [
    "# 8. Now we would like to tackle the discrepancy of the number of instances in training data among the various categories. For this purpose, create a new partition, where you remove the categories that contains very large number of instances and very low number of instances as compared to the rest of the categories. Repeat 3) and provide the results on the table. "
   ]
  },
  {
   "cell_type": "markdown",
   "metadata": {},
   "source": [
    "## Remove categories with very large/low instanses"
   ]
  },
  {
   "cell_type": "code",
   "execution_count": 67,
   "metadata": {},
   "outputs": [],
   "source": [
    "def remove_categories(data, lower, upper):\n",
    "    \"\"\"Remove categories outside treshold values. Return dataframe.\n",
    "    :param lower: lower limit, type: int\n",
    "    :param upper: upper limit, type: int\n",
    "    :param data: pd.Dataframe\n",
    "    \"\"\"\n",
    "    \n",
    "    # get count of documents/category\n",
    "    data_counts = data.groupby([\"category\"]).count().sort_values(\"document\")\n",
    "    # make dataframe wherecategory is index\n",
    "    df = data.set_index(\"category\")\n",
    "    # loop for catching the category names with unwanted categories with 10 < doc < 1000\n",
    "    for category in data_counts.index:  # here index is category\n",
    "        # get count of documents in this category\n",
    "        doc_count = data_counts.loc[category, \"document\"]\n",
    "        # if docs count not between tresholds, drop category\n",
    "        if not lower <= doc_count <= upper:\n",
    "            df=df.drop(index=category)\n",
    "\n",
    "    #print(f\"Removed {len(category_names)} categories\")\n",
    "\n",
    "    return df.reset_index()\n",
    "#count"
   ]
  },
  {
   "cell_type": "code",
   "execution_count": 68,
   "metadata": {},
   "outputs": [],
   "source": [
    "# set max rows displayed for pandas\n",
    "pd.set_option('display.max_rows', 90)"
   ]
  },
  {
   "cell_type": "code",
   "execution_count": 69,
   "metadata": {},
   "outputs": [
    {
     "data": {
      "text/html": [
       "<div>\n",
       "<style scoped>\n",
       "    .dataframe tbody tr th:only-of-type {\n",
       "        vertical-align: middle;\n",
       "    }\n",
       "\n",
       "    .dataframe tbody tr th {\n",
       "        vertical-align: top;\n",
       "    }\n",
       "\n",
       "    .dataframe thead th {\n",
       "        text-align: right;\n",
       "    }\n",
       "</style>\n",
       "<table border=\"1\" class=\"dataframe\">\n",
       "  <thead>\n",
       "    <tr style=\"text-align: right;\">\n",
       "      <th></th>\n",
       "      <th>document</th>\n",
       "      <th>words_list</th>\n",
       "      <th>category</th>\n",
       "      <th>ids</th>\n",
       "    </tr>\n",
       "  </thead>\n",
       "  <tbody>\n",
       "    <tr>\n",
       "      <th>0</th>\n",
       "      <td>bahia cocoa review shower continue throughout ...</td>\n",
       "      <td>[bahia, cocoa, review, shower, continue, throu...</td>\n",
       "      <td>cocoa</td>\n",
       "      <td>training/1</td>\n",
       "    </tr>\n",
       "    <tr>\n",
       "      <th>1</th>\n",
       "      <td>computer terminal systems ltcpml complete sale...</td>\n",
       "      <td>[computer, terminal, systems, ltcpml, complete...</td>\n",
       "      <td>acq</td>\n",
       "      <td>training/10</td>\n",
       "    </tr>\n",
       "    <tr>\n",
       "      <th>2</th>\n",
       "      <td>nz trade bank deposit growth rise slightly new...</td>\n",
       "      <td>[nz, trade, bank, deposit, growth, rise, sligh...</td>\n",
       "      <td>money-supply</td>\n",
       "      <td>training/100</td>\n",
       "    </tr>\n",
       "    <tr>\n",
       "      <th>3</th>\n",
       "      <td>national amusements up viacom ltvia bid viacom...</td>\n",
       "      <td>[national, amusements, up, viacom, ltvia, bid,...</td>\n",
       "      <td>acq</td>\n",
       "      <td>training/1000</td>\n",
       "    </tr>\n",
       "    <tr>\n",
       "      <th>4</th>\n",
       "      <td>rogers ltrog see 1st qtr net significantly rog...</td>\n",
       "      <td>[rogers, ltrog, see, 1st, qtr, net, significan...</td>\n",
       "      <td>earn</td>\n",
       "      <td>training/10000</td>\n",
       "    </tr>\n",
       "    <tr>\n",
       "      <th>...</th>\n",
       "      <td>...</td>\n",
       "      <td>...</td>\n",
       "      <td>...</td>\n",
       "      <td>...</td>\n",
       "    </tr>\n",
       "    <tr>\n",
       "      <th>13323</th>\n",
       "      <td>tokyo dealers see dollar poise breach yen toky...</td>\n",
       "      <td>[tokyo, dealers, see, dollar, poise, breach, y...</td>\n",
       "      <td>money-fx</td>\n",
       "      <td>test/21573</td>\n",
       "    </tr>\n",
       "    <tr>\n",
       "      <th>13324</th>\n",
       "      <td>tokyo dealers see dollar poise breach yen toky...</td>\n",
       "      <td>[tokyo, dealers, see, dollar, poise, breach, y...</td>\n",
       "      <td>yen</td>\n",
       "      <td>test/21573</td>\n",
       "    </tr>\n",
       "    <tr>\n",
       "      <th>13325</th>\n",
       "      <td>japanindia conference cut gulf war risk charge...</td>\n",
       "      <td>[japanindia, conference, cut, gulf, war, risk,...</td>\n",
       "      <td>ship</td>\n",
       "      <td>test/21574</td>\n",
       "    </tr>\n",
       "    <tr>\n",
       "      <th>13326</th>\n",
       "      <td>soviet industrial growthtrade slower soviet un...</td>\n",
       "      <td>[soviet, industrial, growthtrade, slower, sovi...</td>\n",
       "      <td>ipi</td>\n",
       "      <td>test/21575</td>\n",
       "    </tr>\n",
       "    <tr>\n",
       "      <th>13327</th>\n",
       "      <td>six kill south african gold mine accident six ...</td>\n",
       "      <td>[six, kill, south, african, gold, mine, accide...</td>\n",
       "      <td>gold</td>\n",
       "      <td>test/21576</td>\n",
       "    </tr>\n",
       "  </tbody>\n",
       "</table>\n",
       "<p>13328 rows × 4 columns</p>\n",
       "</div>"
      ],
      "text/plain": [
       "                                                document  \\\n",
       "0      bahia cocoa review shower continue throughout ...   \n",
       "1      computer terminal systems ltcpml complete sale...   \n",
       "2      nz trade bank deposit growth rise slightly new...   \n",
       "3      national amusements up viacom ltvia bid viacom...   \n",
       "4      rogers ltrog see 1st qtr net significantly rog...   \n",
       "...                                                  ...   \n",
       "13323  tokyo dealers see dollar poise breach yen toky...   \n",
       "13324  tokyo dealers see dollar poise breach yen toky...   \n",
       "13325  japanindia conference cut gulf war risk charge...   \n",
       "13326  soviet industrial growthtrade slower soviet un...   \n",
       "13327  six kill south african gold mine accident six ...   \n",
       "\n",
       "                                              words_list      category  \\\n",
       "0      [bahia, cocoa, review, shower, continue, throu...         cocoa   \n",
       "1      [computer, terminal, systems, ltcpml, complete...           acq   \n",
       "2      [nz, trade, bank, deposit, growth, rise, sligh...  money-supply   \n",
       "3      [national, amusements, up, viacom, ltvia, bid,...           acq   \n",
       "4      [rogers, ltrog, see, 1st, qtr, net, significan...          earn   \n",
       "...                                                  ...           ...   \n",
       "13323  [tokyo, dealers, see, dollar, poise, breach, y...      money-fx   \n",
       "13324  [tokyo, dealers, see, dollar, poise, breach, y...           yen   \n",
       "13325  [japanindia, conference, cut, gulf, war, risk,...          ship   \n",
       "13326  [soviet, industrial, growthtrade, slower, sovi...           ipi   \n",
       "13327  [six, kill, south, african, gold, mine, accide...          gold   \n",
       "\n",
       "                  ids  \n",
       "0          training/1  \n",
       "1         training/10  \n",
       "2        training/100  \n",
       "3       training/1000  \n",
       "4      training/10000  \n",
       "...               ...  \n",
       "13323      test/21573  \n",
       "13324      test/21573  \n",
       "13325      test/21574  \n",
       "13326      test/21575  \n",
       "13327      test/21576  \n",
       "\n",
       "[13328 rows x 4 columns]"
      ]
     },
     "execution_count": 69,
     "metadata": {},
     "output_type": "execute_result"
    }
   ],
   "source": [
    "# unify data to make new partition\n",
    "data=train_df.append(test_df).reset_index(drop=True)\n",
    "data"
   ]
  },
  {
   "cell_type": "code",
   "execution_count": 109,
   "metadata": {},
   "outputs": [
    {
     "data": {
      "text/html": [
       "<div>\n",
       "<style scoped>\n",
       "    .dataframe tbody tr th:only-of-type {\n",
       "        vertical-align: middle;\n",
       "    }\n",
       "\n",
       "    .dataframe tbody tr th {\n",
       "        vertical-align: top;\n",
       "    }\n",
       "\n",
       "    .dataframe thead th {\n",
       "        text-align: right;\n",
       "    }\n",
       "</style>\n",
       "<table border=\"1\" class=\"dataframe\">\n",
       "  <thead>\n",
       "    <tr style=\"text-align: right;\">\n",
       "      <th></th>\n",
       "      <th>category</th>\n",
       "      <th>document</th>\n",
       "      <th>words_list</th>\n",
       "      <th>ids</th>\n",
       "    </tr>\n",
       "  </thead>\n",
       "  <tbody>\n",
       "    <tr>\n",
       "      <th>0</th>\n",
       "      <td>cocoa</td>\n",
       "      <td>bahia cocoa review shower continue throughout ...</td>\n",
       "      <td>[bahia, cocoa, review, shower, continue, throu...</td>\n",
       "      <td>training/1</td>\n",
       "    </tr>\n",
       "    <tr>\n",
       "      <th>1</th>\n",
       "      <td>money-supply</td>\n",
       "      <td>nz trade bank deposit growth rise slightly new...</td>\n",
       "      <td>[nz, trade, bank, deposit, growth, rise, sligh...</td>\n",
       "      <td>training/100</td>\n",
       "    </tr>\n",
       "    <tr>\n",
       "      <th>2</th>\n",
       "      <td>nat-gas</td>\n",
       "      <td>canada oil export rise pct canadian oil export...</td>\n",
       "      <td>[canada, oil, export, rise, pct, canadian, oil...</td>\n",
       "      <td>training/10011</td>\n",
       "    </tr>\n",
       "    <tr>\n",
       "      <th>3</th>\n",
       "      <td>cocoa</td>\n",
       "      <td>coffee sugar cocoa exchange name chairman new ...</td>\n",
       "      <td>[coffee, sugar, cocoa, exchange, name, chairma...</td>\n",
       "      <td>training/10014</td>\n",
       "    </tr>\n",
       "    <tr>\n",
       "      <th>4</th>\n",
       "      <td>coffee</td>\n",
       "      <td>coffee sugar cocoa exchange name chairman new ...</td>\n",
       "      <td>[coffee, sugar, cocoa, exchange, name, chairma...</td>\n",
       "      <td>training/10014</td>\n",
       "    </tr>\n",
       "    <tr>\n",
       "      <th>...</th>\n",
       "      <td>...</td>\n",
       "      <td>...</td>\n",
       "      <td>...</td>\n",
       "      <td>...</td>\n",
       "    </tr>\n",
       "    <tr>\n",
       "      <th>4028</th>\n",
       "      <td>dlr</td>\n",
       "      <td>tokyo dealers see dollar poise breach yen toky...</td>\n",
       "      <td>[tokyo, dealers, see, dollar, poise, breach, y...</td>\n",
       "      <td>test/21573</td>\n",
       "    </tr>\n",
       "    <tr>\n",
       "      <th>4029</th>\n",
       "      <td>yen</td>\n",
       "      <td>tokyo dealers see dollar poise breach yen toky...</td>\n",
       "      <td>[tokyo, dealers, see, dollar, poise, breach, y...</td>\n",
       "      <td>test/21573</td>\n",
       "    </tr>\n",
       "    <tr>\n",
       "      <th>4030</th>\n",
       "      <td>ship</td>\n",
       "      <td>japanindia conference cut gulf war risk charge...</td>\n",
       "      <td>[japanindia, conference, cut, gulf, war, risk,...</td>\n",
       "      <td>test/21574</td>\n",
       "    </tr>\n",
       "    <tr>\n",
       "      <th>4031</th>\n",
       "      <td>ipi</td>\n",
       "      <td>soviet industrial growthtrade slower soviet un...</td>\n",
       "      <td>[soviet, industrial, growthtrade, slower, sovi...</td>\n",
       "      <td>test/21575</td>\n",
       "    </tr>\n",
       "    <tr>\n",
       "      <th>4032</th>\n",
       "      <td>gold</td>\n",
       "      <td>six kill south african gold mine accident six ...</td>\n",
       "      <td>[six, kill, south, african, gold, mine, accide...</td>\n",
       "      <td>test/21576</td>\n",
       "    </tr>\n",
       "  </tbody>\n",
       "</table>\n",
       "<p>4033 rows × 4 columns</p>\n",
       "</div>"
      ],
      "text/plain": [
       "          category                                           document  \\\n",
       "0            cocoa  bahia cocoa review shower continue throughout ...   \n",
       "1     money-supply  nz trade bank deposit growth rise slightly new...   \n",
       "2          nat-gas  canada oil export rise pct canadian oil export...   \n",
       "3            cocoa  coffee sugar cocoa exchange name chairman new ...   \n",
       "4           coffee  coffee sugar cocoa exchange name chairman new ...   \n",
       "...            ...                                                ...   \n",
       "4028           dlr  tokyo dealers see dollar poise breach yen toky...   \n",
       "4029           yen  tokyo dealers see dollar poise breach yen toky...   \n",
       "4030          ship  japanindia conference cut gulf war risk charge...   \n",
       "4031           ipi  soviet industrial growthtrade slower soviet un...   \n",
       "4032          gold  six kill south african gold mine accident six ...   \n",
       "\n",
       "                                             words_list             ids  \n",
       "0     [bahia, cocoa, review, shower, continue, throu...      training/1  \n",
       "1     [nz, trade, bank, deposit, growth, rise, sligh...    training/100  \n",
       "2     [canada, oil, export, rise, pct, canadian, oil...  training/10011  \n",
       "3     [coffee, sugar, cocoa, exchange, name, chairma...  training/10014  \n",
       "4     [coffee, sugar, cocoa, exchange, name, chairma...  training/10014  \n",
       "...                                                 ...             ...  \n",
       "4028  [tokyo, dealers, see, dollar, poise, breach, y...      test/21573  \n",
       "4029  [tokyo, dealers, see, dollar, poise, breach, y...      test/21573  \n",
       "4030  [japanindia, conference, cut, gulf, war, risk,...      test/21574  \n",
       "4031  [soviet, industrial, growthtrade, slower, sovi...      test/21575  \n",
       "4032  [six, kill, south, african, gold, mine, accide...      test/21576  \n",
       "\n",
       "[4033 rows x 4 columns]"
      ]
     },
     "execution_count": 109,
     "metadata": {},
     "output_type": "execute_result"
    }
   ],
   "source": [
    "# unified dataset remove categories\n",
    "data_minmax = remove_categories(data,10,400)\n",
    "data_minmax"
   ]
  },
  {
   "cell_type": "markdown",
   "metadata": {},
   "source": [
    "## Partition new data to train and test set"
   ]
  },
  {
   "cell_type": "code",
   "execution_count": 110,
   "metadata": {},
   "outputs": [],
   "source": [
    "data_train, data_test = train_test_split(data_minmax, test_size=0.3, random_state=42)"
   ]
  },
  {
   "cell_type": "markdown",
   "metadata": {},
   "source": [
    "## Feature vectors with CountVectorizer"
   ]
  },
  {
   "cell_type": "code",
   "execution_count": 111,
   "metadata": {},
   "outputs": [],
   "source": [
    "# With unified and self partiotioned data \n",
    "features_train_up, features_test_up = BOW_model(data_train[\"document\"], data_test[\"document\"], 100)"
   ]
  },
  {
   "cell_type": "markdown",
   "metadata": {},
   "source": [
    "## Naive Bayes"
   ]
  },
  {
   "cell_type": "code",
   "execution_count": 112,
   "metadata": {},
   "outputs": [
    {
     "name": "stdout",
     "output_type": "stream",
     "text": [
      "accuracy:  0.1140495867768595\n",
      "f1 score:  0.13590360209535743\n"
     ]
    }
   ],
   "source": [
    "# With unified and self partiotioned data \n",
    "results_nb = nb_classifier(features_train_up, features_test_up, label_t=data_train[\"category\"], label=data_test[\"category\"])"
   ]
  },
  {
   "cell_type": "markdown",
   "metadata": {},
   "source": [
    "## RandomForest"
   ]
  },
  {
   "cell_type": "code",
   "execution_count": 113,
   "metadata": {},
   "outputs": [
    {
     "name": "stdout",
     "output_type": "stream",
     "text": [
      "accuracy =  0.4479338842975207\n",
      "f1 score =  0.4372797648413058\n"
     ]
    }
   ],
   "source": [
    "# With unified and self partiotioned data \n",
    "results_rf = rf_classifier(features_train_up, features_test_up, label_t=data_train[\"category\"], label=data_test[\"category\"])"
   ]
  },
  {
   "cell_type": "markdown",
   "metadata": {},
   "source": [
    "## Linear SVM"
   ]
  },
  {
   "cell_type": "code",
   "execution_count": 114,
   "metadata": {},
   "outputs": [
    {
     "name": "stdout",
     "output_type": "stream",
     "text": [
      "accuracy =  0.42396694214876035\n",
      "f1 score =  0.4185793826815502\n"
     ]
    },
    {
     "name": "stderr",
     "output_type": "stream",
     "text": [
      "C:\\Users\\Joonas\\AppData\\Local\\Programs\\Python\\Python39\\lib\\site-packages\\sklearn\\svm\\_base.py:985: ConvergenceWarning: Liblinear failed to converge, increase the number of iterations.\n",
      "  warnings.warn(\"Liblinear failed to converge, increase \"\n"
     ]
    }
   ],
   "source": [
    "# With unified and self partiotioned data \n",
    "results_svm = svm_classifier(features_train_up, features_test_up, label_t=data_train[\"category\"], label=data_test[\"category\"])"
   ]
  },
  {
   "cell_type": "markdown",
   "metadata": {},
   "source": [
    "## Results on a table"
   ]
  },
  {
   "cell_type": "code",
   "execution_count": 115,
   "metadata": {},
   "outputs": [
    {
     "data": {
      "text/html": [
       "<div>\n",
       "<style scoped>\n",
       "    .dataframe tbody tr th:only-of-type {\n",
       "        vertical-align: middle;\n",
       "    }\n",
       "\n",
       "    .dataframe tbody tr th {\n",
       "        vertical-align: top;\n",
       "    }\n",
       "\n",
       "    .dataframe thead th {\n",
       "        text-align: right;\n",
       "    }\n",
       "</style>\n",
       "<table border=\"1\" class=\"dataframe\">\n",
       "  <thead>\n",
       "    <tr style=\"text-align: right;\">\n",
       "      <th></th>\n",
       "      <th>acc</th>\n",
       "      <th>f1</th>\n",
       "    </tr>\n",
       "  </thead>\n",
       "  <tbody>\n",
       "    <tr>\n",
       "      <th>nb</th>\n",
       "      <td>0.114050</td>\n",
       "      <td>0.135904</td>\n",
       "    </tr>\n",
       "    <tr>\n",
       "      <th>rf</th>\n",
       "      <td>0.447934</td>\n",
       "      <td>0.437280</td>\n",
       "    </tr>\n",
       "    <tr>\n",
       "      <th>svm</th>\n",
       "      <td>0.423967</td>\n",
       "      <td>0.418579</td>\n",
       "    </tr>\n",
       "  </tbody>\n",
       "</table>\n",
       "</div>"
      ],
      "text/plain": [
       "          acc        f1\n",
       "nb   0.114050  0.135904\n",
       "rf   0.447934  0.437280\n",
       "svm  0.423967  0.418579"
      ]
     },
     "execution_count": 115,
     "metadata": {},
     "output_type": "execute_result"
    }
   ],
   "source": [
    "results_100 = [results_nb, results_rf, results_svm]\n",
    "results_100_df = pd.DataFrame(results_100, columns=['acc', 'f1'], index=[\"nb\",\"rf\", \"svm\"])\n",
    "results_100_df"
   ]
  },
  {
   "cell_type": "markdown",
   "metadata": {},
   "source": [
    "# 9. Similarly, use word2vec model to calculate the new performance on the testing data for the new set of categories in 8)."
   ]
  },
  {
   "cell_type": "code",
   "execution_count": 77,
   "metadata": {},
   "outputs": [
    {
     "data": {
      "application/vnd.jupyter.widget-view+json": {
       "model_id": "282e46271ab349b79d34be6e13c5561e",
       "version_major": 2,
       "version_minor": 0
      },
      "text/plain": [
       "Embedding mean vectors for documents:   0%|          | 0/4811 [00:00<?, ?it/s]"
      ]
     },
     "metadata": {},
     "output_type": "display_data"
    },
    {
     "data": {
      "application/vnd.jupyter.widget-view+json": {
       "model_id": "12c1a25c6c154e7cb45bb636c566993c",
       "version_major": 2,
       "version_minor": 0
      },
      "text/plain": [
       "Embedding mean vectors for documents:   0%|          | 0/2062 [00:00<?, ?it/s]"
      ]
     },
     "metadata": {},
     "output_type": "display_data"
    }
   ],
   "source": [
    "mean_vec_train_minmax = Text_embedding(model, data_train[\"document\"])\n",
    "mean_vec_test_mimax = Text_embedding(model, data_test[\"document\"])"
   ]
  },
  {
   "cell_type": "code",
   "execution_count": 78,
   "metadata": {},
   "outputs": [
    {
     "name": "stdout",
     "output_type": "stream",
     "text": [
      "accuracy:  0.42919495635305527\n",
      "f1 score:  0.4265976907632633\n"
     ]
    },
    {
     "data": {
      "text/plain": [
       "(0.42919495635305527, 0.4265976907632633)"
      ]
     },
     "execution_count": 78,
     "metadata": {},
     "output_type": "execute_result"
    }
   ],
   "source": [
    "nb_classifier(mean_vec_train_minmax, mean_vec_test_mimax, label_t=data_train[\"category\"], label=data_test[\"category\"])"
   ]
  },
  {
   "cell_type": "code",
   "execution_count": 79,
   "metadata": {},
   "outputs": [],
   "source": [
    "#mean_vec_train_minmax = Text_embedding(model, train_df_minmax[\"document\"])\n",
    "#mean_vec_test_mimax = Text_embedding(model, test_df[\"document\"])"
   ]
  },
  {
   "cell_type": "code",
   "execution_count": 80,
   "metadata": {},
   "outputs": [],
   "source": [
    "#nb_classifier(mean_vec_train_minmax, mean_vec_test_mimax, label_t=train_df_minmax[\"category\"], label=test_df[\"category\"])"
   ]
  },
  {
   "cell_type": "markdown",
   "metadata": {},
   "source": [
    "# 10. Now we would like to handle the data discrepancy in the class, we would like to perform data augmentation on the small size classes. For this purpose, for the classes, which contain small number of instances, write a script that allows you to duplicate the number of small samples at an order close to the average of other classes. Then repeat the process 3) and test whether an enhancement of the results on the testing data can be noticed.\n",
    " "
   ]
  },
  {
   "cell_type": "markdown",
   "metadata": {},
   "source": [
    "## Augment classes in dataset"
   ]
  },
  {
   "cell_type": "code",
   "execution_count": 81,
   "metadata": {},
   "outputs": [],
   "source": [
    "def augment_lower_categories(data):\n",
    "    \"\"\"Augment categories under treshold values. Return dataframe.\n",
    "    :param data: pd.Dataframe\n",
    "    \"\"\"\n",
    "\n",
    "    # get counts of documents/category\n",
    "    data_counts = data.groupby([\"category\"]).count().sort_values(\"document\")\n",
    "    # get mean count of documents in dataset\n",
    "    data_mean = int(data_counts[\"document\"].mean())\n",
    "\n",
    "    # iterate through categeories (here index is category)\n",
    "    for category in tqdm(data_counts.index):\n",
    "        doc_count = data_counts.loc[category, \"document\"]\n",
    "        #print(doc_count)\n",
    "        if doc_count < data_mean:\n",
    "            # append category to list if count of docs is smaller than treshold\n",
    "            for idx, index in enumerate(itertools.cycle(data[data['category'].isin([category])].index)):  # get index of the docs from the category and cycle over that index.\n",
    "                # append docs from category to end of the dataframe\n",
    "                data=data.append(data.iloc[index],ignore_index=True)\n",
    "                # update count of documents belonging to category\n",
    "                cnt=data[data['category'].isin([category])][\"document\"].count()\n",
    "                # test if count of documents is at mean count of documents in dataset then break loop\n",
    "                if cnt >= data_mean:\n",
    "                    break\n",
    "\n",
    "    #print(f\"Removed {len(category_names)} categories\")\n",
    "\n",
    "\n",
    "    return data.reset_index(drop=True)"
   ]
  },
  {
   "cell_type": "code",
   "execution_count": 82,
   "metadata": {},
   "outputs": [
    {
     "data": {
      "application/vnd.jupyter.widget-view+json": {
       "model_id": "c6036ddf393b458dab3cf3d00f395d74",
       "version_major": 2,
       "version_minor": 0
      },
      "text/plain": [
       "  0%|          | 0/90 [00:00<?, ?it/s]"
      ]
     },
     "metadata": {},
     "output_type": "display_data"
    }
   ],
   "source": [
    "data_augmented = augment_lower_categories(data)"
   ]
  },
  {
   "cell_type": "code",
   "execution_count": 83,
   "metadata": {},
   "outputs": [],
   "source": [
    "# augmented dataset to labels and docs\n",
    "data_aug_labels = data_augmented.drop(columns=['document','ids','words_list'])\n",
    "data_aug_documents = data_augmented.drop(columns=['category','ids','words_list'])"
   ]
  },
  {
   "cell_type": "code",
   "execution_count": 84,
   "metadata": {},
   "outputs": [
    {
     "data": {
      "text/plain": [
       "category\n",
       "lumber              148\n",
       "propane             148\n",
       "potato              148\n",
       "platinum            148\n",
       "pet-chem            148\n",
       "palmkernel          148\n",
       "palm-oil            148\n",
       "palladium           148\n",
       "orange              148\n",
       "oat                 148\n",
       "nzdlr               148\n",
       "nkr                 148\n",
       "nickel              148\n",
       "nat-gas             148\n",
       "naphtha             148\n",
       "meal-feed           148\n",
       "yen                 148\n",
       "livestock           148\n",
       "rand                148\n",
       "lin-oil             148\n",
       "rape-oil            148\n",
       "reserves            148\n",
       "wpi                 148\n",
       "veg-oil             148\n",
       "tin                 148\n",
       "tea                 148\n",
       "sunseed             148\n",
       "sun-oil             148\n",
       "sun-meal            148\n",
       "strategic-metal     148\n",
       "soybean             148\n",
       "soy-oil             148\n",
       "soy-meal            148\n",
       "sorghum             148\n",
       "silver              148\n",
       "rye                 148\n",
       "rubber              148\n",
       "rice                148\n",
       "retail              148\n",
       "rapeseed            148\n",
       "lei                 148\n",
       "zinc                148\n",
       "l-cattle            148\n",
       "fuel                148\n",
       "carcass             148\n",
       "dmk                 148\n",
       "lead                148\n",
       "dfl                 148\n",
       "castor-oil          148\n",
       "cpu                 148\n",
       "cpi                 148\n",
       "cotton-oil          148\n",
       "cocoa               148\n",
       "cotton              148\n",
       "coconut             148\n",
       "copra-cake          148\n",
       "copper              148\n",
       "coffee              148\n",
       "gas                 148\n",
       "coconut-oil         148\n",
       "gnp                 148\n",
       "bop                 148\n",
       "jobs                148\n",
       "jet                 148\n",
       "iron-steel          148\n",
       "alum                148\n",
       "ipi                 148\n",
       "barley              148\n",
       "gold                148\n",
       "instal-debt         148\n",
       "housing             148\n",
       "hog                 148\n",
       "heat                148\n",
       "groundnut-oil       148\n",
       "groundnut           148\n",
       "income              148\n",
       "sugar               162\n",
       "oilseed             171\n",
       "money-supply        174\n",
       "dlr                 175\n",
       "corn                237\n",
       "wheat               283\n",
       "ship                286\n",
       "interest            478\n",
       "trade               485\n",
       "crude               578\n",
       "grain               582\n",
       "money-fx            717\n",
       "acq                2369\n",
       "earn               3964\n",
       "Name: document, dtype: int64"
      ]
     },
     "execution_count": 84,
     "metadata": {},
     "output_type": "execute_result"
    }
   ],
   "source": [
    "# sanity check\n",
    "data_augmented.groupby([\"category\"]).count().sort_values(\"document\")[\"document\"]"
   ]
  },
  {
   "cell_type": "markdown",
   "metadata": {},
   "source": [
    "## Partition data to training and testing sets"
   ]
  },
  {
   "cell_type": "code",
   "execution_count": 85,
   "metadata": {},
   "outputs": [],
   "source": [
    "data_aug_train, data_aug_test = train_test_split(data_augmented, test_size=0.3, random_state=42)"
   ]
  },
  {
   "cell_type": "markdown",
   "metadata": {},
   "source": [
    "## Feature vectors with CountVectorizer"
   ]
  },
  {
   "cell_type": "code",
   "execution_count": 86,
   "metadata": {},
   "outputs": [],
   "source": [
    "features_train_aug, features_test_aug = BOW_model(data_aug_train[\"document\"], data_aug_test[\"document\"], 100)"
   ]
  },
  {
   "cell_type": "markdown",
   "metadata": {},
   "source": [
    "## NaiveBayes"
   ]
  },
  {
   "cell_type": "code",
   "execution_count": 87,
   "metadata": {},
   "outputs": [
    {
     "name": "stdout",
     "output_type": "stream",
     "text": [
      "accuracy:  0.36421725239616615\n",
      "f1 score:  0.33304141030636686\n"
     ]
    }
   ],
   "source": [
    "results_nb_aug = nb_classifier(features_train_aug, features_test_aug, label_t=data_aug_train[\"category\"], label=data_aug_test[\"category\"])"
   ]
  },
  {
   "cell_type": "markdown",
   "metadata": {},
   "source": [
    "## RandomForest"
   ]
  },
  {
   "cell_type": "code",
   "execution_count": 88,
   "metadata": {},
   "outputs": [
    {
     "name": "stdout",
     "output_type": "stream",
     "text": [
      "accuracy =  0.7021147116993762\n",
      "f1 score =  0.68793066572264\n"
     ]
    }
   ],
   "source": [
    "results_rf_aug = rf_classifier(features_train_aug, features_test_aug, label_t=data_aug_train[\"category\"], label=data_aug_test[\"category\"])"
   ]
  },
  {
   "cell_type": "markdown",
   "metadata": {},
   "source": [
    "## Linear SVM"
   ]
  },
  {
   "cell_type": "code",
   "execution_count": 89,
   "metadata": {},
   "outputs": [
    {
     "name": "stdout",
     "output_type": "stream",
     "text": [
      "accuracy =  0.6450631370759167\n",
      "f1 score =  0.6175682317343144\n"
     ]
    },
    {
     "name": "stderr",
     "output_type": "stream",
     "text": [
      "C:\\Users\\Joonas\\AppData\\Local\\Programs\\Python\\Python39\\lib\\site-packages\\sklearn\\svm\\_base.py:985: ConvergenceWarning: Liblinear failed to converge, increase the number of iterations.\n",
      "  warnings.warn(\"Liblinear failed to converge, increase \"\n"
     ]
    }
   ],
   "source": [
    "results_svm_aug = svm_classifier(features_train_aug, features_test_aug, label_t=data_aug_train[\"category\"], label=data_aug_test[\"category\"])"
   ]
  },
  {
   "cell_type": "markdown",
   "metadata": {},
   "source": [
    "## List Results"
   ]
  },
  {
   "cell_type": "code",
   "execution_count": 90,
   "metadata": {},
   "outputs": [
    {
     "data": {
      "text/html": [
       "<div>\n",
       "<style scoped>\n",
       "    .dataframe tbody tr th:only-of-type {\n",
       "        vertical-align: middle;\n",
       "    }\n",
       "\n",
       "    .dataframe tbody tr th {\n",
       "        vertical-align: top;\n",
       "    }\n",
       "\n",
       "    .dataframe thead th {\n",
       "        text-align: right;\n",
       "    }\n",
       "</style>\n",
       "<table border=\"1\" class=\"dataframe\">\n",
       "  <thead>\n",
       "    <tr style=\"text-align: right;\">\n",
       "      <th></th>\n",
       "      <th>acc</th>\n",
       "      <th>f1</th>\n",
       "    </tr>\n",
       "  </thead>\n",
       "  <tbody>\n",
       "    <tr>\n",
       "      <th>nb</th>\n",
       "      <td>0.364217</td>\n",
       "      <td>0.333041</td>\n",
       "    </tr>\n",
       "    <tr>\n",
       "      <th>rf</th>\n",
       "      <td>0.702115</td>\n",
       "      <td>0.687931</td>\n",
       "    </tr>\n",
       "    <tr>\n",
       "      <th>svm</th>\n",
       "      <td>0.645063</td>\n",
       "      <td>0.617568</td>\n",
       "    </tr>\n",
       "  </tbody>\n",
       "</table>\n",
       "</div>"
      ],
      "text/plain": [
       "          acc        f1\n",
       "nb   0.364217  0.333041\n",
       "rf   0.702115  0.687931\n",
       "svm  0.645063  0.617568"
      ]
     },
     "execution_count": 90,
     "metadata": {},
     "output_type": "execute_result"
    }
   ],
   "source": [
    "results_aug = [results_nb_aug, results_rf_aug, results_svm_aug]\n",
    "results_aug_df = pd.DataFrame(results_aug, columns=['acc', 'f1'], index=[\"nb\",\"rf\", \"svm\"])\n",
    "results_aug_df"
   ]
  },
  {
   "cell_type": "markdown",
   "metadata": {},
   "source": [
    "## Word2Vec"
   ]
  },
  {
   "cell_type": "code",
   "execution_count": 91,
   "metadata": {},
   "outputs": [
    {
     "data": {
      "application/vnd.jupyter.widget-view+json": {
       "model_id": "f83edebfa610418da2e91063d23d639a",
       "version_major": 2,
       "version_minor": 0
      },
      "text/plain": [
       "Embedding mean vectors for documents:   0%|          | 0/15336 [00:00<?, ?it/s]"
      ]
     },
     "metadata": {},
     "output_type": "display_data"
    },
    {
     "data": {
      "application/vnd.jupyter.widget-view+json": {
       "model_id": "c74cb65185e1444b8b5770058246e88a",
       "version_major": 2,
       "version_minor": 0
      },
      "text/plain": [
       "Embedding mean vectors for documents:   0%|          | 0/6573 [00:00<?, ?it/s]"
      ]
     },
     "metadata": {},
     "output_type": "display_data"
    }
   ],
   "source": [
    "mean_vec_train_aug = Text_embedding(model, data_aug_train[\"document\"])\n",
    "mean_vec_test_aug = Text_embedding(model, data_aug_test[\"document\"])"
   ]
  },
  {
   "cell_type": "code",
   "execution_count": 92,
   "metadata": {},
   "outputs": [
    {
     "name": "stdout",
     "output_type": "stream",
     "text": [
      "accuracy:  0.6325878594249201\n",
      "f1 score:  0.6305071424858676\n"
     ]
    },
    {
     "data": {
      "text/plain": [
       "(0.6325878594249201, 0.6305071424858676)"
      ]
     },
     "execution_count": 92,
     "metadata": {},
     "output_type": "execute_result"
    }
   ],
   "source": [
    "nb_classifier(mean_vec_train_aug, mean_vec_test_aug, label_t=data_aug_train[\"category\"], label=data_aug_test[\"category\"])"
   ]
  },
  {
   "cell_type": "markdown",
   "metadata": {},
   "source": [
    "# 11. Now we would like to test the influence of the multi-category documents on the classification. For this purpose, write a script, which scrutinizes the training set, so that every document, which is found to belong to more than one category in the training set is removed. Repeat 3) and word2vec model to evaluate the performance of the model on the test data, and discuss the contribution of this removal action. "
   ]
  },
  {
   "cell_type": "markdown",
   "metadata": {},
   "source": [
    "## Scrutinize Data"
   ]
  },
  {
   "cell_type": "code",
   "execution_count": 93,
   "metadata": {},
   "outputs": [],
   "source": [
    "\n",
    "def create_scrutinizable_df(data):\n",
    "    \"\"\"Create DataFrame and leave multi-categorial documents so that they can be scrutinized (deleted).\n",
    "    - data: list of documents (e.g. train and test data)\"\"\"\n",
    "\n",
    "\n",
    "    docs=[]\n",
    "\n",
    "    for ids in tqdm(data, desc=\"processing documents\"):\n",
    "        cats = reuters.categories(ids)      # At each iteration we retrieve categories of an id\n",
    "        #doc = reuters.words(ids)\n",
    "        #doc = preProcess_words(doc)\n",
    "        doc = reuters.raw(ids)\n",
    "        doc = preProcess_raw(doc)\n",
    "        doc_join = \" \".join(doc)\n",
    "        docs.append([doc_join, doc, cats, ids])\n",
    "        #for cat in cats:\n",
    "        #    docs.append([doc_join, doc, cat, ids]) # These documents are appended as a tuple (document, category, ids) in the list, iterate as many times as there is unique categories\n",
    "    \n",
    "    # docs=[(\" \".join(reuters.words(ids)), cat, ids) for ids in train_doc for cat in reuters.categories(ids)] # list comprehension for loop\n",
    "\n",
    "    df=pd.DataFrame(docs, columns=[\"document\",'words_list', 'category','ids']) # The data frame is created using the generated tuple.\n",
    "\n",
    "    #df # check dataframe\n",
    "    return df\n",
    "\n",
    "# train_df[\"ids\"].duplicated().value_counts() # checks how many duplicates because of categories"
   ]
  },
  {
   "cell_type": "code",
   "execution_count": 94,
   "metadata": {},
   "outputs": [],
   "source": [
    "def remove_multi_categories(data):\n",
    "    \"\"\"Remove categories outside treshold values. Return dataframe.\n",
    "    :param lower: lower limit, type: int\n",
    "    :param upper: upper limit, type: int\n",
    "    :param data: pd.Dataframe\n",
    "    \"\"\"\n",
    "    \n",
    "    # get count of documents/category\n",
    "    #data_counts = data.groupby([\"category\"]).count().sort_values(\"document\")\n",
    "    # make dataframe wherecategory is index\n",
    "    #df = data.set_index(\"category\")\n",
    "\n",
    "    # iterate category column\n",
    "    for i, category in enumerate(data[\"category\"]):\n",
    "        # if categorys (list) lenght is more than 1 \n",
    "        if len(category) > 1:\n",
    "            # dropthat row\n",
    "            data=data.drop(index=i)\n",
    "        else:\n",
    "            # remove list type from categories\n",
    "            data[\"category\"][i] = data[\"category\"][i][0]\n",
    "\n",
    "    return data.reset_index(drop=True)\n",
    "#count"
   ]
  },
  {
   "cell_type": "code",
   "execution_count": 95,
   "metadata": {},
   "outputs": [
    {
     "data": {
      "application/vnd.jupyter.widget-view+json": {
       "model_id": "2321f380ade94952becfd618c111e826",
       "version_major": 2,
       "version_minor": 0
      },
      "text/plain": [
       "processing documents:   0%|          | 0/10788 [00:00<?, ?it/s]"
      ]
     },
     "metadata": {},
     "output_type": "display_data"
    }
   ],
   "source": [
    "scrutinizable_data = create_scrutinizable_df(doc_list)"
   ]
  },
  {
   "cell_type": "code",
   "execution_count": 96,
   "metadata": {},
   "outputs": [
    {
     "data": {
      "text/html": [
       "<div>\n",
       "<style scoped>\n",
       "    .dataframe tbody tr th:only-of-type {\n",
       "        vertical-align: middle;\n",
       "    }\n",
       "\n",
       "    .dataframe tbody tr th {\n",
       "        vertical-align: top;\n",
       "    }\n",
       "\n",
       "    .dataframe thead th {\n",
       "        text-align: right;\n",
       "    }\n",
       "</style>\n",
       "<table border=\"1\" class=\"dataframe\">\n",
       "  <thead>\n",
       "    <tr style=\"text-align: right;\">\n",
       "      <th></th>\n",
       "      <th>document</th>\n",
       "      <th>words_list</th>\n",
       "      <th>category</th>\n",
       "      <th>ids</th>\n",
       "    </tr>\n",
       "  </thead>\n",
       "  <tbody>\n",
       "    <tr>\n",
       "      <th>0</th>\n",
       "      <td>asian exporters fear damage usjapan rift mount...</td>\n",
       "      <td>[asian, exporters, fear, damage, usjapan, rift...</td>\n",
       "      <td>[trade]</td>\n",
       "      <td>test/14826</td>\n",
       "    </tr>\n",
       "    <tr>\n",
       "      <th>1</th>\n",
       "      <td>china daily say vermin eat pct grain stock sur...</td>\n",
       "      <td>[china, daily, say, vermin, eat, pct, grain, s...</td>\n",
       "      <td>[grain]</td>\n",
       "      <td>test/14828</td>\n",
       "    </tr>\n",
       "    <tr>\n",
       "      <th>2</th>\n",
       "      <td>japan revise longterm energy demand downwards ...</td>\n",
       "      <td>[japan, revise, longterm, energy, demand, down...</td>\n",
       "      <td>[crude, nat-gas]</td>\n",
       "      <td>test/14829</td>\n",
       "    </tr>\n",
       "    <tr>\n",
       "      <th>3</th>\n",
       "      <td>thai trade deficit widen first quarter thailan...</td>\n",
       "      <td>[thai, trade, deficit, widen, first, quarter, ...</td>\n",
       "      <td>[corn, grain, rice, rubber, sugar, tin, trade]</td>\n",
       "      <td>test/14832</td>\n",
       "    </tr>\n",
       "    <tr>\n",
       "      <th>4</th>\n",
       "      <td>indonesia see cpo price rise sharply indonesia...</td>\n",
       "      <td>[indonesia, see, cpo, price, rise, sharply, in...</td>\n",
       "      <td>[palm-oil, veg-oil]</td>\n",
       "      <td>test/14833</td>\n",
       "    </tr>\n",
       "    <tr>\n",
       "      <th>...</th>\n",
       "      <td>...</td>\n",
       "      <td>...</td>\n",
       "      <td>...</td>\n",
       "      <td>...</td>\n",
       "    </tr>\n",
       "    <tr>\n",
       "      <th>10783</th>\n",
       "      <td>uk money market shortage forecast revise bank ...</td>\n",
       "      <td>[uk, money, market, shortage, forecast, revise...</td>\n",
       "      <td>[interest, money-fx]</td>\n",
       "      <td>training/999</td>\n",
       "    </tr>\n",
       "    <tr>\n",
       "      <th>10784</th>\n",
       "      <td>knightridder inc ltkrn set quarterly qtly div ...</td>\n",
       "      <td>[knightridder, inc, ltkrn, set, quarterly, qtl...</td>\n",
       "      <td>[earn]</td>\n",
       "      <td>training/9992</td>\n",
       "    </tr>\n",
       "    <tr>\n",
       "      <th>10785</th>\n",
       "      <td>technitrol inc lttnl set quarterly qtly div ct...</td>\n",
       "      <td>[technitrol, inc, lttnl, set, quarterly, qtly,...</td>\n",
       "      <td>[earn]</td>\n",
       "      <td>training/9993</td>\n",
       "    </tr>\n",
       "    <tr>\n",
       "      <th>10786</th>\n",
       "      <td>nationwide cellular service inc ltncel 4th qtr...</td>\n",
       "      <td>[nationwide, cellular, service, inc, ltncel, 4...</td>\n",
       "      <td>[earn]</td>\n",
       "      <td>training/9994</td>\n",
       "    </tr>\n",
       "    <tr>\n",
       "      <th>10787</th>\n",
       "      <td>ltaha automotive technologies corp year net sh...</td>\n",
       "      <td>[ltaha, automotive, technologies, corp, year, ...</td>\n",
       "      <td>[earn]</td>\n",
       "      <td>training/9995</td>\n",
       "    </tr>\n",
       "  </tbody>\n",
       "</table>\n",
       "<p>10788 rows × 4 columns</p>\n",
       "</div>"
      ],
      "text/plain": [
       "                                                document  \\\n",
       "0      asian exporters fear damage usjapan rift mount...   \n",
       "1      china daily say vermin eat pct grain stock sur...   \n",
       "2      japan revise longterm energy demand downwards ...   \n",
       "3      thai trade deficit widen first quarter thailan...   \n",
       "4      indonesia see cpo price rise sharply indonesia...   \n",
       "...                                                  ...   \n",
       "10783  uk money market shortage forecast revise bank ...   \n",
       "10784  knightridder inc ltkrn set quarterly qtly div ...   \n",
       "10785  technitrol inc lttnl set quarterly qtly div ct...   \n",
       "10786  nationwide cellular service inc ltncel 4th qtr...   \n",
       "10787  ltaha automotive technologies corp year net sh...   \n",
       "\n",
       "                                              words_list  \\\n",
       "0      [asian, exporters, fear, damage, usjapan, rift...   \n",
       "1      [china, daily, say, vermin, eat, pct, grain, s...   \n",
       "2      [japan, revise, longterm, energy, demand, down...   \n",
       "3      [thai, trade, deficit, widen, first, quarter, ...   \n",
       "4      [indonesia, see, cpo, price, rise, sharply, in...   \n",
       "...                                                  ...   \n",
       "10783  [uk, money, market, shortage, forecast, revise...   \n",
       "10784  [knightridder, inc, ltkrn, set, quarterly, qtl...   \n",
       "10785  [technitrol, inc, lttnl, set, quarterly, qtly,...   \n",
       "10786  [nationwide, cellular, service, inc, ltncel, 4...   \n",
       "10787  [ltaha, automotive, technologies, corp, year, ...   \n",
       "\n",
       "                                             category            ids  \n",
       "0                                             [trade]     test/14826  \n",
       "1                                             [grain]     test/14828  \n",
       "2                                    [crude, nat-gas]     test/14829  \n",
       "3      [corn, grain, rice, rubber, sugar, tin, trade]     test/14832  \n",
       "4                                 [palm-oil, veg-oil]     test/14833  \n",
       "...                                               ...            ...  \n",
       "10783                            [interest, money-fx]   training/999  \n",
       "10784                                          [earn]  training/9992  \n",
       "10785                                          [earn]  training/9993  \n",
       "10786                                          [earn]  training/9994  \n",
       "10787                                          [earn]  training/9995  \n",
       "\n",
       "[10788 rows x 4 columns]"
      ]
     },
     "execution_count": 96,
     "metadata": {},
     "output_type": "execute_result"
    }
   ],
   "source": [
    "scrutinizable_data"
   ]
  },
  {
   "cell_type": "code",
   "execution_count": 97,
   "metadata": {},
   "outputs": [],
   "source": [
    "scrutinized_data = remove_multi_categories(scrutinizable_data)"
   ]
  },
  {
   "cell_type": "markdown",
   "metadata": {},
   "source": [
    "## Partition Data to train and test sets"
   ]
  },
  {
   "cell_type": "code",
   "execution_count": 98,
   "metadata": {},
   "outputs": [],
   "source": [
    "data_scrut_train, data_scrut_test = train_test_split(scrutinized_data, test_size=0.3, random_state=42)"
   ]
  },
  {
   "cell_type": "markdown",
   "metadata": {},
   "source": [
    "## Feature vectors with CountVectorizer"
   ]
  },
  {
   "cell_type": "code",
   "execution_count": 99,
   "metadata": {},
   "outputs": [],
   "source": [
    "features_train_scrut, features_test_scrut = BOW_model(data_scrut_train[\"document\"], data_scrut_test[\"document\"], 100)"
   ]
  },
  {
   "cell_type": "markdown",
   "metadata": {},
   "source": [
    "## Naive Bayes"
   ]
  },
  {
   "cell_type": "code",
   "execution_count": 100,
   "metadata": {},
   "outputs": [
    {
     "name": "stdout",
     "output_type": "stream",
     "text": [
      "accuracy:  0.4745269286754003\n",
      "f1 score:  0.5587269362329664\n"
     ]
    }
   ],
   "source": [
    "results_nb_scrut = nb_classifier(features_train_scrut, features_test_scrut, label_t=data_scrut_train[\"category\"], label=data_scrut_test[\"category\"])"
   ]
  },
  {
   "cell_type": "markdown",
   "metadata": {},
   "source": [
    "## Random Forest"
   ]
  },
  {
   "cell_type": "code",
   "execution_count": 101,
   "metadata": {},
   "outputs": [
    {
     "name": "stdout",
     "output_type": "stream",
     "text": [
      "accuracy =  0.8500727802037845\n",
      "f1 score =  0.8311827806904591\n"
     ]
    }
   ],
   "source": [
    "results_rf_scrut = rf_classifier(features_train_scrut, features_test_scrut, label_t=data_scrut_train[\"category\"], label=data_scrut_test[\"category\"])"
   ]
  },
  {
   "cell_type": "markdown",
   "metadata": {},
   "source": [
    "## Linear SVM"
   ]
  },
  {
   "cell_type": "code",
   "execution_count": 102,
   "metadata": {},
   "outputs": [
    {
     "name": "stdout",
     "output_type": "stream",
     "text": [
      "accuracy =  0.8347889374090247\n",
      "f1 score =  0.8238280646013297\n"
     ]
    },
    {
     "name": "stderr",
     "output_type": "stream",
     "text": [
      "C:\\Users\\Joonas\\AppData\\Local\\Programs\\Python\\Python39\\lib\\site-packages\\sklearn\\svm\\_base.py:985: ConvergenceWarning: Liblinear failed to converge, increase the number of iterations.\n",
      "  warnings.warn(\"Liblinear failed to converge, increase \"\n"
     ]
    }
   ],
   "source": [
    "results_svm_scrut = svm_classifier(features_train_scrut, features_test_scrut, label_t=data_scrut_train[\"category\"], label=data_scrut_test[\"category\"])"
   ]
  },
  {
   "cell_type": "markdown",
   "metadata": {},
   "source": [
    "## List Results"
   ]
  },
  {
   "cell_type": "code",
   "execution_count": 103,
   "metadata": {},
   "outputs": [
    {
     "data": {
      "text/html": [
       "<div>\n",
       "<style scoped>\n",
       "    .dataframe tbody tr th:only-of-type {\n",
       "        vertical-align: middle;\n",
       "    }\n",
       "\n",
       "    .dataframe tbody tr th {\n",
       "        vertical-align: top;\n",
       "    }\n",
       "\n",
       "    .dataframe thead th {\n",
       "        text-align: right;\n",
       "    }\n",
       "</style>\n",
       "<table border=\"1\" class=\"dataframe\">\n",
       "  <thead>\n",
       "    <tr style=\"text-align: right;\">\n",
       "      <th></th>\n",
       "      <th>acc</th>\n",
       "      <th>f1</th>\n",
       "    </tr>\n",
       "  </thead>\n",
       "  <tbody>\n",
       "    <tr>\n",
       "      <th>nb</th>\n",
       "      <td>0.474527</td>\n",
       "      <td>0.558727</td>\n",
       "    </tr>\n",
       "    <tr>\n",
       "      <th>rf</th>\n",
       "      <td>0.850073</td>\n",
       "      <td>0.831183</td>\n",
       "    </tr>\n",
       "    <tr>\n",
       "      <th>svm</th>\n",
       "      <td>0.834789</td>\n",
       "      <td>0.823828</td>\n",
       "    </tr>\n",
       "  </tbody>\n",
       "</table>\n",
       "</div>"
      ],
      "text/plain": [
       "          acc        f1\n",
       "nb   0.474527  0.558727\n",
       "rf   0.850073  0.831183\n",
       "svm  0.834789  0.823828"
      ]
     },
     "execution_count": 103,
     "metadata": {},
     "output_type": "execute_result"
    }
   ],
   "source": [
    "results_scrut = [results_nb_scrut, results_rf_scrut, results_svm_scrut]\n",
    "results_scrut_df = pd.DataFrame(results_scrut, columns=['acc', 'f1'], index=[\"nb\",\"rf\", \"svm\"])\n",
    "results_scrut_df"
   ]
  },
  {
   "cell_type": "markdown",
   "metadata": {},
   "source": [
    "## Word2Vec"
   ]
  },
  {
   "cell_type": "code",
   "execution_count": 104,
   "metadata": {},
   "outputs": [
    {
     "data": {
      "application/vnd.jupyter.widget-view+json": {
       "model_id": "efdff93583e14b3489a7e8c0d49169c1",
       "version_major": 2,
       "version_minor": 0
      },
      "text/plain": [
       "Embedding mean vectors for documents:   0%|          | 0/6412 [00:00<?, ?it/s]"
      ]
     },
     "metadata": {},
     "output_type": "display_data"
    },
    {
     "data": {
      "application/vnd.jupyter.widget-view+json": {
       "model_id": "db0cb81a51d8478784417c32d67fae78",
       "version_major": 2,
       "version_minor": 0
      },
      "text/plain": [
       "Embedding mean vectors for documents:   0%|          | 0/2748 [00:00<?, ?it/s]"
      ]
     },
     "metadata": {},
     "output_type": "display_data"
    }
   ],
   "source": [
    "mean_vec_train_scrut = Text_embedding(model, data_scrut_train[\"document\"])\n",
    "mean_vec_test_scrut= Text_embedding(model, data_scrut_test[\"document\"])"
   ]
  },
  {
   "cell_type": "markdown",
   "metadata": {},
   "source": [
    "### NaiveBayes"
   ]
  },
  {
   "cell_type": "code",
   "execution_count": 105,
   "metadata": {},
   "outputs": [
    {
     "name": "stdout",
     "output_type": "stream",
     "text": [
      "accuracy:  0.8224163027656477\n",
      "f1 score:  0.8341898271451165\n"
     ]
    }
   ],
   "source": [
    "results_nb_w2v = nb_classifier(mean_vec_train_scrut, mean_vec_test_scrut, label_t=data_scrut_train[\"category\"], label=data_scrut_test[\"category\"])"
   ]
  },
  {
   "cell_type": "markdown",
   "metadata": {},
   "source": [
    "### RandomForest"
   ]
  },
  {
   "cell_type": "code",
   "execution_count": 106,
   "metadata": {},
   "outputs": [
    {
     "name": "stdout",
     "output_type": "stream",
     "text": [
      "accuracy =  0.903566229985444\n",
      "f1 score =  0.8913593454483487\n"
     ]
    }
   ],
   "source": [
    "results_rf_w2v = rf_classifier(mean_vec_train_scrut, mean_vec_test_scrut, label_t=data_scrut_train[\"category\"], label=data_scrut_test[\"category\"])"
   ]
  },
  {
   "cell_type": "markdown",
   "metadata": {},
   "source": [
    "### Linear SVM"
   ]
  },
  {
   "cell_type": "code",
   "execution_count": 107,
   "metadata": {},
   "outputs": [
    {
     "name": "stdout",
     "output_type": "stream",
     "text": [
      "accuracy =  0.9337700145560408\n",
      "f1 score =  0.9321542679571041\n"
     ]
    },
    {
     "name": "stderr",
     "output_type": "stream",
     "text": [
      "C:\\Users\\Joonas\\AppData\\Local\\Programs\\Python\\Python39\\lib\\site-packages\\sklearn\\svm\\_base.py:985: ConvergenceWarning: Liblinear failed to converge, increase the number of iterations.\n",
      "  warnings.warn(\"Liblinear failed to converge, increase \"\n"
     ]
    }
   ],
   "source": [
    "results_svm_w2v = svm_classifier(mean_vec_train_scrut, mean_vec_test_scrut, label_t=data_scrut_train[\"category\"], label=data_scrut_test[\"category\"])"
   ]
  },
  {
   "cell_type": "markdown",
   "metadata": {},
   "source": [
    "### List Results W2V"
   ]
  },
  {
   "cell_type": "code",
   "execution_count": 108,
   "metadata": {},
   "outputs": [
    {
     "data": {
      "text/html": [
       "<div>\n",
       "<style scoped>\n",
       "    .dataframe tbody tr th:only-of-type {\n",
       "        vertical-align: middle;\n",
       "    }\n",
       "\n",
       "    .dataframe tbody tr th {\n",
       "        vertical-align: top;\n",
       "    }\n",
       "\n",
       "    .dataframe thead th {\n",
       "        text-align: right;\n",
       "    }\n",
       "</style>\n",
       "<table border=\"1\" class=\"dataframe\">\n",
       "  <thead>\n",
       "    <tr style=\"text-align: right;\">\n",
       "      <th></th>\n",
       "      <th>acc</th>\n",
       "      <th>f1</th>\n",
       "    </tr>\n",
       "  </thead>\n",
       "  <tbody>\n",
       "    <tr>\n",
       "      <th>nb</th>\n",
       "      <td>0.822416</td>\n",
       "      <td>0.834190</td>\n",
       "    </tr>\n",
       "    <tr>\n",
       "      <th>rf</th>\n",
       "      <td>0.903566</td>\n",
       "      <td>0.891359</td>\n",
       "    </tr>\n",
       "    <tr>\n",
       "      <th>svm</th>\n",
       "      <td>0.933770</td>\n",
       "      <td>0.932154</td>\n",
       "    </tr>\n",
       "  </tbody>\n",
       "</table>\n",
       "</div>"
      ],
      "text/plain": [
       "          acc        f1\n",
       "nb   0.822416  0.834190\n",
       "rf   0.903566  0.891359\n",
       "svm  0.933770  0.932154"
      ]
     },
     "execution_count": 108,
     "metadata": {},
     "output_type": "execute_result"
    }
   ],
   "source": [
    "results_w2v = [results_nb_w2v, results_rf_w2v, results_svm_w2v]\n",
    "results_w2v_df = pd.DataFrame(results_w2v, columns=['acc', 'f1'], index=[\"nb\",\"rf\", \"svm\"])\n",
    "results_w2v_df"
   ]
  },
  {
   "cell_type": "markdown",
   "metadata": {},
   "source": [
    "# 12. Use appropriate literature in order to comment on your findings. "
   ]
  }
 ],
 "metadata": {
  "interpreter": {
   "hash": "aa0c649c3563e892d1a689eab39f2dea45a71cdb0f22288b6575c89c9de86787"
  },
  "kernelspec": {
   "display_name": "Python 3.9.4 64-bit",
   "name": "python3"
  },
  "language_info": {
   "codemirror_mode": {
    "name": "ipython",
    "version": 3
   },
   "file_extension": ".py",
   "mimetype": "text/x-python",
   "name": "python",
   "nbconvert_exporter": "python",
   "pygments_lexer": "ipython3",
   "version": "3.9.4"
  }
 },
 "nbformat": 4,
 "nbformat_minor": 2
}
