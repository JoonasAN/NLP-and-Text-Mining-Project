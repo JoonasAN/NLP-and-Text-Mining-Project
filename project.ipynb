{
 "cells": [
  {
   "cell_type": "code",
   "execution_count": 1,
   "metadata": {},
   "outputs": [],
   "source": [
    "#!pip install nltk\n",
    "#!pip install gensim\n",
    "\n",
    "import nltk\n",
    "#nltk.download(\"reuters\")\n",
    "\n",
    "import pandas as pd\n",
    "from nltk.corpus import reuters\n",
    "import numpy as np\n",
    "import matplotlib.pyplot as plt \n",
    "\n",
    "from string import punctuation\n",
    "\n",
    "from nltk.stem import WordNetLemmatizer\n",
    "from nltk.tokenize import sent_tokenize, word_tokenize\n",
    "from sklearn.feature_extraction.text import CountVectorizer,TfidfVectorizer\n",
    "from sklearn.naive_bayes import GaussianNB, MultinomialNB, ComplementNB, CategoricalNB\n",
    "from sklearn import metrics\n",
    "from sklearn.ensemble import RandomForestClassifier\n",
    "from sklearn.svm import LinearSVC, SVC\n",
    "from sklearn.preprocessing import StandardScaler\n",
    "from sklearn.decomposition import PCA\n",
    "from sklearn.feature_extraction.text import TfidfVectorizer\n",
    "\n",
    "from gensim.models import Word2Vec"
   ]
  },
  {
   "cell_type": "markdown",
   "metadata": {},
   "source": [
    "## checking dataset"
   ]
  },
  {
   "cell_type": "code",
   "execution_count": 2,
   "metadata": {},
   "outputs": [
    {
     "data": {
      "text/plain": [
       "['barley', 'corn', 'grain', 'wheat']"
      ]
     },
     "execution_count": 2,
     "metadata": {},
     "output_type": "execute_result"
    }
   ],
   "source": [
    "reuters.categories(\"training/9865\")"
   ]
  },
  {
   "cell_type": "code",
   "execution_count": 3,
   "metadata": {},
   "outputs": [
    {
     "data": {
      "text/plain": [
       "'training/9958'"
      ]
     },
     "execution_count": 3,
     "metadata": {},
     "output_type": "execute_result"
    }
   ],
   "source": [
    "reuters.fileids(\"barley\")[50]"
   ]
  },
  {
   "cell_type": "code",
   "execution_count": 4,
   "metadata": {},
   "outputs": [
    {
     "data": {
      "text/plain": [
       "\"FRENCH FREE MARKET CEREAL EXPORT BIDS DETAILED\\n  French operators have requested licences\\n  to export 675,500 tonnes of maize, 245,000 tonnes of barley,\\n  22,000 tonnes of soft bread wheat and 20,000 tonnes of feed\\n  wheat at today's European Community tender, traders said.\\n      Rebates requested ranged from 127.75 to 132.50 European\\n  Currency Units a tonne for maize, 136.00 to 141.00 Ecus a tonne\\n  for barley and 134.25 to 141.81 Ecus for bread wheat, while\\n  rebates requested for feed wheat were 137.65 Ecus, they said.\\n  \\n\\n\""
      ]
     },
     "execution_count": 4,
     "metadata": {},
     "output_type": "execute_result"
    }
   ],
   "source": [
    "reuters.raw(\"training/9865\")"
   ]
  },
  {
   "cell_type": "markdown",
   "metadata": {},
   "source": [
    "# 1.\tUse appropriate NLTK coding to visualize the number of documents per category in the training set. Is the dataset class balanced? Motivate your answer."
   ]
  },
  {
   "cell_type": "markdown",
   "metadata": {},
   "source": [
    "Go through categories and get number of documents in each. Then put them in dataframe."
   ]
  },
  {
   "cell_type": "markdown",
   "metadata": {},
   "source": [
    "## Create and visualize number of documents per category"
   ]
  },
  {
   "cell_type": "code",
   "execution_count": 5,
   "metadata": {},
   "outputs": [
    {
     "data": {
      "text/html": [
       "<div>\n",
       "<style scoped>\n",
       "    .dataframe tbody tr th:only-of-type {\n",
       "        vertical-align: middle;\n",
       "    }\n",
       "\n",
       "    .dataframe tbody tr th {\n",
       "        vertical-align: top;\n",
       "    }\n",
       "\n",
       "    .dataframe thead th {\n",
       "        text-align: right;\n",
       "    }\n",
       "</style>\n",
       "<table border=\"1\" class=\"dataframe\">\n",
       "  <thead>\n",
       "    <tr style=\"text-align: right;\">\n",
       "      <th></th>\n",
       "      <th>category</th>\n",
       "      <th>Num_docs</th>\n",
       "    </tr>\n",
       "  </thead>\n",
       "  <tbody>\n",
       "    <tr>\n",
       "      <th>0</th>\n",
       "      <td>acq</td>\n",
       "      <td>2369</td>\n",
       "    </tr>\n",
       "    <tr>\n",
       "      <th>1</th>\n",
       "      <td>alum</td>\n",
       "      <td>58</td>\n",
       "    </tr>\n",
       "    <tr>\n",
       "      <th>2</th>\n",
       "      <td>barley</td>\n",
       "      <td>51</td>\n",
       "    </tr>\n",
       "    <tr>\n",
       "      <th>3</th>\n",
       "      <td>bop</td>\n",
       "      <td>105</td>\n",
       "    </tr>\n",
       "    <tr>\n",
       "      <th>4</th>\n",
       "      <td>carcass</td>\n",
       "      <td>68</td>\n",
       "    </tr>\n",
       "    <tr>\n",
       "      <th>...</th>\n",
       "      <td>...</td>\n",
       "      <td>...</td>\n",
       "    </tr>\n",
       "    <tr>\n",
       "      <th>85</th>\n",
       "      <td>veg-oil</td>\n",
       "      <td>124</td>\n",
       "    </tr>\n",
       "    <tr>\n",
       "      <th>86</th>\n",
       "      <td>wheat</td>\n",
       "      <td>283</td>\n",
       "    </tr>\n",
       "    <tr>\n",
       "      <th>87</th>\n",
       "      <td>wpi</td>\n",
       "      <td>29</td>\n",
       "    </tr>\n",
       "    <tr>\n",
       "      <th>88</th>\n",
       "      <td>yen</td>\n",
       "      <td>59</td>\n",
       "    </tr>\n",
       "    <tr>\n",
       "      <th>89</th>\n",
       "      <td>zinc</td>\n",
       "      <td>34</td>\n",
       "    </tr>\n",
       "  </tbody>\n",
       "</table>\n",
       "<p>90 rows × 2 columns</p>\n",
       "</div>"
      ],
      "text/plain": [
       "   category  Num_docs\n",
       "0       acq      2369\n",
       "1      alum        58\n",
       "2    barley        51\n",
       "3       bop       105\n",
       "4   carcass        68\n",
       "..      ...       ...\n",
       "85  veg-oil       124\n",
       "86    wheat       283\n",
       "87      wpi        29\n",
       "88      yen        59\n",
       "89     zinc        34\n",
       "\n",
       "[90 rows x 2 columns]"
      ]
     },
     "execution_count": 5,
     "metadata": {},
     "output_type": "execute_result"
    }
   ],
   "source": [
    "frame = {\"category\":[], \"Num_docs\":[]}          # initialize frame with empty lists\n",
    "for i in reuters.categories():                  # iterate through categories\n",
    "    documents_num = len(reuters.fileids(i))         # get number of documents/category\n",
    "\n",
    "    #print(f\"{i} has {documents} documents\")\n",
    "    frame[\"category\"].append(i)                 # Append category name and\n",
    "    frame[\"Num_docs\"].append(documents_num)         # number of documents on approppriate column\n",
    "\n",
    "data=pd.DataFrame(data=frame)                   # make dataframe fr\n",
    "#data[\"category_id\"] = data[\"category\"].factorize()[0] \n",
    "data # check data\n"
   ]
  },
  {
   "cell_type": "markdown",
   "metadata": {},
   "source": [
    "Plot bar graph with matplotlib and annotate categories that have more than 400 documents (name only these to keep plot readable)"
   ]
  },
  {
   "cell_type": "code",
   "execution_count": 6,
   "metadata": {},
   "outputs": [
    {
     "data": {
      "image/png": "[encoded data removed]",
      "text/plain": [
       "<Figure size 432x288 with 1 Axes>"
      ]
     },
     "metadata": {
      "needs_background": "light"
     },
     "output_type": "display_data"
    }
   ],
   "source": [
    "# make new dataframe from rows which num_docs >= 400 to annotate\n",
    "df = data.query('Num_docs >= 400')\n",
    "\n",
    "# bar plot with matplotlib in Python\n",
    "plt.bar(data.index, data.Num_docs, alpha=1)   \n",
    "\n",
    "# iterate through index\n",
    "for i in df.index:                                      \n",
    "    plt.annotate(data.iloc[i,0], (i,data.iloc[i,1]))    # add categories names to datapoints which are >= 400\n",
    "\n",
    "# set x-axis label and specific size\n",
    "plt.xlabel('category',size=16)                          \n",
    "# set y-axis label and specific size\n",
    "plt.ylabel('Num_docs',size=16)\n",
    "# set plot title with specific size\n",
    "plt.title('Number of documents / category',size=16)\n",
    "# save the plot as PNG file with dpi=150\n",
    "#plt.savefig('docs_per_category.png', dpi=150)\n",
    "plt.show()"
   ]
  },
  {
   "cell_type": "markdown",
   "metadata": {},
   "source": [
    "# 2. Construct the feature set using CountVectorizer of the training dataset so that the maximum size of the feature set is 100 and each word feature should be contained in at least 3 documents and in less than 70% of total documents to be considered. Use standard preprocessing and stopword list, with WordNet lemmatizer."
   ]
  },
  {
   "cell_type": "markdown",
   "metadata": {},
   "source": [
    "## Preprosessor (not used Now)"
   ]
  },
  {
   "cell_type": "code",
   "execution_count": 7,
   "metadata": {},
   "outputs": [],
   "source": [
    "# preprosessor (not used)\n",
    "\n",
    "def preProcess(doc):\n",
    "    WN_lemmatizer = WordNetLemmatizer()\n",
    "\n",
    "    sentences = sent_tokenize(doc)\n",
    "    Tokens = []\n",
    "    for sentence in sentences:\n",
    "        words = word_tokenize(sentence)\n",
    "        words = [WN_lemmatizer.lemmatize(word, pos=\"v\") for word in words]\n",
    "        Tokens.extend(words)\n",
    "        \n",
    "    return ' '.join(Tokens)"
   ]
  },
  {
   "cell_type": "markdown",
   "metadata": {},
   "source": [
    "## Make function to apply CountVectorizer and fit"
   ]
  },
  {
   "cell_type": "code",
   "execution_count": 8,
   "metadata": {},
   "outputs": [],
   "source": [
    "# Use class to define tokenizer that also applies WordNetLemmatizer to CountVectorizer\n",
    "class LemmaTokenizer(object):\n",
    "    def __init__(self):\n",
    "        self.wnl = WordNetLemmatizer()\n",
    "    def __call__(self, articles):\n",
    "        return [self.wnl.lemmatize(t) for t in word_tokenize(articles)]"
   ]
  },
  {
   "cell_type": "code",
   "execution_count": 9,
   "metadata": {},
   "outputs": [],
   "source": [
    "# define countVectrizer and fit\n",
    "\n",
    "def BOW_model(train_data, test_data, max_features):\n",
    "    \"\"\"Return feature vectors from CounVectorizer\"\"\"\n",
    "    BOW = CountVectorizer(tokenizer=LemmaTokenizer(), \n",
    "                          lowercase=True, \n",
    "                          max_features = max_features, \n",
    "                          stop_words = \"english\", \n",
    "                          min_df = 3, max_df = 0.7)\n",
    "    # fit train data\n",
    "    BOW.fit(train_data)\n",
    "    BOW_train = BOW.transform(train_data)\n",
    "    BOW_test = BOW.transform(test_data)\n",
    " \n",
    "    #print(BOW.get_feature_names())\n",
    "    return (BOW_train.toarray(), BOW_test.toarray())"
   ]
  },
  {
   "cell_type": "markdown",
   "metadata": {},
   "source": [
    "## Extract data from reuters Dataset and divide to pre determined Training and Test variables"
   ]
  },
  {
   "cell_type": "code",
   "execution_count": 10,
   "metadata": {},
   "outputs": [],
   "source": [
    "# select fileid\n",
    "doc_list = np.array(reuters.fileids())\n",
    "\n",
    "# create test and train IDs from documents\n",
    "test_doc = doc_list[['test' in x for x in doc_list]]\n",
    "\n",
    "train_doc = doc_list[['training' in x for x in doc_list]]"
   ]
  },
  {
   "cell_type": "markdown",
   "metadata": {},
   "source": [
    "## Get labels ( categories ) for each document and create Dataframes"
   ]
  },
  {
   "cell_type": "code",
   "execution_count": 23,
   "metadata": {},
   "outputs": [],
   "source": [
    "\n",
    "def create_df(data, **kwargs):\n",
    "    \"\"\"Create DataFrames to visualise data a bit and duplicate multi-categorial documents so that they have just one category but appear multiple times.\n",
    "    - data: list of documents (e.g. train and test data)\n",
    "    - rm_punct: remove punctuation. default: False \n",
    "    - words: Join reuters words to str instead of using raw text. Default: True\"\"\"\n",
    "    rm_punct = kwargs.get(\"rm_punct\", False)\n",
    "    words = kwargs.get(\"words\", True)\n",
    "\n",
    "    docs=[]\n",
    "    for ids in data:\n",
    "        cats = reuters.categories(ids)      # At each iteration we retrieve categories of an id\n",
    "        if words is True:\n",
    "            doc = \" \".join(reuters.words(ids))  # join words from each document\n",
    "        else:\n",
    "            doc = reuters.raw(ids)              # get raw text data of document\n",
    "        if rm_punct is True:\n",
    "            for punct in (punctuation + \"\\n\"):  # go through punctuations \n",
    "                doc = doc.replace(punct, \"\")    # remove punctuation\n",
    "        for cat in cats:\n",
    "            docs.append((doc, cat, ids)) # These documents are appended as a tuple (document, category, ids) in the list\n",
    "    \n",
    "    # docs=[(\" \".join(reuters.words(ids)), cat, ids) for ids in train_doc for cat in reuters.categories(ids)] # list comprehension for loop\n",
    "\n",
    "    df=pd.DataFrame(docs, columns=['document', 'category','ids']) # The data frame is created using the generated tuple.\n",
    "\n",
    "    #df # check dataframe\n",
    "    return df\n",
    "\n",
    "# train_df[\"ids\"].duplicated().value_counts() # checks how many duplicates because of categories\n"
   ]
  },
  {
   "cell_type": "code",
   "execution_count": 26,
   "metadata": {},
   "outputs": [
    {
     "data": {
      "text/html": [
       "<div>\n",
       "<style scoped>\n",
       "    .dataframe tbody tr th:only-of-type {\n",
       "        vertical-align: middle;\n",
       "    }\n",
       "\n",
       "    .dataframe tbody tr th {\n",
       "        vertical-align: top;\n",
       "    }\n",
       "\n",
       "    .dataframe thead th {\n",
       "        text-align: right;\n",
       "    }\n",
       "</style>\n",
       "<table border=\"1\" class=\"dataframe\">\n",
       "  <thead>\n",
       "    <tr style=\"text-align: right;\">\n",
       "      <th></th>\n",
       "      <th>document</th>\n",
       "      <th>category</th>\n",
       "      <th>ids</th>\n",
       "    </tr>\n",
       "  </thead>\n",
       "  <tbody>\n",
       "    <tr>\n",
       "      <th>0</th>\n",
       "      <td>BAHIA COCOA REVIEW  Showers continued througho...</td>\n",
       "      <td>cocoa</td>\n",
       "      <td>training/1</td>\n",
       "    </tr>\n",
       "    <tr>\n",
       "      <th>1</th>\n",
       "      <td>COMPUTER TERMINAL SYSTEMS ltCPML COMPLETES SAL...</td>\n",
       "      <td>acq</td>\n",
       "      <td>training/10</td>\n",
       "    </tr>\n",
       "    <tr>\n",
       "      <th>2</th>\n",
       "      <td>NZ TRADING BANK DEPOSIT GROWTH RISES SLIGHTLY ...</td>\n",
       "      <td>money-supply</td>\n",
       "      <td>training/100</td>\n",
       "    </tr>\n",
       "    <tr>\n",
       "      <th>3</th>\n",
       "      <td>NATIONAL AMUSEMENTS AGAIN UPS VIACOM ltVIA BID...</td>\n",
       "      <td>acq</td>\n",
       "      <td>training/1000</td>\n",
       "    </tr>\n",
       "    <tr>\n",
       "      <th>4</th>\n",
       "      <td>ROGERS ltROG SEES 1ST QTR NET UP SIGNIFICANTLY...</td>\n",
       "      <td>earn</td>\n",
       "      <td>training/10000</td>\n",
       "    </tr>\n",
       "    <tr>\n",
       "      <th>...</th>\n",
       "      <td>...</td>\n",
       "      <td>...</td>\n",
       "      <td>...</td>\n",
       "    </tr>\n",
       "    <tr>\n",
       "      <th>9579</th>\n",
       "      <td>UK MONEY MARKET SHORTAGE FORECAST REVISED DOWN...</td>\n",
       "      <td>money-fx</td>\n",
       "      <td>training/999</td>\n",
       "    </tr>\n",
       "    <tr>\n",
       "      <th>9580</th>\n",
       "      <td>KNIGHTRIDDER INC ltKRN SETS QUARTERLY  Qtly di...</td>\n",
       "      <td>earn</td>\n",
       "      <td>training/9992</td>\n",
       "    </tr>\n",
       "    <tr>\n",
       "      <th>9581</th>\n",
       "      <td>TECHNITROL INC ltTNL SETS QUARTERLY  Qtly div ...</td>\n",
       "      <td>earn</td>\n",
       "      <td>training/9993</td>\n",
       "    </tr>\n",
       "    <tr>\n",
       "      <th>9582</th>\n",
       "      <td>NATIONWIDE CELLULAR SERVICE INC ltNCEL 4TH QTR...</td>\n",
       "      <td>earn</td>\n",
       "      <td>training/9994</td>\n",
       "    </tr>\n",
       "    <tr>\n",
       "      <th>9583</th>\n",
       "      <td>ltAHA AUTOMOTIVE TECHNOLOGIES CORP YEAR NET  S...</td>\n",
       "      <td>earn</td>\n",
       "      <td>training/9995</td>\n",
       "    </tr>\n",
       "  </tbody>\n",
       "</table>\n",
       "<p>9584 rows × 3 columns</p>\n",
       "</div>"
      ],
      "text/plain": [
       "                                               document      category  \\\n",
       "0     BAHIA COCOA REVIEW  Showers continued througho...         cocoa   \n",
       "1     COMPUTER TERMINAL SYSTEMS ltCPML COMPLETES SAL...           acq   \n",
       "2     NZ TRADING BANK DEPOSIT GROWTH RISES SLIGHTLY ...  money-supply   \n",
       "3     NATIONAL AMUSEMENTS AGAIN UPS VIACOM ltVIA BID...           acq   \n",
       "4     ROGERS ltROG SEES 1ST QTR NET UP SIGNIFICANTLY...          earn   \n",
       "...                                                 ...           ...   \n",
       "9579  UK MONEY MARKET SHORTAGE FORECAST REVISED DOWN...      money-fx   \n",
       "9580  KNIGHTRIDDER INC ltKRN SETS QUARTERLY  Qtly di...          earn   \n",
       "9581  TECHNITROL INC ltTNL SETS QUARTERLY  Qtly div ...          earn   \n",
       "9582  NATIONWIDE CELLULAR SERVICE INC ltNCEL 4TH QTR...          earn   \n",
       "9583  ltAHA AUTOMOTIVE TECHNOLOGIES CORP YEAR NET  S...          earn   \n",
       "\n",
       "                 ids  \n",
       "0         training/1  \n",
       "1        training/10  \n",
       "2       training/100  \n",
       "3      training/1000  \n",
       "4     training/10000  \n",
       "...              ...  \n",
       "9579    training/999  \n",
       "9580   training/9992  \n",
       "9581   training/9993  \n",
       "9582   training/9994  \n",
       "9583   training/9995  \n",
       "\n",
       "[9584 rows x 3 columns]"
      ]
     },
     "execution_count": 26,
     "metadata": {},
     "output_type": "execute_result"
    }
   ],
   "source": [
    "train_df2 = create_df(train_doc, rm_punct=True, words=False)\n",
    "train_df2"
   ]
  },
  {
   "cell_type": "code",
   "execution_count": 29,
   "metadata": {},
   "outputs": [
    {
     "data": {
      "text/html": [
       "<div>\n",
       "<style scoped>\n",
       "    .dataframe tbody tr th:only-of-type {\n",
       "        vertical-align: middle;\n",
       "    }\n",
       "\n",
       "    .dataframe tbody tr th {\n",
       "        vertical-align: top;\n",
       "    }\n",
       "\n",
       "    .dataframe thead th {\n",
       "        text-align: right;\n",
       "    }\n",
       "</style>\n",
       "<table border=\"1\" class=\"dataframe\">\n",
       "  <thead>\n",
       "    <tr style=\"text-align: right;\">\n",
       "      <th></th>\n",
       "      <th>document</th>\n",
       "      <th>category</th>\n",
       "      <th>ids</th>\n",
       "    </tr>\n",
       "  </thead>\n",
       "  <tbody>\n",
       "    <tr>\n",
       "      <th>0</th>\n",
       "      <td>BAHIA COCOA REVIEW Showers continued throughou...</td>\n",
       "      <td>cocoa</td>\n",
       "      <td>training/1</td>\n",
       "    </tr>\n",
       "    <tr>\n",
       "      <th>1</th>\n",
       "      <td>COMPUTER TERMINAL SYSTEMS &amp; lt ; CPML &gt; COMPLE...</td>\n",
       "      <td>acq</td>\n",
       "      <td>training/10</td>\n",
       "    </tr>\n",
       "    <tr>\n",
       "      <th>2</th>\n",
       "      <td>N . Z . TRADING BANK DEPOSIT GROWTH RISES SLIG...</td>\n",
       "      <td>money-supply</td>\n",
       "      <td>training/100</td>\n",
       "    </tr>\n",
       "    <tr>\n",
       "      <th>3</th>\n",
       "      <td>NATIONAL AMUSEMENTS AGAIN UPS VIACOM &amp; lt ; VI...</td>\n",
       "      <td>acq</td>\n",
       "      <td>training/1000</td>\n",
       "    </tr>\n",
       "    <tr>\n",
       "      <th>4</th>\n",
       "      <td>ROGERS &amp; lt ; ROG &gt; SEES 1ST QTR NET UP SIGNIF...</td>\n",
       "      <td>earn</td>\n",
       "      <td>training/10000</td>\n",
       "    </tr>\n",
       "    <tr>\n",
       "      <th>...</th>\n",
       "      <td>...</td>\n",
       "      <td>...</td>\n",
       "      <td>...</td>\n",
       "    </tr>\n",
       "    <tr>\n",
       "      <th>9579</th>\n",
       "      <td>U . K . MONEY MARKET SHORTAGE FORECAST REVISED...</td>\n",
       "      <td>money-fx</td>\n",
       "      <td>training/999</td>\n",
       "    </tr>\n",
       "    <tr>\n",
       "      <th>9580</th>\n",
       "      <td>KNIGHT - RIDDER INC &amp; lt ; KRN &gt; SETS QUARTERL...</td>\n",
       "      <td>earn</td>\n",
       "      <td>training/9992</td>\n",
       "    </tr>\n",
       "    <tr>\n",
       "      <th>9581</th>\n",
       "      <td>TECHNITROL INC &amp; lt ; TNL &gt; SETS QUARTERLY Qtl...</td>\n",
       "      <td>earn</td>\n",
       "      <td>training/9993</td>\n",
       "    </tr>\n",
       "    <tr>\n",
       "      <th>9582</th>\n",
       "      <td>NATIONWIDE CELLULAR SERVICE INC &amp; lt ; NCEL &gt; ...</td>\n",
       "      <td>earn</td>\n",
       "      <td>training/9994</td>\n",
       "    </tr>\n",
       "    <tr>\n",
       "      <th>9583</th>\n",
       "      <td>&amp; lt ; A . H . A . AUTOMOTIVE TECHNOLOGIES COR...</td>\n",
       "      <td>earn</td>\n",
       "      <td>training/9995</td>\n",
       "    </tr>\n",
       "  </tbody>\n",
       "</table>\n",
       "<p>9584 rows × 3 columns</p>\n",
       "</div>"
      ],
      "text/plain": [
       "                                               document      category  \\\n",
       "0     BAHIA COCOA REVIEW Showers continued throughou...         cocoa   \n",
       "1     COMPUTER TERMINAL SYSTEMS & lt ; CPML > COMPLE...           acq   \n",
       "2     N . Z . TRADING BANK DEPOSIT GROWTH RISES SLIG...  money-supply   \n",
       "3     NATIONAL AMUSEMENTS AGAIN UPS VIACOM & lt ; VI...           acq   \n",
       "4     ROGERS & lt ; ROG > SEES 1ST QTR NET UP SIGNIF...          earn   \n",
       "...                                                 ...           ...   \n",
       "9579  U . K . MONEY MARKET SHORTAGE FORECAST REVISED...      money-fx   \n",
       "9580  KNIGHT - RIDDER INC & lt ; KRN > SETS QUARTERL...          earn   \n",
       "9581  TECHNITROL INC & lt ; TNL > SETS QUARTERLY Qtl...          earn   \n",
       "9582  NATIONWIDE CELLULAR SERVICE INC & lt ; NCEL > ...          earn   \n",
       "9583  & lt ; A . H . A . AUTOMOTIVE TECHNOLOGIES COR...          earn   \n",
       "\n",
       "                 ids  \n",
       "0         training/1  \n",
       "1        training/10  \n",
       "2       training/100  \n",
       "3      training/1000  \n",
       "4     training/10000  \n",
       "...              ...  \n",
       "9579    training/999  \n",
       "9580   training/9992  \n",
       "9581   training/9993  \n",
       "9582   training/9994  \n",
       "9583   training/9995  \n",
       "\n",
       "[9584 rows x 3 columns]"
      ]
     },
     "execution_count": 29,
     "metadata": {},
     "output_type": "execute_result"
    }
   ],
   "source": [
    "train_df = create_df(train_doc)\n",
    "train_df"
   ]
  },
  {
   "cell_type": "code",
   "execution_count": 14,
   "metadata": {},
   "outputs": [
    {
     "data": {
      "text/html": [
       "<div>\n",
       "<style scoped>\n",
       "    .dataframe tbody tr th:only-of-type {\n",
       "        vertical-align: middle;\n",
       "    }\n",
       "\n",
       "    .dataframe tbody tr th {\n",
       "        vertical-align: top;\n",
       "    }\n",
       "\n",
       "    .dataframe thead th {\n",
       "        text-align: right;\n",
       "    }\n",
       "</style>\n",
       "<table border=\"1\" class=\"dataframe\">\n",
       "  <thead>\n",
       "    <tr style=\"text-align: right;\">\n",
       "      <th></th>\n",
       "      <th>document</th>\n",
       "      <th>category</th>\n",
       "      <th>ids</th>\n",
       "    </tr>\n",
       "  </thead>\n",
       "  <tbody>\n",
       "    <tr>\n",
       "      <th>0</th>\n",
       "      <td>ASIAN EXPORTERS FEAR DAMAGE FROM USJAPAN RIFT ...</td>\n",
       "      <td>trade</td>\n",
       "      <td>test/14826</td>\n",
       "    </tr>\n",
       "    <tr>\n",
       "      <th>1</th>\n",
       "      <td>CHINA DAILY SAYS VERMIN EAT 712 PCT GRAIN STOC...</td>\n",
       "      <td>grain</td>\n",
       "      <td>test/14828</td>\n",
       "    </tr>\n",
       "    <tr>\n",
       "      <th>2</th>\n",
       "      <td>JAPAN TO REVISE LONGTERM ENERGY DEMAND DOWNWAR...</td>\n",
       "      <td>crude</td>\n",
       "      <td>test/14829</td>\n",
       "    </tr>\n",
       "    <tr>\n",
       "      <th>3</th>\n",
       "      <td>JAPAN TO REVISE LONGTERM ENERGY DEMAND DOWNWAR...</td>\n",
       "      <td>nat-gas</td>\n",
       "      <td>test/14829</td>\n",
       "    </tr>\n",
       "    <tr>\n",
       "      <th>4</th>\n",
       "      <td>THAI TRADE DEFICIT WIDENS IN FIRST QUARTER  Th...</td>\n",
       "      <td>corn</td>\n",
       "      <td>test/14832</td>\n",
       "    </tr>\n",
       "    <tr>\n",
       "      <th>...</th>\n",
       "      <td>...</td>\n",
       "      <td>...</td>\n",
       "      <td>...</td>\n",
       "    </tr>\n",
       "    <tr>\n",
       "      <th>3739</th>\n",
       "      <td>TOKYO DEALERS SEE DOLLAR POISED TO BREACH 140 ...</td>\n",
       "      <td>money-fx</td>\n",
       "      <td>test/21573</td>\n",
       "    </tr>\n",
       "    <tr>\n",
       "      <th>3740</th>\n",
       "      <td>TOKYO DEALERS SEE DOLLAR POISED TO BREACH 140 ...</td>\n",
       "      <td>yen</td>\n",
       "      <td>test/21573</td>\n",
       "    </tr>\n",
       "    <tr>\n",
       "      <th>3741</th>\n",
       "      <td>JAPANINDIA CONFERENCE CUTS GULF WAR RISK CHARG...</td>\n",
       "      <td>ship</td>\n",
       "      <td>test/21574</td>\n",
       "    </tr>\n",
       "    <tr>\n",
       "      <th>3742</th>\n",
       "      <td>SOVIET INDUSTRIAL GROWTHTRADE SLOWER IN 1987  ...</td>\n",
       "      <td>ipi</td>\n",
       "      <td>test/21575</td>\n",
       "    </tr>\n",
       "    <tr>\n",
       "      <th>3743</th>\n",
       "      <td>SIX KILLED IN SOUTH AFRICAN GOLD MINE ACCIDENT...</td>\n",
       "      <td>gold</td>\n",
       "      <td>test/21576</td>\n",
       "    </tr>\n",
       "  </tbody>\n",
       "</table>\n",
       "<p>3744 rows × 3 columns</p>\n",
       "</div>"
      ],
      "text/plain": [
       "                                               document  category         ids\n",
       "0     ASIAN EXPORTERS FEAR DAMAGE FROM USJAPAN RIFT ...     trade  test/14826\n",
       "1     CHINA DAILY SAYS VERMIN EAT 712 PCT GRAIN STOC...     grain  test/14828\n",
       "2     JAPAN TO REVISE LONGTERM ENERGY DEMAND DOWNWAR...     crude  test/14829\n",
       "3     JAPAN TO REVISE LONGTERM ENERGY DEMAND DOWNWAR...   nat-gas  test/14829\n",
       "4     THAI TRADE DEFICIT WIDENS IN FIRST QUARTER  Th...      corn  test/14832\n",
       "...                                                 ...       ...         ...\n",
       "3739  TOKYO DEALERS SEE DOLLAR POISED TO BREACH 140 ...  money-fx  test/21573\n",
       "3740  TOKYO DEALERS SEE DOLLAR POISED TO BREACH 140 ...       yen  test/21573\n",
       "3741  JAPANINDIA CONFERENCE CUTS GULF WAR RISK CHARG...      ship  test/21574\n",
       "3742  SOVIET INDUSTRIAL GROWTHTRADE SLOWER IN 1987  ...       ipi  test/21575\n",
       "3743  SIX KILLED IN SOUTH AFRICAN GOLD MINE ACCIDENT...      gold  test/21576\n",
       "\n",
       "[3744 rows x 3 columns]"
      ]
     },
     "execution_count": 14,
     "metadata": {},
     "output_type": "execute_result"
    }
   ],
   "source": [
    "test_df2 = create_df(test_doc, rm_punct=True, words=False)\n",
    "test_df2"
   ]
  },
  {
   "cell_type": "code",
   "execution_count": 30,
   "metadata": {},
   "outputs": [
    {
     "data": {
      "text/html": [
       "<div>\n",
       "<style scoped>\n",
       "    .dataframe tbody tr th:only-of-type {\n",
       "        vertical-align: middle;\n",
       "    }\n",
       "\n",
       "    .dataframe tbody tr th {\n",
       "        vertical-align: top;\n",
       "    }\n",
       "\n",
       "    .dataframe thead th {\n",
       "        text-align: right;\n",
       "    }\n",
       "</style>\n",
       "<table border=\"1\" class=\"dataframe\">\n",
       "  <thead>\n",
       "    <tr style=\"text-align: right;\">\n",
       "      <th></th>\n",
       "      <th>document</th>\n",
       "      <th>category</th>\n",
       "      <th>ids</th>\n",
       "    </tr>\n",
       "  </thead>\n",
       "  <tbody>\n",
       "    <tr>\n",
       "      <th>0</th>\n",
       "      <td>ASIAN EXPORTERS FEAR DAMAGE FROM U . S .- JAPA...</td>\n",
       "      <td>trade</td>\n",
       "      <td>test/14826</td>\n",
       "    </tr>\n",
       "    <tr>\n",
       "      <th>1</th>\n",
       "      <td>CHINA DAILY SAYS VERMIN EAT 7 - 12 PCT GRAIN S...</td>\n",
       "      <td>grain</td>\n",
       "      <td>test/14828</td>\n",
       "    </tr>\n",
       "    <tr>\n",
       "      <th>2</th>\n",
       "      <td>JAPAN TO REVISE LONG - TERM ENERGY DEMAND DOWN...</td>\n",
       "      <td>crude</td>\n",
       "      <td>test/14829</td>\n",
       "    </tr>\n",
       "    <tr>\n",
       "      <th>3</th>\n",
       "      <td>JAPAN TO REVISE LONG - TERM ENERGY DEMAND DOWN...</td>\n",
       "      <td>nat-gas</td>\n",
       "      <td>test/14829</td>\n",
       "    </tr>\n",
       "    <tr>\n",
       "      <th>4</th>\n",
       "      <td>THAI TRADE DEFICIT WIDENS IN FIRST QUARTER Tha...</td>\n",
       "      <td>corn</td>\n",
       "      <td>test/14832</td>\n",
       "    </tr>\n",
       "    <tr>\n",
       "      <th>...</th>\n",
       "      <td>...</td>\n",
       "      <td>...</td>\n",
       "      <td>...</td>\n",
       "    </tr>\n",
       "    <tr>\n",
       "      <th>3739</th>\n",
       "      <td>TOKYO DEALERS SEE DOLLAR POISED TO BREACH 140 ...</td>\n",
       "      <td>money-fx</td>\n",
       "      <td>test/21573</td>\n",
       "    </tr>\n",
       "    <tr>\n",
       "      <th>3740</th>\n",
       "      <td>TOKYO DEALERS SEE DOLLAR POISED TO BREACH 140 ...</td>\n",
       "      <td>yen</td>\n",
       "      <td>test/21573</td>\n",
       "    </tr>\n",
       "    <tr>\n",
       "      <th>3741</th>\n",
       "      <td>JAPAN / INDIA CONFERENCE CUTS GULF WAR RISK CH...</td>\n",
       "      <td>ship</td>\n",
       "      <td>test/21574</td>\n",
       "    </tr>\n",
       "    <tr>\n",
       "      <th>3742</th>\n",
       "      <td>SOVIET INDUSTRIAL GROWTH / TRADE SLOWER IN 198...</td>\n",
       "      <td>ipi</td>\n",
       "      <td>test/21575</td>\n",
       "    </tr>\n",
       "    <tr>\n",
       "      <th>3743</th>\n",
       "      <td>SIX KILLED IN SOUTH AFRICAN GOLD MINE ACCIDENT...</td>\n",
       "      <td>gold</td>\n",
       "      <td>test/21576</td>\n",
       "    </tr>\n",
       "  </tbody>\n",
       "</table>\n",
       "<p>3744 rows × 3 columns</p>\n",
       "</div>"
      ],
      "text/plain": [
       "                                               document  category         ids\n",
       "0     ASIAN EXPORTERS FEAR DAMAGE FROM U . S .- JAPA...     trade  test/14826\n",
       "1     CHINA DAILY SAYS VERMIN EAT 7 - 12 PCT GRAIN S...     grain  test/14828\n",
       "2     JAPAN TO REVISE LONG - TERM ENERGY DEMAND DOWN...     crude  test/14829\n",
       "3     JAPAN TO REVISE LONG - TERM ENERGY DEMAND DOWN...   nat-gas  test/14829\n",
       "4     THAI TRADE DEFICIT WIDENS IN FIRST QUARTER Tha...      corn  test/14832\n",
       "...                                                 ...       ...         ...\n",
       "3739  TOKYO DEALERS SEE DOLLAR POISED TO BREACH 140 ...  money-fx  test/21573\n",
       "3740  TOKYO DEALERS SEE DOLLAR POISED TO BREACH 140 ...       yen  test/21573\n",
       "3741  JAPAN / INDIA CONFERENCE CUTS GULF WAR RISK CH...      ship  test/21574\n",
       "3742  SOVIET INDUSTRIAL GROWTH / TRADE SLOWER IN 198...       ipi  test/21575\n",
       "3743  SIX KILLED IN SOUTH AFRICAN GOLD MINE ACCIDENT...      gold  test/21576\n",
       "\n",
       "[3744 rows x 3 columns]"
      ]
     },
     "execution_count": 30,
     "metadata": {},
     "output_type": "execute_result"
    }
   ],
   "source": [
    "test_df = create_df(test_doc)\n",
    "test_df"
   ]
  },
  {
   "cell_type": "code",
   "execution_count": 16,
   "metadata": {},
   "outputs": [],
   "source": [
    "# Save data as csv\n",
    "\n",
    "with open('./train_data.csv', 'a' ,encoding='utf-8') as csvFile:\n",
    "        train_df.to_csv(csvFile, mode='a', index=False, encoding=\"utf-8\", sep=',')\n",
    "\n",
    "with open('./test_data.csv', 'a' ,encoding='utf-8') as csvFile:\n",
    "        test_df.to_csv(csvFile, mode='a', index=False, encoding=\"utf-8\", sep=',')"
   ]
  },
  {
   "cell_type": "markdown",
   "metadata": {},
   "source": [
    "## Get Feature vectors from documents"
   ]
  },
  {
   "cell_type": "code",
   "execution_count": 31,
   "metadata": {
    "scrolled": true
   },
   "outputs": [
    {
     "name": "stderr",
     "output_type": "stream",
     "text": [
      "C:\\Users\\Joonas\\AppData\\Local\\Programs\\Python\\Python39\\lib\\site-packages\\sklearn\\feature_extraction\\text.py:489: UserWarning: The parameter 'token_pattern' will not be used since 'tokenizer' is not None'\n",
      "  warnings.warn(\"The parameter 'token_pattern' will not be used\"\n",
      "C:\\Users\\Joonas\\AppData\\Local\\Programs\\Python\\Python39\\lib\\site-packages\\sklearn\\feature_extraction\\text.py:388: UserWarning: Your stop_words may be inconsistent with your preprocessing. Tokenizing the stop words generated tokens ['ha', 'le', 'u', 'wa'] not in stop_words.\n",
      "  warnings.warn('Your stop_words may be inconsistent with '\n"
     ]
    }
   ],
   "source": [
    "features_train, features_test = BOW_model(train_df[\"document\"], test_df[\"document\"], 100)"
   ]
  },
  {
   "cell_type": "code",
   "execution_count": 32,
   "metadata": {},
   "outputs": [
    {
     "name": "stdout",
     "output_type": "stream",
     "text": [
      "[[0 0 0 ... 3 0 2]\n",
      " [3 2 0 ... 0 0 1]\n",
      " [0 1 0 ... 0 0 4]\n",
      " ...\n",
      " [1 0 0 ... 0 0 0]\n",
      " [1 0 0 ... 0 0 1]\n",
      " [1 0 0 ... 0 0 1]]\n"
     ]
    }
   ],
   "source": [
    "print(features_train)"
   ]
  },
  {
   "cell_type": "markdown",
   "metadata": {},
   "source": [
    "# 3. Use NaivesBayes classifier to generate the model and test it on the testing dataset. Output the accuracy and F1 measure of this classifier. Compare the result with Random Forest and linear SVM classifiers.\n"
   ]
  },
  {
   "cell_type": "markdown",
   "metadata": {},
   "source": [
    "## NaiveBayes Classifier"
   ]
  },
  {
   "cell_type": "code",
   "execution_count": 33,
   "metadata": {},
   "outputs": [],
   "source": [
    "# Create a Gaussian NaiveBayes Classifier\n",
    "gnb = GaussianNB()\n",
    "\n",
    "# Create a Multinomial NaiveBayes Classifier\n",
    "mnb = MultinomialNB()\n",
    "\n",
    "# Create a Complement NaiveBayes Classifier\n",
    "cnb = ComplementNB()\n"
   ]
  },
  {
   "cell_type": "code",
   "execution_count": 34,
   "metadata": {},
   "outputs": [],
   "source": [
    "# Fit/train the NaiveBayes model\n",
    "classifier = gnb.fit(features_train, train_df[\"category\"])\n",
    "#classifier = nltk.NaiveBayesClassifier.train(train_df[\"category\"], features_train)\n",
    "#?nltk.NaiveBayesClassifier"
   ]
  },
  {
   "cell_type": "code",
   "execution_count": 35,
   "metadata": {},
   "outputs": [],
   "source": [
    "# Make predictions\n",
    "expected = test_df[\"category\"]\n",
    "predicted = classifier.predict(features_test)"
   ]
  },
  {
   "cell_type": "code",
   "execution_count": 36,
   "metadata": {},
   "outputs": [
    {
     "name": "stdout",
     "output_type": "stream",
     "text": [
      "accuracy =  0.3020833333333333\n",
      "f1 score =  0.328185983931604\n"
     ]
    }
   ],
   "source": [
    "# Output the accuracy and F1 measure of this classifier\n",
    "print(\"accuracy = \", metrics.accuracy_score(expected, predicted))\n",
    "accuracy_nb = metrics.accuracy_score(expected, predicted)\n",
    "print(\"f1 score = \", metrics.f1_score(expected, predicted, average = \"weighted\"))\n",
    "f1_nb = metrics.f1_score(expected, predicted, average = \"weighted\")"
   ]
  },
  {
   "cell_type": "code",
   "execution_count": 37,
   "metadata": {},
   "outputs": [
    {
     "name": "stdout",
     "output_type": "stream",
     "text": [
      "                 precision    recall  f1-score   support\n",
      "\n",
      "            acq       0.95      0.07      0.13       719\n",
      "           alum       0.00      0.00      0.00        23\n",
      "         barley       0.05      0.14      0.07        14\n",
      "            bop       0.31      0.13      0.19        30\n",
      "        carcass       0.11      0.11      0.11        18\n",
      "     castor-oil       0.00      0.00      0.00         1\n",
      "          cocoa       0.12      0.11      0.12        18\n",
      "        coconut       0.00      0.00      0.00         2\n",
      "    coconut-oil       0.00      0.00      0.00         3\n",
      "         coffee       0.00      0.00      0.00        28\n",
      "         copper       0.01      0.06      0.02        18\n",
      "     copra-cake       0.00      0.00      0.00         1\n",
      "           corn       0.00      0.00      0.00        56\n",
      "         cotton       0.00      0.00      0.00        20\n",
      "     cotton-oil       0.00      0.00      0.00         2\n",
      "            cpi       0.00      0.00      0.00        28\n",
      "            cpu       0.00      0.00      0.00         1\n",
      "          crude       0.21      0.04      0.07       189\n",
      "            dfl       0.00      0.00      0.00         1\n",
      "            dlr       0.10      0.02      0.04        44\n",
      "            dmk       0.00      0.00      0.00         4\n",
      "           earn       0.99      0.88      0.93      1087\n",
      "           fuel       0.02      0.20      0.03        10\n",
      "            gas       0.20      0.06      0.09        17\n",
      "            gnp       0.24      0.17      0.20        35\n",
      "           gold       0.00      0.00      0.00        30\n",
      "          grain       0.50      0.01      0.01       149\n",
      "      groundnut       0.00      0.00      0.00         4\n",
      "  groundnut-oil       0.00      0.00      0.00         1\n",
      "           heat       0.03      0.40      0.06         5\n",
      "            hog       0.18      0.50      0.26         6\n",
      "        housing       0.05      0.25      0.08         4\n",
      "         income       0.00      0.00      0.00         7\n",
      "    instal-debt       0.00      0.00      0.00         1\n",
      "       interest       0.29      0.04      0.07       131\n",
      "            ipi       0.02      0.08      0.03        12\n",
      "     iron-steel       0.00      0.00      0.00        14\n",
      "            jet       0.00      0.00      0.00         1\n",
      "           jobs       0.08      0.10      0.09        21\n",
      "       l-cattle       0.00      0.00      0.00         2\n",
      "           lead       0.00      0.00      0.00        14\n",
      "            lei       0.05      0.67      0.09         3\n",
      "        lin-oil       0.00      0.00      0.00         1\n",
      "      livestock       0.00      0.00      0.00        24\n",
      "         lumber       0.00      0.00      0.00         6\n",
      "      meal-feed       0.00      0.00      0.00        19\n",
      "       money-fx       0.33      0.04      0.08       179\n",
      "   money-supply       0.19      0.26      0.22        34\n",
      "        naphtha       0.00      0.00      0.00         4\n",
      "        nat-gas       0.13      0.17      0.14        30\n",
      "         nickel       0.00      0.00      0.00         1\n",
      "            nkr       0.00      0.00      0.00         2\n",
      "          nzdlr       0.00      0.00      0.00         2\n",
      "            oat       0.04      0.17      0.06         6\n",
      "        oilseed       0.00      0.00      0.00        47\n",
      "         orange       0.00      0.00      0.00        11\n",
      "      palladium       0.00      0.00      0.00         1\n",
      "       palm-oil       0.00      0.00      0.00        10\n",
      "     palmkernel       0.00      0.00      0.00         1\n",
      "       pet-chem       0.00      0.00      0.00        12\n",
      "       platinum       0.00      0.00      0.00         7\n",
      "         potato       0.00      0.00      0.00         3\n",
      "        propane       0.00      0.00      0.00         3\n",
      "           rand       0.00      0.00      0.00         1\n",
      "       rape-oil       0.00      0.00      0.00         3\n",
      "       rapeseed       0.04      0.22      0.07         9\n",
      "       reserves       0.29      0.28      0.29        18\n",
      "         retail       0.03      0.50      0.05         2\n",
      "           rice       0.00      0.00      0.00        24\n",
      "         rubber       0.00      0.00      0.00        12\n",
      "            rye       0.00      0.00      0.00         1\n",
      "           ship       0.00      0.00      0.00        89\n",
      "         silver       0.00      0.00      0.00         8\n",
      "        sorghum       0.01      0.10      0.02        10\n",
      "       soy-meal       0.03      0.08      0.04        13\n",
      "        soy-oil       0.01      0.09      0.02        11\n",
      "        soybean       0.07      0.15      0.10        33\n",
      "strategic-metal       0.02      0.09      0.03        11\n",
      "          sugar       0.00      0.00      0.00        36\n",
      "       sun-meal       0.00      0.00      0.00         1\n",
      "        sun-oil       0.02      0.50      0.03         2\n",
      "        sunseed       0.04      0.20      0.06         5\n",
      "            tea       0.00      0.00      0.00         4\n",
      "            tin       0.04      0.08      0.05        12\n",
      "          trade       0.47      0.07      0.12       117\n",
      "        veg-oil       0.33      0.19      0.24        37\n",
      "          wheat       0.17      0.03      0.05        71\n",
      "            wpi       0.07      0.50      0.12        10\n",
      "            yen       0.06      0.57      0.10        14\n",
      "           zinc       0.02      0.08      0.03        13\n",
      "\n",
      "       accuracy                           0.30      3744\n",
      "      macro avg       0.08      0.09      0.05      3744\n",
      "   weighted avg       0.56      0.30      0.33      3744\n",
      "\n",
      "[[52  3  0 ...  0  2 47]\n",
      " [ 0  0  0 ...  0  0  0]\n",
      " [ 0  0  2 ...  0  0  0]\n",
      " ...\n",
      " [ 0  0  0 ...  5  0  0]\n",
      " [ 0  0  0 ...  0  8  0]\n",
      " [ 0  0  0 ...  0  0  1]]\n"
     ]
    },
    {
     "name": "stderr",
     "output_type": "stream",
     "text": [
      "C:\\Users\\Joonas\\AppData\\Local\\Programs\\Python\\Python39\\lib\\site-packages\\sklearn\\metrics\\_classification.py:1248: UndefinedMetricWarning: Precision and F-score are ill-defined and being set to 0.0 in labels with no predicted samples. Use `zero_division` parameter to control this behavior.\n",
      "  _warn_prf(average, modifier, msg_start, len(result))\n",
      "C:\\Users\\Joonas\\AppData\\Local\\Programs\\Python\\Python39\\lib\\site-packages\\sklearn\\metrics\\_classification.py:1248: UndefinedMetricWarning: Precision and F-score are ill-defined and being set to 0.0 in labels with no predicted samples. Use `zero_division` parameter to control this behavior.\n",
      "  _warn_prf(average, modifier, msg_start, len(result))\n",
      "C:\\Users\\Joonas\\AppData\\Local\\Programs\\Python\\Python39\\lib\\site-packages\\sklearn\\metrics\\_classification.py:1248: UndefinedMetricWarning: Precision and F-score are ill-defined and being set to 0.0 in labels with no predicted samples. Use `zero_division` parameter to control this behavior.\n",
      "  _warn_prf(average, modifier, msg_start, len(result))\n"
     ]
    }
   ],
   "source": [
    "# summarize the fit of the model\n",
    "print(metrics.classification_report(expected, predicted))\n",
    "print(metrics.confusion_matrix(expected, predicted))"
   ]
  },
  {
   "cell_type": "markdown",
   "metadata": {},
   "source": [
    "## RandomForestClassifier"
   ]
  },
  {
   "cell_type": "code",
   "execution_count": 38,
   "metadata": {},
   "outputs": [],
   "source": [
    "# Create RandomForestClassifier\n",
    "rfc = RandomForestClassifier() # n_estimators=100, random_state=0\n",
    "\n",
    "# Train RFC model\n",
    "RFC_classifier = rfc.fit(features_train, train_df[\"category\"])"
   ]
  },
  {
   "cell_type": "code",
   "execution_count": 39,
   "metadata": {},
   "outputs": [],
   "source": [
    "predicted = RFC_classifier.predict(features_test)\n",
    "expected = test_df[\"category\"]\n",
    "#print(metrics.classification_report(expected, predicted))\n",
    "#print(metrics.confusion_matrix(expected, predicted))"
   ]
  },
  {
   "cell_type": "code",
   "execution_count": 40,
   "metadata": {
    "scrolled": true
   },
   "outputs": [
    {
     "name": "stdout",
     "output_type": "stream",
     "text": [
      "accuracy =  0.6551816239316239\n",
      "f1 score =  0.6111938743038684\n"
     ]
    }
   ],
   "source": [
    "# Output the accuracy and F1 measure of this classifier\n",
    "print(\"accuracy = \", metrics.accuracy_score(expected, predicted))\n",
    "accuracy_rf = metrics.accuracy_score(expected, predicted)\n",
    "print(\"f1 score = \", metrics.f1_score(expected, predicted, average = \"weighted\"))\n",
    "f1_rf = metrics.f1_score(expected, predicted, average = \"weighted\")\n"
   ]
  },
  {
   "cell_type": "markdown",
   "metadata": {},
   "source": [
    "##  Linear SVM classifier"
   ]
  },
  {
   "cell_type": "code",
   "execution_count": 41,
   "metadata": {},
   "outputs": [
    {
     "name": "stderr",
     "output_type": "stream",
     "text": [
      "C:\\Users\\Joonas\\AppData\\Local\\Programs\\Python\\Python39\\lib\\site-packages\\sklearn\\svm\\_base.py:985: ConvergenceWarning: Liblinear failed to converge, increase the number of iterations.\n",
      "  warnings.warn(\"Liblinear failed to converge, increase \"\n"
     ]
    }
   ],
   "source": [
    "# Create SVM Classifier\n",
    "#svm = SVC(kernel=\"linear\")\n",
    "svm = LinearSVC()\n",
    "\n",
    "# Train SVM model\n",
    "SVM_classifier = svm.fit(features_train, train_df[\"category\"])"
   ]
  },
  {
   "cell_type": "code",
   "execution_count": 42,
   "metadata": {},
   "outputs": [
    {
     "name": "stdout",
     "output_type": "stream",
     "text": [
      "accuracy =  0.6236645299145299\n",
      "f1 score =  0.5921135836705183\n"
     ]
    }
   ],
   "source": [
    "predicted = SVM_classifier.predict(features_test)\n",
    "expected = test_df[\"category\"]\n",
    "\n",
    "# Output the accuracy and F1 measure of this classifier\n",
    "print(\"accuracy = \", metrics.accuracy_score(expected, predicted))\n",
    "accuracy_svm = metrics.accuracy_score(expected, predicted)\n",
    "print(\"f1 score = \", metrics.f1_score(expected, predicted, average = \"weighted\"))\n",
    "f1_svm = metrics.f1_score(expected, predicted, average = \"weighted\")"
   ]
  },
  {
   "cell_type": "code",
   "execution_count": 43,
   "metadata": {},
   "outputs": [
    {
     "name": "stdout",
     "output_type": "stream",
     "text": [
      "                 precision    recall  f1-score   support\n",
      "\n",
      "            acq       0.76      0.95      0.84       719\n",
      "           alum       0.17      0.04      0.07        23\n",
      "         barley       0.33      0.14      0.20        14\n",
      "            bop       0.39      0.30      0.34        30\n",
      "        carcass       0.00      0.00      0.00        18\n",
      "     castor-oil       0.00      0.00      0.00         1\n",
      "          cocoa       0.11      0.33      0.17        18\n",
      "        coconut       0.00      0.00      0.00         2\n",
      "    coconut-oil       0.00      0.00      0.00         3\n",
      "         coffee       0.33      0.21      0.26        28\n",
      "         copper       0.27      0.17      0.21        18\n",
      "     copra-cake       0.00      0.00      0.00         1\n",
      "           corn       0.29      0.21      0.25        56\n",
      "         cotton       0.00      0.00      0.00        20\n",
      "     cotton-oil       0.00      0.00      0.00         2\n",
      "            cpi       0.17      0.07      0.10        28\n",
      "            cpu       0.00      0.00      0.00         1\n",
      "          crude       0.61      0.62      0.62       189\n",
      "            dfl       0.00      0.00      0.00         1\n",
      "            dlr       0.32      0.18      0.23        44\n",
      "            dmk       0.00      0.00      0.00         4\n",
      "           earn       0.92      0.98      0.95      1087\n",
      "           fuel       0.75      0.30      0.43        10\n",
      "            gas       0.00      0.00      0.00        17\n",
      "            gnp       0.39      0.46      0.42        35\n",
      "           gold       0.21      0.10      0.14        30\n",
      "          grain       0.33      0.34      0.34       149\n",
      "      groundnut       0.00      0.00      0.00         4\n",
      "  groundnut-oil       0.00      0.00      0.00         1\n",
      "           heat       0.22      0.40      0.29         5\n",
      "            hog       0.40      0.33      0.36         6\n",
      "        housing       0.06      0.25      0.10         4\n",
      "         income       0.50      0.14      0.22         7\n",
      "    instal-debt       0.00      0.00      0.00         1\n",
      "       interest       0.50      0.56      0.53       131\n",
      "            ipi       0.24      0.42      0.30        12\n",
      "     iron-steel       0.00      0.00      0.00        14\n",
      "            jet       0.00      0.00      0.00         1\n",
      "           jobs       0.25      0.19      0.22        21\n",
      "       l-cattle       0.00      0.00      0.00         2\n",
      "           lead       0.33      0.07      0.12        14\n",
      "            lei       0.30      1.00      0.46         3\n",
      "        lin-oil       0.00      0.00      0.00         1\n",
      "      livestock       0.00      0.00      0.00        24\n",
      "         lumber       0.00      0.00      0.00         6\n",
      "      meal-feed       0.08      0.05      0.06        19\n",
      "       money-fx       0.48      0.50      0.49       179\n",
      "   money-supply       0.47      0.50      0.49        34\n",
      "        naphtha       0.00      0.00      0.00         4\n",
      "        nat-gas       0.25      0.03      0.06        30\n",
      "         nickel       0.00      0.00      0.00         1\n",
      "            nkr       0.00      0.00      0.00         2\n",
      "          nzdlr       0.00      0.00      0.00         2\n",
      "            oat       0.14      0.17      0.15         6\n",
      "        oilseed       0.00      0.00      0.00        47\n",
      "         orange       0.16      0.27      0.20        11\n",
      "      palladium       0.00      0.00      0.00         1\n",
      "       palm-oil       0.14      0.10      0.12        10\n",
      "     palmkernel       0.00      0.00      0.00         1\n",
      "       pet-chem       0.20      0.08      0.12        12\n",
      "       platinum       0.00      0.00      0.00         7\n",
      "         potato       0.00      0.00      0.00         3\n",
      "        propane       0.00      0.00      0.00         3\n",
      "           rand       0.00      0.00      0.00         1\n",
      "       rape-oil       0.00      0.00      0.00         3\n",
      "       rapeseed       0.20      0.33      0.25         9\n",
      "       reserves       0.40      0.44      0.42        18\n",
      "         retail       0.17      0.50      0.25         2\n",
      "           rice       0.00      0.00      0.00        24\n",
      "         rubber       0.00      0.00      0.00        12\n",
      "            rye       0.00      0.00      0.00         1\n",
      "           ship       0.23      0.15      0.18        89\n",
      "         silver       0.00      0.00      0.00         8\n",
      "        sorghum       0.07      0.10      0.08        10\n",
      "       soy-meal       0.00      0.00      0.00        13\n",
      "        soy-oil       0.04      0.09      0.06        11\n",
      "        soybean       0.00      0.00      0.00        33\n",
      "strategic-metal       0.00      0.00      0.00        11\n",
      "          sugar       0.09      0.19      0.12        36\n",
      "       sun-meal       0.00      0.00      0.00         1\n",
      "        sun-oil       0.00      0.00      0.00         2\n",
      "        sunseed       0.00      0.00      0.00         5\n",
      "            tea       0.17      0.25      0.20         4\n",
      "            tin       0.00      0.00      0.00        12\n",
      "          trade       0.51      0.69      0.59       117\n",
      "        veg-oil       0.23      0.27      0.25        37\n",
      "          wheat       0.45      0.27      0.34        71\n",
      "            wpi       0.11      0.30      0.16        10\n",
      "            yen       0.00      0.00      0.00        14\n",
      "           zinc       0.11      0.08      0.09        13\n",
      "\n",
      "       accuracy                           0.62      3744\n",
      "      macro avg       0.15      0.16      0.14      3744\n",
      "   weighted avg       0.57      0.62      0.59      3744\n",
      "\n",
      "[[680   0   0 ...   0   0   0]\n",
      " [  4   1   0 ...   0   0   0]\n",
      " [  0   0   2 ...   0   0   0]\n",
      " ...\n",
      " [  0   0   0 ...   3   0   0]\n",
      " [  0   0   0 ...   0   0   0]\n",
      " [  2   0   0 ...   0   0   1]]\n"
     ]
    },
    {
     "name": "stderr",
     "output_type": "stream",
     "text": [
      "C:\\Users\\Joonas\\AppData\\Local\\Programs\\Python\\Python39\\lib\\site-packages\\sklearn\\metrics\\_classification.py:1248: UndefinedMetricWarning: Precision and F-score are ill-defined and being set to 0.0 in labels with no predicted samples. Use `zero_division` parameter to control this behavior.\n",
      "  _warn_prf(average, modifier, msg_start, len(result))\n",
      "C:\\Users\\Joonas\\AppData\\Local\\Programs\\Python\\Python39\\lib\\site-packages\\sklearn\\metrics\\_classification.py:1248: UndefinedMetricWarning: Precision and F-score are ill-defined and being set to 0.0 in labels with no predicted samples. Use `zero_division` parameter to control this behavior.\n",
      "  _warn_prf(average, modifier, msg_start, len(result))\n",
      "C:\\Users\\Joonas\\AppData\\Local\\Programs\\Python\\Python39\\lib\\site-packages\\sklearn\\metrics\\_classification.py:1248: UndefinedMetricWarning: Precision and F-score are ill-defined and being set to 0.0 in labels with no predicted samples. Use `zero_division` parameter to control this behavior.\n",
      "  _warn_prf(average, modifier, msg_start, len(result))\n"
     ]
    }
   ],
   "source": [
    "# summarize the fit of the model\n",
    "print(metrics.classification_report(expected, predicted))\n",
    "print(metrics.confusion_matrix(expected, predicted))"
   ]
  },
  {
   "cell_type": "markdown",
   "metadata": {},
   "source": [
    "## List results"
   ]
  },
  {
   "cell_type": "code",
   "execution_count": 44,
   "metadata": {},
   "outputs": [
    {
     "data": {
      "text/html": [
       "<div>\n",
       "<style scoped>\n",
       "    .dataframe tbody tr th:only-of-type {\n",
       "        vertical-align: middle;\n",
       "    }\n",
       "\n",
       "    .dataframe tbody tr th {\n",
       "        vertical-align: top;\n",
       "    }\n",
       "\n",
       "    .dataframe thead th {\n",
       "        text-align: right;\n",
       "    }\n",
       "</style>\n",
       "<table border=\"1\" class=\"dataframe\">\n",
       "  <thead>\n",
       "    <tr style=\"text-align: right;\">\n",
       "      <th></th>\n",
       "      <th>acc</th>\n",
       "      <th>f1</th>\n",
       "    </tr>\n",
       "  </thead>\n",
       "  <tbody>\n",
       "    <tr>\n",
       "      <th>nb</th>\n",
       "      <td>0.302083</td>\n",
       "      <td>0.328186</td>\n",
       "    </tr>\n",
       "    <tr>\n",
       "      <th>rf</th>\n",
       "      <td>0.655182</td>\n",
       "      <td>0.611194</td>\n",
       "    </tr>\n",
       "    <tr>\n",
       "      <th>svm</th>\n",
       "      <td>0.623665</td>\n",
       "      <td>0.592114</td>\n",
       "    </tr>\n",
       "  </tbody>\n",
       "</table>\n",
       "</div>"
      ],
      "text/plain": [
       "          acc        f1\n",
       "nb   0.302083  0.328186\n",
       "rf   0.655182  0.611194\n",
       "svm  0.623665  0.592114"
      ]
     },
     "execution_count": 44,
     "metadata": {},
     "output_type": "execute_result"
    }
   ],
   "source": [
    "results_100 = [(accuracy_nb, f1_nb), (accuracy_rf, f1_rf), (accuracy_svm, f1_svm)]\n",
    "results_100_df = pd.DataFrame(results_100, columns=['acc', 'f1'], index=[\"nb\",\"rf\", \"svm\"])\n",
    "results_100_df"
   ]
  },
  {
   "cell_type": "markdown",
   "metadata": {},
   "source": [
    "# 4. Show the results of this classifier when the total number of features varies as 1000, 1500, 2000, 2500, 3000, 3500, 4500, 5000."
   ]
  },
  {
   "cell_type": "markdown",
   "metadata": {},
   "source": [
    "## Create function to apply classifier"
   ]
  },
  {
   "cell_type": "code",
   "execution_count": 45,
   "metadata": {},
   "outputs": [],
   "source": [
    "# funtion to apply NaiveBayes classifier, print and return accuracy and f1-value\n",
    "\n",
    "def nb_classifier(features_train,features_test):\n",
    "    \"\"\" funtion to apply NaiveBayes classifier, print and return accuracy and f1-value \"\"\"\n",
    "\n",
    "    # Fit/train the gaussian NaiveBayes model\n",
    "    classifier = gnb.fit(features_train, train_df[\"category\"])\n",
    "\n",
    "    # Make predictions\n",
    "    expected = test_df[\"category\"]\n",
    "    predicted = classifier.predict(features_test)\n",
    "\n",
    "    # summarize the fit of the model\n",
    "    #print(metrics.classification_report(expected, predicted))\n",
    "    #print(metrics.confusion_matrix(expected, predicted))\n",
    "\n",
    "    ##Output the accuracy and F1 measure of this classifier\n",
    "    accuracy_nb = metrics.accuracy_score(expected, predicted)\n",
    "    print(\"accuracy: \", accuracy_nb)\n",
    "    f1_nb = metrics.f1_score(expected, predicted, average = \"weighted\")\n",
    "    print(\"f1 score: \", f1_nb)\n",
    "    return (accuracy_nb, f1_nb)\n",
    "\n"
   ]
  },
  {
   "cell_type": "code",
   "execution_count": 46,
   "metadata": {},
   "outputs": [],
   "source": [
    "def rf_classifier(features_train,features_test):\n",
    "\n",
    "    # Create RandomForestClassifier\n",
    "    rfc = RandomForestClassifier()\n",
    "\n",
    "    # Train RFC model\n",
    "    classifier = rfc.fit(features_train, train_df[\"category\"])\n",
    "\n",
    "    # make predictions\n",
    "    predicted = classifier.predict(features_test)\n",
    "    expected = test_df[\"category\"]\n",
    "\n",
    "    # summarize the fit of the model\n",
    "    #print(metrics.classification_report(expected, predicted))\n",
    "    #print(metrics.confusion_matrix(expected, predicted))\n",
    "\n",
    "    # Output the accuracy and F1 measure of this classifier\n",
    "    print(\"accuracy = \", metrics.accuracy_score(expected, predicted))\n",
    "    accuracy_rf = metrics.accuracy_score(expected, predicted)\n",
    "    print(\"f1 score = \", metrics.f1_score(expected, predicted, average = \"weighted\"))\n",
    "    f1_rf = metrics.f1_score(expected, predicted, average = \"weighted\")\n",
    "\n",
    "    return (accuracy_rf, f1_rf)"
   ]
  },
  {
   "cell_type": "code",
   "execution_count": 47,
   "metadata": {},
   "outputs": [],
   "source": [
    "def svm_classifier(features_train,features_test):\n",
    "\n",
    "    # Get feature vectors\n",
    "    #BOW_train = BOW_model(train_df[\"document\"], features)\n",
    "    #BOW_test = BOW_model(test_df[\"document\"], features)\n",
    "\n",
    "    # Create SVM Classifier\n",
    "    #svm = SVC(kernel=\"linear\")\n",
    "    svm = LinearSVC()\n",
    "\n",
    "    # Train SVM model\n",
    "    classifier = svm.fit(features_train, train_df[\"category\"])\n",
    "    predicted = classifier.predict(features_test)\n",
    "    expected = test_df[\"category\"]\n",
    "\n",
    "    # summarize the fit of the model\n",
    "    #print(metrics.classification_report(expected, predicted))\n",
    "    #print(metrics.confusion_matrix(expected, predicted))\n",
    "\n",
    "    # Output the accuracy and F1 measure of this classifier\n",
    "    print(\"accuracy = \", metrics.accuracy_score(expected, predicted))\n",
    "    accuracy_svm = metrics.accuracy_score(expected, predicted)\n",
    "    print(\"f1 score = \", metrics.f1_score(expected, predicted, average = \"weighted\"))\n",
    "    f1_svm = metrics.f1_score(expected, predicted, average = \"weighted\")\n",
    "\n",
    "    return (accuracy_svm, f1_svm)\n"
   ]
  },
  {
   "cell_type": "markdown",
   "metadata": {},
   "source": [
    "## Apply function"
   ]
  },
  {
   "cell_type": "markdown",
   "metadata": {},
   "source": [
    "### BOW models"
   ]
  },
  {
   "cell_type": "code",
   "execution_count": 48,
   "metadata": {},
   "outputs": [
    {
     "name": "stderr",
     "output_type": "stream",
     "text": [
      "C:\\Users\\Joonas\\AppData\\Local\\Programs\\Python\\Python39\\lib\\site-packages\\sklearn\\feature_extraction\\text.py:489: UserWarning: The parameter 'token_pattern' will not be used since 'tokenizer' is not None'\n",
      "  warnings.warn(\"The parameter 'token_pattern' will not be used\"\n",
      "C:\\Users\\Joonas\\AppData\\Local\\Programs\\Python\\Python39\\lib\\site-packages\\sklearn\\feature_extraction\\text.py:388: UserWarning: Your stop_words may be inconsistent with your preprocessing. Tokenizing the stop words generated tokens ['ha', 'le', 'u', 'wa'] not in stop_words.\n",
      "  warnings.warn('Your stop_words may be inconsistent with '\n"
     ]
    }
   ],
   "source": [
    "# use all numbers of vectors\n",
    "num_vec = [100,1000,1500,2000,2500,3000,3500,4500,5000]\n",
    "# list for feature vectors\n",
    "feature_vecs = []\n",
    "\n",
    "# iterate through numbers\n",
    "for num in num_vec:\n",
    "   # make feature vectors as tuples (train, test) and append to list\n",
    "   feature_vecs.append(BOW_model(train_df[\"document\"], test_df[\"document\"], num))\n",
    "\n",
    "   "
   ]
  },
  {
   "cell_type": "markdown",
   "metadata": {},
   "source": [
    "### NaiveBayes"
   ]
  },
  {
   "cell_type": "code",
   "execution_count": 49,
   "metadata": {},
   "outputs": [
    {
     "name": "stdout",
     "output_type": "stream",
     "text": [
      "accuracy:  0.3020833333333333\n",
      "f1 score:  0.328185983931604\n",
      "accuracy:  0.46474358974358976\n",
      "f1 score:  0.47853470142336146\n",
      "accuracy:  0.4893162393162393\n",
      "f1 score:  0.48816383074814185\n",
      "accuracy:  0.4986645299145299\n",
      "f1 score:  0.4889780283897969\n",
      "accuracy:  0.5066773504273504\n",
      "f1 score:  0.4913354975927903\n",
      "accuracy:  0.5061431623931624\n",
      "f1 score:  0.4847744672665356\n",
      "accuracy:  0.5016025641025641\n",
      "f1 score:  0.4758435581141394\n",
      "accuracy:  0.5189636752136753\n",
      "f1 score:  0.4901192029066765\n",
      "accuracy:  0.5192307692307693\n",
      "f1 score:  0.48981709356670483\n"
     ]
    }
   ],
   "source": [
    "# add results list\n",
    "results = []\n",
    "\n",
    "# iterate through feature vectors\n",
    "for vec in feature_vecs:\n",
    "    # apply classifier and append results to list: train = 0 , test = 1\n",
    "    results.append(nb_classifier(vec[0],vec[1]))\n",
    "    #print(vec[1])\n",
    "\n",
    "nb_results_df = pd.DataFrame(results, columns=['acc', 'f1'], index=[\"nb_100\", \"nb_1000\", \"nb_1500\", \"nb_2000\", \"nb_2500\", \"nb_3000\", \"nb_3500\", \"nb_4500\", \"nb_5000\"])\n"
   ]
  },
  {
   "cell_type": "code",
   "execution_count": 50,
   "metadata": {},
   "outputs": [
    {
     "data": {
      "text/html": [
       "<div>\n",
       "<style scoped>\n",
       "    .dataframe tbody tr th:only-of-type {\n",
       "        vertical-align: middle;\n",
       "    }\n",
       "\n",
       "    .dataframe tbody tr th {\n",
       "        vertical-align: top;\n",
       "    }\n",
       "\n",
       "    .dataframe thead th {\n",
       "        text-align: right;\n",
       "    }\n",
       "</style>\n",
       "<table border=\"1\" class=\"dataframe\">\n",
       "  <thead>\n",
       "    <tr style=\"text-align: right;\">\n",
       "      <th></th>\n",
       "      <th>acc</th>\n",
       "      <th>f1</th>\n",
       "    </tr>\n",
       "  </thead>\n",
       "  <tbody>\n",
       "    <tr>\n",
       "      <th>nb_100</th>\n",
       "      <td>0.302083</td>\n",
       "      <td>0.328186</td>\n",
       "    </tr>\n",
       "    <tr>\n",
       "      <th>nb_1000</th>\n",
       "      <td>0.464744</td>\n",
       "      <td>0.478535</td>\n",
       "    </tr>\n",
       "    <tr>\n",
       "      <th>nb_1500</th>\n",
       "      <td>0.489316</td>\n",
       "      <td>0.488164</td>\n",
       "    </tr>\n",
       "    <tr>\n",
       "      <th>nb_2000</th>\n",
       "      <td>0.498665</td>\n",
       "      <td>0.488978</td>\n",
       "    </tr>\n",
       "    <tr>\n",
       "      <th>nb_2500</th>\n",
       "      <td>0.506677</td>\n",
       "      <td>0.491335</td>\n",
       "    </tr>\n",
       "    <tr>\n",
       "      <th>nb_3000</th>\n",
       "      <td>0.506143</td>\n",
       "      <td>0.484774</td>\n",
       "    </tr>\n",
       "    <tr>\n",
       "      <th>nb_3500</th>\n",
       "      <td>0.501603</td>\n",
       "      <td>0.475844</td>\n",
       "    </tr>\n",
       "    <tr>\n",
       "      <th>nb_4500</th>\n",
       "      <td>0.518964</td>\n",
       "      <td>0.490119</td>\n",
       "    </tr>\n",
       "    <tr>\n",
       "      <th>nb_5000</th>\n",
       "      <td>0.519231</td>\n",
       "      <td>0.489817</td>\n",
       "    </tr>\n",
       "  </tbody>\n",
       "</table>\n",
       "</div>"
      ],
      "text/plain": [
       "              acc        f1\n",
       "nb_100   0.302083  0.328186\n",
       "nb_1000  0.464744  0.478535\n",
       "nb_1500  0.489316  0.488164\n",
       "nb_2000  0.498665  0.488978\n",
       "nb_2500  0.506677  0.491335\n",
       "nb_3000  0.506143  0.484774\n",
       "nb_3500  0.501603  0.475844\n",
       "nb_4500  0.518964  0.490119\n",
       "nb_5000  0.519231  0.489817"
      ]
     },
     "execution_count": 50,
     "metadata": {},
     "output_type": "execute_result"
    }
   ],
   "source": [
    "nb_results_df"
   ]
  },
  {
   "cell_type": "code",
   "execution_count": 51,
   "metadata": {},
   "outputs": [
    {
     "data": {
      "text/plain": [
       "<AxesSubplot:>"
      ]
     },
     "execution_count": 51,
     "metadata": {},
     "output_type": "execute_result"
    },
    {
     "data": {
      "image/png": "[encoded data removed]",
      "text/plain": [
       "<Figure size 432x288 with 1 Axes>"
      ]
     },
     "metadata": {
      "needs_background": "light"
     },
     "output_type": "display_data"
    }
   ],
   "source": [
    "nb_results_df.plot()"
   ]
  },
  {
   "cell_type": "markdown",
   "metadata": {},
   "source": [
    "### Random Forest"
   ]
  },
  {
   "cell_type": "code",
   "execution_count": 52,
   "metadata": {},
   "outputs": [
    {
     "name": "stdout",
     "output_type": "stream",
     "text": [
      "accuracy =  0.6613247863247863\n",
      "f1 score =  0.6145319046363407\n",
      "accuracy =  0.7051282051282052\n",
      "f1 score =  0.6611476321443672\n",
      "accuracy =  0.7011217948717948\n",
      "f1 score =  0.6582824592642592\n",
      "accuracy =  0.6989850427350427\n",
      "f1 score =  0.6569537354718924\n",
      "accuracy =  0.7008547008547008\n",
      "f1 score =  0.6549906227134765\n",
      "accuracy =  0.7003205128205128\n",
      "f1 score =  0.6533000545047435\n",
      "accuracy =  0.6971153846153846\n",
      "f1 score =  0.6525857237328268\n",
      "accuracy =  0.6965811965811965\n",
      "f1 score =  0.6500325470382287\n",
      "accuracy =  0.6997863247863247\n",
      "f1 score =  0.6550918004566275\n"
     ]
    }
   ],
   "source": [
    "results = []\n",
    "\n",
    "for vec in feature_vecs:\n",
    "    results.append(rf_classifier(vec[0],vec[1]))\n",
    "    #print(results)\n",
    "\n",
    "rf_results_df = pd.DataFrame(results, columns=['acc', 'f1'], index=[\"rf_100\", \"rf_1000\", \"rf_1500\", \"rf_2000\", \"rf_2500\", \"rf_3000\", \"rf_3500\", \"rf_4500\", \"rf_5000\"])\n"
   ]
  },
  {
   "cell_type": "code",
   "execution_count": 53,
   "metadata": {},
   "outputs": [
    {
     "data": {
      "text/plain": [
       "<AxesSubplot:>"
      ]
     },
     "execution_count": 53,
     "metadata": {},
     "output_type": "execute_result"
    },
    {
     "data": {
      "image/png": "[encoded data removed]",
      "text/plain": [
       "<Figure size 432x288 with 1 Axes>"
      ]
     },
     "metadata": {
      "needs_background": "light"
     },
     "output_type": "display_data"
    }
   ],
   "source": [
    "rf_results_df.plot()"
   ]
  },
  {
   "cell_type": "markdown",
   "metadata": {},
   "source": [
    "### SVM"
   ]
  },
  {
   "cell_type": "code",
   "execution_count": 54,
   "metadata": {},
   "outputs": [
    {
     "name": "stderr",
     "output_type": "stream",
     "text": [
      "C:\\Users\\Joonas\\AppData\\Local\\Programs\\Python\\Python39\\lib\\site-packages\\sklearn\\svm\\_base.py:985: ConvergenceWarning: Liblinear failed to converge, increase the number of iterations.\n",
      "  warnings.warn(\"Liblinear failed to converge, increase \"\n"
     ]
    },
    {
     "name": "stdout",
     "output_type": "stream",
     "text": [
      "accuracy =  0.625534188034188\n",
      "f1 score =  0.5919074676228986\n"
     ]
    },
    {
     "name": "stderr",
     "output_type": "stream",
     "text": [
      "C:\\Users\\Joonas\\AppData\\Local\\Programs\\Python\\Python39\\lib\\site-packages\\sklearn\\svm\\_base.py:985: ConvergenceWarning: Liblinear failed to converge, increase the number of iterations.\n",
      "  warnings.warn(\"Liblinear failed to converge, increase \"\n"
     ]
    },
    {
     "name": "stdout",
     "output_type": "stream",
     "text": [
      "accuracy =  0.6981837606837606\n",
      "f1 score =  0.6816149222541146\n"
     ]
    },
    {
     "name": "stderr",
     "output_type": "stream",
     "text": [
      "C:\\Users\\Joonas\\AppData\\Local\\Programs\\Python\\Python39\\lib\\site-packages\\sklearn\\svm\\_base.py:985: ConvergenceWarning: Liblinear failed to converge, increase the number of iterations.\n",
      "  warnings.warn(\"Liblinear failed to converge, increase \"\n"
     ]
    },
    {
     "name": "stdout",
     "output_type": "stream",
     "text": [
      "accuracy =  0.7080662393162394\n",
      "f1 score =  0.6930970703865982\n"
     ]
    },
    {
     "name": "stderr",
     "output_type": "stream",
     "text": [
      "C:\\Users\\Joonas\\AppData\\Local\\Programs\\Python\\Python39\\lib\\site-packages\\sklearn\\svm\\_base.py:985: ConvergenceWarning: Liblinear failed to converge, increase the number of iterations.\n",
      "  warnings.warn(\"Liblinear failed to converge, increase \"\n"
     ]
    },
    {
     "name": "stdout",
     "output_type": "stream",
     "text": [
      "accuracy =  0.7088675213675214\n",
      "f1 score =  0.6937955853359803\n"
     ]
    },
    {
     "name": "stderr",
     "output_type": "stream",
     "text": [
      "C:\\Users\\Joonas\\AppData\\Local\\Programs\\Python\\Python39\\lib\\site-packages\\sklearn\\svm\\_base.py:985: ConvergenceWarning: Liblinear failed to converge, increase the number of iterations.\n",
      "  warnings.warn(\"Liblinear failed to converge, increase \"\n"
     ]
    },
    {
     "name": "stdout",
     "output_type": "stream",
     "text": [
      "accuracy =  0.7158119658119658\n",
      "f1 score =  0.6990977377022825\n"
     ]
    },
    {
     "name": "stderr",
     "output_type": "stream",
     "text": [
      "C:\\Users\\Joonas\\AppData\\Local\\Programs\\Python\\Python39\\lib\\site-packages\\sklearn\\svm\\_base.py:985: ConvergenceWarning: Liblinear failed to converge, increase the number of iterations.\n",
      "  warnings.warn(\"Liblinear failed to converge, increase \"\n"
     ]
    },
    {
     "name": "stdout",
     "output_type": "stream",
     "text": [
      "accuracy =  0.718215811965812\n",
      "f1 score =  0.703739725554769\n"
     ]
    },
    {
     "name": "stderr",
     "output_type": "stream",
     "text": [
      "C:\\Users\\Joonas\\AppData\\Local\\Programs\\Python\\Python39\\lib\\site-packages\\sklearn\\svm\\_base.py:985: ConvergenceWarning: Liblinear failed to converge, increase the number of iterations.\n",
      "  warnings.warn(\"Liblinear failed to converge, increase \"\n"
     ]
    },
    {
     "name": "stdout",
     "output_type": "stream",
     "text": [
      "accuracy =  0.7208867521367521\n",
      "f1 score =  0.7041163211044291\n"
     ]
    },
    {
     "name": "stderr",
     "output_type": "stream",
     "text": [
      "C:\\Users\\Joonas\\AppData\\Local\\Programs\\Python\\Python39\\lib\\site-packages\\sklearn\\svm\\_base.py:985: ConvergenceWarning: Liblinear failed to converge, increase the number of iterations.\n",
      "  warnings.warn(\"Liblinear failed to converge, increase \"\n"
     ]
    },
    {
     "name": "stdout",
     "output_type": "stream",
     "text": [
      "accuracy =  0.7216880341880342\n",
      "f1 score =  0.707435786660471\n",
      "accuracy =  0.7211538461538461\n",
      "f1 score =  0.7063377863100468\n"
     ]
    },
    {
     "name": "stderr",
     "output_type": "stream",
     "text": [
      "C:\\Users\\Joonas\\AppData\\Local\\Programs\\Python\\Python39\\lib\\site-packages\\sklearn\\svm\\_base.py:985: ConvergenceWarning: Liblinear failed to converge, increase the number of iterations.\n",
      "  warnings.warn(\"Liblinear failed to converge, increase \"\n"
     ]
    }
   ],
   "source": [
    "results = []\n",
    "\n",
    "for vec in feature_vecs:\n",
    "    results.append(svm_classifier(vec[0],vec[1]))\n",
    "    #print(results)\n",
    "\n",
    "svm_results_df = pd.DataFrame(results, columns=['acc', 'f1'], index=[\"svm_100\", \"svm_1000\", \"svm_1500\", \"svm_2000\", \"svm_2500\", \"svm_3000\", \"svm_3500\", \"svm_4500\", \"svm_5000\"])\n"
   ]
  },
  {
   "cell_type": "code",
   "execution_count": 55,
   "metadata": {},
   "outputs": [
    {
     "data": {
      "text/plain": [
       "<AxesSubplot:>"
      ]
     },
     "execution_count": 55,
     "metadata": {},
     "output_type": "execute_result"
    },
    {
     "data": {
      "image/png": "[encoded data removed]",
      "text/plain": [
       "<Figure size 432x288 with 1 Axes>"
      ]
     },
     "metadata": {
      "needs_background": "light"
     },
     "output_type": "display_data"
    }
   ],
   "source": [
    "svm_results_df.plot()"
   ]
  },
  {
   "cell_type": "markdown",
   "metadata": {},
   "source": [
    "## List Results"
   ]
  },
  {
   "cell_type": "code",
   "execution_count": 56,
   "metadata": {},
   "outputs": [
    {
     "data": {
      "text/html": [
       "<div>\n",
       "<style scoped>\n",
       "    .dataframe tbody tr th:only-of-type {\n",
       "        vertical-align: middle;\n",
       "    }\n",
       "\n",
       "    .dataframe tbody tr th {\n",
       "        vertical-align: top;\n",
       "    }\n",
       "\n",
       "    .dataframe thead th {\n",
       "        text-align: right;\n",
       "    }\n",
       "</style>\n",
       "<table border=\"1\" class=\"dataframe\">\n",
       "  <thead>\n",
       "    <tr style=\"text-align: right;\">\n",
       "      <th></th>\n",
       "      <th>acc</th>\n",
       "      <th>f1</th>\n",
       "    </tr>\n",
       "  </thead>\n",
       "  <tbody>\n",
       "    <tr>\n",
       "      <th>nb_100</th>\n",
       "      <td>0.302083</td>\n",
       "      <td>0.328186</td>\n",
       "    </tr>\n",
       "    <tr>\n",
       "      <th>nb_1000</th>\n",
       "      <td>0.464744</td>\n",
       "      <td>0.478535</td>\n",
       "    </tr>\n",
       "    <tr>\n",
       "      <th>nb_1500</th>\n",
       "      <td>0.489316</td>\n",
       "      <td>0.488164</td>\n",
       "    </tr>\n",
       "    <tr>\n",
       "      <th>nb_2000</th>\n",
       "      <td>0.498665</td>\n",
       "      <td>0.488978</td>\n",
       "    </tr>\n",
       "    <tr>\n",
       "      <th>nb_2500</th>\n",
       "      <td>0.506677</td>\n",
       "      <td>0.491335</td>\n",
       "    </tr>\n",
       "    <tr>\n",
       "      <th>nb_3000</th>\n",
       "      <td>0.506143</td>\n",
       "      <td>0.484774</td>\n",
       "    </tr>\n",
       "    <tr>\n",
       "      <th>nb_3500</th>\n",
       "      <td>0.501603</td>\n",
       "      <td>0.475844</td>\n",
       "    </tr>\n",
       "    <tr>\n",
       "      <th>nb_4500</th>\n",
       "      <td>0.518964</td>\n",
       "      <td>0.490119</td>\n",
       "    </tr>\n",
       "    <tr>\n",
       "      <th>nb_5000</th>\n",
       "      <td>0.519231</td>\n",
       "      <td>0.489817</td>\n",
       "    </tr>\n",
       "    <tr>\n",
       "      <th>rf_100</th>\n",
       "      <td>0.661325</td>\n",
       "      <td>0.614532</td>\n",
       "    </tr>\n",
       "    <tr>\n",
       "      <th>rf_1000</th>\n",
       "      <td>0.705128</td>\n",
       "      <td>0.661148</td>\n",
       "    </tr>\n",
       "    <tr>\n",
       "      <th>rf_1500</th>\n",
       "      <td>0.701122</td>\n",
       "      <td>0.658282</td>\n",
       "    </tr>\n",
       "    <tr>\n",
       "      <th>rf_2000</th>\n",
       "      <td>0.698985</td>\n",
       "      <td>0.656954</td>\n",
       "    </tr>\n",
       "    <tr>\n",
       "      <th>rf_2500</th>\n",
       "      <td>0.700855</td>\n",
       "      <td>0.654991</td>\n",
       "    </tr>\n",
       "    <tr>\n",
       "      <th>rf_3000</th>\n",
       "      <td>0.700321</td>\n",
       "      <td>0.653300</td>\n",
       "    </tr>\n",
       "    <tr>\n",
       "      <th>rf_3500</th>\n",
       "      <td>0.697115</td>\n",
       "      <td>0.652586</td>\n",
       "    </tr>\n",
       "    <tr>\n",
       "      <th>rf_4500</th>\n",
       "      <td>0.696581</td>\n",
       "      <td>0.650033</td>\n",
       "    </tr>\n",
       "    <tr>\n",
       "      <th>rf_5000</th>\n",
       "      <td>0.699786</td>\n",
       "      <td>0.655092</td>\n",
       "    </tr>\n",
       "    <tr>\n",
       "      <th>svm_100</th>\n",
       "      <td>0.625534</td>\n",
       "      <td>0.591907</td>\n",
       "    </tr>\n",
       "    <tr>\n",
       "      <th>svm_1000</th>\n",
       "      <td>0.698184</td>\n",
       "      <td>0.681615</td>\n",
       "    </tr>\n",
       "    <tr>\n",
       "      <th>svm_1500</th>\n",
       "      <td>0.708066</td>\n",
       "      <td>0.693097</td>\n",
       "    </tr>\n",
       "    <tr>\n",
       "      <th>svm_2000</th>\n",
       "      <td>0.708868</td>\n",
       "      <td>0.693796</td>\n",
       "    </tr>\n",
       "    <tr>\n",
       "      <th>svm_2500</th>\n",
       "      <td>0.715812</td>\n",
       "      <td>0.699098</td>\n",
       "    </tr>\n",
       "    <tr>\n",
       "      <th>svm_3000</th>\n",
       "      <td>0.718216</td>\n",
       "      <td>0.703740</td>\n",
       "    </tr>\n",
       "    <tr>\n",
       "      <th>svm_3500</th>\n",
       "      <td>0.720887</td>\n",
       "      <td>0.704116</td>\n",
       "    </tr>\n",
       "    <tr>\n",
       "      <th>svm_4500</th>\n",
       "      <td>0.721688</td>\n",
       "      <td>0.707436</td>\n",
       "    </tr>\n",
       "    <tr>\n",
       "      <th>svm_5000</th>\n",
       "      <td>0.721154</td>\n",
       "      <td>0.706338</td>\n",
       "    </tr>\n",
       "  </tbody>\n",
       "</table>\n",
       "</div>"
      ],
      "text/plain": [
       "               acc        f1\n",
       "nb_100    0.302083  0.328186\n",
       "nb_1000   0.464744  0.478535\n",
       "nb_1500   0.489316  0.488164\n",
       "nb_2000   0.498665  0.488978\n",
       "nb_2500   0.506677  0.491335\n",
       "nb_3000   0.506143  0.484774\n",
       "nb_3500   0.501603  0.475844\n",
       "nb_4500   0.518964  0.490119\n",
       "nb_5000   0.519231  0.489817\n",
       "rf_100    0.661325  0.614532\n",
       "rf_1000   0.705128  0.661148\n",
       "rf_1500   0.701122  0.658282\n",
       "rf_2000   0.698985  0.656954\n",
       "rf_2500   0.700855  0.654991\n",
       "rf_3000   0.700321  0.653300\n",
       "rf_3500   0.697115  0.652586\n",
       "rf_4500   0.696581  0.650033\n",
       "rf_5000   0.699786  0.655092\n",
       "svm_100   0.625534  0.591907\n",
       "svm_1000  0.698184  0.681615\n",
       "svm_1500  0.708066  0.693097\n",
       "svm_2000  0.708868  0.693796\n",
       "svm_2500  0.715812  0.699098\n",
       "svm_3000  0.718216  0.703740\n",
       "svm_3500  0.720887  0.704116\n",
       "svm_4500  0.721688  0.707436\n",
       "svm_5000  0.721154  0.706338"
      ]
     },
     "execution_count": 56,
     "metadata": {},
     "output_type": "execute_result"
    }
   ],
   "source": [
    "results_df = pd.DataFrame()\n",
    "results_df = results_df.append(nb_results_df)\n",
    "results_df = results_df.append(rf_results_df)\n",
    "results_df = results_df.append(svm_results_df)\n",
    "results_df"
   ]
  },
  {
   "cell_type": "markdown",
   "metadata": {},
   "source": [
    "# 5. Repeat 3) when a PCA (of 95% information preservation) is used to reduce the dimension of the feature space. \n"
   ]
  },
  {
   "cell_type": "markdown",
   "metadata": {},
   "source": [
    "## PCA function"
   ]
  },
  {
   "cell_type": "code",
   "execution_count": 57,
   "metadata": {},
   "outputs": [],
   "source": [
    "def PCA_apply (features_train, features_test):\n",
    "    # use principal component analysis with 95% info preservation\n",
    "    pca = PCA(n_components=0.95)\n",
    "    # fit training vectors\n",
    "    pca.fit(features_train)\n",
    "    # transform\n",
    "    pca_train = pca.transform(features_train)\n",
    "    pca_test = pca.transform(features_test)\n",
    "    return pca_train, pca_test"
   ]
  },
  {
   "cell_type": "code",
   "execution_count": 58,
   "metadata": {},
   "outputs": [],
   "source": [
    "# call pca funcion\n",
    "pca_train, pca_test = PCA_apply(features_train, features_test)"
   ]
  },
  {
   "cell_type": "markdown",
   "metadata": {},
   "source": [
    "## NaiveBayes with PCA"
   ]
  },
  {
   "cell_type": "code",
   "execution_count": 59,
   "metadata": {},
   "outputs": [
    {
     "name": "stdout",
     "output_type": "stream",
     "text": [
      "accuracy:  0.468482905982906\n",
      "f1 score:  0.4537237656536132\n"
     ]
    }
   ],
   "source": [
    "# make list of classifier tuples and create dataframe\n",
    "score_nb_pca = [nb_classifier(pca_train, pca_test)]\n",
    "pca_df = pd.DataFrame(score_nb_pca, columns=['acc', 'f1'], index=[\"nb_100\"])"
   ]
  },
  {
   "cell_type": "markdown",
   "metadata": {},
   "source": [
    "## RandomForest With PCA"
   ]
  },
  {
   "cell_type": "code",
   "execution_count": 60,
   "metadata": {},
   "outputs": [
    {
     "name": "stdout",
     "output_type": "stream",
     "text": [
      "accuracy =  0.6266025641025641\n",
      "f1 score =  0.5598037342571005\n"
     ]
    }
   ],
   "source": [
    "# make list of classifier tuples and create dataframe\n",
    "score_rf_pca = [rf_classifier(pca_train, pca_test)]\n",
    "pca_rf = pd.DataFrame(score_rf_pca, columns=['acc', 'f1'], index=[\"rf_100\"])"
   ]
  },
  {
   "cell_type": "markdown",
   "metadata": {},
   "source": [
    "## Linear SVM with PCA"
   ]
  },
  {
   "cell_type": "code",
   "execution_count": 61,
   "metadata": {},
   "outputs": [
    {
     "name": "stdout",
     "output_type": "stream",
     "text": [
      "accuracy =  0.6330128205128205\n",
      "f1 score =  0.5877580187128066\n"
     ]
    },
    {
     "name": "stderr",
     "output_type": "stream",
     "text": [
      "C:\\Users\\Joonas\\AppData\\Local\\Programs\\Python\\Python39\\lib\\site-packages\\sklearn\\svm\\_base.py:985: ConvergenceWarning: Liblinear failed to converge, increase the number of iterations.\n",
      "  warnings.warn(\"Liblinear failed to converge, increase \"\n"
     ]
    }
   ],
   "source": [
    "# make list of classifier tuples and create dataframe\n",
    "score_svm_pca = [svm_classifier(pca_train, pca_test)]\n",
    "pca_svm = pd.DataFrame(score_svm_pca, columns=['acc', 'f1'], index=[\"svm_100\"])"
   ]
  },
  {
   "cell_type": "code",
   "execution_count": 62,
   "metadata": {},
   "outputs": [
    {
     "data": {
      "text/html": [
       "<div>\n",
       "<style scoped>\n",
       "    .dataframe tbody tr th:only-of-type {\n",
       "        vertical-align: middle;\n",
       "    }\n",
       "\n",
       "    .dataframe tbody tr th {\n",
       "        vertical-align: top;\n",
       "    }\n",
       "\n",
       "    .dataframe thead th {\n",
       "        text-align: right;\n",
       "    }\n",
       "</style>\n",
       "<table border=\"1\" class=\"dataframe\">\n",
       "  <thead>\n",
       "    <tr style=\"text-align: right;\">\n",
       "      <th></th>\n",
       "      <th>acc</th>\n",
       "      <th>f1</th>\n",
       "    </tr>\n",
       "  </thead>\n",
       "  <tbody>\n",
       "    <tr>\n",
       "      <th>nb_100</th>\n",
       "      <td>0.468483</td>\n",
       "      <td>0.453724</td>\n",
       "    </tr>\n",
       "    <tr>\n",
       "      <th>rf_100</th>\n",
       "      <td>0.626603</td>\n",
       "      <td>0.559804</td>\n",
       "    </tr>\n",
       "    <tr>\n",
       "      <th>svm_100</th>\n",
       "      <td>0.633013</td>\n",
       "      <td>0.587758</td>\n",
       "    </tr>\n",
       "  </tbody>\n",
       "</table>\n",
       "</div>"
      ],
      "text/plain": [
       "              acc        f1\n",
       "nb_100   0.468483  0.453724\n",
       "rf_100   0.626603  0.559804\n",
       "svm_100  0.633013  0.587758"
      ]
     },
     "execution_count": 62,
     "metadata": {},
     "output_type": "execute_result"
    }
   ],
   "source": [
    "pca_df = pca_df.append(pca_rf)\n",
    "pca_df = pca_df.append(pca_svm)\n",
    "pca_df"
   ]
  },
  {
   "cell_type": "markdown",
   "metadata": {},
   "source": [
    "# 6. Instead of CountVectorizer, use TfidfVectorizer to create the feature set as in 2) and test the classification accuracy and F1 measure of Naives’ Bayes classifier.\n"
   ]
  },
  {
   "cell_type": "code",
   "execution_count": 63,
   "metadata": {},
   "outputs": [],
   "source": [
    "def tfidf_model(train_data, test_data, max_features):\n",
    "    \"\"\"Return feature vectors from tfidfVectorizer\"\"\"\n",
    "    tfidf = TfidfVectorizer(tokenizer=LemmaTokenizer(), \n",
    "                          lowercase=True, \n",
    "                          max_features = max_features, \n",
    "                          stop_words = \"english\", \n",
    "                          min_df = 3, max_df = 0.7)\n",
    "    # fit train data\n",
    "    tfidf.fit(train_data)\n",
    "    tfidf_train = tfidf.transform(train_data)\n",
    "    tfidf_test = tfidf.transform(test_data)\n",
    " \n",
    "    #print(tfidf.get_feature_names())\n",
    "    return (tfidf_train.toarray(), tfidf_test.toarray())"
   ]
  },
  {
   "cell_type": "code",
   "execution_count": 64,
   "metadata": {},
   "outputs": [
    {
     "name": "stderr",
     "output_type": "stream",
     "text": [
      "C:\\Users\\Joonas\\AppData\\Local\\Programs\\Python\\Python39\\lib\\site-packages\\sklearn\\feature_extraction\\text.py:489: UserWarning: The parameter 'token_pattern' will not be used since 'tokenizer' is not None'\n",
      "  warnings.warn(\"The parameter 'token_pattern' will not be used\"\n",
      "C:\\Users\\Joonas\\AppData\\Local\\Programs\\Python\\Python39\\lib\\site-packages\\sklearn\\feature_extraction\\text.py:388: UserWarning: Your stop_words may be inconsistent with your preprocessing. Tokenizing the stop words generated tokens ['ha', 'le', 'u', 'wa'] not in stop_words.\n",
      "  warnings.warn('Your stop_words may be inconsistent with '\n"
     ]
    }
   ],
   "source": [
    "tfidf_feature_train, tfidf_feature_test = tfidf_model(train_df['document'], test_df['document'], 100)"
   ]
  },
  {
   "cell_type": "code",
   "execution_count": 65,
   "metadata": {},
   "outputs": [
    {
     "name": "stdout",
     "output_type": "stream",
     "text": [
      "accuracy:  0.312767094017094\n",
      "f1 score:  0.3360708317803677\n"
     ]
    }
   ],
   "source": [
    "tfidf_accuracy, tfidf_f1 = nb_classifier(tfidf_feature_train, tfidf_feature_test)"
   ]
  },
  {
   "cell_type": "markdown",
   "metadata": {},
   "source": [
    "# 7. Use Word2vec to create a feature vector to each document by averaging over all word2vec representations of individual words constituting the document. Use this feature set to train the Naives’ Bayes classifier and output the accuracy, F1 measure and confusion matrix on testing data. \n"
   ]
  },
  {
   "cell_type": "code",
   "execution_count": 66,
   "metadata": {},
   "outputs": [
    {
     "data": {
      "text/plain": [
       "0       BAHIA COCOA REVIEW  Showers continued througho...\n",
       "1       COMPUTER TERMINAL SYSTEMS ltCPML COMPLETES SAL...\n",
       "2       NZ TRADING BANK DEPOSIT GROWTH RISES SLIGHTLY ...\n",
       "3       NATIONAL AMUSEMENTS AGAIN UPS VIACOM ltVIA BID...\n",
       "4       ROGERS ltROG SEES 1ST QTR NET UP SIGNIFICANTLY...\n",
       "                              ...                        \n",
       "9579    UK MONEY MARKET SHORTAGE FORECAST REVISED DOWN...\n",
       "9580    KNIGHTRIDDER INC ltKRN SETS QUARTERLY  Qtly di...\n",
       "9581    TECHNITROL INC ltTNL SETS QUARTERLY  Qtly div ...\n",
       "9582    NATIONWIDE CELLULAR SERVICE INC ltNCEL 4TH QTR...\n",
       "9583    ltAHA AUTOMOTIVE TECHNOLOGIES CORP YEAR NET  S...\n",
       "Name: document, Length: 9584, dtype: object"
      ]
     },
     "execution_count": 66,
     "metadata": {},
     "output_type": "execute_result"
    }
   ],
   "source": [
    "train_df2[\"document\"]"
   ]
  },
  {
   "cell_type": "code",
   "execution_count": 71,
   "metadata": {},
   "outputs": [],
   "source": [
    "# mean(word2vec(words)) \n",
    "\n",
    "# init and train word2vec model, use cbow_mean to average vectors\n",
    "#W2V_model = Word2Vec(train_df[\"document\"], cbow_mean=1)\n",
    "word_model = Word2Vec(train_df[\"document\"], min_count=2, window=5, workers=4)\n"
   ]
  },
  {
   "cell_type": "code",
   "execution_count": 104,
   "metadata": {},
   "outputs": [
    {
     "data": {
      "text/plain": [
       "[' ',\n",
       " 'e',\n",
       " 't',\n",
       " 'a',\n",
       " 'o',\n",
       " 'n',\n",
       " 'i',\n",
       " 'r',\n",
       " 's',\n",
       " 'l',\n",
       " 'd',\n",
       " 'h',\n",
       " 'c',\n",
       " 'u',\n",
       " 'm',\n",
       " 'p',\n",
       " 'f',\n",
       " 'g',\n",
       " '.',\n",
       " 'y',\n",
       " 'b',\n",
       " ',',\n",
       " 'w',\n",
       " 'v',\n",
       " '0',\n",
       " 'S',\n",
       " 'T',\n",
       " 'E',\n",
       " 'A',\n",
       " '1',\n",
       " 'I',\n",
       " 'C',\n",
       " 'R',\n",
       " 'k',\n",
       " 'N',\n",
       " 'O',\n",
       " '2',\n",
       " '8',\n",
       " '5',\n",
       " '9',\n",
       " 'L',\n",
       " 'U',\n",
       " '3',\n",
       " 'M',\n",
       " 'P',\n",
       " 'D',\n",
       " '6',\n",
       " '4',\n",
       " 'x',\n",
       " '7',\n",
       " 'B',\n",
       " 'F',\n",
       " '-',\n",
       " 'G',\n",
       " 'H',\n",
       " '\"',\n",
       " \"'\",\n",
       " 'W',\n",
       " 'J',\n",
       " 'Y',\n",
       " 'q',\n",
       " 'K',\n",
       " ';',\n",
       " '&',\n",
       " '>',\n",
       " 'z',\n",
       " 'V',\n",
       " '/',\n",
       " 'j',\n",
       " ')',\n",
       " '(',\n",
       " 'Q',\n",
       " 'X',\n",
       " ':',\n",
       " 'Z',\n",
       " '?',\n",
       " '+',\n",
       " '^',\n",
       " '*',\n",
       " ']',\n",
       " '[',\n",
       " '!',\n",
       " '$']"
      ]
     },
     "execution_count": 104,
     "metadata": {},
     "output_type": "execute_result"
    }
   ],
   "source": [
    "word_model.wv.index_to_key"
   ]
  },
  {
   "cell_type": "code",
   "execution_count": null,
   "metadata": {},
   "outputs": [],
   "source": []
  },
  {
   "cell_type": "code",
   "execution_count": 97,
   "metadata": {},
   "outputs": [],
   "source": [
    "\n",
    "class MeanEmbeddingVectorizer(object):\n",
    "\n",
    "\tdef __init__(self, word_model):\n",
    "\t\tself.word_model = word_model\n",
    "\t\tself.vector_size = word_model.wv.vector_size\n",
    "\n",
    "\tdef fit(self):  # comply with scikit-learn transformer requirement\n",
    "\t\treturn self\n",
    "\n",
    "\tdef transform(self, docs):  # comply with scikit-learn transformer requirement\n",
    "\t\tdoc_word_vector = self.word_average_list(docs)\n",
    "\t\treturn doc_word_vector\n",
    "\n",
    "\tdef word_average(self, sent):\n",
    "\t\t\"\"\"\n",
    "\t\tCompute average word vector for a single doc/sentence.\n",
    "\t\t:param sent: list of sentence tokens\n",
    "\t\t:return:\n",
    "\t\t\tmean: float of averaging word vectors\n",
    "\t\t\"\"\"\n",
    "\t\tmean = []\n",
    "\t\tfor word in sent:\n",
    "\t\t\tif word in self.word_model.wv.vocab:\n",
    "\t\t\t\tmean.append(self.word_model.wv.get_vector(word))\n",
    "\n",
    "\t\tif not mean:  # empty words\n",
    "\t\t\t# If a text is empty, return a vector of zeros.\n",
    "\t\t\tlogging.warning(\"cannot compute average owing to no vector for {}\".format(sent))\n",
    "\t\t\treturn np.zeros(self.vector_size)\n",
    "\t\telse:\n",
    "\t\t\tmean = np.array(mean).mean(axis=0)\n",
    "\t\t\treturn mean\n",
    "\n",
    "\n",
    "\tdef word_average_list(self, docs):\n",
    "\t\t\"\"\"\n",
    "\t\tCompute average word vector for multiple docs, where docs had been tokenized.\n",
    "\t\t:param docs: list of sentence in list of separated tokens\n",
    "\t\t:return:\n",
    "\t\t\tarray of average word vector in shape (len(docs),)\n",
    "\t\t\"\"\"\n",
    "\t\treturn np.vstack([self.word_average(sent) for sent in docs])"
   ]
  },
  {
   "cell_type": "code",
   "execution_count": 103,
   "metadata": {},
   "outputs": [
    {
     "ename": "AttributeError",
     "evalue": "The vocab attribute was removed from KeyedVector in Gensim 4.0.0.\nUse KeyedVector's .key_to_index dict, .index_to_key list, and methods .get_vecattr(key, attr) and .set_vecattr(key, attr, new_val) instead.\nSee https://github.com/RaRe-Technologies/gensim/wiki/Migrating-from-Gensim-3.x-to-4",
     "output_type": "error",
     "traceback": [
      "\u001b[1;31m---------------------------------------------------------------------------\u001b[0m",
      "\u001b[1;31mAttributeError\u001b[0m                            Traceback (most recent call last)",
      "\u001b[1;32m<ipython-input-103-a0bdd735615e>\u001b[0m in \u001b[0;36m<module>\u001b[1;34m\u001b[0m\n\u001b[1;32m----> 1\u001b[1;33m \u001b[0mword_model\u001b[0m\u001b[1;33m.\u001b[0m\u001b[0mwv\u001b[0m\u001b[1;33m.\u001b[0m\u001b[0mvocab\u001b[0m\u001b[1;33m\u001b[0m\u001b[1;33m\u001b[0m\u001b[0m\n\u001b[0m",
      "\u001b[1;32m~\\AppData\\Local\\Programs\\Python\\Python39\\lib\\site-packages\\gensim\\models\\keyedvectors.py\u001b[0m in \u001b[0;36mvocab\u001b[1;34m(self)\u001b[0m\n\u001b[0;32m    659\u001b[0m     \u001b[1;33m@\u001b[0m\u001b[0mproperty\u001b[0m\u001b[1;33m\u001b[0m\u001b[1;33m\u001b[0m\u001b[0m\n\u001b[0;32m    660\u001b[0m     \u001b[1;32mdef\u001b[0m \u001b[0mvocab\u001b[0m\u001b[1;33m(\u001b[0m\u001b[0mself\u001b[0m\u001b[1;33m)\u001b[0m\u001b[1;33m:\u001b[0m\u001b[1;33m\u001b[0m\u001b[1;33m\u001b[0m\u001b[0m\n\u001b[1;32m--> 661\u001b[1;33m         raise AttributeError(\n\u001b[0m\u001b[0;32m    662\u001b[0m             \u001b[1;34m\"The vocab attribute was removed from KeyedVector in Gensim 4.0.0.\\n\"\u001b[0m\u001b[1;33m\u001b[0m\u001b[1;33m\u001b[0m\u001b[0m\n\u001b[0;32m    663\u001b[0m             \u001b[1;34m\"Use KeyedVector's .key_to_index dict, .index_to_key list, and methods \"\u001b[0m\u001b[1;33m\u001b[0m\u001b[1;33m\u001b[0m\u001b[0m\n",
      "\u001b[1;31mAttributeError\u001b[0m: The vocab attribute was removed from KeyedVector in Gensim 4.0.0.\nUse KeyedVector's .key_to_index dict, .index_to_key list, and methods .get_vecattr(key, attr) and .set_vecattr(key, attr, new_val) instead.\nSee https://github.com/RaRe-Technologies/gensim/wiki/Migrating-from-Gensim-3.x-to-4"
     ]
    }
   ],
   "source": [
    "word_model.wv.vocab"
   ]
  },
  {
   "cell_type": "code",
   "execution_count": 98,
   "metadata": {},
   "outputs": [
    {
     "ename": "AttributeError",
     "evalue": "The vocab attribute was removed from KeyedVector in Gensim 4.0.0.\nUse KeyedVector's .key_to_index dict, .index_to_key list, and methods .get_vecattr(key, attr) and .set_vecattr(key, attr, new_val) instead.\nSee https://github.com/RaRe-Technologies/gensim/wiki/Migrating-from-Gensim-3.x-to-4",
     "output_type": "error",
     "traceback": [
      "\u001b[1;31m---------------------------------------------------------------------------\u001b[0m",
      "\u001b[1;31mAttributeError\u001b[0m                            Traceback (most recent call last)",
      "\u001b[1;32m<ipython-input-98-d559d643d10b>\u001b[0m in \u001b[0;36m<module>\u001b[1;34m\u001b[0m\n\u001b[0;32m      1\u001b[0m \u001b[0mmean_vec_tr\u001b[0m \u001b[1;33m=\u001b[0m \u001b[0mMeanEmbeddingVectorizer\u001b[0m\u001b[1;33m(\u001b[0m\u001b[0mword_model\u001b[0m\u001b[1;33m)\u001b[0m\u001b[1;33m\u001b[0m\u001b[1;33m\u001b[0m\u001b[0m\n\u001b[1;32m----> 2\u001b[1;33m \u001b[0mdoc_vec\u001b[0m \u001b[1;33m=\u001b[0m \u001b[0mmean_vec_tr\u001b[0m\u001b[1;33m.\u001b[0m\u001b[0mtransform\u001b[0m\u001b[1;33m(\u001b[0m\u001b[0mtrain_df\u001b[0m\u001b[1;33m[\u001b[0m\u001b[1;34m\"document\"\u001b[0m\u001b[1;33m]\u001b[0m\u001b[1;33m)\u001b[0m\u001b[1;33m\u001b[0m\u001b[1;33m\u001b[0m\u001b[0m\n\u001b[0m",
      "\u001b[1;32m<ipython-input-97-d473f0371600>\u001b[0m in \u001b[0;36mtransform\u001b[1;34m(self, docs)\u001b[0m\n\u001b[0;32m      9\u001b[0m \u001b[1;33m\u001b[0m\u001b[0m\n\u001b[0;32m     10\u001b[0m         \u001b[1;32mdef\u001b[0m \u001b[0mtransform\u001b[0m\u001b[1;33m(\u001b[0m\u001b[0mself\u001b[0m\u001b[1;33m,\u001b[0m \u001b[0mdocs\u001b[0m\u001b[1;33m)\u001b[0m\u001b[1;33m:\u001b[0m  \u001b[1;31m# comply with scikit-learn transformer requirement\u001b[0m\u001b[1;33m\u001b[0m\u001b[1;33m\u001b[0m\u001b[0m\n\u001b[1;32m---> 11\u001b[1;33m                 \u001b[0mdoc_word_vector\u001b[0m \u001b[1;33m=\u001b[0m \u001b[0mself\u001b[0m\u001b[1;33m.\u001b[0m\u001b[0mword_average_list\u001b[0m\u001b[1;33m(\u001b[0m\u001b[0mdocs\u001b[0m\u001b[1;33m)\u001b[0m\u001b[1;33m\u001b[0m\u001b[1;33m\u001b[0m\u001b[0m\n\u001b[0m\u001b[0;32m     12\u001b[0m                 \u001b[1;32mreturn\u001b[0m \u001b[0mdoc_word_vector\u001b[0m\u001b[1;33m\u001b[0m\u001b[1;33m\u001b[0m\u001b[0m\n\u001b[0;32m     13\u001b[0m \u001b[1;33m\u001b[0m\u001b[0m\n",
      "\u001b[1;32m<ipython-input-97-d473f0371600>\u001b[0m in \u001b[0;36mword_average_list\u001b[1;34m(self, docs)\u001b[0m\n\u001b[0;32m     40\u001b[0m                         \u001b[0marray\u001b[0m \u001b[0mof\u001b[0m \u001b[0maverage\u001b[0m \u001b[0mword\u001b[0m \u001b[0mvector\u001b[0m \u001b[1;32min\u001b[0m \u001b[0mshape\u001b[0m \u001b[1;33m(\u001b[0m\u001b[0mlen\u001b[0m\u001b[1;33m(\u001b[0m\u001b[0mdocs\u001b[0m\u001b[1;33m)\u001b[0m\u001b[1;33m,\u001b[0m\u001b[1;33m)\u001b[0m\u001b[1;33m\u001b[0m\u001b[1;33m\u001b[0m\u001b[0m\n\u001b[0;32m     41\u001b[0m \t\t\"\"\"\n\u001b[1;32m---> 42\u001b[1;33m                 \u001b[1;32mreturn\u001b[0m \u001b[0mnp\u001b[0m\u001b[1;33m.\u001b[0m\u001b[0mvstack\u001b[0m\u001b[1;33m(\u001b[0m\u001b[1;33m[\u001b[0m\u001b[0mself\u001b[0m\u001b[1;33m.\u001b[0m\u001b[0mword_average\u001b[0m\u001b[1;33m(\u001b[0m\u001b[0msent\u001b[0m\u001b[1;33m)\u001b[0m \u001b[1;32mfor\u001b[0m \u001b[0msent\u001b[0m \u001b[1;32min\u001b[0m \u001b[0mdocs\u001b[0m\u001b[1;33m]\u001b[0m\u001b[1;33m)\u001b[0m\u001b[1;33m\u001b[0m\u001b[1;33m\u001b[0m\u001b[0m\n\u001b[0m",
      "\u001b[1;32m<ipython-input-97-d473f0371600>\u001b[0m in \u001b[0;36m<listcomp>\u001b[1;34m(.0)\u001b[0m\n\u001b[0;32m     40\u001b[0m                         \u001b[0marray\u001b[0m \u001b[0mof\u001b[0m \u001b[0maverage\u001b[0m \u001b[0mword\u001b[0m \u001b[0mvector\u001b[0m \u001b[1;32min\u001b[0m \u001b[0mshape\u001b[0m \u001b[1;33m(\u001b[0m\u001b[0mlen\u001b[0m\u001b[1;33m(\u001b[0m\u001b[0mdocs\u001b[0m\u001b[1;33m)\u001b[0m\u001b[1;33m,\u001b[0m\u001b[1;33m)\u001b[0m\u001b[1;33m\u001b[0m\u001b[1;33m\u001b[0m\u001b[0m\n\u001b[0;32m     41\u001b[0m \t\t\"\"\"\n\u001b[1;32m---> 42\u001b[1;33m                 \u001b[1;32mreturn\u001b[0m \u001b[0mnp\u001b[0m\u001b[1;33m.\u001b[0m\u001b[0mvstack\u001b[0m\u001b[1;33m(\u001b[0m\u001b[1;33m[\u001b[0m\u001b[0mself\u001b[0m\u001b[1;33m.\u001b[0m\u001b[0mword_average\u001b[0m\u001b[1;33m(\u001b[0m\u001b[0msent\u001b[0m\u001b[1;33m)\u001b[0m \u001b[1;32mfor\u001b[0m \u001b[0msent\u001b[0m \u001b[1;32min\u001b[0m \u001b[0mdocs\u001b[0m\u001b[1;33m]\u001b[0m\u001b[1;33m)\u001b[0m\u001b[1;33m\u001b[0m\u001b[1;33m\u001b[0m\u001b[0m\n\u001b[0m",
      "\u001b[1;32m<ipython-input-97-d473f0371600>\u001b[0m in \u001b[0;36mword_average\u001b[1;34m(self, sent)\u001b[0m\n\u001b[0;32m     21\u001b[0m                 \u001b[0mmean\u001b[0m \u001b[1;33m=\u001b[0m \u001b[1;33m[\u001b[0m\u001b[1;33m]\u001b[0m\u001b[1;33m\u001b[0m\u001b[1;33m\u001b[0m\u001b[0m\n\u001b[0;32m     22\u001b[0m                 \u001b[1;32mfor\u001b[0m \u001b[0mword\u001b[0m \u001b[1;32min\u001b[0m \u001b[0msent\u001b[0m\u001b[1;33m:\u001b[0m\u001b[1;33m\u001b[0m\u001b[1;33m\u001b[0m\u001b[0m\n\u001b[1;32m---> 23\u001b[1;33m                         \u001b[1;32mif\u001b[0m \u001b[0mword\u001b[0m \u001b[1;32min\u001b[0m \u001b[0mself\u001b[0m\u001b[1;33m.\u001b[0m\u001b[0mword_model\u001b[0m\u001b[1;33m.\u001b[0m\u001b[0mwv\u001b[0m\u001b[1;33m.\u001b[0m\u001b[0mvocab\u001b[0m\u001b[1;33m:\u001b[0m\u001b[1;33m\u001b[0m\u001b[1;33m\u001b[0m\u001b[0m\n\u001b[0m\u001b[0;32m     24\u001b[0m                                 \u001b[0mmean\u001b[0m\u001b[1;33m.\u001b[0m\u001b[0mappend\u001b[0m\u001b[1;33m(\u001b[0m\u001b[0mself\u001b[0m\u001b[1;33m.\u001b[0m\u001b[0mword_model\u001b[0m\u001b[1;33m.\u001b[0m\u001b[0mwv\u001b[0m\u001b[1;33m.\u001b[0m\u001b[0mget_vector\u001b[0m\u001b[1;33m(\u001b[0m\u001b[0mword\u001b[0m\u001b[1;33m)\u001b[0m\u001b[1;33m)\u001b[0m\u001b[1;33m\u001b[0m\u001b[1;33m\u001b[0m\u001b[0m\n\u001b[0;32m     25\u001b[0m \u001b[1;33m\u001b[0m\u001b[0m\n",
      "\u001b[1;32m~\\AppData\\Local\\Programs\\Python\\Python39\\lib\\site-packages\\gensim\\models\\keyedvectors.py\u001b[0m in \u001b[0;36mvocab\u001b[1;34m(self)\u001b[0m\n\u001b[0;32m    659\u001b[0m     \u001b[1;33m@\u001b[0m\u001b[0mproperty\u001b[0m\u001b[1;33m\u001b[0m\u001b[1;33m\u001b[0m\u001b[0m\n\u001b[0;32m    660\u001b[0m     \u001b[1;32mdef\u001b[0m \u001b[0mvocab\u001b[0m\u001b[1;33m(\u001b[0m\u001b[0mself\u001b[0m\u001b[1;33m)\u001b[0m\u001b[1;33m:\u001b[0m\u001b[1;33m\u001b[0m\u001b[1;33m\u001b[0m\u001b[0m\n\u001b[1;32m--> 661\u001b[1;33m         raise AttributeError(\n\u001b[0m\u001b[0;32m    662\u001b[0m             \u001b[1;34m\"The vocab attribute was removed from KeyedVector in Gensim 4.0.0.\\n\"\u001b[0m\u001b[1;33m\u001b[0m\u001b[1;33m\u001b[0m\u001b[0m\n\u001b[0;32m    663\u001b[0m             \u001b[1;34m\"Use KeyedVector's .key_to_index dict, .index_to_key list, and methods \"\u001b[0m\u001b[1;33m\u001b[0m\u001b[1;33m\u001b[0m\u001b[0m\n",
      "\u001b[1;31mAttributeError\u001b[0m: The vocab attribute was removed from KeyedVector in Gensim 4.0.0.\nUse KeyedVector's .key_to_index dict, .index_to_key list, and methods .get_vecattr(key, attr) and .set_vecattr(key, attr, new_val) instead.\nSee https://github.com/RaRe-Technologies/gensim/wiki/Migrating-from-Gensim-3.x-to-4"
     ]
    }
   ],
   "source": [
    "mean_vec_tr = MeanEmbeddingVectorizer(word_model)\n",
    "doc_vec = mean_vec_tr.transform(train_df[\"document\"])\n"
   ]
  },
  {
   "cell_type": "markdown",
   "metadata": {},
   "source": [
    "# 8. Now we would like to tackle the discrepancy of the number of instances in training data among the various categories. For this purpose, create a new partition, where you remove the categories that contains very large number of instances and very low number of instances as compared to the rest of the categories. Repeat 3) and provide the results on the table. "
   ]
  },
  {
   "cell_type": "code",
   "execution_count": null,
   "metadata": {},
   "outputs": [],
   "source": []
  },
  {
   "cell_type": "markdown",
   "metadata": {},
   "source": [
    "# 9. Similarly, use word2vec model to calculate the new performance on the testing data for the new set of categories in 8)."
   ]
  },
  {
   "cell_type": "code",
   "execution_count": null,
   "metadata": {},
   "outputs": [],
   "source": []
  },
  {
   "cell_type": "markdown",
   "metadata": {},
   "source": [
    "# 10. Now we would like to handle the data discrepancy in the class, we would like to perform data augmentation on the small size classes. For this purpose, for the classes, which contain small number of instances, write a script that allows you to duplicate the number of small samples at an order close to the average of other classes. Then repeat the process 3) and test whether an enhancement of the results on the testing data can be noticed.\n",
    " "
   ]
  },
  {
   "cell_type": "code",
   "execution_count": null,
   "metadata": {},
   "outputs": [],
   "source": []
  },
  {
   "cell_type": "markdown",
   "metadata": {},
   "source": [
    "# 11. Now we would like to test the influence of the multi-category documents on the classification. For this purpose, write a script, which scrutinizes the training set, so that every document, which is found to belong to more than one category in the training set is removed. Repeat 3) and word2vec model to evaluate the performance of the model on the test data, and discuss the contribution of this removal action. "
   ]
  },
  {
   "cell_type": "code",
   "execution_count": null,
   "metadata": {},
   "outputs": [],
   "source": []
  },
  {
   "cell_type": "markdown",
   "metadata": {},
   "source": [
    "# 12. Use appropriate literature in order to comment on your findings. "
   ]
  },
  {
   "cell_type": "markdown",
   "metadata": {},
   "source": []
  }
 ],
 "metadata": {
  "interpreter": {
   "hash": "aa0c649c3563e892d1a689eab39f2dea45a71cdb0f22288b6575c89c9de86787"
  },
  "kernelspec": {
   "display_name": "Python 3.9.4 64-bit",
   "name": "python3"
  },
  "language_info": {
   "codemirror_mode": {
    "name": "ipython",
    "version": 3
   },
   "file_extension": ".py",
   "mimetype": "text/x-python",
   "name": "python",
   "nbconvert_exporter": "python",
   "pygments_lexer": "ipython3",
   "version": "3.9.4"
  }
 },
 "nbformat": 4,
 "nbformat_minor": 2
}
